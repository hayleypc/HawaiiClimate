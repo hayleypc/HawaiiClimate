{
  "nbformat": 4,
  "nbformat_minor": 0,
  "metadata": {
    "colab": {
      "provenance": [],
      "authorship_tag": "ABX9TyMzRGYJJDlPdHucQTmtxPN9",
      "include_colab_link": true
    },
    "kernelspec": {
      "name": "python3",
      "display_name": "Python 3"
    },
    "language_info": {
      "name": "python"
    }
  },
  "cells": [
    {
      "cell_type": "markdown",
      "metadata": {
        "id": "view-in-github",
        "colab_type": "text"
      },
      "source": [
        "<a href=\"https://colab.research.google.com/github/hayleypc/HawaiiClimate/blob/main/soil_gan.ipynb\" target=\"_parent\"><img src=\"https://colab.research.google.com/assets/colab-badge.svg\" alt=\"Open In Colab\"/></a>"
      ]
    },
    {
      "cell_type": "code",
      "execution_count": 1,
      "metadata": {
        "id": "FJSR_lUJAuGW"
      },
      "outputs": [],
      "source": [
        "import tensorflow as tf\n",
        "from tensorflow.keras import layers, models\n"
      ]
    },
    {
      "cell_type": "code",
      "source": [
        "from google.colab import drive\n",
        "drive.mount('/content/drive')"
      ],
      "metadata": {
        "colab": {
          "base_uri": "https://localhost:8080/"
        },
        "id": "TfASAHA7B1a0",
        "outputId": "c82dbbcf-1337-4d68-b865-01bd1c5e8a27"
      },
      "execution_count": 2,
      "outputs": [
        {
          "output_type": "stream",
          "name": "stdout",
          "text": [
            "Mounted at /content/drive\n"
          ]
        }
      ]
    },
    {
      "cell_type": "code",
      "source": [
        "import geopandas as gpd"
      ],
      "metadata": {
        "id": "FUiG_4XBCkTW"
      },
      "execution_count": 3,
      "outputs": []
    },
    {
      "cell_type": "code",
      "source": [
        "# Define the generator model\n",
        "def build_generator(latent_dim, sequence_length):\n",
        "    model = models.Sequential([\n",
        "        layers.Dense(256, activation='relu', input_dim=latent_dim),\n",
        "        layers.BatchNormalization(),\n",
        "        layers.LeakyReLU(alpha=0.2),\n",
        "        layers.Dense(512, activation='relu'),\n",
        "        layers.BatchNormalization(),\n",
        "        layers.LeakyReLU(alpha=0.2),\n",
        "        layers.Dense(1024, activation='relu'),\n",
        "        layers.BatchNormalization(),\n",
        "        layers.LeakyReLU(alpha=0.2),\n",
        "        layers.Dense(sequence_length, activation='tanh')\n",
        "    ])\n",
        "    return model"
      ],
      "metadata": {
        "id": "uUacgusjBMnm"
      },
      "execution_count": 91,
      "outputs": []
    },
    {
      "cell_type": "markdown",
      "source": [],
      "metadata": {
        "id": "OQCFUCGYZ9-Y"
      }
    },
    {
      "cell_type": "code",
      "source": [
        "# Define the discriminator model\n",
        "def build_discriminator(sequence_length):\n",
        "    model = models.Sequential([\n",
        "        layers.Dense(1024, activation='relu', input_dim=sequence_length),\n",
        "        layers.Dropout(0.3),\n",
        "        layers.Dense(512, activation='relu'),\n",
        "        layers.Dropout(0.3),\n",
        "        layers.Dense(256, activation='relu'),\n",
        "        layers.Dropout(0.3),\n",
        "        layers.Dense(128, activation='relu'),\n",
        "        layers.Dense(1, activation='sigmoid')\n",
        "    ])\n",
        "    return model"
      ],
      "metadata": {
        "id": "hywSkpYkBOk-"
      },
      "execution_count": 92,
      "outputs": []
    },
    {
      "cell_type": "code",
      "source": [
        "\n",
        "# Define the GAN model\n",
        "def build_gan(generator, discriminator):\n",
        "    discriminator.trainable = False\n",
        "    model = models.Sequential([\n",
        "        generator,\n",
        "        discriminator\n",
        "    ])\n",
        "    return model\n"
      ],
      "metadata": {
        "id": "xuMwXpo5BRMu"
      },
      "execution_count": 93,
      "outputs": []
    },
    {
      "cell_type": "code",
      "source": [
        "# Update the training function to include validation\n",
        "def train_gan(generator, discriminator, gan, epochs, batch_size, latent_dim, val_gen):\n",
        "    for epoch in range(epochs):\n",
        "        # Train on batches from the training generator\n",
        "        for _ in range(len(train_sequences) // batch_size):\n",
        "            # Generate fake sequences\n",
        "            noise = tf.random.normal(shape=(batch_size, latent_dim))\n",
        "            fake_sequences = generator.predict(noise)\n",
        "\n",
        "            # Get a batch of real sequences from the training generator\n",
        "            real_sequences = next(train_gen)\n",
        "\n",
        "            # Labels for real and fake data\n",
        "            real_labels = tf.ones((batch_size, 1))\n",
        "            fake_labels = tf.zeros((batch_size, 1))\n",
        "\n",
        "            # Train the discriminator\n",
        "            discriminator.trainable = True\n",
        "            d_loss_real = discriminator.train_on_batch(real_sequences, real_labels)\n",
        "            d_loss_fake = discriminator.train_on_batch(fake_sequences, fake_labels)\n",
        "            d_loss = 0.5 * tf.add(d_loss_real, d_loss_fake)\n",
        "\n",
        "            # Train the generator\n",
        "            discriminator.trainable = False\n",
        "            noise = tf.random.normal(shape=(batch_size, latent_dim))\n",
        "            g_loss = gan.train_on_batch(noise, real_labels)\n",
        "\n",
        "        # Validation\n",
        "        val_real_sequences = next(val_gen)\n",
        "        val_fake_sequences = generator.predict(tf.random.normal(shape=(batch_size, latent_dim)))\n",
        "        val_d_loss_real = discriminator.evaluate(val_real_sequences, tf.ones((batch_size, 1)), verbose=0)\n",
        "        val_d_loss_fake = discriminator.evaluate(val_fake_sequences, tf.zeros((batch_size, 1)), verbose=0)\n",
        "        val_d_loss = 0.5 * np.add(val_d_loss_real, val_d_loss_fake)\n",
        "\n",
        "        # Print the progress\n",
        "        print(f\"Epoch: {epoch+1}/{epochs}, D Loss: {d_loss}, G Loss: {g_loss}, Val D Loss: {val_d_loss}\")\n",
        "\n",
        "\n",
        "        if epoch % 100 == 0:\n",
        "          data = validate_generator()\n",
        "\n",
        "          # Create a histogram\n",
        "          plt.hist(data, bins=10, color='blue', edgecolor='black')\n",
        "\n",
        "          # Add labels and title\n",
        "          plt.xlabel('Value')\n",
        "          plt.ylabel('Frequency')\n",
        "          plt.title('Simple Histogram')\n",
        "\n",
        "          # Show the plot\n",
        "          plt.show()"
      ],
      "metadata": {
        "id": "b6hLGfIgBVGZ"
      },
      "execution_count": 94,
      "outputs": []
    },
    {
      "cell_type": "code",
      "source": [
        "def validate_generator(n_lowest = 10, n_samp = 1024*8 ):\n",
        "  n_lowest = 10\n",
        "  result_vec = []\n",
        "  noise = tf.random.normal(shape=(n_samp, latent_dim))\n",
        "  synthetic_samples = generator.predict(noise)\n",
        "  batch_val = next(val_gen)\n",
        "  for batch_ in batch_val:\n",
        "    # batch_ = batch_val[1]\n",
        "    match_indices = [0,1,2,3,5,6,7,8,9]\n",
        "\n",
        "    data = [np.mean(np.sqrt((batch_[match_indices] - samp[match_indices])**2)) for samp in synthetic_samples]\n",
        "\n",
        "    indices = sorted(range(len(data)), key=lambda i: data[i])[:n_lowest]\n",
        "\n",
        "    most_similar = [synthetic_samples[i] for i in indices]\n",
        "\n",
        "    most_similar_scaled = [scaler.inverse_transform(sim.reshape(1,-1)) for sim in most_similar]\n",
        "\n",
        "    original_scaled = [scaler.inverse_transform(sim.reshape(1,-1)) for sim in [batch_]]\n",
        "\n",
        "    most_similar_scaled_2d = [np.squeeze(sim) for sim in most_similar_scaled]\n",
        "\n",
        "    original_scaled_2d = [np.squeeze(sim) for sim in original_scaled]\n",
        "\n",
        "    most_similar_scaled_df = pd.DataFrame(most_similar_scaled_2d, columns=numeric_cols.columns)\n",
        "\n",
        "    original_scaled_df = pd.DataFrame(original_scaled_2d, columns=numeric_cols.columns)\n",
        "\n",
        "    result = np.sqrt((np.mean(most_similar_scaled_df['imp_c_float'])- np.mean(original_scaled_df['imp_c_float']))**2)\n",
        "    # print(np.mean(original_scaled_df['agbd_m']))\n",
        "    result_vec.append(result)\n",
        "  return(result_vec)"
      ],
      "metadata": {
        "id": "P7L77v0fvrTh"
      },
      "execution_count": 97,
      "outputs": []
    },
    {
      "cell_type": "code",
      "source": [
        "file_path = '/content/drive/My Drive/sequence_data.csv'"
      ],
      "metadata": {
        "id": "46NsUEt2B80A"
      },
      "execution_count": 9,
      "outputs": []
    },
    {
      "cell_type": "code",
      "source": [
        "drivers_gpd = gpd.read_file('/content/drive/MyDrive/hawaii_soils/Analysis Data/250_summary_grid_dt.gpkg')"
      ],
      "metadata": {
        "id": "PcbyIy1MCszn"
      },
      "execution_count": 10,
      "outputs": []
    },
    {
      "cell_type": "code",
      "source": [
        "soils_csv = gpd.read_file('/content/drive/MyDrive/hawaii_soils/HI soils data/combined_soc_2024_04_05.csv')"
      ],
      "metadata": {
        "id": "4T2wvedGC1aG"
      },
      "execution_count": 11,
      "outputs": []
    },
    {
      "cell_type": "code",
      "source": [
        "from shapely.geometry import Point\n",
        "\n",
        "soils_csv = soils_csv[(soils_csv['latitude'] != '') & (soils_csv['longitude'] != '')]\n",
        "soils_csv['geometry'] = soils_csv.apply(lambda row: Point(float(row['longitude']), float(row['latitude'] )), axis=1)\n",
        "soils_gpd = gpd.GeoDataFrame(soils_csv, geometry='geometry', crs=\"EPSG:4326\")"
      ],
      "metadata": {
        "id": "VHIQgCCiD1le"
      },
      "execution_count": 12,
      "outputs": []
    },
    {
      "cell_type": "code",
      "source": [
        "# Ensure both GeoDataFrames have the same CRS\n",
        "soils_gpd = soils_gpd.to_crs(drivers_gpd.crs)\n",
        "\n",
        "# Perform spatial join\n",
        "matched_data = gpd.sjoin_nearest(soils_gpd, drivers_gpd, how='left', distance_col='distance')"
      ],
      "metadata": {
        "id": "GUDqgLj2FDfT"
      },
      "execution_count": 32,
      "outputs": []
    },
    {
      "cell_type": "code",
      "source": [
        "unique_rows = matched_data[matched_data[\"depth_adj_bottom\"] == '20']\n",
        "unique_rows = unique_rows.drop_duplicates(subset=['latitude', 'longitude'])\n",
        "unique_rows = unique_rows[unique_rows['distance'] < 251]\n",
        "matched_data = unique_rows"
      ],
      "metadata": {
        "id": "DKvp_WkRIRj_"
      },
      "execution_count": 33,
      "outputs": []
    },
    {
      "cell_type": "code",
      "source": [
        "matched_data['imp_c_float'] = [float(datum) for datum in matched_data['imp_c']]"
      ],
      "metadata": {
        "id": "efng2Ra9Ho9l"
      },
      "execution_count": 45,
      "outputs": []
    },
    {
      "cell_type": "code",
      "source": [
        "len(matched_data.select_dtypes(include=[np.number]).columns)"
      ],
      "metadata": {
        "colab": {
          "base_uri": "https://localhost:8080/"
        },
        "id": "-WsnTyBQKJ8r",
        "outputId": "75a98933-c020-4165-ba7c-a6891285076d"
      },
      "execution_count": 51,
      "outputs": [
        {
          "output_type": "execute_result",
          "data": {
            "text/plain": [
              "39"
            ]
          },
          "metadata": {},
          "execution_count": 51
        }
      ]
    },
    {
      "cell_type": "code",
      "source": [
        "import pandas as pd\n",
        "from sklearn.preprocessing import MinMaxScaler\n",
        "import numpy as np\n",
        "id_fields = matched_data[['source_dataset', 'island', 'soil_column_id', 'unique_id', 'depth_top', 'depth_bottom', 'depth_adj_bottom', 'latitude', 'longitude']]\n",
        "\n",
        "# Select only numeric columns\n",
        "numeric_cols = matched_data.select_dtypes(include=[np.number]).iloc[:,[6,7,8,9,10,11,12,13,14,38]]\n",
        "\n",
        "# Initialize the scaler\n",
        "scaler = MinMaxScaler ()\n",
        "\n",
        "# Fit the scaler on the numeric columns\n",
        "scaler.fit(numeric_cols)\n",
        "\n",
        "# Transform the numeric columns\n",
        "scaled_numeric_cols = scaler.transform(numeric_cols)\n",
        "\n",
        "# Convert the scaled numeric columns back to a DataFrame\n",
        "scaled_numeric_df = pd.DataFrame(scaled_numeric_cols, columns=numeric_cols.columns, index=numeric_cols.index)\n",
        "\n",
        "# scaled_numeric_df = scaled_numeric_df\n",
        "# Concatenate the ID fields back with the numeric columns\n",
        "numeric_df = pd.concat([id_fields, scaled_numeric_df], axis=1)"
      ],
      "metadata": {
        "id": "Lzlo7QYVFXwo"
      },
      "execution_count": 53,
      "outputs": []
    },
    {
      "cell_type": "code",
      "source": [
        "from tensorflow.keras.optimizers import Adam\n",
        "\n",
        "# Set the dimensions and compile the models\n",
        "latent_dim = 100\n",
        "sequence_length = 10  # Adjust based on your sequence length\n",
        "\n",
        "generator = build_generator(latent_dim, sequence_length)\n",
        "discriminator = build_discriminator(sequence_length)\n",
        "gan = build_gan(generator, discriminator)\n",
        "\n",
        "# Set the initial learning rate\n",
        "initial_learning_rate = 0.0002\n",
        "\n",
        "# Create optimizers for the generator and discriminator\n",
        "generator_optimizer = Adam(learning_rate=initial_learning_rate, beta_1=0.5)\n",
        "discriminator_optimizer = Adam(learning_rate=initial_learning_rate, beta_1=0.5)\n",
        "gan_optimizer = Adam(learning_rate=initial_learning_rate, beta_1=0.5)\n",
        "\n",
        "# Compile the discriminator\n",
        "generator.compile(optimizer=generator_optimizer, loss='mse', metrics=['accuracy'])\n",
        "\n",
        "# Compile the discriminator\n",
        "discriminator.compile(optimizer=discriminator_optimizer, loss='binary_crossentropy', metrics=['accuracy'])\n",
        "\n",
        "# Compile the GAN\n",
        "gan.compile(optimizer=gan_optimizer, loss='mse')\n",
        "\n",
        "# # Assuming 'final_df' is your scaled dataset with numeric columns and ID fields\n",
        "# # Extract only the numeric columns for the GAN\n",
        "# numeric_columns = [col for col in scaled_numeric_cols.columns if scaled_numeric_cols[col].dtype in [np.float32, np.float64]]\n",
        "# real_sequences_df = scaled_numeric_cols[numeric_columns]\n",
        "\n",
        "# Convert the DataFrame to a NumPy array\n",
        "real_sequences_array = scaled_numeric_cols\n",
        "\n",
        "def real_sequence_generator(data, batch_size):\n",
        "    while True:\n",
        "        # Shuffle the data at the beginning of each epoch\n",
        "        np.random.shuffle(data)\n",
        "        for i in range(0, len(data), batch_size):\n",
        "            batch = data[i:i + batch_size]\n",
        "            # If the batch is smaller than the batch size, pad it with samples from the beginning\n",
        "            if len(batch) < batch_size:\n",
        "                padding = data[:(batch_size - len(batch))]\n",
        "                batch = np.concatenate([batch, padding], axis=0)\n",
        "            yield batch\n",
        "\n",
        "\n",
        "# Create an instance of the generator\n",
        "# real_sequence_gen = real_sequence_generator(real_sequences_array, batch_size)\n"
      ],
      "metadata": {
        "id": "YONOBC-8BSw2"
      },
      "execution_count": 102,
      "outputs": []
    },
    {
      "cell_type": "code",
      "source": [
        "# Split the data into training and validation sets\n",
        "from sklearn.model_selection import train_test_split\n",
        "\n",
        "train_sequences, val_sequences = train_test_split(real_sequences_array, test_size=0.2, random_state=42)\n",
        "\n",
        "test_sequences, val_sequences = train_test_split(val_sequences, test_size=0.5, random_state=42)\n",
        "\n",
        "batch_size = 128  # Set the batch size\n",
        "\n",
        "\n",
        "# Define the training and validation generators\n",
        "train_gen = real_sequence_generator(train_sequences, batch_size)\n",
        "test_gen = real_sequence_generator(test_sequences, batch_size)\n",
        "val_gen = real_sequence_generator(val_sequences, batch_size)\n"
      ],
      "metadata": {
        "id": "9BDQtO5LKaGk"
      },
      "execution_count": 62,
      "outputs": []
    },
    {
      "cell_type": "code",
      "source": [
        "# Train the GAN with validation\n",
        "import matplotlib.pyplot as plt\n",
        "\n",
        "train_gan(generator, discriminator, gan, epochs=10000, batch_size=128, latent_dim=latent_dim, val_gen=val_gen)"
      ],
      "metadata": {
        "colab": {
          "base_uri": "https://localhost:8080/"
        },
        "id": "tpwWxtrOBXT2",
        "outputId": "0174b15f-b70a-45a0-f8cd-58f95b661e01"
      },
      "execution_count": null,
      "outputs": [
        {
          "output_type": "stream",
          "name": "stdout",
          "text": [
            "4/4 [==============================] - 0s 6ms/step\n",
            "4/4 [==============================] - 0s 11ms/step\n",
            "4/4 [==============================] - 0s 8ms/step\n",
            "4/4 [==============================] - 0s 8ms/step\n",
            "4/4 [==============================] - 0s 9ms/step\n",
            "4/4 [==============================] - 0s 8ms/step\n",
            "Epoch: 1/10000, D Loss: [0.7018973  0.42578125], G Loss: 0.25080591440200806, Val D Loss: [0.6977447 0.296875 ]\n",
            "256/256 [==============================] - 3s 10ms/step\n"
          ]
        },
        {
          "output_type": "display_data",
          "data": {
            "text/plain": [
              "<Figure size 640x480 with 1 Axes>"
            ],
            "image/png": "[encoded data removed]"
          },
          "metadata": {}
        },
        {
          "output_type": "stream",
          "name": "stdout",
          "text": [
            "4/4 [==============================] - 0s 9ms/step\n",
            "4/4 [==============================] - 0s 12ms/step\n",
            "4/4 [==============================] - 0s 8ms/step\n",
            "4/4 [==============================] - 0s 8ms/step\n",
            "4/4 [==============================] - 0s 8ms/step\n",
            "4/4 [==============================] - 0s 8ms/step\n",
            "Epoch: 2/10000, D Loss: [0.7013984  0.43359375], G Loss: 0.25035998225212097, Val D Loss: [0.69775862 0.296875  ]\n",
            "4/4 [==============================] - 0s 7ms/step\n",
            "4/4 [==============================] - 0s 9ms/step\n",
            "4/4 [==============================] - 0s 8ms/step\n",
            "4/4 [==============================] - 0s 9ms/step\n",
            "4/4 [==============================] - 0s 8ms/step\n",
            "4/4 [==============================] - 0s 6ms/step\n",
            "Epoch: 3/10000, D Loss: [0.7003815  0.45703125], G Loss: 0.25061315298080444, Val D Loss: [0.69763875 0.0703125 ]\n",
            "4/4 [==============================] - 0s 6ms/step\n",
            "4/4 [==============================] - 0s 6ms/step\n",
            "4/4 [==============================] - 0s 7ms/step\n",
            "4/4 [==============================] - 0s 5ms/step\n",
            "4/4 [==============================] - 0s 6ms/step\n",
            "4/4 [==============================] - 0s 6ms/step\n",
            "Epoch: 4/10000, D Loss: [0.7007367 0.46875  ], G Loss: 0.25073686242103577, Val D Loss: [0.69793493 0.0703125 ]\n",
            "4/4 [==============================] - 0s 7ms/step\n",
            "4/4 [==============================] - 0s 7ms/step\n",
            "4/4 [==============================] - 0s 5ms/step\n",
            "4/4 [==============================] - 0s 7ms/step\n",
            "4/4 [==============================] - 0s 6ms/step\n",
            "4/4 [==============================] - 0s 6ms/step\n",
            "Epoch: 5/10000, D Loss: [0.70102817 0.45703125], G Loss: 0.2508733868598938, Val D Loss: [0.69725788 0.1171875 ]\n",
            "4/4 [==============================] - 0s 6ms/step\n",
            "4/4 [==============================] - 0s 6ms/step\n",
            "4/4 [==============================] - 0s 5ms/step\n",
            "4/4 [==============================] - 0s 5ms/step\n",
            "4/4 [==============================] - 0s 5ms/step\n",
            "4/4 [==============================] - 0s 6ms/step\n",
            "Epoch: 6/10000, D Loss: [0.70067835 0.44921875], G Loss: 0.25131791830062866, Val D Loss: [0.69690469 0.0703125 ]\n",
            "4/4 [==============================] - 0s 6ms/step\n",
            "4/4 [==============================] - 0s 6ms/step\n",
            "4/4 [==============================] - 0s 5ms/step\n",
            "4/4 [==============================] - 0s 5ms/step\n",
            "4/4 [==============================] - 0s 8ms/step\n",
            "4/4 [==============================] - 0s 7ms/step\n",
            "Epoch: 7/10000, D Loss: [0.69951653 0.44921875], G Loss: 0.2505542039871216, Val D Loss: [0.69861048 0.140625  ]\n",
            "4/4 [==============================] - 0s 6ms/step\n",
            "4/4 [==============================] - 0s 5ms/step\n",
            "4/4 [==============================] - 0s 5ms/step\n",
            "4/4 [==============================] - 0s 6ms/step\n",
            "4/4 [==============================] - 0s 6ms/step\n",
            "4/4 [==============================] - 0s 6ms/step\n",
            "Epoch: 8/10000, D Loss: [0.7008642 0.4296875], G Loss: 0.25079768896102905, Val D Loss: [0.69809327 0.09375   ]\n",
            "4/4 [==============================] - 0s 7ms/step\n",
            "4/4 [==============================] - 0s 6ms/step\n",
            "4/4 [==============================] - 0s 6ms/step\n",
            "4/4 [==============================] - 0s 6ms/step\n",
            "4/4 [==============================] - 0s 5ms/step\n",
            "4/4 [==============================] - 0s 6ms/step\n",
            "Epoch: 9/10000, D Loss: [0.7012131  0.45703125], G Loss: 0.250884473323822, Val D Loss: [0.69751799 0.32421875]\n",
            "4/4 [==============================] - 0s 6ms/step\n",
            "4/4 [==============================] - 0s 5ms/step\n",
            "4/4 [==============================] - 0s 6ms/step\n",
            "4/4 [==============================] - 0s 5ms/step\n",
            "4/4 [==============================] - 0s 5ms/step\n",
            "4/4 [==============================] - 0s 6ms/step\n",
            "Epoch: 10/10000, D Loss: [0.70106626 0.40234375], G Loss: 0.2518291473388672, Val D Loss: [0.6978105 0.0859375]\n",
            "4/4 [==============================] - 0s 6ms/step\n",
            "4/4 [==============================] - 0s 6ms/step\n",
            "4/4 [==============================] - 0s 7ms/step\n",
            "4/4 [==============================] - 0s 8ms/step\n",
            "4/4 [==============================] - 0s 9ms/step\n",
            "4/4 [==============================] - 0s 11ms/step\n",
            "Epoch: 11/10000, D Loss: [0.70164657 0.4296875 ], G Loss: 0.2503167986869812, Val D Loss: [0.69739985 0.3515625 ]\n",
            "4/4 [==============================] - 0s 8ms/step\n",
            "4/4 [==============================] - 0s 8ms/step\n",
            "4/4 [==============================] - 0s 7ms/step\n",
            "4/4 [==============================] - 0s 9ms/step\n",
            "4/4 [==============================] - 0s 9ms/step\n",
            "4/4 [==============================] - 0s 9ms/step\n",
            "Epoch: 12/10000, D Loss: [0.7010765 0.4296875], G Loss: 0.2511383295059204, Val D Loss: [0.69781965 0.13671875]\n",
            "4/4 [==============================] - 0s 5ms/step\n",
            "4/4 [==============================] - 0s 7ms/step\n",
            "4/4 [==============================] - 0s 5ms/step\n",
            "4/4 [==============================] - 0s 5ms/step\n",
            "4/4 [==============================] - 0s 7ms/step\n",
            "4/4 [==============================] - 0s 6ms/step\n",
            "Epoch: 13/10000, D Loss: [0.70164394 0.390625  ], G Loss: 0.2505119740962982, Val D Loss: [0.69807673 0.078125  ]\n",
            "4/4 [==============================] - 0s 6ms/step\n",
            "4/4 [==============================] - 0s 6ms/step\n",
            "4/4 [==============================] - 0s 6ms/step\n",
            "4/4 [==============================] - 0s 6ms/step\n",
            "4/4 [==============================] - 0s 6ms/step\n",
            "4/4 [==============================] - 0s 6ms/step\n",
            "Epoch: 14/10000, D Loss: [0.70170975 0.4296875 ], G Loss: 0.2507724165916443, Val D Loss: [0.69735807 0.125     ]\n",
            "4/4 [==============================] - 0s 6ms/step\n",
            "4/4 [==============================] - 0s 5ms/step\n",
            "4/4 [==============================] - 0s 5ms/step\n",
            "4/4 [==============================] - 0s 7ms/step\n",
            "4/4 [==============================] - 0s 6ms/step\n",
            "4/4 [==============================] - 0s 6ms/step\n",
            "Epoch: 15/10000, D Loss: [0.7013917 0.4375   ], G Loss: 0.25100570917129517, Val D Loss: [0.69741604 0.34375   ]\n",
            "4/4 [==============================] - 0s 6ms/step\n",
            "4/4 [==============================] - 0s 6ms/step\n",
            "4/4 [==============================] - 0s 5ms/step\n",
            "4/4 [==============================] - 0s 5ms/step\n",
            "4/4 [==============================] - 0s 5ms/step\n",
            "4/4 [==============================] - 0s 5ms/step\n",
            "Epoch: 16/10000, D Loss: [0.7008976 0.4296875], G Loss: 0.25116705894470215, Val D Loss: [0.69677502 0.07421875]\n",
            "4/4 [==============================] - 0s 6ms/step\n",
            "4/4 [==============================] - 0s 6ms/step\n",
            "4/4 [==============================] - 0s 6ms/step\n",
            "4/4 [==============================] - 0s 6ms/step\n",
            "4/4 [==============================] - 0s 6ms/step\n",
            "4/4 [==============================] - 0s 7ms/step\n",
            "Epoch: 17/10000, D Loss: [0.7020117 0.46875  ], G Loss: 0.25059860944747925, Val D Loss: [0.69737568 0.0625    ]\n",
            "4/4 [==============================] - 0s 5ms/step\n",
            "4/4 [==============================] - 0s 6ms/step\n",
            "4/4 [==============================] - 0s 6ms/step\n",
            "4/4 [==============================] - 0s 7ms/step\n",
            "4/4 [==============================] - 0s 6ms/step\n",
            "4/4 [==============================] - 0s 5ms/step\n",
            "Epoch: 18/10000, D Loss: [0.700444  0.4140625], G Loss: 0.2514057755470276, Val D Loss: [0.69822115 0.0546875 ]\n",
            "4/4 [==============================] - 0s 5ms/step\n",
            "4/4 [==============================] - 0s 7ms/step\n",
            "4/4 [==============================] - 0s 7ms/step\n",
            "4/4 [==============================] - 0s 6ms/step\n",
            "4/4 [==============================] - 0s 6ms/step\n",
            "4/4 [==============================] - 0s 5ms/step\n",
            "Epoch: 19/10000, D Loss: [0.6997423  0.42578125], G Loss: 0.2510565519332886, Val D Loss: [0.69746387 0.0859375 ]\n",
            "4/4 [==============================] - 0s 6ms/step\n",
            "4/4 [==============================] - 0s 5ms/step\n",
            "4/4 [==============================] - 0s 6ms/step\n",
            "4/4 [==============================] - 0s 8ms/step\n",
            "4/4 [==============================] - 0s 9ms/step\n",
            "4/4 [==============================] - 0s 9ms/step\n",
            "Epoch: 20/10000, D Loss: [0.70223594 0.39453125], G Loss: 0.250370055437088, Val D Loss: [0.69773686 0.29296875]\n",
            "4/4 [==============================] - 0s 7ms/step\n",
            "4/4 [==============================] - 0s 7ms/step\n",
            "4/4 [==============================] - 0s 10ms/step\n",
            "4/4 [==============================] - 0s 8ms/step\n",
            "4/4 [==============================] - 0s 9ms/step\n",
            "4/4 [==============================] - 0s 8ms/step\n",
            "Epoch: 21/10000, D Loss: [0.7007607  0.44921875], G Loss: 0.2517783045768738, Val D Loss: [0.69745886 0.05078125]\n",
            "4/4 [==============================] - 0s 7ms/step\n",
            "4/4 [==============================] - 0s 8ms/step\n",
            "4/4 [==============================] - 0s 5ms/step\n",
            "4/4 [==============================] - 0s 7ms/step\n",
            "4/4 [==============================] - 0s 7ms/step\n",
            "4/4 [==============================] - 0s 6ms/step\n",
            "Epoch: 22/10000, D Loss: [0.7008279  0.47265625], G Loss: 0.2513093948364258, Val D Loss: [0.69769368 0.06640625]\n",
            "4/4 [==============================] - 0s 6ms/step\n",
            "4/4 [==============================] - 0s 6ms/step\n",
            "4/4 [==============================] - 0s 6ms/step\n",
            "4/4 [==============================] - 0s 6ms/step\n",
            "4/4 [==============================] - 0s 6ms/step\n",
            "4/4 [==============================] - 0s 6ms/step\n",
            "Epoch: 23/10000, D Loss: [0.70060205 0.45703125], G Loss: 0.2515866458415985, Val D Loss: [0.69798815 0.09375   ]\n",
            "4/4 [==============================] - 0s 10ms/step\n",
            "4/4 [==============================] - 0s 6ms/step\n",
            "4/4 [==============================] - 0s 6ms/step\n",
            "4/4 [==============================] - 0s 6ms/step\n",
            "4/4 [==============================] - 0s 6ms/step\n",
            "4/4 [==============================] - 0s 9ms/step\n",
            "Epoch: 24/10000, D Loss: [0.70151997 0.41015625], G Loss: 0.25012436509132385, Val D Loss: [0.69810182 0.0546875 ]\n",
            "4/4 [==============================] - 0s 6ms/step\n",
            "4/4 [==============================] - 0s 7ms/step\n",
            "4/4 [==============================] - 0s 6ms/step\n",
            "4/4 [==============================] - 0s 6ms/step\n",
            "4/4 [==============================] - 0s 6ms/step\n",
            "4/4 [==============================] - 0s 6ms/step\n",
            "Epoch: 25/10000, D Loss: [0.69970363 0.453125  ], G Loss: 0.25107520818710327, Val D Loss: [0.6978257 0.140625 ]\n",
            "4/4 [==============================] - 0s 6ms/step\n",
            "4/4 [==============================] - 0s 6ms/step\n",
            "4/4 [==============================] - 0s 7ms/step\n",
            "4/4 [==============================] - 0s 6ms/step\n",
            "4/4 [==============================] - 0s 6ms/step\n",
            "4/4 [==============================] - 0s 6ms/step\n",
            "Epoch: 26/10000, D Loss: [0.70074594 0.421875  ], G Loss: 0.25097858905792236, Val D Loss: [0.69757801 0.078125  ]\n",
            "4/4 [==============================] - 0s 6ms/step\n",
            "4/4 [==============================] - 0s 6ms/step\n",
            "4/4 [==============================] - 0s 6ms/step\n",
            "4/4 [==============================] - 0s 6ms/step\n",
            "4/4 [==============================] - 0s 6ms/step\n",
            "4/4 [==============================] - 0s 6ms/step\n",
            "Epoch: 27/10000, D Loss: [0.70122975 0.484375  ], G Loss: 0.25129181146621704, Val D Loss: [0.69698608 0.35546875]\n",
            "4/4 [==============================] - 0s 6ms/step\n",
            "4/4 [==============================] - 0s 5ms/step\n",
            "4/4 [==============================] - 0s 6ms/step\n",
            "4/4 [==============================] - 0s 6ms/step\n",
            "4/4 [==============================] - 0s 6ms/step\n",
            "4/4 [==============================] - 0s 6ms/step\n",
            "Epoch: 28/10000, D Loss: [0.7023957 0.375    ], G Loss: 0.2506895959377289, Val D Loss: [0.69727471 0.36328125]\n",
            "4/4 [==============================] - 0s 5ms/step\n",
            "4/4 [==============================] - 0s 6ms/step\n",
            "4/4 [==============================] - 0s 5ms/step\n",
            "4/4 [==============================] - 0s 6ms/step\n",
            "4/4 [==============================] - 0s 8ms/step\n",
            "4/4 [==============================] - 0s 7ms/step\n",
            "Epoch: 29/10000, D Loss: [0.7011065 0.3984375], G Loss: 0.25071239471435547, Val D Loss: [0.69741943 0.07421875]\n",
            "4/4 [==============================] - 0s 8ms/step\n",
            "4/4 [==============================] - 0s 9ms/step\n",
            "4/4 [==============================] - 0s 7ms/step\n",
            "4/4 [==============================] - 0s 7ms/step\n",
            "4/4 [==============================] - 0s 9ms/step\n",
            "4/4 [==============================] - 0s 9ms/step\n",
            "Epoch: 30/10000, D Loss: [0.70155525 0.41015625], G Loss: 0.25043246150016785, Val D Loss: [0.69778681 0.06640625]\n",
            "4/4 [==============================] - 0s 10ms/step\n",
            "4/4 [==============================] - 0s 7ms/step\n",
            "4/4 [==============================] - 0s 8ms/step\n",
            "4/4 [==============================] - 0s 5ms/step\n",
            "4/4 [==============================] - 0s 6ms/step\n",
            "4/4 [==============================] - 0s 10ms/step\n",
            "Epoch: 31/10000, D Loss: [0.70103806 0.4453125 ], G Loss: 0.2516985535621643, Val D Loss: [0.69786847 0.11328125]\n",
            "4/4 [==============================] - 0s 6ms/step\n",
            "4/4 [==============================] - 0s 6ms/step\n",
            "4/4 [==============================] - 0s 6ms/step\n",
            "4/4 [==============================] - 0s 6ms/step\n",
            "4/4 [==============================] - 0s 6ms/step\n"
          ]
        }
      ]
    },
    {
      "cell_type": "code",
      "source": [
        "n_samp = 1024*8\n",
        "# latent_dim\n",
        "n_lowest = 10\n",
        "result_vec = []\n",
        "noise = tf.random.normal(shape=(n_samp, latent_dim))\n",
        "synthetic_samples = generator.predict(noise)\n",
        "batch_val = next(val_gen)\n",
        "for batch_ in batch_val:\n",
        "  # batch_ = batch_val[1]\n",
        "  match_indices = [0,1,2,3,5,6,7,8,9]\n",
        "\n",
        "  data = [np.mean(np.sqrt((batch_[match_indices] - samp[match_indices])**2)) for samp in synthetic_samples]\n",
        "\n",
        "  indices = sorted(range(len(data)), key=lambda i: data[i])[:n_lowest]\n",
        "\n",
        "  most_similar = [synthetic_samples[i] for i in indices]\n",
        "\n",
        "  most_similar_scaled = [scaler.inverse_transform(sim.reshape(1,-1)) for sim in most_similar]\n",
        "\n",
        "  original_scaled = [scaler.inverse_transform(sim.reshape(1,-1)) for sim in [batch_]]\n",
        "  # most_similar_scaled_df = pd.DataFrame(most_similar_scaled, columns=numeric_cols.columns)\n",
        "\n",
        "  most_similar_scaled_2d = [np.squeeze(sim) for sim in most_similar_scaled]\n",
        "\n",
        "  original_scaled_2d = [np.squeeze(sim) for sim in original_scaled]\n",
        "\n",
        "  most_similar_scaled_df = pd.DataFrame(most_similar_scaled_2d, columns=numeric_cols.columns)\n",
        "\n",
        "  original_scaled_df = pd.DataFrame(original_scaled_2d, columns=numeric_cols.columns)\n",
        "\n",
        "  result = np.sqrt((np.mean(most_similar_scaled_df['imp_c_float'])- np.mean(original_scaled_df['imp_c_float']))**2)/np.mean(original_scaled_df['imp_c_float'])\n",
        "  # print(np.mean(original_scaled_df['agbd_m']))\n",
        "  result_vec.append(result)"
      ],
      "metadata": {
        "colab": {
          "base_uri": "https://localhost:8080/"
        },
        "id": "f-m4YknSb_ng",
        "outputId": "cff20706-2ab0-480b-e481-15ed2dcf8615"
      },
      "execution_count": 70,
      "outputs": [
        {
          "output_type": "stream",
          "name": "stdout",
          "text": [
            "256/256 [==============================] - 2s 7ms/step\n"
          ]
        }
      ]
    },
    {
      "cell_type": "code",
      "source": [
        "most_similar"
      ],
      "metadata": {
        "colab": {
          "base_uri": "https://localhost:8080/"
        },
        "id": "Oc8rt5XeQkXF",
        "outputId": "d79f975f-2e07-4bab-83f3-569c5d82b62b"
      },
      "execution_count": 75,
      "outputs": [
        {
          "output_type": "execute_result",
          "data": {
            "text/plain": [
              "[array([ 28.531334 , -11.202219 , -40.439777 , -10.090137 ,   8.2734   ,\n",
              "         -9.428419 ,  11.930028 ,   1.0942104, -22.76571  ,   8.018955 ],\n",
              "       dtype=float32),\n",
              " array([ 26.278467 , -13.948817 , -43.122784 , -13.704297 ,  -0.3593356,\n",
              "         -0.880978 ,  17.13365  ,  -4.0011663, -16.45799  ,   8.377134 ],\n",
              "       dtype=float32),\n",
              " array([ 27.357634 , -13.8198805, -42.084545 , -13.7134905,   2.781976 ,\n",
              "         -1.5432317,  15.445559 ,  -6.4791827, -18.052958 ,   7.3337617],\n",
              "       dtype=float32),\n",
              " array([ 30.264784 , -11.677847 , -41.794704 , -11.004966 ,   6.7667494,\n",
              "         -6.901617 ,  12.113672 ,  -2.4122186, -23.751757 ,   7.4664197],\n",
              "       dtype=float32),\n",
              " array([ 2.7120161e+01, -1.5374141e+01, -4.3389359e+01, -1.3616334e+01,\n",
              "         4.1027898e-01,  2.4836615e-02,  1.7055265e+01, -6.4799428e+00,\n",
              "        -1.6840025e+01,  8.7692604e+00], dtype=float32),\n",
              " array([ 26.57422  , -14.09194  , -42.864433 , -14.682696 ,  -1.7990932,\n",
              "          2.1483393,  17.79635  ,  -7.8763576, -15.176037 ,   7.6323295],\n",
              "       dtype=float32),\n",
              " array([ 30.885653 , -12.297737 , -40.972473 , -11.344613 ,  10.935388 ,\n",
              "         -8.878796 ,  11.438049 ,   1.1128407, -24.370947 ,   8.392095 ],\n",
              "       dtype=float32),\n",
              " array([ 27.227896  , -14.235371  , -43.73579   , -14.326497  ,\n",
              "         -1.1940247 ,   0.55526173,  18.126545  ,  -6.5483193 ,\n",
              "        -16.99877   ,   8.360414  ], dtype=float32),\n",
              " array([ 26.707157 , -15.58845  , -42.970753 , -14.253486 ,  -0.6094159,\n",
              "          0.8304539,  16.143381 ,  -8.519323 , -16.747728 ,   8.931544 ],\n",
              "       dtype=float32),\n",
              " array([ 25.58497  , -15.169441 , -42.876514 , -14.88791  ,  -3.3159783,\n",
              "          3.2187798,  18.351938 ,  -8.434898 , -14.640684 ,   7.891635 ],\n",
              "       dtype=float32)]"
            ]
          },
          "metadata": {},
          "execution_count": 75
        }
      ]
    }
  ]
}