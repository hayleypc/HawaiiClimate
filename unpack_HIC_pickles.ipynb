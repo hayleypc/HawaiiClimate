{
  "nbformat": 4,
  "nbformat_minor": 0,
  "metadata": {
    "colab": {
      "provenance": [],
      "authorship_tag": "ABX9TyMIW3nTv1Yc1H2Ew70aEbJx",
      "include_colab_link": true
    },
    "kernelspec": {
      "name": "python3",
      "display_name": "Python 3"
    },
    "language_info": {
      "name": "python"
    }
  },
  "cells": [
    {
      "cell_type": "markdown",
      "metadata": {
        "id": "view-in-github",
        "colab_type": "text"
      },
      "source": [
        "<a href=\"https://colab.research.google.com/github/hayleypc/HawaiiClimate/blob/main/unpack_HIC_pickles.ipynb\" target=\"_parent\"><img src=\"https://colab.research.google.com/assets/colab-badge.svg\" alt=\"Open In Colab\"/></a>"
      ]
    },
    {
      "cell_type": "code",
      "execution_count": 32,
      "metadata": {
        "colab": {
          "base_uri": "https://localhost:8080/"
        },
        "id": "tV6Srqh9knFX",
        "outputId": "b1342828-6c66-436f-ed57-525b870f2406"
      },
      "outputs": [
        {
          "output_type": "stream",
          "name": "stdout",
          "text": [
            "Requirement already satisfied: diptest in /usr/local/lib/python3.10/dist-packages (0.8.0)\n",
            "Requirement already satisfied: psutil in /usr/local/lib/python3.10/dist-packages (from diptest) (5.9.5)\n",
            "Requirement already satisfied: numpy>=1.18 in /usr/local/lib/python3.10/dist-packages (from diptest) (1.26.4)\n"
          ]
        }
      ],
      "source": [
        "from google.colab import drive\n",
        "from statistics import mean\n",
        "import os\n",
        "import gc\n",
        "import seaborn as sns\n",
        "import geopandas as gpd\n",
        "import matplotlib.pyplot as plt\n",
        "import pandas as pd\n",
        "import numpy as np\n",
        "import pickle\n",
        "from sklearn.linear_model import LinearRegression\n",
        "\n",
        "\n",
        "!pip install diptest\n",
        "import diptest"
      ]
    },
    {
      "cell_type": "code",
      "source": [
        "drive.mount('/content/drive')"
      ],
      "metadata": {
        "colab": {
          "base_uri": "https://localhost:8080/"
        },
        "id": "cDpWJUEzk4-4",
        "outputId": "1691488b-fb7d-48f3-d64b-831419f88c63"
      },
      "execution_count": 33,
      "outputs": [
        {
          "output_type": "stream",
          "name": "stdout",
          "text": [
            "Drive already mounted at /content/drive; to attempt to forcibly remount, call drive.mount(\"/content/drive\", force_remount=True).\n"
          ]
        }
      ]
    },
    {
      "cell_type": "code",
      "source": [
        "set_lists =[np.array([73,  1, 60, 18, 58]),\n",
        "            np.array([23, 76, 51, 63, 66]),\n",
        "            np.array([31, 47, 30, 20,  5]),\n",
        "            np.array([15, 77, 43, 53, 12]),\n",
        "            np.array([ 3, 56, 29, 75, 13]),\n",
        "            np.array([70, 42, 65, 52, 54]),\n",
        "            np.array([46, 41, 50, 40, 82]),\n",
        "            np.array([67, 24, 84, 61,  6]),\n",
        "            np.array([26, 74, 17,  2, 44]),\n",
        "            np.array([81, 71, 49, 45, 88]),\n",
        "            np.array([22, 11, 86, 83, 14]),\n",
        "            np.array([33, 27, 25, 59, 38]),\n",
        "            np.array([68, 39, 78, 69, 87]),\n",
        "            np.array([16, 19, 48, 21, 79]),\n",
        "            np.array([57, 72, 80, 64, 28]),\n",
        "            np.array([62, 85])]"
      ],
      "metadata": {
        "id": "z9pCOOMftbXD"
      },
      "execution_count": 34,
      "outputs": []
    },
    {
      "cell_type": "code",
      "source": [
        "result_list = [pickle.load(open(f'/content/drive/MyDrive/hawaii_soils/result_list_{set_list_id}.pkl', 'rb')) for set_list_id in range(len(set_lists))]"
      ],
      "metadata": {
        "id": "kD_WvMGBk5lz"
      },
      "execution_count": 35,
      "outputs": []
    },
    {
      "cell_type": "code",
      "source": [
        "# result_list"
      ],
      "metadata": {
        "id": "tC53h_FgtyG3"
      },
      "execution_count": 36,
      "outputs": []
    },
    {
      "cell_type": "code",
      "source": [
        "flattened_result_list = [item for sublist in result_list for item in sublist]"
      ],
      "metadata": {
        "id": "5WjVAvkAt46p"
      },
      "execution_count": 37,
      "outputs": []
    },
    {
      "cell_type": "code",
      "source": [
        "# [flattened_result_list[i]['xval_id'] for i in range(len(flattened_result_list))]"
      ],
      "metadata": {
        "id": "uOIDjroUt7nS"
      },
      "execution_count": 7,
      "outputs": []
    },
    {
      "cell_type": "code",
      "source": [
        "diptest.dipstat([1,2,3,45,6])"
      ],
      "metadata": {
        "colab": {
          "base_uri": "https://localhost:8080/"
        },
        "id": "OS5Ef9mWjI04",
        "outputId": "6e983e1a-2d66-4c83-b372-ef75d1eae153"
      },
      "execution_count": 40,
      "outputs": [
        {
          "output_type": "execute_result",
          "data": {
            "text/plain": [
              "0.1"
            ]
          },
          "metadata": {},
          "execution_count": 40
        }
      ]
    },
    {
      "cell_type": "code",
      "source": [
        "diptest_result_list = [ np.mean([(diptest.dipstat(dict_thing['imp_c_quantiles'])>.05) == (diptest.dipstat(thing)>.05) for thing in dict_thing['prediction_quantiles']]) for dict_thing in flattened_result_list]"
      ],
      "metadata": {
        "id": "JVkAlj0jf97Q"
      },
      "execution_count": 54,
      "outputs": []
    },
    {
      "cell_type": "code",
      "source": [
        "import matplotlib.pyplot as plt\n",
        "import numpy as np\n",
        "\n",
        "# Assuming 'puy' is a list of values\n",
        "puy = diptest_result_list\n",
        "\n",
        "# Create a histogram\n",
        "plt.hist(puy, bins=10, edgecolor='black')  # You can adjust the number of bins\n",
        "plt.xlabel('Values')\n",
        "plt.ylabel('Frequency')\n",
        "plt.title('Histogram of puy')\n",
        "plt.show()"
      ],
      "metadata": {
        "colab": {
          "base_uri": "https://localhost:8080/",
          "height": 472
        },
        "id": "9Ua2xv8MkmFw",
        "outputId": "593881e7-ed3d-470a-f067-a22d3afc2fc7"
      },
      "execution_count": 55,
      "outputs": [
        {
          "output_type": "display_data",
          "data": {
            "text/plain": [
              "<Figure size 640x480 with 1 Axes>"
            ],
            "image/png": "[encoded data removed]"
          },
          "metadata": {}
        }
      ]
    },
    {
      "cell_type": "code",
      "source": [
        "[i for i in flattened_result_list[9]]"
      ],
      "metadata": {
        "colab": {
          "base_uri": "https://localhost:8080/"
        },
        "id": "GUjF0XxQt_c0",
        "outputId": "e4137cdd-b314-4aa3-c0d2-f55c271ce14b"
      },
      "execution_count": 38,
      "outputs": [
        {
          "output_type": "execute_result",
          "data": {
            "text/plain": [
              "['xval_id',\n",
              " 'lat_lon',\n",
              " 'xy_sample',\n",
              " 'xy_driver',\n",
              " 'imp_c_scaled',\n",
              " 'imp_c_quantiles',\n",
              " 'real_predicted_labels',\n",
              " 'scaled_predictions',\n",
              " 'prediction_quantiles',\n",
              " 'predicted_predicted_labels']"
            ]
          },
          "metadata": {},
          "execution_count": 38
        }
      ]
    },
    {
      "cell_type": "code",
      "source": [
        "imput_results = [(item[5] , result['imp_c_quantiles'][5]) for result in flattened_result_list for item in result['prediction_quantiles']]"
      ],
      "metadata": {
        "id": "lyH2-Z6IuFsi"
      },
      "execution_count": 9,
      "outputs": []
    },
    {
      "cell_type": "code",
      "source": [
        "len(flattened_result_list[0]['xy_driver'])"
      ],
      "metadata": {
        "colab": {
          "base_uri": "https://localhost:8080/"
        },
        "id": "Rxr1rnqH14Ou",
        "outputId": "1357a747-eb97-4f4f-bb2d-b3086959ae0c"
      },
      "execution_count": 10,
      "outputs": [
        {
          "output_type": "execute_result",
          "data": {
            "text/plain": [
              "137"
            ]
          },
          "metadata": {},
          "execution_count": 10
        }
      ]
    },
    {
      "cell_type": "code",
      "source": [
        "unique_arrays = [list(x) for x in set(tuple(arr) for arr in flattened_result_list[0]['prediction_quantiles'])]"
      ],
      "metadata": {
        "id": "Q5_p0fWt3Qrq"
      },
      "execution_count": 11,
      "outputs": []
    },
    {
      "cell_type": "code",
      "source": [
        "len(unique_arrays)"
      ],
      "metadata": {
        "colab": {
          "base_uri": "https://localhost:8080/"
        },
        "id": "l2jZ4cR7noYx",
        "outputId": "2eea25de-2181-49d5-95d3-75caf5311cb7"
      },
      "execution_count": 12,
      "outputs": [
        {
          "output_type": "execute_result",
          "data": {
            "text/plain": [
              "83"
            ]
          },
          "metadata": {},
          "execution_count": 12
        }
      ]
    },
    {
      "cell_type": "code",
      "source": [
        "len(flattened_result_list[0]['prediction_quantiles'])"
      ],
      "metadata": {
        "colab": {
          "base_uri": "https://localhost:8080/"
        },
        "id": "hUQAGAN12E19",
        "outputId": "94d3b74a-492c-4973-e571-b75329b2ecea"
      },
      "execution_count": 13,
      "outputs": [
        {
          "output_type": "execute_result",
          "data": {
            "text/plain": [
              "137"
            ]
          },
          "metadata": {},
          "execution_count": 13
        }
      ]
    },
    {
      "cell_type": "code",
      "source": [
        "y_res_list = []\n",
        "x_res_list = []\n",
        "for quantile_n in range(10):\n",
        "  # Calculate the mean of item[x] values directly for each result in flattened_result_list\n",
        "  imput_results = [(mean(item[quantile_n] for item in result['prediction_quantiles']), result['imp_c_quantiles'][quantile_n]) for result in flattened_result_list]\n",
        "  x_res = [i[0] for i in imput_results]\n",
        "  y_res = [i[1] for i in imput_results]\n",
        "  x_res_list.append(x_res)\n",
        "  y_res_list.append(y_res)\n",
        "\n",
        "y_res = [item for sublist in y_res_list for item in sublist]\n",
        "x_res = [item for sublist in x_res_list for item in sublist]\n"
      ],
      "metadata": {
        "id": "T_MMtMpHuJWK"
      },
      "execution_count": 96,
      "outputs": []
    },
    {
      "cell_type": "code",
      "source": [
        "# [result['imp_c_quantiles'][quantile_n] for result in flattened_result_list]"
      ],
      "metadata": {
        "id": "YxZmc7z_uLtO"
      },
      "execution_count": 97,
      "outputs": []
    },
    {
      "cell_type": "code",
      "source": [],
      "metadata": {
        "colab": {
          "base_uri": "https://localhost:8080/",
          "height": 147
        },
        "id": "8Pge2L0ktdpX",
        "outputId": "8447f889-c127-4948-fc2e-35f78c0510c9"
      },
      "execution_count": 76,
      "outputs": [
        {
          "output_type": "error",
          "ename": "AttributeError",
          "evalue": "'list' object has no attribute 'flatten'",
          "traceback": [
            "\u001b[0;31m---------------------------------------------------------------------------\u001b[0m",
            "\u001b[0;31mAttributeError\u001b[0m                            Traceback (most recent call last)",
            "\u001b[0;32m<ipython-input-76-f7f5e1136080>\u001b[0m in \u001b[0;36m<cell line: 1>\u001b[0;34m()\u001b[0m\n\u001b[0;32m----> 1\u001b[0;31m \u001b[0mx_res\u001b[0m\u001b[0;34m.\u001b[0m\u001b[0mflatten\u001b[0m\u001b[0;34m(\u001b[0m\u001b[0;34m)\u001b[0m\u001b[0;34m\u001b[0m\u001b[0;34m\u001b[0m\u001b[0m\n\u001b[0m",
            "\u001b[0;31mAttributeError\u001b[0m: 'list' object has no attribute 'flatten'"
          ]
        }
      ]
    },
    {
      "cell_type": "code",
      "source": [
        "max(x_res)[0]"
      ],
      "metadata": {
        "colab": {
          "base_uri": "https://localhost:8080/"
        },
        "id": "70s-864rolMD",
        "outputId": "171b8bdd-9661-406d-a1d8-5a3f70d44b6d"
      },
      "execution_count": 84,
      "outputs": [
        {
          "output_type": "execute_result",
          "data": {
            "text/plain": [
              "38.38778305053711"
            ]
          },
          "metadata": {},
          "execution_count": 84
        }
      ]
    },
    {
      "cell_type": "code",
      "source": [
        "x_res = np.array(x_res).reshape(-1, 1)  # Reshape if data is a 1D array\n",
        "y_res = np.array(y_res)\n",
        "\n",
        "# Perform linear regression\n",
        "model = LinearRegression().fit(x_res, y_res)\n",
        "r_squared = model.score(x_res, y_res)  # R-squared\n",
        "\n",
        "# Create scatter plot\n",
        "plt.scatter(x_res, y_res)\n",
        "plt.xlabel('predicted Q5')\n",
        "plt.ylabel('measured Q5')\n",
        "plt.title('')\n",
        "\n",
        "# Add a 1:1 line\n",
        "max_val = max(max(x_res), max(y_res))\n",
        "min_val = min(min(x_res), min(y_res))\n",
        "# plt.plot([min_val, max_val], [min_val, max_val], 'r--')\n",
        "\n",
        "# Annotate the plot with the R-squared value\n",
        "x_annotate = max(x_res)\n",
        "y_annotate = max(y_res)\n",
        "plt.annotate(f'R^2 = {r_squared:.2f}', xy=(x_annotate, y_annotate), xycoords='data',\n",
        "             xytext=(-40, 10), textcoords='offset points',\n",
        "             ha='right', va='top')\n",
        "\n",
        "plt.show()\n"
      ],
      "metadata": {
        "colab": {
          "base_uri": "https://localhost:8080/",
          "height": 449
        },
        "id": "BJDpkr7MoToe",
        "outputId": "b1a86373-cd69-4a7e-ae9b-09a780ce2de0"
      },
      "execution_count": 98,
      "outputs": [
        {
          "output_type": "display_data",
          "data": {
            "text/plain": [
              "<Figure size 640x480 with 1 Axes>"
            ],
            "image/png": "[encoded data removed]"
          },
          "metadata": {}
        }
      ]
    },
    {
      "cell_type": "code",
      "source": [
        "plt.scatter(x_res, y_res)\n",
        "plt.xlabel('X-axis label')\n",
        "plt.ylabel('Y-axis label')\n",
        "plt.title('')\n",
        "\n",
        "max_val = max(max(x_res), max(y_res))\n",
        "min_val = min(min(x_res), min(y_res))\n",
        "plt.plot([min_val, max_val], [min_val, max_val], 'r--')\n",
        "\n",
        "plt.show()\n"
      ],
      "metadata": {
        "colab": {
          "base_uri": "https://localhost:8080/",
          "height": 449
        },
        "id": "AXu6fzxNuN32",
        "outputId": "b43f8ead-a87a-4d56-d386-02e78f3e7c87"
      },
      "execution_count": 18,
      "outputs": [
        {
          "output_type": "display_data",
          "data": {
            "text/plain": [
              "<Figure size 640x480 with 1 Axes>"
            ],
            "image/png": "[encoded data removed]"
          },
          "metadata": {}
        }
      ]
    },
    {
      "cell_type": "code",
      "source": [],
      "metadata": {
        "id": "oO2JiRDG07TY"
      },
      "execution_count": 18,
      "outputs": []
    },
    {
      "cell_type": "code",
      "source": [],
      "metadata": {
        "id": "Kj7A9XHTazHt"
      },
      "execution_count": null,
      "outputs": []
    }
  ]
}