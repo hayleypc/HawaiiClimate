{
  "nbformat": 4,
  "nbformat_minor": 0,
  "metadata": {
    "colab": {
      "provenance": [],
      "authorship_tag": "ABX9TyNSpCRsaD1JCDAZCDVqTqjg",
      "include_colab_link": true
    },
    "kernelspec": {
      "name": "ir",
      "display_name": "R"
    },
    "language_info": {
      "name": "R"
    }
  },
  "cells": [
    {
      "cell_type": "markdown",
      "metadata": {
        "id": "view-in-github",
        "colab_type": "text"
      },
      "source": [
        "<a href=\"https://colab.research.google.com/github/hayleypc/HawaiiClimate/blob/main/HI_MAP_MATxSH.ipynb\" target=\"_parent\"><img src=\"https://colab.research.google.com/assets/colab-badge.svg\" alt=\"Open In Colab\"/></a>"
      ]
    },
    {
      "cell_type": "code",
      "execution_count": 2,
      "metadata": {
        "id": "CgGHtrsPVZ_H",
        "outputId": "24ebdc65-6754-4d1a-ec74-48a960070584",
        "colab": {
          "base_uri": "https://localhost:8080/"
        }
      },
      "outputs": [
        {
          "output_type": "stream",
          "name": "stderr",
          "text": [
            "Installing packages into ‘/usr/local/lib/R/site-library’\n",
            "(as ‘lib’ is unspecified)\n",
            "\n"
          ]
        }
      ],
      "source": [
        "install.packages(c('raster','sf','data.table','magrittr','ggplot2','googledrive'))"
      ]
    },
    {
      "cell_type": "code",
      "source": [
        "install.packages('exactextractr')"
      ],
      "metadata": {
        "id": "fEGqvN23d2Z-",
        "outputId": "323bf03a-f924-4d83-c6cb-492fae5d64ec",
        "colab": {
          "base_uri": "https://localhost:8080/"
        }
      },
      "execution_count": 3,
      "outputs": [
        {
          "output_type": "stream",
          "name": "stderr",
          "text": [
            "Installing package into ‘/usr/local/lib/R/site-library’\n",
            "(as ‘lib’ is unspecified)\n",
            "\n"
          ]
        }
      ]
    },
    {
      "cell_type": "code",
      "source": [
        "library(data.table)\n",
        "library(ggplot2)\n",
        "library(magrittr)\n",
        "library(googledrive)\n",
        "library(sf)\n",
        "library(raster)\n",
        "library(exactextractr)"
      ],
      "metadata": {
        "id": "fY2SssRZXmN_"
      },
      "execution_count": 2,
      "outputs": []
    },
    {
      "cell_type": "code",
      "source": [
        "drive_auth(use_oob = TRUE, cache = FALSE)"
      ],
      "metadata": {
        "id": "V9V0FgugcBvp",
        "outputId": "4ef154c5-9c58-45fc-d3b1-ca389a88abf8",
        "colab": {
          "base_uri": "https://localhost:8080/"
        }
      },
      "execution_count": 3,
      "outputs": [
        {
          "output_type": "stream",
          "name": "stderr",
          "text": [
            "Please point your browser to the following url: \n",
            "\n",
            "https://accounts.google.com/o/oauth2/v2/auth?client_id=603366585132-frjlouoa3s2ono25d2l9ukvhlsrlnr7k.apps.googleusercontent.com&scope=https%3A%2F%2Fwww.googleapis.com%2Fauth%2Fdrive%20https%3A%2F%2Fwww.googleapis.com%2Fauth%2Fuserinfo.email&redirect_uri=https%3A%2F%2Fwww.tidyverse.org%2Fgoogle-callback%2F&response_type=code&state=04cb739a415c3431bd0f1207c075ec87&access_type=offline&prompt=consent\n",
            "\n"
          ]
        },
        {
          "name": "stdout",
          "output_type": "stream",
          "text": [
            "Enter authorization code: eyJjb2RlIjoiNC8wQWVhWVNIQUNHY1UxZ09iZGc1RXU4N004aWY0WFZabWIxZ0h3RmpXeHVDSERGWTJLZkxnWDVzTlB6UlRRbXJDTXBvdHlQQSIsInN0YXRlIjoiMDRjYjczOWE0MTVjMzQzMWJkMGYxMjA3YzA3NWVjODcifQ==\n"
          ]
        }
      ]
    },
    {
      "cell_type": "markdown",
      "source": [
        "HI soil health data"
      ],
      "metadata": {
        "id": "CEYMDHFfcyug"
      }
    },
    {
      "cell_type": "code",
      "source": [
        "# https://drive.google.com/file/d/14nLSgCrvmEPVr3efoYHkQR4onBRNN7Ma/view?usp=drive_link\n",
        "drive_download(file = as_id('14nLSgCrvmEPVr3efoYHkQR4onBRNN7Ma'), path = '/content/HSH.gpkg', overwrite = TRUE)"
      ],
      "metadata": {
        "id": "TAmSPuD-cJBV",
        "outputId": "fdca2c22-29d8-401a-cbc2-2934893a2c8f",
        "colab": {
          "base_uri": "https://localhost:8080/"
        }
      },
      "execution_count": 4,
      "outputs": [
        {
          "output_type": "stream",
          "name": "stderr",
          "text": [
            "File downloaded:\n",
            "\n",
            "• \u001b[36mSH_dt_2024_02_21.gpkg\u001b[39m \u001b[90m<id: 14nLSgCrvmEPVr3efoYHkQR4onBRNN7Ma>\u001b[39m\n",
            "\n",
            "Saved locally as:\n",
            "\n",
            "• \u001b[34m/content/HSH.gpkg\u001b[39m\n",
            "\n"
          ]
        }
      ]
    },
    {
      "cell_type": "markdown",
      "source": [
        "HI climate mosaic"
      ],
      "metadata": {
        "id": "GSJ6_2WYcqkw"
      }
    },
    {
      "cell_type": "code",
      "source": [],
      "metadata": {
        "id": "Z5PUKHwlhL6H"
      },
      "execution_count": 5,
      "outputs": []
    },
    {
      "cell_type": "code",
      "source": [
        "#https://drive.google.com/file/d/1-CYO4GG7e7aNfE1P3s_QDv0G1vNkqfIo/view?usp=drive_link\n",
        "drive_download(as_id(\"1-CYO4GG7e7aNfE1P3s_QDv0G1vNkqfIo\"), path = \"/content/climate.tif\", overwrite = TRUE)\n",
        "\n",
        "# Read the downloaded TIFF file as a raster stack\n",
        "climate_stack <- stack(\"/content/climate.tif\")\n",
        "\n",
        "# Check the content of the stack\n",
        "print(climate_stack)"
      ],
      "metadata": {
        "id": "lCZW-3jycouV",
        "outputId": "b3513fd4-227b-4ef0-df01-71699df855e1",
        "colab": {
          "base_uri": "https://localhost:8080/"
        }
      },
      "execution_count": 6,
      "outputs": [
        {
          "output_type": "stream",
          "name": "stderr",
          "text": [
            "File downloaded:\n",
            "\n",
            "• \u001b[36mTerraClimate_Island_Mean_Climate_mosaic.tif\u001b[39m\n",
            "  \u001b[90m<id: 1-CYO4GG7e7aNfE1P3s_QDv0G1vNkqfIo>\u001b[39m\n",
            "\n",
            "Saved locally as:\n",
            "\n",
            "• \u001b[34m/content/climate.tif\u001b[39m\n",
            "\n"
          ]
        },
        {
          "output_type": "stream",
          "name": "stdout",
          "text": [
            "class      : RasterStack \n",
            "dimensions : 1075, 2638, 2835850, 14  (nrow, ncol, ncell, nlayers)\n",
            "resolution : 0.008983153, 0.008983153  (x, y)\n",
            "extent     : -178.4503, -154.7528, 18.86462, 28.52151  (xmin, xmax, ymin, ymax)\n",
            "crs        : +proj=longlat +datum=WGS84 +no_defs \n",
            "names      : aet, def, pdsi, pet, pr, ro, soil, srad, swe, tmmn, tmmx, vap, vpd, vs \n",
            "\n"
          ]
        }
      ]
    },
    {
      "cell_type": "code",
      "source": [
        "# geopackage1 <- \"/content/HSH.gpkg\"\n",
        "\n",
        "# Read the GeoPackages\n",
        "soilHealth <- st_read(\"/content/HSH.gpkg\")\n",
        "\n",
        "\n",
        "st_crs(soilHealth) <- 4326\n",
        "\n"
      ],
      "metadata": {
        "id": "O9wNl8zifKFr",
        "outputId": "0b51d704-ebab-4173-c071-dc966ca0700d",
        "colab": {
          "base_uri": "https://localhost:8080/"
        }
      },
      "execution_count": 7,
      "outputs": [
        {
          "output_type": "stream",
          "name": "stdout",
          "text": [
            "Reading layer `SH_dt' from data source `/content/HSH.gpkg' using driver `GPKG'\n",
            "Simple feature collection with 767 features and 57 fields\n",
            "Geometry type: POINT\n",
            "Dimension:     XY\n",
            "Bounding box:  xmin: -159.7518 ymin: 19.21385 xmax: -154.9476 ymax: 22.22142\n",
            "Projected CRS: Undefined Cartesian SRS with unknown unit\n"
          ]
        },
        {
          "output_type": "stream",
          "name": "stderr",
          "text": [
            "Warning message:\n",
            "“st_crs<- : replacing crs does not reproject data; use st_transform for that”\n"
          ]
        }
      ]
    },
    {
      "cell_type": "code",
      "source": [
        "soilHealth <- soilHealth %>% st_transform(26904) %>% st_buffer(30)%>% st_transform(4326)"
      ],
      "metadata": {
        "id": "9wh9lKB1hvWb"
      },
      "execution_count": 8,
      "outputs": []
    },
    {
      "cell_type": "code",
      "source": [
        "climate_extract<- exact_extract(climate_stack,soilHealth,fun = 'mean')\n",
        "names(climate_extract) <- names(climate_stack)\n",
        "soilHealth_dt <- data.table(soilHealth,climate_extract)"
      ],
      "metadata": {
        "id": "bkICcbWEiMUO",
        "outputId": "724b47e7-b3f4-4606-fee3-8a96d40beef7",
        "colab": {
          "base_uri": "https://localhost:8080/"
        }
      },
      "execution_count": 9,
      "outputs": [
        {
          "output_type": "stream",
          "name": "stdout",
          "text": [
            "  |======================================================================| 100%\n"
          ]
        }
      ]
    },
    {
      "cell_type": "code",
      "source": [
        "climate_stack\n"
      ],
      "metadata": {
        "id": "dgzJOydni2yL",
        "outputId": "03c882f9-dd11-485e-87a1-02421a60cc04",
        "colab": {
          "base_uri": "https://localhost:8080/",
          "height": 128
        }
      },
      "execution_count": 10,
      "outputs": [
        {
          "output_type": "display_data",
          "data": {
            "text/plain": [
              "class      : RasterStack \n",
              "dimensions : 1075, 2638, 2835850, 14  (nrow, ncol, ncell, nlayers)\n",
              "resolution : 0.008983153, 0.008983153  (x, y)\n",
              "extent     : -178.4503, -154.7528, 18.86462, 28.52151  (xmin, xmax, ymin, ymax)\n",
              "crs        : +proj=longlat +datum=WGS84 +no_defs \n",
              "names      : aet, def, pdsi, pet, pr, ro, soil, srad, swe, tmmn, tmmx, vap, vpd, vs \n"
            ]
          },
          "metadata": {}
        }
      ]
    },
    {
      "cell_type": "code",
      "source": [
        "climate_dt <- names(climate_stack) %>% lapply(function(x){dt_out = data.table(x=values(climate_stack[[x]]));names(dt_out)<- x;return(dt_out)}) %>% do.call(cbind,.)\n",
        "\n",
        "climate_dt <- climate_dt[!is.na(pr)&pr>0]"
      ],
      "metadata": {
        "id": "BF8sklwGiwm8"
      },
      "execution_count": 11,
      "outputs": []
    },
    {
      "cell_type": "code",
      "source": [
        "min_max_dt <- rbindlist(lapply(names(climate_dt), function(col_name) {\n",
        "  min_val <- min(climate_dt[[col_name]], na.rm = TRUE)\n",
        "  max_val <- max(climate_dt[[col_name]], na.rm = TRUE)\n",
        "  data.table(column = col_name, min = min_val, max = max_val)\n",
        "}), use.names = TRUE)"
      ],
      "metadata": {
        "id": "tuDj7XiDof5r"
      },
      "execution_count": 12,
      "outputs": []
    },
    {
      "cell_type": "code",
      "source": [
        "norm_climate_dt <- names(climate_dt) %>%\n",
        "  lapply(function(x){\n",
        "  dt_out <- data.table(x=(climate_dt[[x]]-min_max_dt[column==x]$min[1])/(min_max_dt[column==x]$max[1]-min_max_dt[column==x]$min[1]) )\n",
        "  names(dt_out) <- x\n",
        "  return(dt_out)\n",
        "  }) %>% do.call(cbind,.)"
      ],
      "metadata": {
        "id": "VT4EBrs4pnvj"
      },
      "execution_count": 19,
      "outputs": []
    },
    {
      "cell_type": "code",
      "source": [
        "norm_soilHealth_dt <- names(climate_dt) %>%\n",
        "  lapply(function(x){\n",
        "  dt_out <- data.table(x=(soilHealth_dt[[x]]-min_max_dt[column==x]$min[1])/(min_max_dt[column==x]$max[1]-min_max_dt[column==x]$min[1]) )\n",
        "  names(dt_out) <- x\n",
        "  return(dt_out)\n",
        "  }) %>% do.call(cbind,.)"
      ],
      "metadata": {
        "id": "3i-KBInwqmPq"
      },
      "execution_count": 20,
      "outputs": []
    },
    {
      "cell_type": "code",
      "source": [
        "library(parallel)\n",
        "\n",
        "cl <-makeCluster(8)\n",
        "\n",
        "distance_dt <-\n",
        "1:nrow(norm_climate_dt) %>% parLapply(cl,.,function(x,norm_climate_dt,norm_soilHealth_dt){\n",
        "# x <-1\n",
        "library(magrittr)\n",
        "library(data.table)\n",
        "dist_vec <- 1:nrow(norm_soilHealth_dt) %>% lapply(function(y){ mean(sqrt((norm_climate_dt[x,]-norm_soilHealth_dt[y,])^2) %>% unlist)}) %>% unlist\n",
        "data.table(id = which.min(dist_vec),min=min(dist_vec),mean=mean(dist_vec))\n",
        "# print(x)\n",
        "},norm_climate_dt,norm_soilHealth_dt) %>% rbindlist\n",
        "\n",
        "stopCluster(cl)"
      ],
      "metadata": {
        "id": "rvz1aT42rE7l"
      },
      "execution_count": 40,
      "outputs": []
    },
    {
      "cell_type": "code",
      "source": [
        "seq(1, nrow(climate_dt), by = 1000)"
      ],
      "metadata": {
        "id": "8dCEqemw0_FB",
        "outputId": "b1864b63-6cf7-4c14-ec4e-0d86ce2965c7",
        "colab": {
          "base_uri": "https://localhost:8080/",
          "height": 34
        }
      },
      "execution_count": 31,
      "outputs": [
        {
          "output_type": "display_data",
          "data": {
            "text/html": [
              "<style>\n",
              ".list-inline {list-style: none; margin:0; padding: 0}\n",
              ".list-inline>li {display: inline-block}\n",
              ".list-inline>li:not(:last-child)::after {content: \"\\00b7\"; padding: 0 .5ex}\n",
              "</style>\n",
              "<ol class=list-inline><li>1</li><li>1001</li><li>2001</li><li>3001</li><li>4001</li><li>5001</li><li>6001</li><li>7001</li><li>8001</li><li>9001</li><li>10001</li><li>11001</li><li>12001</li><li>13001</li><li>14001</li><li>15001</li><li>16001</li><li>17001</li><li>18001</li><li>19001</li><li>20001</li><li>21001</li></ol>\n"
            ],
            "text/markdown": "1. 1\n2. 1001\n3. 2001\n4. 3001\n5. 4001\n6. 5001\n7. 6001\n8. 7001\n9. 8001\n10. 9001\n11. 10001\n12. 11001\n13. 12001\n14. 13001\n15. 14001\n16. 15001\n17. 16001\n18. 17001\n19. 18001\n20. 19001\n21. 20001\n22. 21001\n\n\n",
            "text/latex": "\\begin{enumerate*}\n\\item 1\n\\item 1001\n\\item 2001\n\\item 3001\n\\item 4001\n\\item 5001\n\\item 6001\n\\item 7001\n\\item 8001\n\\item 9001\n\\item 10001\n\\item 11001\n\\item 12001\n\\item 13001\n\\item 14001\n\\item 15001\n\\item 16001\n\\item 17001\n\\item 18001\n\\item 19001\n\\item 20001\n\\item 21001\n\\end{enumerate*}\n",
            "text/plain": [
              " [1]     1  1001  2001  3001  4001  5001  6001  7001  8001  9001 10001 11001\n",
              "[13] 12001 13001 14001 15001 16001 17001 18001 19001 20001 21001"
            ]
          },
          "metadata": {}
        }
      ]
    },
    {
      "cell_type": "code",
      "source": [
        "matrix(norm_soilHealth_dt[1,])-matrix(norm_soilHealth_dt)"
      ],
      "metadata": {
        "id": "8EMzYldL1ktA",
        "outputId": "cf604066-c4fd-4c17-cb55-053d10f9bfeb",
        "colab": {
          "base_uri": "https://localhost:8080/",
          "height": 74
        }
      },
      "execution_count": 36,
      "outputs": [
        {
          "output_type": "error",
          "ename": "ERROR",
          "evalue": "Error in matrix(norm_soilHealth_dt[1, ]) - matrix(norm_soilHealth_dt): non-numeric argument to binary operator\n",
          "traceback": [
            "Error in matrix(norm_soilHealth_dt[1, ]) - matrix(norm_soilHealth_dt): non-numeric argument to binary operator\nTraceback:\n"
          ]
        }
      ]
    },
    {
      "cell_type": "code",
      "source": [
        "library(data.table)\n",
        "\n",
        "# Sample data.tables\n",
        "# norm_climate_dt <- data.table(matrix(rnorm(10000), ncol = 10))\n",
        "# norm_soilHealth_dt <- data.table(matrix(rnorm(10000), ncol = 10))\n",
        "\n",
        "seq(1, nrow(climate_dt), by = 1000) %>% lapply(function(x){\n",
        "# # Calculate the Euclidean distance matrix\n",
        "dist_matrix <- as.matrix(dist(rbind(norm_climate_dt, norm_soilHealth_dt)))\n",
        "dist_matrix <- dist_matrix[1:nrow(norm_climate_dt), (nrow(norm_climate_dt) + 1):nrow(dist_matrix)]\n",
        "# Find the minimum, mean, and index of the minimum for each row\n",
        "min_indices <- apply(dist_matrix, 1, which.min)\n",
        "min_values <- apply(dist_matrix, 1, min)\n",
        "mean_values <- apply(dist_matrix, 1, mean)\n",
        "\n",
        "# # Create the resulting data.table\n",
        "distance_dt <- data.table(id = min_indices, min = min_values, mean = mean_values)\n",
        "\n",
        "  })\n",
        "\n",
        "# Calculate distances using the batch processing function\n",
        "distance_dt <- calc_distances(norm_climate_dt, norm_soilHealth_dt, batch_size = 100)\n"
      ],
      "metadata": {
        "id": "nJFSU5sox8Rw"
      },
      "execution_count": 21,
      "outputs": []
    },
    {
      "cell_type": "code",
      "source": [
        "# distance_dt$min %>% qplot"
      ],
      "metadata": {
        "id": "b2wPrv0EyGCa"
      },
      "execution_count": 25,
      "outputs": []
    },
    {
      "cell_type": "code",
      "source": [
        "names(norm_climate_dt)\n",
        "norm_climate_dt <- norm_climate_dt[,.(pr,tmmx)]\n",
        "norm_soilHealth_dt <- norm_soilHealth_dt[,.(pr,tmmx)]"
      ],
      "metadata": {
        "id": "9Voax_JpwydC",
        "outputId": "5593ee40-6a79-4b65-8770-e0f86ffb10ad",
        "colab": {
          "base_uri": "https://localhost:8080/",
          "height": 34
        }
      },
      "execution_count": 16,
      "outputs": [
        {
          "output_type": "display_data",
          "data": {
            "text/html": [
              "<style>\n",
              ".list-inline {list-style: none; margin:0; padding: 0}\n",
              ".list-inline>li {display: inline-block}\n",
              ".list-inline>li:not(:last-child)::after {content: \"\\00b7\"; padding: 0 .5ex}\n",
              "</style>\n",
              "<ol class=list-inline><li>'aet'</li><li>'def'</li><li>'pdsi'</li><li>'pet'</li><li>'pr'</li><li>'ro'</li><li>'soil'</li><li>'srad'</li><li>'swe'</li><li>'tmmn'</li><li>'tmmx'</li><li>'vap'</li><li>'vpd'</li><li>'vs'</li></ol>\n"
            ],
            "text/markdown": "1. 'aet'\n2. 'def'\n3. 'pdsi'\n4. 'pet'\n5. 'pr'\n6. 'ro'\n7. 'soil'\n8. 'srad'\n9. 'swe'\n10. 'tmmn'\n11. 'tmmx'\n12. 'vap'\n13. 'vpd'\n14. 'vs'\n\n\n",
            "text/latex": "\\begin{enumerate*}\n\\item 'aet'\n\\item 'def'\n\\item 'pdsi'\n\\item 'pet'\n\\item 'pr'\n\\item 'ro'\n\\item 'soil'\n\\item 'srad'\n\\item 'swe'\n\\item 'tmmn'\n\\item 'tmmx'\n\\item 'vap'\n\\item 'vpd'\n\\item 'vs'\n\\end{enumerate*}\n",
            "text/plain": [
              " [1] \"aet\"  \"def\"  \"pdsi\" \"pet\"  \"pr\"   \"ro\"   \"soil\" \"srad\" \"swe\"  \"tmmn\"\n",
              "[11] \"tmmx\" \"vap\"  \"vpd\"  \"vs\"  "
            ]
          },
          "metadata": {}
        }
      ]
    },
    {
      "cell_type": "code",
      "source": [
        "# library(data.table)\n",
        "\n",
        "# # Assuming norm_climate_dt and norm_soilHealth_dt are your data.tables\n",
        "# # with rows as observations and columns as dimensions\n",
        "\n",
        "# # Calculate the Euclidean distance matrix\n",
        "# dist_matrix <- as.matrix(dist(rbind(norm_climate_dt, norm_soilHealth_dt)))\n",
        "# dist_matrix <- dist_matrix[1:nrow(norm_climate_dt), (nrow(norm_climate_dt) + 1):nrow(dist_matrix)]\n",
        "\n",
        "# # Find the minimum, mean, and index of the minimum for each row\n",
        "# min_indices <- apply(dist_matrix, 1, which.min)\n",
        "# min_values <- apply(dist_matrix, 1, min)\n",
        "# mean_values <- apply(dist_matrix, 1, mean)\n",
        "\n",
        "# # Create the resulting data.table\n",
        "# distance_dt <- data.table(id = min_indices, min = min_values, mean = mean_values)"
      ],
      "metadata": {
        "id": "BTv8k_iIrhc-"
      },
      "execution_count": 17,
      "outputs": []
    },
    {
      "cell_type": "code",
      "source": [
        "norm_soilHealth_dt"
      ],
      "metadata": {
        "id": "W2-l7nldkkFE"
      },
      "execution_count": null,
      "outputs": []
    },
    {
      "cell_type": "code",
      "source": [
        "climate_dt %>% names %>% lapply(\n",
        "\n",
        "\n",
        ")"
      ],
      "metadata": {
        "id": "lS4fWBksnFSc"
      },
      "execution_count": null,
      "outputs": []
    },
    {
      "cell_type": "code",
      "source": [
        "climate_dt %>%\n",
        "  ggplot(aes(x=pr,y=tmmx))+\n",
        "  geom_bin2d() +\n",
        "  geom_point(data=soilHealth_dt,aes(x=pr,y=tmmx),color='magenta')"
      ],
      "metadata": {
        "id": "S5lR_ed9jYlG"
      },
      "execution_count": null,
      "outputs": []
    }
  ]
}