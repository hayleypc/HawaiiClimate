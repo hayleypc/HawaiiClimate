{
  "nbformat": 4,
  "nbformat_minor": 0,
  "metadata": {
    "colab": {
      "provenance": [],
      "authorship_tag": "ABX9TyPqFuc3ceLF73+w41lTyhbV",
      "include_colab_link": true
    },
    "kernelspec": {
      "name": "ir",
      "display_name": "R"
    },
    "language_info": {
      "name": "R"
    }
  },
  "cells": [
    {
      "cell_type": "markdown",
      "metadata": {
        "id": "view-in-github",
        "colab_type": "text"
      },
      "source": [
        "<a href=\"https://colab.research.google.com/github/hayleypc/HawaiiClimate/blob/main/HI_MAP_MATxSH.ipynb\" target=\"_parent\"><img src=\"https://colab.research.google.com/assets/colab-badge.svg\" alt=\"Open In Colab\"/></a>"
      ]
    },
    {
      "cell_type": "code",
      "execution_count": 1,
      "metadata": {
        "id": "CgGHtrsPVZ_H",
        "colab": {
          "base_uri": "https://localhost:8080/"
        },
        "outputId": "b488c999-dd74-4bb4-86b3-51eb74b4a205"
      },
      "outputs": [
        {
          "output_type": "stream",
          "name": "stderr",
          "text": [
            "Installing packages into ‘/usr/local/lib/R/site-library’\n",
            "(as ‘lib’ is unspecified)\n",
            "\n",
            "also installing the dependencies ‘proxy’, ‘e1071’, ‘wk’, ‘sp’, ‘Rcpp’, ‘terra’, ‘classInt’, ‘s2’, ‘units’\n",
            "\n",
            "\n"
          ]
        }
      ],
      "source": [
        "install.packages(c('raster','sf','data.table','magrittr','ggplot2','googledrive','exactextractr'))"
      ]
    },
    {
      "cell_type": "code",
      "source": [
        "library(data.table)\n",
        "library(ggplot2)\n",
        "library(magrittr)\n",
        "library(googledrive)\n",
        "library(sf)\n",
        "library(raster)\n",
        "library(exactextractr)"
      ],
      "metadata": {
        "colab": {
          "base_uri": "https://localhost:8080/"
        },
        "id": "fY2SssRZXmN_",
        "outputId": "86bfd0f6-0aeb-46a2-beab-2617c2a21d2f"
      },
      "execution_count": 2,
      "outputs": [
        {
          "output_type": "stream",
          "name": "stderr",
          "text": [
            "Linking to GEOS 3.11.1, GDAL 3.6.4, PROJ 9.1.1; sf_use_s2() is TRUE\n",
            "\n",
            "Loading required package: sp\n",
            "\n"
          ]
        }
      ]
    },
    {
      "cell_type": "code",
      "source": [
        "drive_auth(use_oob = TRUE, cache = FALSE)"
      ],
      "metadata": {
        "colab": {
          "base_uri": "https://localhost:8080/"
        },
        "id": "V9V0FgugcBvp",
        "outputId": "6d0bb9a0-0c7e-484d-a325-424f5aa86e52"
      },
      "execution_count": 3,
      "outputs": [
        {
          "output_type": "stream",
          "name": "stderr",
          "text": [
            "Please point your browser to the following url: \n",
            "\n",
            "https://accounts.google.com/o/oauth2/v2/auth?client_id=603366585132-frjlouoa3s2ono25d2l9ukvhlsrlnr7k.apps.googleusercontent.com&scope=https%3A%2F%2Fwww.googleapis.com%2Fauth%2Fdrive%20https%3A%2F%2Fwww.googleapis.com%2Fauth%2Fuserinfo.email&redirect_uri=https%3A%2F%2Fwww.tidyverse.org%2Fgoogle-callback%2F&response_type=code&state=d26e3f605fa59454a7c809377728784c&access_type=offline&prompt=consent\n",
            "\n"
          ]
        },
        {
          "name": "stdout",
          "output_type": "stream",
          "text": [
            "Enter authorization code: eyJjb2RlIjoiNC8wQWVhWVNIQjEyZWU1WkdRME1ldmhnSEhlNUxNT3ItRW0tNWZqVjl1RFRGeThPTmZBWkN2bWFTWDJGTXdCMGRRYThVZ3d1QSIsInN0YXRlIjoiZDI2ZTNmNjA1ZmE1OTQ1NGE3YzgwOTM3NzcyODc4NGMifQ==\n"
          ]
        }
      ]
    },
    {
      "cell_type": "markdown",
      "source": [
        "HI soil health data"
      ],
      "metadata": {
        "id": "CEYMDHFfcyug"
      }
    },
    {
      "cell_type": "code",
      "source": [
        "# https://drive.google.com/file/d/14nLSgCrvmEPVr3efoYHkQR4onBRNN7Ma/view?usp=drive_link\n",
        "drive_download(file = as_id('14nLSgCrvmEPVr3efoYHkQR4onBRNN7Ma'), path = '/content/HSH.gpkg', overwrite = TRUE)"
      ],
      "metadata": {
        "colab": {
          "base_uri": "https://localhost:8080/"
        },
        "id": "TAmSPuD-cJBV",
        "outputId": "9cdb621d-4980-4426-c31e-4d4ea6d08b90"
      },
      "execution_count": 4,
      "outputs": [
        {
          "output_type": "stream",
          "name": "stderr",
          "text": [
            "File downloaded:\n",
            "\n",
            "• \u001b[36mSH_dt_2024_02_21.gpkg\u001b[39m \u001b[90m<id: 14nLSgCrvmEPVr3efoYHkQR4onBRNN7Ma>\u001b[39m\n",
            "\n",
            "Saved locally as:\n",
            "\n",
            "• \u001b[34m/content/HSH.gpkg\u001b[39m\n",
            "\n"
          ]
        }
      ]
    },
    {
      "cell_type": "markdown",
      "source": [
        "HI climate mosaic"
      ],
      "metadata": {
        "id": "GSJ6_2WYcqkw"
      }
    },
    {
      "cell_type": "code",
      "source": [
        "#https://drive.google.com/file/d/1-CYO4GG7e7aNfE1P3s_QDv0G1vNkqfIo/view?usp=drive_link\n",
        "drive_download(as_id(\"1-CYO4GG7e7aNfE1P3s_QDv0G1vNkqfIo\"), path = \"/content/climate.tif\", overwrite = TRUE)\n",
        "\n",
        "# Read the downloaded TIFF file as a raster stack\n",
        "climate_stack <- stack(\"/content/climate.tif\")\n",
        "\n",
        "# Check the content of the stack\n",
        "print(climate_stack)"
      ],
      "metadata": {
        "colab": {
          "base_uri": "https://localhost:8080/"
        },
        "id": "lCZW-3jycouV",
        "outputId": "de84252d-4abb-4b6a-86a5-34b6e96d2ce1"
      },
      "execution_count": 5,
      "outputs": [
        {
          "output_type": "stream",
          "name": "stderr",
          "text": [
            "File downloaded:\n",
            "\n",
            "• \u001b[36mTerraClimate_Island_Mean_Climate_mosaic.tif\u001b[39m\n",
            "  \u001b[90m<id: 1-CYO4GG7e7aNfE1P3s_QDv0G1vNkqfIo>\u001b[39m\n",
            "\n",
            "Saved locally as:\n",
            "\n",
            "• \u001b[34m/content/climate.tif\u001b[39m\n",
            "\n"
          ]
        },
        {
          "output_type": "stream",
          "name": "stdout",
          "text": [
            "class      : RasterStack \n",
            "dimensions : 1075, 2638, 2835850, 14  (nrow, ncol, ncell, nlayers)\n",
            "resolution : 0.008983153, 0.008983153  (x, y)\n",
            "extent     : -178.4503, -154.7528, 18.86462, 28.52151  (xmin, xmax, ymin, ymax)\n",
            "crs        : +proj=longlat +datum=WGS84 +no_defs \n",
            "names      : aet, def, pdsi, pet, pr, ro, soil, srad, swe, tmmn, tmmx, vap, vpd, vs \n",
            "\n"
          ]
        }
      ]
    },
    {
      "cell_type": "code",
      "source": [
        "# geopackage1 <- \"/content/HSH.gpkg\"\n",
        "\n",
        "# Read the GeoPackages\n",
        "soilHealth <- st_read(\"/content/HSH.gpkg\")\n",
        "\n",
        "\n",
        "st_crs(soilHealth) <- 4326\n",
        "\n"
      ],
      "metadata": {
        "colab": {
          "base_uri": "https://localhost:8080/"
        },
        "id": "O9wNl8zifKFr",
        "outputId": "1ea51d39-80bb-41b1-ca66-3701e0413bee"
      },
      "execution_count": 6,
      "outputs": [
        {
          "output_type": "stream",
          "name": "stdout",
          "text": [
            "Reading layer `SH_dt' from data source `/content/HSH.gpkg' using driver `GPKG'\n",
            "Simple feature collection with 767 features and 57 fields\n",
            "Geometry type: POINT\n",
            "Dimension:     XY\n",
            "Bounding box:  xmin: -159.7518 ymin: 19.21385 xmax: -154.9476 ymax: 22.22142\n",
            "Projected CRS: Undefined Cartesian SRS with unknown unit\n"
          ]
        },
        {
          "output_type": "stream",
          "name": "stderr",
          "text": [
            "Warning message:\n",
            "“st_crs<- : replacing crs does not reproject data; use st_transform for that”\n"
          ]
        }
      ]
    },
    {
      "cell_type": "code",
      "source": [
        "soilHealth <- soilHealth %>% st_transform(26904) %>% st_buffer(30)%>% st_transform(4326)"
      ],
      "metadata": {
        "id": "9wh9lKB1hvWb"
      },
      "execution_count": 7,
      "outputs": []
    },
    {
      "cell_type": "code",
      "source": [
        "climate_extract<- exact_extract(climate_stack,soilHealth,fun = 'mean')\n",
        "names(climate_extract) <- names(climate_stack)\n",
        "soilHealth_dt <- data.table(soilHealth,climate_extract)"
      ],
      "metadata": {
        "colab": {
          "base_uri": "https://localhost:8080/"
        },
        "id": "bkICcbWEiMUO",
        "outputId": "6f65e0d3-365f-4768-a2d0-3d44da8b1b27"
      },
      "execution_count": 8,
      "outputs": [
        {
          "output_type": "stream",
          "name": "stdout",
          "text": [
            "  |======================================================================| 100%\n"
          ]
        }
      ]
    },
    {
      "cell_type": "code",
      "source": [
        "climate_stack\n"
      ],
      "metadata": {
        "colab": {
          "base_uri": "https://localhost:8080/",
          "height": 128
        },
        "id": "dgzJOydni2yL",
        "outputId": "456e1bce-9954-45e6-e528-672365cdde32"
      },
      "execution_count": 9,
      "outputs": [
        {
          "output_type": "display_data",
          "data": {
            "text/plain": [
              "class      : RasterStack \n",
              "dimensions : 1075, 2638, 2835850, 14  (nrow, ncol, ncell, nlayers)\n",
              "resolution : 0.008983153, 0.008983153  (x, y)\n",
              "extent     : -178.4503, -154.7528, 18.86462, 28.52151  (xmin, xmax, ymin, ymax)\n",
              "crs        : +proj=longlat +datum=WGS84 +no_defs \n",
              "names      : aet, def, pdsi, pet, pr, ro, soil, srad, swe, tmmn, tmmx, vap, vpd, vs \n"
            ]
          },
          "metadata": {}
        }
      ]
    },
    {
      "cell_type": "code",
      "source": [
        "climate_dt <- names(climate_stack) %>% lapply(function(x){dt_out = data.table(x=values(climate_stack[[x]]));names(dt_out)<- x;return(dt_out)}) %>% do.call(cbind,.)\n",
        "\n",
        "climate_dt <- climate_dt[!is.na(pr)&pr>0]"
      ],
      "metadata": {
        "id": "BF8sklwGiwm8"
      },
      "execution_count": 10,
      "outputs": []
    },
    {
      "cell_type": "code",
      "source": [
        "min_max_dt <- rbindlist(lapply(names(climate_dt), function(col_name) {\n",
        "  min_val <- min(climate_dt[[col_name]], na.rm = TRUE)\n",
        "  max_val <- max(climate_dt[[col_name]], na.rm = TRUE)\n",
        "  data.table(column = col_name, min = min_val, max = max_val)\n",
        "}), use.names = TRUE)"
      ],
      "metadata": {
        "id": "tuDj7XiDof5r"
      },
      "execution_count": 11,
      "outputs": []
    },
    {
      "cell_type": "code",
      "source": [
        "norm_climate_dt <- names(climate_dt) %>%\n",
        "  lapply(function(x){\n",
        "  dt_out <- data.table(x=(climate_dt[[x]]-min_max_dt[column==x]$min[1])/(min_max_dt[column==x]$max[1]-min_max_dt[column==x]$min[1]) )\n",
        "  names(dt_out) <- x\n",
        "  return(dt_out)\n",
        "  }) %>% do.call(cbind,.)"
      ],
      "metadata": {
        "id": "VT4EBrs4pnvj"
      },
      "execution_count": 12,
      "outputs": []
    },
    {
      "cell_type": "code",
      "source": [
        "norm_soilHealth_dt <- names(climate_dt) %>%\n",
        "  lapply(function(x){\n",
        "  dt_out <- data.table(x=(soilHealth_dt[[x]]-min_max_dt[column==x]$min[1])/(min_max_dt[column==x]$max[1]-min_max_dt[column==x]$min[1]) )\n",
        "  names(dt_out) <- x\n",
        "  return(dt_out)\n",
        "  }) %>% do.call(cbind,.)"
      ],
      "metadata": {
        "id": "3i-KBInwqmPq"
      },
      "execution_count": 13,
      "outputs": []
    },
    {
      "cell_type": "code",
      "source": [
        "# library(parallel)\n",
        "\n",
        "# cl <-makeCluster(8)\n",
        "\n",
        "# distance_dt <-\n",
        "# 1:nrow(norm_climate_dt) %>% parLapply(cl,.,function(x,norm_climate_dt,norm_soilHealth_dt){\n",
        "# # x <-1\n",
        "# library(magrittr)\n",
        "# library(data.table)\n",
        "# dist_vec <- 1:nrow(norm_soilHealth_dt) %>% lapply(function(y){ mean(sqrt((norm_climate_dt[x,]-norm_soilHealth_dt[y,])^2) %>% unlist)}) %>% unlist\n",
        "# data.table(id = which.min(dist_vec),min=min(dist_vec),mean=mean(dist_vec))\n",
        "# # print(x)\n",
        "# },norm_climate_dt,norm_soilHealth_dt) %>% rbindlist\n",
        "\n",
        "# stopCluster(cl)"
      ],
      "metadata": {
        "id": "rvz1aT42rE7l"
      },
      "execution_count": 14,
      "outputs": []
    },
    {
      "cell_type": "code",
      "source": [
        " seq(1, nrow(climate_dt), by = 1000)"
      ],
      "metadata": {
        "colab": {
          "base_uri": "https://localhost:8080/",
          "height": 34
        },
        "id": "8dCEqemw0_FB",
        "outputId": "dd9b07eb-dbff-4ba2-9993-54d708674cbb"
      },
      "execution_count": 15,
      "outputs": [
        {
          "output_type": "display_data",
          "data": {
            "text/html": [
              "<style>\n",
              ".list-inline {list-style: none; margin:0; padding: 0}\n",
              ".list-inline>li {display: inline-block}\n",
              ".list-inline>li:not(:last-child)::after {content: \"\\00b7\"; padding: 0 .5ex}\n",
              "</style>\n",
              "<ol class=list-inline><li>1</li><li>1001</li><li>2001</li><li>3001</li><li>4001</li><li>5001</li><li>6001</li><li>7001</li><li>8001</li><li>9001</li><li>10001</li><li>11001</li><li>12001</li><li>13001</li><li>14001</li><li>15001</li><li>16001</li><li>17001</li><li>18001</li><li>19001</li><li>20001</li><li>21001</li></ol>\n"
            ],
            "text/markdown": "1. 1\n2. 1001\n3. 2001\n4. 3001\n5. 4001\n6. 5001\n7. 6001\n8. 7001\n9. 8001\n10. 9001\n11. 10001\n12. 11001\n13. 12001\n14. 13001\n15. 14001\n16. 15001\n17. 16001\n18. 17001\n19. 18001\n20. 19001\n21. 20001\n22. 21001\n\n\n",
            "text/latex": "\\begin{enumerate*}\n\\item 1\n\\item 1001\n\\item 2001\n\\item 3001\n\\item 4001\n\\item 5001\n\\item 6001\n\\item 7001\n\\item 8001\n\\item 9001\n\\item 10001\n\\item 11001\n\\item 12001\n\\item 13001\n\\item 14001\n\\item 15001\n\\item 16001\n\\item 17001\n\\item 18001\n\\item 19001\n\\item 20001\n\\item 21001\n\\end{enumerate*}\n",
            "text/plain": [
              " [1]     1  1001  2001  3001  4001  5001  6001  7001  8001  9001 10001 11001\n",
              "[13] 12001 13001 14001 15001 16001 17001 18001 19001 20001 21001"
            ]
          },
          "metadata": {}
        }
      ]
    },
    {
      "cell_type": "code",
      "source": [
        "# matrix(norm_soilHealth_dt[1,])-matrix(norm_soilHealth_dt)"
      ],
      "metadata": {
        "id": "8EMzYldL1ktA"
      },
      "execution_count": 16,
      "outputs": []
    },
    {
      "cell_type": "code",
      "source": [
        "# # norm_climate_dt <- data.table(matrix(rnorm(10000), ncol = 10))\n",
        "# # norm_soilHealth_dt <- data.table(matrix(rnorm(10000), ncol = 10))\n",
        "\n",
        "# seq(1, nrow(climate_dt), by = 1000) %>% lapply(function(x){\n",
        "# # # Calculate the Euclidean distance matrix\n",
        "# dist_matrix <- as.matrix(dist(rbind(norm_climate_dt, norm_soilHealth_dt)))\n",
        "# dist_matrix <- dist_matrix[1:nrow(norm_climate_dt), (nrow(norm_climate_dt) + 1):nrow(dist_matrix)]\n",
        "# # Find the minimum, mean, and index of the minimum for each row\n",
        "# min_indices <- apply(dist_matrix, 1, which.min)\n",
        "# min_values <- apply(dist_matrix, 1, min)\n",
        "# mean_values <- apply(dist_matrix, 1, mean)\n",
        "\n",
        "# # # Create the resulting data.table\n",
        "# distance_dt <- data.table(id = min_indices, min = min_values, mean = mean_values)\n",
        "\n",
        "#   })\n",
        "\n",
        "# # Calculate distances using the batch processing function\n",
        "# distance_dt <- calc_distances(norm_climate_dt, norm_soilHealth_dt, batch_size = 100)\n"
      ],
      "metadata": {
        "id": "nJFSU5sox8Rw"
      },
      "execution_count": 17,
      "outputs": []
    },
    {
      "cell_type": "code",
      "source": [
        "# distance_dt$min %>% qplot"
      ],
      "metadata": {
        "id": "b2wPrv0EyGCa"
      },
      "execution_count": 18,
      "outputs": []
    },
    {
      "cell_type": "code",
      "source": [
        "names(norm_climate_dt)\n",
        "norm_climate_dt <- norm_climate_dt[,.(pr,tmmx)]\n",
        "norm_soilHealth_dt <- norm_soilHealth_dt[,.(pr,tmmx)]"
      ],
      "metadata": {
        "colab": {
          "base_uri": "https://localhost:8080/",
          "height": 34
        },
        "id": "9Voax_JpwydC",
        "outputId": "dc538fba-a93a-4f87-8da0-cfead2b9d2e8"
      },
      "execution_count": 19,
      "outputs": [
        {
          "output_type": "display_data",
          "data": {
            "text/html": [
              "<style>\n",
              ".list-inline {list-style: none; margin:0; padding: 0}\n",
              ".list-inline>li {display: inline-block}\n",
              ".list-inline>li:not(:last-child)::after {content: \"\\00b7\"; padding: 0 .5ex}\n",
              "</style>\n",
              "<ol class=list-inline><li>'aet'</li><li>'def'</li><li>'pdsi'</li><li>'pet'</li><li>'pr'</li><li>'ro'</li><li>'soil'</li><li>'srad'</li><li>'swe'</li><li>'tmmn'</li><li>'tmmx'</li><li>'vap'</li><li>'vpd'</li><li>'vs'</li></ol>\n"
            ],
            "text/markdown": "1. 'aet'\n2. 'def'\n3. 'pdsi'\n4. 'pet'\n5. 'pr'\n6. 'ro'\n7. 'soil'\n8. 'srad'\n9. 'swe'\n10. 'tmmn'\n11. 'tmmx'\n12. 'vap'\n13. 'vpd'\n14. 'vs'\n\n\n",
            "text/latex": "\\begin{enumerate*}\n\\item 'aet'\n\\item 'def'\n\\item 'pdsi'\n\\item 'pet'\n\\item 'pr'\n\\item 'ro'\n\\item 'soil'\n\\item 'srad'\n\\item 'swe'\n\\item 'tmmn'\n\\item 'tmmx'\n\\item 'vap'\n\\item 'vpd'\n\\item 'vs'\n\\end{enumerate*}\n",
            "text/plain": [
              " [1] \"aet\"  \"def\"  \"pdsi\" \"pet\"  \"pr\"   \"ro\"   \"soil\" \"srad\" \"swe\"  \"tmmn\"\n",
              "[11] \"tmmx\" \"vap\"  \"vpd\"  \"vs\"  "
            ]
          },
          "metadata": {}
        }
      ]
    },
    {
      "cell_type": "code",
      "source": [
        "# # Assuming norm_climate_dt and norm_soilHealth_dt are your data.tables\n",
        "# # with rows as observations and columns as dimensions\n",
        "\n",
        "# # Calculate the Euclidean distance matrix\n",
        "# dist_matrix <- as.matrix(dist(rbind(norm_climate_dt, norm_soilHealth_dt)))\n",
        "# dist_matrix <- dist_matrix[1:nrow(norm_climate_dt), (nrow(norm_climate_dt) + 1):nrow(dist_matrix)]\n",
        "\n",
        "# # Find the minimum, mean, and index of the minimum for each row\n",
        "# min_indices <- apply(dist_matrix, 1, which.min)\n",
        "# min_values <- apply(dist_matrix, 1, min)\n",
        "# mean_values <- apply(dist_matrix, 1, mean)\n",
        "\n",
        "# # Create the resulting data.table\n",
        "# distance_dt <- data.table(id = min_indices, min = min_values, mean = mean_values)"
      ],
      "metadata": {
        "id": "BTv8k_iIrhc-"
      },
      "execution_count": 20,
      "outputs": []
    },
    {
      "cell_type": "code",
      "source": [
        "norm_soilHealth_dt"
      ],
      "metadata": {
        "colab": {
          "base_uri": "https://localhost:8080/",
          "height": 1000
        },
        "id": "W2-l7nldkkFE",
        "outputId": "b89e7e9d-7856-46fe-f25f-a881914c4bb0"
      },
      "execution_count": 21,
      "outputs": [
        {
          "output_type": "display_data",
          "data": {
            "text/html": [
              "<table class=\"dataframe\">\n",
              "<caption>A data.table: 767 × 2</caption>\n",
              "<thead>\n",
              "\t<tr><th scope=col>pr</th><th scope=col>tmmx</th></tr>\n",
              "\t<tr><th scope=col>&lt;dbl&gt;</th><th scope=col>&lt;dbl&gt;</th></tr>\n",
              "</thead>\n",
              "<tbody>\n",
              "\t<tr><td>0.19758687</td><td>0.9186816</td></tr>\n",
              "\t<tr><td>0.19758687</td><td>0.9186816</td></tr>\n",
              "\t<tr><td>0.19758687</td><td>0.9186816</td></tr>\n",
              "\t<tr><td>0.19758685</td><td>0.9186816</td></tr>\n",
              "\t<tr><td>0.19758685</td><td>0.9186816</td></tr>\n",
              "\t<tr><td>0.19758685</td><td>0.9186816</td></tr>\n",
              "\t<tr><td>0.43567235</td><td>0.9382836</td></tr>\n",
              "\t<tr><td>0.43567235</td><td>0.9382836</td></tr>\n",
              "\t<tr><td>0.43782766</td><td>0.9387582</td></tr>\n",
              "\t<tr><td>0.05123969</td><td>0.9368007</td></tr>\n",
              "\t<tr><td>0.05123969</td><td>0.9368007</td></tr>\n",
              "\t<tr><td>0.05123969</td><td>0.9368007</td></tr>\n",
              "\t<tr><td>0.05123969</td><td>0.9368007</td></tr>\n",
              "\t<tr><td>0.05123969</td><td>0.9368007</td></tr>\n",
              "\t<tr><td>0.05123969</td><td>0.9368007</td></tr>\n",
              "\t<tr><td>0.05123969</td><td>0.9368007</td></tr>\n",
              "\t<tr><td>0.05123969</td><td>0.9368007</td></tr>\n",
              "\t<tr><td>0.05123969</td><td>0.9368007</td></tr>\n",
              "\t<tr><td>0.05123969</td><td>0.9368007</td></tr>\n",
              "\t<tr><td>0.05123969</td><td>0.9368007</td></tr>\n",
              "\t<tr><td>0.05123969</td><td>0.9368007</td></tr>\n",
              "\t<tr><td>0.15777935</td><td>0.8897780</td></tr>\n",
              "\t<tr><td>0.15777935</td><td>0.8897780</td></tr>\n",
              "\t<tr><td>0.15777935</td><td>0.8897780</td></tr>\n",
              "\t<tr><td>0.15777935</td><td>0.8897780</td></tr>\n",
              "\t<tr><td>0.15777935</td><td>0.8897780</td></tr>\n",
              "\t<tr><td>0.15777935</td><td>0.8897780</td></tr>\n",
              "\t<tr><td>0.15777935</td><td>0.8897780</td></tr>\n",
              "\t<tr><td>0.08599699</td><td>0.9419477</td></tr>\n",
              "\t<tr><td>0.08599699</td><td>0.9419477</td></tr>\n",
              "\t<tr><td>⋮</td><td>⋮</td></tr>\n",
              "\t<tr><td>0.11386477</td><td>0.9395520</td></tr>\n",
              "\t<tr><td>0.11386477</td><td>0.9395518</td></tr>\n",
              "\t<tr><td>0.11386477</td><td>0.9395520</td></tr>\n",
              "\t<tr><td>0.07670294</td><td>0.9277197</td></tr>\n",
              "\t<tr><td>0.14293478</td><td>0.8060944</td></tr>\n",
              "\t<tr><td>0.08551826</td><td>0.9203483</td></tr>\n",
              "\t<tr><td>0.24478786</td><td>0.9350114</td></tr>\n",
              "\t<tr><td>0.30548358</td><td>0.9187184</td></tr>\n",
              "\t<tr><td>0.15762458</td><td>0.8009780</td></tr>\n",
              "\t<tr><td>0.24478786</td><td>0.9350114</td></tr>\n",
              "\t<tr><td>0.14460497</td><td>0.8346426</td></tr>\n",
              "\t<tr><td>0.02664393</td><td>0.9343742</td></tr>\n",
              "\t<tr><td>0.10649288</td><td>0.9388964</td></tr>\n",
              "\t<tr><td>0.10649288</td><td>0.9388964</td></tr>\n",
              "\t<tr><td>0.02664392</td><td>0.9343742</td></tr>\n",
              "\t<tr><td>0.04820885</td><td>0.9277197</td></tr>\n",
              "\t<tr><td>0.22466994</td><td>0.8652803</td></tr>\n",
              "\t<tr><td>0.19658976</td><td>0.8495018</td></tr>\n",
              "\t<tr><td>0.24478781</td><td>0.9350114</td></tr>\n",
              "\t<tr><td>0.30651662</td><td>0.9260469</td></tr>\n",
              "\t<tr><td>0.24816145</td><td>0.9347045</td></tr>\n",
              "\t<tr><td>0.30548358</td><td>0.9187184</td></tr>\n",
              "\t<tr><td>0.30548358</td><td>0.9187184</td></tr>\n",
              "\t<tr><td>0.13784141</td><td>0.9826469</td></tr>\n",
              "\t<tr><td>0.07945661</td><td>0.9774997</td></tr>\n",
              "\t<tr><td>0.09538104</td><td>0.9475300</td></tr>\n",
              "\t<tr><td>0.06706332</td><td>0.9503487</td></tr>\n",
              "\t<tr><td>0.51497054</td><td>0.9018248</td></tr>\n",
              "\t<tr><td>0.04820886</td><td>0.9277197</td></tr>\n",
              "\t<tr><td>0.13784143</td><td>0.9826469</td></tr>\n",
              "</tbody>\n",
              "</table>\n"
            ],
            "text/markdown": "\nA data.table: 767 × 2\n\n| pr &lt;dbl&gt; | tmmx &lt;dbl&gt; |\n|---|---|\n| 0.19758687 | 0.9186816 |\n| 0.19758687 | 0.9186816 |\n| 0.19758687 | 0.9186816 |\n| 0.19758685 | 0.9186816 |\n| 0.19758685 | 0.9186816 |\n| 0.19758685 | 0.9186816 |\n| 0.43567235 | 0.9382836 |\n| 0.43567235 | 0.9382836 |\n| 0.43782766 | 0.9387582 |\n| 0.05123969 | 0.9368007 |\n| 0.05123969 | 0.9368007 |\n| 0.05123969 | 0.9368007 |\n| 0.05123969 | 0.9368007 |\n| 0.05123969 | 0.9368007 |\n| 0.05123969 | 0.9368007 |\n| 0.05123969 | 0.9368007 |\n| 0.05123969 | 0.9368007 |\n| 0.05123969 | 0.9368007 |\n| 0.05123969 | 0.9368007 |\n| 0.05123969 | 0.9368007 |\n| 0.05123969 | 0.9368007 |\n| 0.15777935 | 0.8897780 |\n| 0.15777935 | 0.8897780 |\n| 0.15777935 | 0.8897780 |\n| 0.15777935 | 0.8897780 |\n| 0.15777935 | 0.8897780 |\n| 0.15777935 | 0.8897780 |\n| 0.15777935 | 0.8897780 |\n| 0.08599699 | 0.9419477 |\n| 0.08599699 | 0.9419477 |\n| ⋮ | ⋮ |\n| 0.11386477 | 0.9395520 |\n| 0.11386477 | 0.9395518 |\n| 0.11386477 | 0.9395520 |\n| 0.07670294 | 0.9277197 |\n| 0.14293478 | 0.8060944 |\n| 0.08551826 | 0.9203483 |\n| 0.24478786 | 0.9350114 |\n| 0.30548358 | 0.9187184 |\n| 0.15762458 | 0.8009780 |\n| 0.24478786 | 0.9350114 |\n| 0.14460497 | 0.8346426 |\n| 0.02664393 | 0.9343742 |\n| 0.10649288 | 0.9388964 |\n| 0.10649288 | 0.9388964 |\n| 0.02664392 | 0.9343742 |\n| 0.04820885 | 0.9277197 |\n| 0.22466994 | 0.8652803 |\n| 0.19658976 | 0.8495018 |\n| 0.24478781 | 0.9350114 |\n| 0.30651662 | 0.9260469 |\n| 0.24816145 | 0.9347045 |\n| 0.30548358 | 0.9187184 |\n| 0.30548358 | 0.9187184 |\n| 0.13784141 | 0.9826469 |\n| 0.07945661 | 0.9774997 |\n| 0.09538104 | 0.9475300 |\n| 0.06706332 | 0.9503487 |\n| 0.51497054 | 0.9018248 |\n| 0.04820886 | 0.9277197 |\n| 0.13784143 | 0.9826469 |\n\n",
            "text/latex": "A data.table: 767 × 2\n\\begin{tabular}{ll}\n pr & tmmx\\\\\n <dbl> & <dbl>\\\\\n\\hline\n\t 0.19758687 & 0.9186816\\\\\n\t 0.19758687 & 0.9186816\\\\\n\t 0.19758687 & 0.9186816\\\\\n\t 0.19758685 & 0.9186816\\\\\n\t 0.19758685 & 0.9186816\\\\\n\t 0.19758685 & 0.9186816\\\\\n\t 0.43567235 & 0.9382836\\\\\n\t 0.43567235 & 0.9382836\\\\\n\t 0.43782766 & 0.9387582\\\\\n\t 0.05123969 & 0.9368007\\\\\n\t 0.05123969 & 0.9368007\\\\\n\t 0.05123969 & 0.9368007\\\\\n\t 0.05123969 & 0.9368007\\\\\n\t 0.05123969 & 0.9368007\\\\\n\t 0.05123969 & 0.9368007\\\\\n\t 0.05123969 & 0.9368007\\\\\n\t 0.05123969 & 0.9368007\\\\\n\t 0.05123969 & 0.9368007\\\\\n\t 0.05123969 & 0.9368007\\\\\n\t 0.05123969 & 0.9368007\\\\\n\t 0.05123969 & 0.9368007\\\\\n\t 0.15777935 & 0.8897780\\\\\n\t 0.15777935 & 0.8897780\\\\\n\t 0.15777935 & 0.8897780\\\\\n\t 0.15777935 & 0.8897780\\\\\n\t 0.15777935 & 0.8897780\\\\\n\t 0.15777935 & 0.8897780\\\\\n\t 0.15777935 & 0.8897780\\\\\n\t 0.08599699 & 0.9419477\\\\\n\t 0.08599699 & 0.9419477\\\\\n\t ⋮ & ⋮\\\\\n\t 0.11386477 & 0.9395520\\\\\n\t 0.11386477 & 0.9395518\\\\\n\t 0.11386477 & 0.9395520\\\\\n\t 0.07670294 & 0.9277197\\\\\n\t 0.14293478 & 0.8060944\\\\\n\t 0.08551826 & 0.9203483\\\\\n\t 0.24478786 & 0.9350114\\\\\n\t 0.30548358 & 0.9187184\\\\\n\t 0.15762458 & 0.8009780\\\\\n\t 0.24478786 & 0.9350114\\\\\n\t 0.14460497 & 0.8346426\\\\\n\t 0.02664393 & 0.9343742\\\\\n\t 0.10649288 & 0.9388964\\\\\n\t 0.10649288 & 0.9388964\\\\\n\t 0.02664392 & 0.9343742\\\\\n\t 0.04820885 & 0.9277197\\\\\n\t 0.22466994 & 0.8652803\\\\\n\t 0.19658976 & 0.8495018\\\\\n\t 0.24478781 & 0.9350114\\\\\n\t 0.30651662 & 0.9260469\\\\\n\t 0.24816145 & 0.9347045\\\\\n\t 0.30548358 & 0.9187184\\\\\n\t 0.30548358 & 0.9187184\\\\\n\t 0.13784141 & 0.9826469\\\\\n\t 0.07945661 & 0.9774997\\\\\n\t 0.09538104 & 0.9475300\\\\\n\t 0.06706332 & 0.9503487\\\\\n\t 0.51497054 & 0.9018248\\\\\n\t 0.04820886 & 0.9277197\\\\\n\t 0.13784143 & 0.9826469\\\\\n\\end{tabular}\n",
            "text/plain": [
              "    pr         tmmx     \n",
              "1   0.19758687 0.9186816\n",
              "2   0.19758687 0.9186816\n",
              "3   0.19758687 0.9186816\n",
              "4   0.19758685 0.9186816\n",
              "5   0.19758685 0.9186816\n",
              "6   0.19758685 0.9186816\n",
              "7   0.43567235 0.9382836\n",
              "8   0.43567235 0.9382836\n",
              "9   0.43782766 0.9387582\n",
              "10  0.05123969 0.9368007\n",
              "11  0.05123969 0.9368007\n",
              "12  0.05123969 0.9368007\n",
              "13  0.05123969 0.9368007\n",
              "14  0.05123969 0.9368007\n",
              "15  0.05123969 0.9368007\n",
              "16  0.05123969 0.9368007\n",
              "17  0.05123969 0.9368007\n",
              "18  0.05123969 0.9368007\n",
              "19  0.05123969 0.9368007\n",
              "20  0.05123969 0.9368007\n",
              "21  0.05123969 0.9368007\n",
              "22  0.15777935 0.8897780\n",
              "23  0.15777935 0.8897780\n",
              "24  0.15777935 0.8897780\n",
              "25  0.15777935 0.8897780\n",
              "26  0.15777935 0.8897780\n",
              "27  0.15777935 0.8897780\n",
              "28  0.15777935 0.8897780\n",
              "29  0.08599699 0.9419477\n",
              "30  0.08599699 0.9419477\n",
              "⋮   ⋮          ⋮        \n",
              "738 0.11386477 0.9395520\n",
              "739 0.11386477 0.9395518\n",
              "740 0.11386477 0.9395520\n",
              "741 0.07670294 0.9277197\n",
              "742 0.14293478 0.8060944\n",
              "743 0.08551826 0.9203483\n",
              "744 0.24478786 0.9350114\n",
              "745 0.30548358 0.9187184\n",
              "746 0.15762458 0.8009780\n",
              "747 0.24478786 0.9350114\n",
              "748 0.14460497 0.8346426\n",
              "749 0.02664393 0.9343742\n",
              "750 0.10649288 0.9388964\n",
              "751 0.10649288 0.9388964\n",
              "752 0.02664392 0.9343742\n",
              "753 0.04820885 0.9277197\n",
              "754 0.22466994 0.8652803\n",
              "755 0.19658976 0.8495018\n",
              "756 0.24478781 0.9350114\n",
              "757 0.30651662 0.9260469\n",
              "758 0.24816145 0.9347045\n",
              "759 0.30548358 0.9187184\n",
              "760 0.30548358 0.9187184\n",
              "761 0.13784141 0.9826469\n",
              "762 0.07945661 0.9774997\n",
              "763 0.09538104 0.9475300\n",
              "764 0.06706332 0.9503487\n",
              "765 0.51497054 0.9018248\n",
              "766 0.04820886 0.9277197\n",
              "767 0.13784143 0.9826469"
            ]
          },
          "metadata": {}
        }
      ]
    },
    {
      "cell_type": "code",
      "source": [
        "# climate_dt %>% names %>% lapply(\n",
        "\n",
        "\n",
        "# )"
      ],
      "metadata": {
        "id": "lS4fWBksnFSc"
      },
      "execution_count": 22,
      "outputs": []
    },
    {
      "cell_type": "code",
      "source": [
        "climate_dt %>%\n",
        "  ggplot(aes(x=tmmx,y=pr))+\n",
        "  geom_bin2d() +\n",
        "  geom_point(data=soilHealth_dt,aes(x=tmmx,y=pr),color='magenta')+\n",
        "  labs(x = \"Maximum Temperature (°F)\", y = \"Precipitation (in)\") +\n",
        "  theme_minimal()"
      ],
      "metadata": {
        "colab": {
          "base_uri": "https://localhost:8080/",
          "height": 437
        },
        "id": "S5lR_ed9jYlG",
        "outputId": "81401005-e831-408f-91cf-18ad59eb87ff"
      },
      "execution_count": 27,
      "outputs": [
        {
          "output_type": "display_data",
          "data": {
            "text/plain": [
              "plot without title"
            ],
            "image/png": "[encoded data removed]"
          },
          "metadata": {
            "image/png": {
              "width": 420,
              "height": 420
            }
          }
        }
      ]
    }
  ]
}