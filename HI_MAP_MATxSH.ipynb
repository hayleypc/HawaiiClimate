{
  "nbformat": 4,
  "nbformat_minor": 0,
  "metadata": {
    "colab": {
      "provenance": [],
      "authorship_tag": "ABX9TyMp72q7EsQ/wW0zxSMvblVc",
      "include_colab_link": true
    },
    "kernelspec": {
      "name": "ir",
      "display_name": "R"
    },
    "language_info": {
      "name": "R"
    }
  },
  "cells": [
    {
      "cell_type": "markdown",
      "metadata": {
        "id": "view-in-github",
        "colab_type": "text"
      },
      "source": [
        "<a href=\"https://colab.research.google.com/github/hayleypc/HawaiiClimate/blob/main/HI_MAP_MATxSH.ipynb\" target=\"_parent\"><img src=\"https://colab.research.google.com/assets/colab-badge.svg\" alt=\"Open In Colab\"/></a>"
      ]
    },
    {
      "cell_type": "code",
      "execution_count": 1,
      "metadata": {
        "id": "CgGHtrsPVZ_H",
        "colab": {
          "base_uri": "https://localhost:8080/"
        },
        "outputId": "848d6fa9-b8bd-495a-b223-0d6c5f1245b7"
      },
      "outputs": [
        {
          "output_type": "stream",
          "name": "stderr",
          "text": [
            "Installing packages into ‘/usr/local/lib/R/site-library’\n",
            "(as ‘lib’ is unspecified)\n",
            "\n",
            "also installing the dependencies ‘proxy’, ‘e1071’, ‘wk’, ‘sp’, ‘Rcpp’, ‘terra’, ‘classInt’, ‘s2’, ‘units’\n",
            "\n",
            "\n"
          ]
        }
      ],
      "source": [
        "install.packages(c('raster','sf','data.table','magrittr','ggplot2','googledrive','exactextractr'))"
      ]
    },
    {
      "cell_type": "code",
      "source": [
        "library(data.table)\n",
        "library(ggplot2)\n",
        "library(magrittr)\n",
        "library(googledrive)\n",
        "library(sf)\n",
        "library(raster)\n",
        "library(exactextractr)"
      ],
      "metadata": {
        "colab": {
          "base_uri": "https://localhost:8080/"
        },
        "id": "fY2SssRZXmN_",
        "outputId": "4871a4a9-7f97-4462-a235-3e0dcda4ffbc"
      },
      "execution_count": 2,
      "outputs": [
        {
          "output_type": "stream",
          "name": "stderr",
          "text": [
            "Linking to GEOS 3.11.1, GDAL 3.6.4, PROJ 9.1.1; sf_use_s2() is TRUE\n",
            "\n",
            "Loading required package: sp\n",
            "\n"
          ]
        }
      ]
    },
    {
      "cell_type": "code",
      "source": [
        "drive_auth(use_oob = TRUE, cache = FALSE)"
      ],
      "metadata": {
        "colab": {
          "base_uri": "https://localhost:8080/"
        },
        "id": "V9V0FgugcBvp",
        "outputId": "2ea961e2-0269-4100-e8a9-6c87a015a225"
      },
      "execution_count": 3,
      "outputs": [
        {
          "output_type": "stream",
          "name": "stderr",
          "text": [
            "Please point your browser to the following url: \n",
            "\n",
            "https://accounts.google.com/o/oauth2/v2/auth?client_id=603366585132-frjlouoa3s2ono25d2l9ukvhlsrlnr7k.apps.googleusercontent.com&scope=https%3A%2F%2Fwww.googleapis.com%2Fauth%2Fdrive%20https%3A%2F%2Fwww.googleapis.com%2Fauth%2Fuserinfo.email&redirect_uri=https%3A%2F%2Fwww.tidyverse.org%2Fgoogle-callback%2F&response_type=code&state=91c20564852cb554da8ed426be3be1d7&access_type=offline&prompt=consent\n",
            "\n"
          ]
        },
        {
          "name": "stdout",
          "output_type": "stream",
          "text": [
            "Enter authorization code: eyJjb2RlIjoiNC8wQWVhWVNIQXZpQ3N0alhvVm9KZDZVRFNaQmpfcmluWTNTYVE2anBVVWZHSzNDSjh6V20tSWtWZDk5aVNpejcwdkFJTGRPdyIsInN0YXRlIjoiOTFjMjA1NjQ4NTJjYjU1NGRhOGVkNDI2YmUzYmUxZDcifQ==\n"
          ]
        }
      ]
    },
    {
      "cell_type": "markdown",
      "source": [
        "HI soil health data"
      ],
      "metadata": {
        "id": "CEYMDHFfcyug"
      }
    },
    {
      "cell_type": "code",
      "source": [
        "# https://drive.google.com/file/d/14nLSgCrvmEPVr3efoYHkQR4onBRNN7Ma/view?usp=drive_link\n",
        "drive_download(file = as_id('14nLSgCrvmEPVr3efoYHkQR4onBRNN7Ma'), path = '/content/HSH.gpkg', overwrite = TRUE)"
      ],
      "metadata": {
        "colab": {
          "base_uri": "https://localhost:8080/"
        },
        "id": "TAmSPuD-cJBV",
        "outputId": "fc58b859-6144-422b-a596-5347497d21db"
      },
      "execution_count": 4,
      "outputs": [
        {
          "output_type": "stream",
          "name": "stderr",
          "text": [
            "File downloaded:\n",
            "\n",
            "• \u001b[36mSH_dt_2024_02_21.gpkg\u001b[39m \u001b[90m<id: 14nLSgCrvmEPVr3efoYHkQR4onBRNN7Ma>\u001b[39m\n",
            "\n",
            "Saved locally as:\n",
            "\n",
            "• \u001b[34m/content/HSH.gpkg\u001b[39m\n",
            "\n"
          ]
        }
      ]
    },
    {
      "cell_type": "markdown",
      "source": [
        "HI climate mosaic"
      ],
      "metadata": {
        "id": "GSJ6_2WYcqkw"
      }
    },
    {
      "cell_type": "code",
      "source": [
        "#https://drive.google.com/file/d/1-CYO4GG7e7aNfE1P3s_QDv0G1vNkqfIo/view?usp=drive_link\n",
        "drive_download(as_id(\"1-CYO4GG7e7aNfE1P3s_QDv0G1vNkqfIo\"), path = \"/content/climate.tif\", overwrite = TRUE)\n",
        "\n",
        "# Read the downloaded TIFF file as a raster stack\n",
        "climate_stack <- stack(\"/content/climate.tif\")\n",
        "\n",
        "# Check the content of the stack\n",
        "print(climate_stack)"
      ],
      "metadata": {
        "colab": {
          "base_uri": "https://localhost:8080/"
        },
        "id": "lCZW-3jycouV",
        "outputId": "4e280f6f-1dc9-429a-c353-cf29e9684d6b"
      },
      "execution_count": 5,
      "outputs": [
        {
          "output_type": "stream",
          "name": "stderr",
          "text": [
            "File downloaded:\n",
            "\n",
            "• \u001b[36mTerraClimate_Island_Mean_Climate_mosaic.tif\u001b[39m\n",
            "  \u001b[90m<id: 1-CYO4GG7e7aNfE1P3s_QDv0G1vNkqfIo>\u001b[39m\n",
            "\n",
            "Saved locally as:\n",
            "\n",
            "• \u001b[34m/content/climate.tif\u001b[39m\n",
            "\n"
          ]
        },
        {
          "output_type": "stream",
          "name": "stdout",
          "text": [
            "class      : RasterStack \n",
            "dimensions : 1075, 2638, 2835850, 14  (nrow, ncol, ncell, nlayers)\n",
            "resolution : 0.008983153, 0.008983153  (x, y)\n",
            "extent     : -178.4503, -154.7528, 18.86462, 28.52151  (xmin, xmax, ymin, ymax)\n",
            "crs        : +proj=longlat +datum=WGS84 +no_defs \n",
            "names      : aet, def, pdsi, pet, pr, ro, soil, srad, swe, tmmn, tmmx, vap, vpd, vs \n",
            "\n"
          ]
        }
      ]
    },
    {
      "cell_type": "code",
      "source": [
        "# geopackage1 <- \"/content/HSH.gpkg\"\n",
        "\n",
        "# Read the GeoPackages\n",
        "soilHealth <- st_read(\"/content/HSH.gpkg\")\n",
        "\n",
        "\n",
        "st_crs(soilHealth) <- 4326\n",
        "\n"
      ],
      "metadata": {
        "colab": {
          "base_uri": "https://localhost:8080/"
        },
        "id": "O9wNl8zifKFr",
        "outputId": "582e9dc8-b3c1-4861-c0ca-27b791fd7284"
      },
      "execution_count": 6,
      "outputs": [
        {
          "output_type": "stream",
          "name": "stdout",
          "text": [
            "Reading layer `SH_dt' from data source `/content/HSH.gpkg' using driver `GPKG'\n",
            "Simple feature collection with 767 features and 57 fields\n",
            "Geometry type: POINT\n",
            "Dimension:     XY\n",
            "Bounding box:  xmin: -159.7518 ymin: 19.21385 xmax: -154.9476 ymax: 22.22142\n",
            "Projected CRS: Undefined Cartesian SRS with unknown unit\n"
          ]
        },
        {
          "output_type": "stream",
          "name": "stderr",
          "text": [
            "Warning message:\n",
            "“st_crs<- : replacing crs does not reproject data; use st_transform for that”\n"
          ]
        }
      ]
    },
    {
      "cell_type": "code",
      "source": [
        "soilHealth <- soilHealth %>% st_transform(26904) %>% st_buffer(30)%>% st_transform(4326)"
      ],
      "metadata": {
        "id": "9wh9lKB1hvWb"
      },
      "execution_count": 7,
      "outputs": []
    },
    {
      "cell_type": "code",
      "source": [
        "climate_extract<- exact_extract(climate_stack,soilHealth,fun = 'mean')\n",
        "names(climate_extract) <- names(climate_stack)\n",
        "soilHealth_dt <- data.table(soilHealth,climate_extract)"
      ],
      "metadata": {
        "colab": {
          "base_uri": "https://localhost:8080/"
        },
        "id": "bkICcbWEiMUO",
        "outputId": "c52d266b-5fa3-4c9c-ccd3-28bb926e0db9"
      },
      "execution_count": 8,
      "outputs": [
        {
          "output_type": "stream",
          "name": "stdout",
          "text": [
            "  |======================================================================| 100%\n"
          ]
        }
      ]
    },
    {
      "cell_type": "code",
      "source": [
        "<- climate_stack[[c(\"pr\",\"tmmx\")]]"
      ],
      "metadata": {
        "colab": {
          "base_uri": "https://localhost:8080/",
          "height": 126
        },
        "id": "dgzJOydni2yL",
        "outputId": "445095c3-9b82-4afe-a1d6-e4e28932a1c7"
      },
      "execution_count": 37,
      "outputs": [
        {
          "output_type": "display_data",
          "data": {
            "text/plain": [
              "class      : RasterStack \n",
              "dimensions : 1075, 2638, 2835850, 2  (nrow, ncol, ncell, nlayers)\n",
              "resolution : 0.008983153, 0.008983153  (x, y)\n",
              "extent     : -178.4503, -154.7528, 18.86462, 28.52151  (xmin, xmax, ymin, ymax)\n",
              "crs        : +proj=longlat +datum=WGS84 +no_defs \n",
              "names      : pr, tmmx \n"
            ]
          },
          "metadata": {}
        }
      ]
    },
    {
      "cell_type": "code",
      "source": [
        "climate_dt <- names(climate_stack) %>% lapply(function(x){dt_out = data.table(x=values(climate_stack[[x]]));names(dt_out)<- x;return(dt_out)}) %>% do.call(cbind,.)\n",
        "climate_dt$val_id <- 1:nrow(climate_dt)\n",
        "climate_dt <- climate_dt[!is.na(pr)&pr>0]"
      ],
      "metadata": {
        "id": "BF8sklwGiwm8"
      },
      "execution_count": 10,
      "outputs": []
    },
    {
      "cell_type": "code",
      "source": [
        "min_max_dt <- rbindlist(lapply(names(climate_dt)[-ncol(climate_dt)], function(col_name) {\n",
        "  min_val <- min(climate_dt[[col_name]], na.rm = TRUE)\n",
        "  max_val <- max(climate_dt[[col_name]], na.rm = TRUE)\n",
        "  data.table(column = col_name, min = min_val, max = max_val)\n",
        "}), use.names = TRUE)"
      ],
      "metadata": {
        "id": "tuDj7XiDof5r"
      },
      "execution_count": 11,
      "outputs": []
    },
    {
      "cell_type": "code",
      "source": [
        "names(climate_dt)[c(5,11)]"
      ],
      "metadata": {
        "id": "foUAceDo_Vn2",
        "outputId": "d019b256-35be-4ef9-ef16-ab77cdaca1e7",
        "colab": {
          "base_uri": "https://localhost:8080/",
          "height": 34
        }
      },
      "execution_count": 39,
      "outputs": [
        {
          "output_type": "display_data",
          "data": {
            "text/html": [
              "<style>\n",
              ".list-inline {list-style: none; margin:0; padding: 0}\n",
              ".list-inline>li {display: inline-block}\n",
              ".list-inline>li:not(:last-child)::after {content: \"\\00b7\"; padding: 0 .5ex}\n",
              "</style>\n",
              "<ol class=list-inline><li>'pr'</li><li>'tmmx'</li></ol>\n"
            ],
            "text/markdown": "1. 'pr'\n2. 'tmmx'\n\n\n",
            "text/latex": "\\begin{enumerate*}\n\\item 'pr'\n\\item 'tmmx'\n\\end{enumerate*}\n",
            "text/plain": [
              "[1] \"pr\"   \"tmmx\""
            ]
          },
          "metadata": {}
        }
      ]
    },
    {
      "cell_type": "code",
      "source": [
        "names(climate_dt)[-ncol(climate_dt)][c(5,11)]"
      ],
      "metadata": {
        "id": "GCVfE9EJ_0QD",
        "outputId": "4605213b-7887-419d-eede-e6d4f1bf1bdb",
        "colab": {
          "base_uri": "https://localhost:8080/",
          "height": 34
        }
      },
      "execution_count": 40,
      "outputs": [
        {
          "output_type": "display_data",
          "data": {
            "text/html": [
              "<style>\n",
              ".list-inline {list-style: none; margin:0; padding: 0}\n",
              ".list-inline>li {display: inline-block}\n",
              ".list-inline>li:not(:last-child)::after {content: \"\\00b7\"; padding: 0 .5ex}\n",
              "</style>\n",
              "<ol class=list-inline><li>'pr'</li><li>'tmmx'</li></ol>\n"
            ],
            "text/markdown": "1. 'pr'\n2. 'tmmx'\n\n\n",
            "text/latex": "\\begin{enumerate*}\n\\item 'pr'\n\\item 'tmmx'\n\\end{enumerate*}\n",
            "text/plain": [
              "[1] \"pr\"   \"tmmx\""
            ]
          },
          "metadata": {}
        }
      ]
    },
    {
      "cell_type": "code",
      "source": [
        "norm_climate_dt <- names(climate_dt)[-ncol(climate_dt)][c(5,11)] %>%\n",
        "  lapply(function(x){\n",
        "  dt_out <- data.table(x=(climate_dt[[x]]-min_max_dt[column==x]$min[1])/(min_max_dt[column==x]$max[1]-min_max_dt[column==x]$min[1]) )\n",
        "  names(dt_out) <- x\n",
        "  return(dt_out)\n",
        "  }) %>% do.call(cbind,.)"
      ],
      "metadata": {
        "id": "VT4EBrs4pnvj"
      },
      "execution_count": 41,
      "outputs": []
    },
    {
      "cell_type": "code",
      "source": [
        "norm_soilHealth_dt <- names(climate_dt)[-ncol(climate_dt)][c(5,11)]  %>%\n",
        "  lapply(function(x){\n",
        "  dt_out <- data.table(x=(soilHealth_dt[[x]]-min_max_dt[column==x]$min[1])/(min_max_dt[column==x]$max[1]-min_max_dt[column==x]$min[1]) )\n",
        "  names(dt_out) <- x\n",
        "  return(dt_out)\n",
        "  }) %>% do.call(cbind,.)"
      ],
      "metadata": {
        "id": "3i-KBInwqmPq"
      },
      "execution_count": 42,
      "outputs": []
    },
    {
      "cell_type": "code",
      "source": [],
      "metadata": {
        "id": "gZxKZNxdcpC5"
      },
      "execution_count": 14,
      "outputs": []
    },
    {
      "cell_type": "code",
      "source": [
        "dist_matrix <-\n",
        "1:nrow(norm_soilHealth_dt) %>%\n",
        "  lapply(function(x){\n",
        "z_matrix = as.matrix(norm_climate_dt)-as.matrix(norm_soilHealth_dt[rep(x,nrow(norm_climate_dt)),])\n",
        "z2_matrix = z_matrix*z_matrix\n",
        "matrix(rowMeans(z2_matrix)) %>% return\n",
        "  }) %>% do.call(cbind,.)"
      ],
      "metadata": {
        "id": "RHhlXx9MbdLm"
      },
      "execution_count": 43,
      "outputs": []
    },
    {
      "cell_type": "code",
      "source": [
        "dist_dt <-\n",
        "1:nrow(dist_matrix) %>%\n",
        "  lapply(function(x){\n",
        "  data.table(id = which.min(dist_matrix[x,]),min=min(dist_matrix[x,]),mean=mean(dist_matrix[x,]))\n",
        "  # dist_matrix[x]\n",
        "  }) %>% rbindlist"
      ],
      "metadata": {
        "id": "8lQojH0BeMjg"
      },
      "execution_count": 44,
      "outputs": []
    },
    {
      "cell_type": "code",
      "source": [
        "summary_dt <- data.table(climate_dt,dist_dt)"
      ],
      "metadata": {
        "id": "c8Z9HgfvfBcu"
      },
      "execution_count": 45,
      "outputs": []
    },
    {
      "cell_type": "code",
      "source": [
        "summary_dt"
      ],
      "metadata": {
        "colab": {
          "base_uri": "https://localhost:8080/",
          "height": 1000
        },
        "id": "dBHTaAC_f7q-",
        "outputId": "0b1b8707-ce44-4863-c92e-891b55d00b3c"
      },
      "execution_count": 46,
      "outputs": [
        {
          "output_type": "display_data",
          "data": {
            "text/html": [
              "<table class=\"dataframe\">\n",
              "<caption>A data.table: 21408 × 18</caption>\n",
              "<thead>\n",
              "\t<tr><th scope=col>aet</th><th scope=col>def</th><th scope=col>pdsi</th><th scope=col>pet</th><th scope=col>pr</th><th scope=col>ro</th><th scope=col>soil</th><th scope=col>srad</th><th scope=col>swe</th><th scope=col>tmmn</th><th scope=col>tmmx</th><th scope=col>vap</th><th scope=col>vpd</th><th scope=col>vs</th><th scope=col>val_id</th><th scope=col>id</th><th scope=col>min</th><th scope=col>mean</th></tr>\n",
              "\t<tr><th scope=col>&lt;dbl&gt;</th><th scope=col>&lt;dbl&gt;</th><th scope=col>&lt;dbl&gt;</th><th scope=col>&lt;dbl&gt;</th><th scope=col>&lt;dbl&gt;</th><th scope=col>&lt;dbl&gt;</th><th scope=col>&lt;dbl&gt;</th><th scope=col>&lt;dbl&gt;</th><th scope=col>&lt;dbl&gt;</th><th scope=col>&lt;dbl&gt;</th><th scope=col>&lt;dbl&gt;</th><th scope=col>&lt;dbl&gt;</th><th scope=col>&lt;dbl&gt;</th><th scope=col>&lt;dbl&gt;</th><th scope=col>&lt;int&gt;</th><th scope=col>&lt;int&gt;</th><th scope=col>&lt;dbl&gt;</th><th scope=col>&lt;dbl&gt;</th></tr>\n",
              "</thead>\n",
              "<tbody>\n",
              "\t<tr><td>783.2628</td><td>500.4167</td><td> -6.530769</td><td>1283.674</td><td>104.47051</td><td>26.14615</td><td>209.8026</td><td>1766.582</td><td>0</td><td>212.0397</td><td>261.3231</td><td>2051.056</td><td>94.10513</td><td>537.1244</td><td>715394</td><td>737</td><td>0.0001157019</td><td>0.01509898</td></tr>\n",
              "\t<tr><td>783.2628</td><td>500.4167</td><td> -6.530769</td><td>1283.674</td><td>104.47051</td><td>26.14615</td><td>209.8026</td><td>1766.582</td><td>0</td><td>212.0397</td><td>261.3231</td><td>2051.056</td><td>94.10513</td><td>537.1244</td><td>715395</td><td>737</td><td>0.0001157019</td><td>0.01509898</td></tr>\n",
              "\t<tr><td>783.2628</td><td>500.4167</td><td> -6.530769</td><td>1283.674</td><td>104.47051</td><td>26.14615</td><td>209.8026</td><td>1766.582</td><td>0</td><td>212.0397</td><td>261.3231</td><td>2051.056</td><td>94.10513</td><td>537.1244</td><td>715396</td><td>737</td><td>0.0001157019</td><td>0.01509898</td></tr>\n",
              "\t<tr><td>783.2628</td><td>500.4167</td><td> -6.530769</td><td>1283.674</td><td>104.47051</td><td>26.14615</td><td>209.8026</td><td>1766.582</td><td>0</td><td>212.0397</td><td>261.3231</td><td>2051.056</td><td>94.10513</td><td>537.1244</td><td>715397</td><td>737</td><td>0.0001157019</td><td>0.01509898</td></tr>\n",
              "\t<tr><td>783.2628</td><td>500.4167</td><td> -6.530769</td><td>1283.674</td><td>104.47051</td><td>26.14615</td><td>209.8026</td><td>1766.582</td><td>0</td><td>212.0397</td><td>261.3231</td><td>2051.056</td><td>94.10513</td><td>537.1244</td><td>715398</td><td>737</td><td>0.0001157019</td><td>0.01509898</td></tr>\n",
              "\t<tr><td>783.2628</td><td>500.4167</td><td> -6.530769</td><td>1283.674</td><td>104.47051</td><td>26.14615</td><td>209.8026</td><td>1766.582</td><td>0</td><td>212.0397</td><td>261.3231</td><td>2051.056</td><td>94.10513</td><td>537.1244</td><td>718032</td><td>737</td><td>0.0001157019</td><td>0.01509898</td></tr>\n",
              "\t<tr><td>783.2628</td><td>500.4167</td><td> -6.530769</td><td>1283.674</td><td>104.47051</td><td>26.14615</td><td>209.8026</td><td>1766.582</td><td>0</td><td>212.0397</td><td>261.3231</td><td>2051.056</td><td>94.10513</td><td>537.1244</td><td>718033</td><td>737</td><td>0.0001157019</td><td>0.01509898</td></tr>\n",
              "\t<tr><td>783.2628</td><td>500.4167</td><td> -6.530769</td><td>1283.674</td><td>104.47051</td><td>26.14615</td><td>209.8026</td><td>1766.582</td><td>0</td><td>212.0397</td><td>261.3231</td><td>2051.056</td><td>94.10513</td><td>537.1244</td><td>718034</td><td>737</td><td>0.0001157019</td><td>0.01509898</td></tr>\n",
              "\t<tr><td>783.2628</td><td>500.4167</td><td> -6.530769</td><td>1283.674</td><td>104.47051</td><td>26.14615</td><td>209.8026</td><td>1766.582</td><td>0</td><td>212.0397</td><td>261.3231</td><td>2051.056</td><td>94.10513</td><td>537.1244</td><td>718035</td><td>737</td><td>0.0001157019</td><td>0.01509898</td></tr>\n",
              "\t<tr><td>783.2628</td><td>500.4167</td><td> -6.530769</td><td>1283.674</td><td>104.47051</td><td>26.14615</td><td>209.8026</td><td>1766.582</td><td>0</td><td>212.0397</td><td>261.3231</td><td>2051.056</td><td>94.10513</td><td>537.1244</td><td>718036</td><td>737</td><td>0.0001157019</td><td>0.01509898</td></tr>\n",
              "\t<tr><td>783.2628</td><td>500.4167</td><td> -6.530769</td><td>1283.674</td><td>104.47051</td><td>26.14615</td><td>209.8026</td><td>1766.582</td><td>0</td><td>212.0397</td><td>261.3231</td><td>2051.056</td><td>94.10513</td><td>537.1244</td><td>720670</td><td>737</td><td>0.0001157019</td><td>0.01509898</td></tr>\n",
              "\t<tr><td>783.2628</td><td>500.4167</td><td> -6.530769</td><td>1283.674</td><td>104.47051</td><td>26.14615</td><td>209.8026</td><td>1766.582</td><td>0</td><td>212.0397</td><td>261.3231</td><td>2051.056</td><td>94.10513</td><td>537.1244</td><td>720671</td><td>737</td><td>0.0001157019</td><td>0.01509898</td></tr>\n",
              "\t<tr><td>783.2628</td><td>500.4167</td><td> -6.530769</td><td>1283.674</td><td>104.47051</td><td>26.14615</td><td>209.8026</td><td>1766.582</td><td>0</td><td>212.0397</td><td>261.3231</td><td>2051.056</td><td>94.10513</td><td>537.1244</td><td>720672</td><td>737</td><td>0.0001157019</td><td>0.01509898</td></tr>\n",
              "\t<tr><td>783.2628</td><td>500.4167</td><td> -6.530769</td><td>1283.674</td><td>104.47051</td><td>26.14615</td><td>209.8026</td><td>1766.582</td><td>0</td><td>212.0397</td><td>261.3231</td><td>2051.056</td><td>94.10513</td><td>537.1244</td><td>720673</td><td>737</td><td>0.0001157019</td><td>0.01509898</td></tr>\n",
              "\t<tr><td>783.2628</td><td>500.4167</td><td> -6.530769</td><td>1283.674</td><td>104.47051</td><td>26.14615</td><td>209.8026</td><td>1766.582</td><td>0</td><td>212.0397</td><td>261.3231</td><td>2051.056</td><td>94.10513</td><td>537.1244</td><td>720674</td><td>737</td><td>0.0001157019</td><td>0.01509898</td></tr>\n",
              "\t<tr><td>783.2628</td><td>500.4167</td><td> -6.530769</td><td>1283.674</td><td>104.47051</td><td>26.14615</td><td>209.8026</td><td>1766.582</td><td>0</td><td>212.0397</td><td>261.3231</td><td>2051.056</td><td>94.10513</td><td>537.1244</td><td>723308</td><td>737</td><td>0.0001157019</td><td>0.01509898</td></tr>\n",
              "\t<tr><td>783.2628</td><td>500.4167</td><td> -6.530769</td><td>1283.674</td><td>104.47051</td><td>26.14615</td><td>209.8026</td><td>1766.582</td><td>0</td><td>212.0397</td><td>261.3231</td><td>2051.056</td><td>94.10513</td><td>537.1244</td><td>723309</td><td>737</td><td>0.0001157019</td><td>0.01509898</td></tr>\n",
              "\t<tr><td>783.2628</td><td>500.4167</td><td> -6.530769</td><td>1283.674</td><td>104.47051</td><td>26.14615</td><td>209.8026</td><td>1766.582</td><td>0</td><td>212.0397</td><td>261.3231</td><td>2051.056</td><td>94.10513</td><td>537.1244</td><td>723310</td><td>737</td><td>0.0001157019</td><td>0.01509898</td></tr>\n",
              "\t<tr><td>783.2628</td><td>500.4167</td><td> -6.530769</td><td>1283.674</td><td>104.47051</td><td>26.14615</td><td>209.8026</td><td>1766.582</td><td>0</td><td>212.0397</td><td>261.3231</td><td>2051.056</td><td>94.10513</td><td>537.1244</td><td>723311</td><td>737</td><td>0.0001157019</td><td>0.01509898</td></tr>\n",
              "\t<tr><td>783.2628</td><td>500.4167</td><td> -6.530769</td><td>1283.674</td><td>104.47051</td><td>26.14615</td><td>209.8026</td><td>1766.582</td><td>0</td><td>212.0397</td><td>261.3231</td><td>2051.056</td><td>94.10513</td><td>537.1244</td><td>723312</td><td>737</td><td>0.0001157019</td><td>0.01509898</td></tr>\n",
              "\t<tr><td>783.2628</td><td>500.4167</td><td> -6.530769</td><td>1283.674</td><td>104.47051</td><td>26.14615</td><td>209.8026</td><td>1766.582</td><td>0</td><td>212.0397</td><td>261.3231</td><td>2051.056</td><td>94.10513</td><td>537.1244</td><td>725946</td><td>737</td><td>0.0001157019</td><td>0.01509898</td></tr>\n",
              "\t<tr><td>783.2628</td><td>500.4167</td><td> -6.530769</td><td>1283.674</td><td>104.47051</td><td>26.14615</td><td>209.8026</td><td>1766.582</td><td>0</td><td>212.0397</td><td>261.3231</td><td>2051.056</td><td>94.10513</td><td>537.1244</td><td>725947</td><td>737</td><td>0.0001157019</td><td>0.01509898</td></tr>\n",
              "\t<tr><td>783.2628</td><td>500.4167</td><td> -6.530769</td><td>1283.674</td><td>104.47051</td><td>26.14615</td><td>209.8026</td><td>1766.582</td><td>0</td><td>212.0397</td><td>261.3231</td><td>2051.056</td><td>94.10513</td><td>537.1244</td><td>725948</td><td>737</td><td>0.0001157019</td><td>0.01509898</td></tr>\n",
              "\t<tr><td>783.2628</td><td>500.4167</td><td> -6.530769</td><td>1283.674</td><td>104.47051</td><td>26.14615</td><td>209.8026</td><td>1766.582</td><td>0</td><td>212.0397</td><td>261.3231</td><td>2051.056</td><td>94.10513</td><td>537.1244</td><td>725949</td><td>737</td><td>0.0001157019</td><td>0.01509898</td></tr>\n",
              "\t<tr><td>783.2628</td><td>500.4167</td><td> -6.530769</td><td>1283.674</td><td>104.47051</td><td>26.14615</td><td>209.8026</td><td>1766.582</td><td>0</td><td>212.0397</td><td>261.3231</td><td>2051.056</td><td>94.10513</td><td>537.1244</td><td>725950</td><td>737</td><td>0.0001157019</td><td>0.01509898</td></tr>\n",
              "\t<tr><td>684.0654</td><td>642.3513</td><td>-13.867949</td><td>1326.445</td><td> 84.74744</td><td>16.33462</td><td>172.4372</td><td>1817.286</td><td>0</td><td>212.4974</td><td>265.3615</td><td>2084.377</td><td>95.03205</td><td>566.6256</td><td>802699</td><td> 65</td><td>0.0003786580</td><td>0.01810375</td></tr>\n",
              "\t<tr><td>684.0654</td><td>642.3513</td><td>-13.867949</td><td>1326.445</td><td> 84.74744</td><td>16.33462</td><td>172.4372</td><td>1817.286</td><td>0</td><td>212.4974</td><td>265.3615</td><td>2084.377</td><td>95.03205</td><td>566.6256</td><td>802700</td><td> 65</td><td>0.0003786580</td><td>0.01810375</td></tr>\n",
              "\t<tr><td>684.0654</td><td>642.3513</td><td>-13.867949</td><td>1326.445</td><td> 84.74744</td><td>16.33462</td><td>172.4372</td><td>1817.286</td><td>0</td><td>212.4974</td><td>265.3615</td><td>2084.377</td><td>95.03205</td><td>566.6256</td><td>802701</td><td> 65</td><td>0.0003786580</td><td>0.01810375</td></tr>\n",
              "\t<tr><td>684.0654</td><td>642.3513</td><td>-13.867949</td><td>1326.445</td><td> 84.74744</td><td>16.33462</td><td>172.4372</td><td>1817.286</td><td>0</td><td>212.4974</td><td>265.3615</td><td>2084.377</td><td>95.03205</td><td>566.6256</td><td>802702</td><td> 65</td><td>0.0003786580</td><td>0.01810375</td></tr>\n",
              "\t<tr><td>684.0654</td><td>642.3513</td><td>-13.867949</td><td>1326.445</td><td> 84.74744</td><td>16.33462</td><td>172.4372</td><td>1817.286</td><td>0</td><td>212.4974</td><td>265.3615</td><td>2084.377</td><td>95.03205</td><td>566.6256</td><td>802703</td><td> 65</td><td>0.0003786580</td><td>0.01810375</td></tr>\n",
              "\t<tr><td>⋮</td><td>⋮</td><td>⋮</td><td>⋮</td><td>⋮</td><td>⋮</td><td>⋮</td><td>⋮</td><td>⋮</td><td>⋮</td><td>⋮</td><td>⋮</td><td>⋮</td><td>⋮</td><td>⋮</td><td>⋮</td><td>⋮</td><td>⋮</td></tr>\n",
              "\t<tr><td>889.6269</td><td>504.6308</td><td>-69.36795</td><td>1394.265</td><td>104.57692</td><td>15.605128</td><td>94.70641</td><td>2124.672</td><td>0</td><td>194.9295</td><td>278.2154</td><td>2149.924</td><td>87.46410</td><td>603.6974</td><td>2817287</td><td>146</td><td>3.101203e-04</td><td>0.01726511</td></tr>\n",
              "\t<tr><td>807.4205</td><td>583.0782</td><td>-74.58974</td><td>1390.471</td><td> 93.93333</td><td>13.178205</td><td>77.12179</td><td>2132.419</td><td>0</td><td>193.8974</td><td>277.3167</td><td>2140.186</td><td>86.65513</td><td>605.1308</td><td>2819917</td><td>144</td><td>1.717112e-05</td><td>0.01825638</td></tr>\n",
              "\t<tr><td>807.4205</td><td>583.0782</td><td>-74.58974</td><td>1390.471</td><td> 93.93333</td><td>13.178205</td><td>77.12179</td><td>2132.419</td><td>0</td><td>193.8974</td><td>277.3167</td><td>2140.186</td><td>86.65513</td><td>605.1308</td><td>2819918</td><td>144</td><td>1.717112e-05</td><td>0.01825638</td></tr>\n",
              "\t<tr><td>807.4205</td><td>583.0782</td><td>-74.58974</td><td>1390.471</td><td> 93.93333</td><td>13.178205</td><td>77.12179</td><td>2132.419</td><td>0</td><td>193.8974</td><td>277.3167</td><td>2140.186</td><td>86.65513</td><td>605.1308</td><td>2819919</td><td>144</td><td>1.717112e-05</td><td>0.01825638</td></tr>\n",
              "\t<tr><td>807.4205</td><td>583.0782</td><td>-74.58974</td><td>1390.471</td><td> 93.93333</td><td>13.178205</td><td>77.12179</td><td>2132.419</td><td>0</td><td>193.8974</td><td>277.3167</td><td>2140.186</td><td>86.65513</td><td>605.1308</td><td>2819920</td><td>144</td><td>1.717112e-05</td><td>0.01825638</td></tr>\n",
              "\t<tr><td>889.6269</td><td>504.6308</td><td>-69.36795</td><td>1394.265</td><td>104.57692</td><td>15.605128</td><td>94.70641</td><td>2124.672</td><td>0</td><td>194.9295</td><td>278.2154</td><td>2149.924</td><td>87.46410</td><td>603.6974</td><td>2819921</td><td>146</td><td>3.101203e-04</td><td>0.01726511</td></tr>\n",
              "\t<tr><td>889.6269</td><td>504.6308</td><td>-69.36795</td><td>1394.265</td><td>104.57692</td><td>15.605128</td><td>94.70641</td><td>2124.672</td><td>0</td><td>194.9295</td><td>278.2154</td><td>2149.924</td><td>87.46410</td><td>603.6974</td><td>2819922</td><td>146</td><td>3.101203e-04</td><td>0.01726511</td></tr>\n",
              "\t<tr><td>889.6269</td><td>504.6308</td><td>-69.36795</td><td>1394.265</td><td>104.57692</td><td>15.605128</td><td>94.70641</td><td>2124.672</td><td>0</td><td>194.9295</td><td>278.2154</td><td>2149.924</td><td>87.46410</td><td>603.6974</td><td>2819923</td><td>146</td><td>3.101203e-04</td><td>0.01726511</td></tr>\n",
              "\t<tr><td>889.6269</td><td>504.6308</td><td>-69.36795</td><td>1394.265</td><td>104.57692</td><td>15.605128</td><td>94.70641</td><td>2124.672</td><td>0</td><td>194.9295</td><td>278.2154</td><td>2149.924</td><td>87.46410</td><td>603.6974</td><td>2819924</td><td>146</td><td>3.101203e-04</td><td>0.01726511</td></tr>\n",
              "\t<tr><td>889.6269</td><td>504.6308</td><td>-69.36795</td><td>1394.265</td><td>104.57692</td><td>15.605128</td><td>94.70641</td><td>2124.672</td><td>0</td><td>194.9295</td><td>278.2154</td><td>2149.924</td><td>87.46410</td><td>603.6974</td><td>2819925</td><td>146</td><td>3.101203e-04</td><td>0.01726511</td></tr>\n",
              "\t<tr><td>555.5590</td><td>858.5385</td><td>-70.69231</td><td>1414.063</td><td> 64.82308</td><td> 9.225641</td><td>61.16154</td><td>2156.288</td><td>0</td><td>205.6013</td><td>275.2654</td><td>2182.181</td><td>88.69487</td><td>606.0295</td><td>2822555</td><td> 10</td><td>3.606220e-05</td><td>0.02572451</td></tr>\n",
              "\t<tr><td>555.5590</td><td>858.5385</td><td>-70.69231</td><td>1414.063</td><td> 64.82308</td><td> 9.225641</td><td>61.16154</td><td>2156.288</td><td>0</td><td>205.6013</td><td>275.2654</td><td>2182.181</td><td>88.69487</td><td>606.0295</td><td>2822556</td><td> 10</td><td>3.606220e-05</td><td>0.02572451</td></tr>\n",
              "\t<tr><td>555.5590</td><td>858.5385</td><td>-70.69231</td><td>1414.063</td><td> 64.82308</td><td> 9.225641</td><td>61.16154</td><td>2156.288</td><td>0</td><td>205.6013</td><td>275.2654</td><td>2182.181</td><td>88.69487</td><td>606.0295</td><td>2822557</td><td> 10</td><td>3.606220e-05</td><td>0.02572451</td></tr>\n",
              "\t<tr><td>555.5590</td><td>858.5385</td><td>-70.69231</td><td>1414.063</td><td> 64.82308</td><td> 9.225641</td><td>61.16154</td><td>2156.288</td><td>0</td><td>205.6013</td><td>275.2654</td><td>2182.181</td><td>88.69487</td><td>606.0295</td><td>2822558</td><td> 10</td><td>3.606220e-05</td><td>0.02572451</td></tr>\n",
              "\t<tr><td>555.5590</td><td>858.5385</td><td>-70.69231</td><td>1414.063</td><td> 64.82308</td><td> 9.225641</td><td>61.16154</td><td>2156.288</td><td>0</td><td>205.6013</td><td>275.2654</td><td>2182.181</td><td>88.69487</td><td>606.0295</td><td>2825193</td><td> 10</td><td>3.606220e-05</td><td>0.02572451</td></tr>\n",
              "\t<tr><td>555.5590</td><td>858.5385</td><td>-70.69231</td><td>1414.063</td><td> 64.82308</td><td> 9.225641</td><td>61.16154</td><td>2156.288</td><td>0</td><td>205.6013</td><td>275.2654</td><td>2182.181</td><td>88.69487</td><td>606.0295</td><td>2825194</td><td> 10</td><td>3.606220e-05</td><td>0.02572451</td></tr>\n",
              "\t<tr><td>555.5590</td><td>858.5385</td><td>-70.69231</td><td>1414.063</td><td> 64.82308</td><td> 9.225641</td><td>61.16154</td><td>2156.288</td><td>0</td><td>205.6013</td><td>275.2654</td><td>2182.181</td><td>88.69487</td><td>606.0295</td><td>2825195</td><td> 10</td><td>3.606220e-05</td><td>0.02572451</td></tr>\n",
              "\t<tr><td>555.5590</td><td>858.5385</td><td>-70.69231</td><td>1414.063</td><td> 64.82308</td><td> 9.225641</td><td>61.16154</td><td>2156.288</td><td>0</td><td>205.6013</td><td>275.2654</td><td>2182.181</td><td>88.69487</td><td>606.0295</td><td>2825196</td><td> 10</td><td>3.606220e-05</td><td>0.02572451</td></tr>\n",
              "\t<tr><td>555.5590</td><td>858.5385</td><td>-70.69231</td><td>1414.063</td><td> 64.82308</td><td> 9.225641</td><td>61.16154</td><td>2156.288</td><td>0</td><td>205.6013</td><td>275.2654</td><td>2182.181</td><td>88.69487</td><td>606.0295</td><td>2827831</td><td> 10</td><td>3.606220e-05</td><td>0.02572451</td></tr>\n",
              "\t<tr><td>555.5590</td><td>858.5385</td><td>-70.69231</td><td>1414.063</td><td> 64.82308</td><td> 9.225641</td><td>61.16154</td><td>2156.288</td><td>0</td><td>205.6013</td><td>275.2654</td><td>2182.181</td><td>88.69487</td><td>606.0295</td><td>2827832</td><td> 10</td><td>3.606220e-05</td><td>0.02572451</td></tr>\n",
              "\t<tr><td>555.5590</td><td>858.5385</td><td>-70.69231</td><td>1414.063</td><td> 64.82308</td><td> 9.225641</td><td>61.16154</td><td>2156.288</td><td>0</td><td>205.6013</td><td>275.2654</td><td>2182.181</td><td>88.69487</td><td>606.0295</td><td>2827833</td><td> 10</td><td>3.606220e-05</td><td>0.02572451</td></tr>\n",
              "\t<tr><td>555.5590</td><td>858.5385</td><td>-70.69231</td><td>1414.063</td><td> 64.82308</td><td> 9.225641</td><td>61.16154</td><td>2156.288</td><td>0</td><td>205.6013</td><td>275.2654</td><td>2182.181</td><td>88.69487</td><td>606.0295</td><td>2827834</td><td> 10</td><td>3.606220e-05</td><td>0.02572451</td></tr>\n",
              "\t<tr><td>555.5590</td><td>858.5385</td><td>-70.69231</td><td>1414.063</td><td> 64.82308</td><td> 9.225641</td><td>61.16154</td><td>2156.288</td><td>0</td><td>205.6013</td><td>275.2654</td><td>2182.181</td><td>88.69487</td><td>606.0295</td><td>2830469</td><td> 10</td><td>3.606220e-05</td><td>0.02572451</td></tr>\n",
              "\t<tr><td>555.5590</td><td>858.5385</td><td>-70.69231</td><td>1414.063</td><td> 64.82308</td><td> 9.225641</td><td>61.16154</td><td>2156.288</td><td>0</td><td>205.6013</td><td>275.2654</td><td>2182.181</td><td>88.69487</td><td>606.0295</td><td>2830470</td><td> 10</td><td>3.606220e-05</td><td>0.02572451</td></tr>\n",
              "\t<tr><td>555.5590</td><td>858.5385</td><td>-70.69231</td><td>1414.063</td><td> 64.82308</td><td> 9.225641</td><td>61.16154</td><td>2156.288</td><td>0</td><td>205.6013</td><td>275.2654</td><td>2182.181</td><td>88.69487</td><td>606.0295</td><td>2830471</td><td> 10</td><td>3.606220e-05</td><td>0.02572451</td></tr>\n",
              "\t<tr><td>555.5590</td><td>858.5385</td><td>-70.69231</td><td>1414.063</td><td> 64.82308</td><td> 9.225641</td><td>61.16154</td><td>2156.288</td><td>0</td><td>205.6013</td><td>275.2654</td><td>2182.181</td><td>88.69487</td><td>606.0295</td><td>2830472</td><td> 10</td><td>3.606220e-05</td><td>0.02572451</td></tr>\n",
              "\t<tr><td>555.5590</td><td>858.5385</td><td>-70.69231</td><td>1414.063</td><td> 64.82308</td><td> 9.225641</td><td>61.16154</td><td>2156.288</td><td>0</td><td>205.6013</td><td>275.2654</td><td>2182.181</td><td>88.69487</td><td>606.0295</td><td>2833107</td><td> 10</td><td>3.606220e-05</td><td>0.02572451</td></tr>\n",
              "\t<tr><td>555.5590</td><td>858.5385</td><td>-70.69231</td><td>1414.063</td><td> 64.82308</td><td> 9.225641</td><td>61.16154</td><td>2156.288</td><td>0</td><td>205.6013</td><td>275.2654</td><td>2182.181</td><td>88.69487</td><td>606.0295</td><td>2833108</td><td> 10</td><td>3.606220e-05</td><td>0.02572451</td></tr>\n",
              "\t<tr><td>555.5590</td><td>858.5385</td><td>-70.69231</td><td>1414.063</td><td> 64.82308</td><td> 9.225641</td><td>61.16154</td><td>2156.288</td><td>0</td><td>205.6013</td><td>275.2654</td><td>2182.181</td><td>88.69487</td><td>606.0295</td><td>2833109</td><td> 10</td><td>3.606220e-05</td><td>0.02572451</td></tr>\n",
              "\t<tr><td>555.5590</td><td>858.5385</td><td>-70.69231</td><td>1414.063</td><td> 64.82308</td><td> 9.225641</td><td>61.16154</td><td>2156.288</td><td>0</td><td>205.6013</td><td>275.2654</td><td>2182.181</td><td>88.69487</td><td>606.0295</td><td>2833110</td><td> 10</td><td>3.606220e-05</td><td>0.02572451</td></tr>\n",
              "</tbody>\n",
              "</table>\n"
            ],
            "text/markdown": "\nA data.table: 21408 × 18\n\n| aet &lt;dbl&gt; | def &lt;dbl&gt; | pdsi &lt;dbl&gt; | pet &lt;dbl&gt; | pr &lt;dbl&gt; | ro &lt;dbl&gt; | soil &lt;dbl&gt; | srad &lt;dbl&gt; | swe &lt;dbl&gt; | tmmn &lt;dbl&gt; | tmmx &lt;dbl&gt; | vap &lt;dbl&gt; | vpd &lt;dbl&gt; | vs &lt;dbl&gt; | val_id &lt;int&gt; | id &lt;int&gt; | min &lt;dbl&gt; | mean &lt;dbl&gt; |\n|---|---|---|---|---|---|---|---|---|---|---|---|---|---|---|---|---|---|\n| 783.2628 | 500.4167 |  -6.530769 | 1283.674 | 104.47051 | 26.14615 | 209.8026 | 1766.582 | 0 | 212.0397 | 261.3231 | 2051.056 | 94.10513 | 537.1244 | 715394 | 737 | 0.0001157019 | 0.01509898 |\n| 783.2628 | 500.4167 |  -6.530769 | 1283.674 | 104.47051 | 26.14615 | 209.8026 | 1766.582 | 0 | 212.0397 | 261.3231 | 2051.056 | 94.10513 | 537.1244 | 715395 | 737 | 0.0001157019 | 0.01509898 |\n| 783.2628 | 500.4167 |  -6.530769 | 1283.674 | 104.47051 | 26.14615 | 209.8026 | 1766.582 | 0 | 212.0397 | 261.3231 | 2051.056 | 94.10513 | 537.1244 | 715396 | 737 | 0.0001157019 | 0.01509898 |\n| 783.2628 | 500.4167 |  -6.530769 | 1283.674 | 104.47051 | 26.14615 | 209.8026 | 1766.582 | 0 | 212.0397 | 261.3231 | 2051.056 | 94.10513 | 537.1244 | 715397 | 737 | 0.0001157019 | 0.01509898 |\n| 783.2628 | 500.4167 |  -6.530769 | 1283.674 | 104.47051 | 26.14615 | 209.8026 | 1766.582 | 0 | 212.0397 | 261.3231 | 2051.056 | 94.10513 | 537.1244 | 715398 | 737 | 0.0001157019 | 0.01509898 |\n| 783.2628 | 500.4167 |  -6.530769 | 1283.674 | 104.47051 | 26.14615 | 209.8026 | 1766.582 | 0 | 212.0397 | 261.3231 | 2051.056 | 94.10513 | 537.1244 | 718032 | 737 | 0.0001157019 | 0.01509898 |\n| 783.2628 | 500.4167 |  -6.530769 | 1283.674 | 104.47051 | 26.14615 | 209.8026 | 1766.582 | 0 | 212.0397 | 261.3231 | 2051.056 | 94.10513 | 537.1244 | 718033 | 737 | 0.0001157019 | 0.01509898 |\n| 783.2628 | 500.4167 |  -6.530769 | 1283.674 | 104.47051 | 26.14615 | 209.8026 | 1766.582 | 0 | 212.0397 | 261.3231 | 2051.056 | 94.10513 | 537.1244 | 718034 | 737 | 0.0001157019 | 0.01509898 |\n| 783.2628 | 500.4167 |  -6.530769 | 1283.674 | 104.47051 | 26.14615 | 209.8026 | 1766.582 | 0 | 212.0397 | 261.3231 | 2051.056 | 94.10513 | 537.1244 | 718035 | 737 | 0.0001157019 | 0.01509898 |\n| 783.2628 | 500.4167 |  -6.530769 | 1283.674 | 104.47051 | 26.14615 | 209.8026 | 1766.582 | 0 | 212.0397 | 261.3231 | 2051.056 | 94.10513 | 537.1244 | 718036 | 737 | 0.0001157019 | 0.01509898 |\n| 783.2628 | 500.4167 |  -6.530769 | 1283.674 | 104.47051 | 26.14615 | 209.8026 | 1766.582 | 0 | 212.0397 | 261.3231 | 2051.056 | 94.10513 | 537.1244 | 720670 | 737 | 0.0001157019 | 0.01509898 |\n| 783.2628 | 500.4167 |  -6.530769 | 1283.674 | 104.47051 | 26.14615 | 209.8026 | 1766.582 | 0 | 212.0397 | 261.3231 | 2051.056 | 94.10513 | 537.1244 | 720671 | 737 | 0.0001157019 | 0.01509898 |\n| 783.2628 | 500.4167 |  -6.530769 | 1283.674 | 104.47051 | 26.14615 | 209.8026 | 1766.582 | 0 | 212.0397 | 261.3231 | 2051.056 | 94.10513 | 537.1244 | 720672 | 737 | 0.0001157019 | 0.01509898 |\n| 783.2628 | 500.4167 |  -6.530769 | 1283.674 | 104.47051 | 26.14615 | 209.8026 | 1766.582 | 0 | 212.0397 | 261.3231 | 2051.056 | 94.10513 | 537.1244 | 720673 | 737 | 0.0001157019 | 0.01509898 |\n| 783.2628 | 500.4167 |  -6.530769 | 1283.674 | 104.47051 | 26.14615 | 209.8026 | 1766.582 | 0 | 212.0397 | 261.3231 | 2051.056 | 94.10513 | 537.1244 | 720674 | 737 | 0.0001157019 | 0.01509898 |\n| 783.2628 | 500.4167 |  -6.530769 | 1283.674 | 104.47051 | 26.14615 | 209.8026 | 1766.582 | 0 | 212.0397 | 261.3231 | 2051.056 | 94.10513 | 537.1244 | 723308 | 737 | 0.0001157019 | 0.01509898 |\n| 783.2628 | 500.4167 |  -6.530769 | 1283.674 | 104.47051 | 26.14615 | 209.8026 | 1766.582 | 0 | 212.0397 | 261.3231 | 2051.056 | 94.10513 | 537.1244 | 723309 | 737 | 0.0001157019 | 0.01509898 |\n| 783.2628 | 500.4167 |  -6.530769 | 1283.674 | 104.47051 | 26.14615 | 209.8026 | 1766.582 | 0 | 212.0397 | 261.3231 | 2051.056 | 94.10513 | 537.1244 | 723310 | 737 | 0.0001157019 | 0.01509898 |\n| 783.2628 | 500.4167 |  -6.530769 | 1283.674 | 104.47051 | 26.14615 | 209.8026 | 1766.582 | 0 | 212.0397 | 261.3231 | 2051.056 | 94.10513 | 537.1244 | 723311 | 737 | 0.0001157019 | 0.01509898 |\n| 783.2628 | 500.4167 |  -6.530769 | 1283.674 | 104.47051 | 26.14615 | 209.8026 | 1766.582 | 0 | 212.0397 | 261.3231 | 2051.056 | 94.10513 | 537.1244 | 723312 | 737 | 0.0001157019 | 0.01509898 |\n| 783.2628 | 500.4167 |  -6.530769 | 1283.674 | 104.47051 | 26.14615 | 209.8026 | 1766.582 | 0 | 212.0397 | 261.3231 | 2051.056 | 94.10513 | 537.1244 | 725946 | 737 | 0.0001157019 | 0.01509898 |\n| 783.2628 | 500.4167 |  -6.530769 | 1283.674 | 104.47051 | 26.14615 | 209.8026 | 1766.582 | 0 | 212.0397 | 261.3231 | 2051.056 | 94.10513 | 537.1244 | 725947 | 737 | 0.0001157019 | 0.01509898 |\n| 783.2628 | 500.4167 |  -6.530769 | 1283.674 | 104.47051 | 26.14615 | 209.8026 | 1766.582 | 0 | 212.0397 | 261.3231 | 2051.056 | 94.10513 | 537.1244 | 725948 | 737 | 0.0001157019 | 0.01509898 |\n| 783.2628 | 500.4167 |  -6.530769 | 1283.674 | 104.47051 | 26.14615 | 209.8026 | 1766.582 | 0 | 212.0397 | 261.3231 | 2051.056 | 94.10513 | 537.1244 | 725949 | 737 | 0.0001157019 | 0.01509898 |\n| 783.2628 | 500.4167 |  -6.530769 | 1283.674 | 104.47051 | 26.14615 | 209.8026 | 1766.582 | 0 | 212.0397 | 261.3231 | 2051.056 | 94.10513 | 537.1244 | 725950 | 737 | 0.0001157019 | 0.01509898 |\n| 684.0654 | 642.3513 | -13.867949 | 1326.445 |  84.74744 | 16.33462 | 172.4372 | 1817.286 | 0 | 212.4974 | 265.3615 | 2084.377 | 95.03205 | 566.6256 | 802699 |  65 | 0.0003786580 | 0.01810375 |\n| 684.0654 | 642.3513 | -13.867949 | 1326.445 |  84.74744 | 16.33462 | 172.4372 | 1817.286 | 0 | 212.4974 | 265.3615 | 2084.377 | 95.03205 | 566.6256 | 802700 |  65 | 0.0003786580 | 0.01810375 |\n| 684.0654 | 642.3513 | -13.867949 | 1326.445 |  84.74744 | 16.33462 | 172.4372 | 1817.286 | 0 | 212.4974 | 265.3615 | 2084.377 | 95.03205 | 566.6256 | 802701 |  65 | 0.0003786580 | 0.01810375 |\n| 684.0654 | 642.3513 | -13.867949 | 1326.445 |  84.74744 | 16.33462 | 172.4372 | 1817.286 | 0 | 212.4974 | 265.3615 | 2084.377 | 95.03205 | 566.6256 | 802702 |  65 | 0.0003786580 | 0.01810375 |\n| 684.0654 | 642.3513 | -13.867949 | 1326.445 |  84.74744 | 16.33462 | 172.4372 | 1817.286 | 0 | 212.4974 | 265.3615 | 2084.377 | 95.03205 | 566.6256 | 802703 |  65 | 0.0003786580 | 0.01810375 |\n| ⋮ | ⋮ | ⋮ | ⋮ | ⋮ | ⋮ | ⋮ | ⋮ | ⋮ | ⋮ | ⋮ | ⋮ | ⋮ | ⋮ | ⋮ | ⋮ | ⋮ | ⋮ |\n| 889.6269 | 504.6308 | -69.36795 | 1394.265 | 104.57692 | 15.605128 | 94.70641 | 2124.672 | 0 | 194.9295 | 278.2154 | 2149.924 | 87.46410 | 603.6974 | 2817287 | 146 | 3.101203e-04 | 0.01726511 |\n| 807.4205 | 583.0782 | -74.58974 | 1390.471 |  93.93333 | 13.178205 | 77.12179 | 2132.419 | 0 | 193.8974 | 277.3167 | 2140.186 | 86.65513 | 605.1308 | 2819917 | 144 | 1.717112e-05 | 0.01825638 |\n| 807.4205 | 583.0782 | -74.58974 | 1390.471 |  93.93333 | 13.178205 | 77.12179 | 2132.419 | 0 | 193.8974 | 277.3167 | 2140.186 | 86.65513 | 605.1308 | 2819918 | 144 | 1.717112e-05 | 0.01825638 |\n| 807.4205 | 583.0782 | -74.58974 | 1390.471 |  93.93333 | 13.178205 | 77.12179 | 2132.419 | 0 | 193.8974 | 277.3167 | 2140.186 | 86.65513 | 605.1308 | 2819919 | 144 | 1.717112e-05 | 0.01825638 |\n| 807.4205 | 583.0782 | -74.58974 | 1390.471 |  93.93333 | 13.178205 | 77.12179 | 2132.419 | 0 | 193.8974 | 277.3167 | 2140.186 | 86.65513 | 605.1308 | 2819920 | 144 | 1.717112e-05 | 0.01825638 |\n| 889.6269 | 504.6308 | -69.36795 | 1394.265 | 104.57692 | 15.605128 | 94.70641 | 2124.672 | 0 | 194.9295 | 278.2154 | 2149.924 | 87.46410 | 603.6974 | 2819921 | 146 | 3.101203e-04 | 0.01726511 |\n| 889.6269 | 504.6308 | -69.36795 | 1394.265 | 104.57692 | 15.605128 | 94.70641 | 2124.672 | 0 | 194.9295 | 278.2154 | 2149.924 | 87.46410 | 603.6974 | 2819922 | 146 | 3.101203e-04 | 0.01726511 |\n| 889.6269 | 504.6308 | -69.36795 | 1394.265 | 104.57692 | 15.605128 | 94.70641 | 2124.672 | 0 | 194.9295 | 278.2154 | 2149.924 | 87.46410 | 603.6974 | 2819923 | 146 | 3.101203e-04 | 0.01726511 |\n| 889.6269 | 504.6308 | -69.36795 | 1394.265 | 104.57692 | 15.605128 | 94.70641 | 2124.672 | 0 | 194.9295 | 278.2154 | 2149.924 | 87.46410 | 603.6974 | 2819924 | 146 | 3.101203e-04 | 0.01726511 |\n| 889.6269 | 504.6308 | -69.36795 | 1394.265 | 104.57692 | 15.605128 | 94.70641 | 2124.672 | 0 | 194.9295 | 278.2154 | 2149.924 | 87.46410 | 603.6974 | 2819925 | 146 | 3.101203e-04 | 0.01726511 |\n| 555.5590 | 858.5385 | -70.69231 | 1414.063 |  64.82308 |  9.225641 | 61.16154 | 2156.288 | 0 | 205.6013 | 275.2654 | 2182.181 | 88.69487 | 606.0295 | 2822555 |  10 | 3.606220e-05 | 0.02572451 |\n| 555.5590 | 858.5385 | -70.69231 | 1414.063 |  64.82308 |  9.225641 | 61.16154 | 2156.288 | 0 | 205.6013 | 275.2654 | 2182.181 | 88.69487 | 606.0295 | 2822556 |  10 | 3.606220e-05 | 0.02572451 |\n| 555.5590 | 858.5385 | -70.69231 | 1414.063 |  64.82308 |  9.225641 | 61.16154 | 2156.288 | 0 | 205.6013 | 275.2654 | 2182.181 | 88.69487 | 606.0295 | 2822557 |  10 | 3.606220e-05 | 0.02572451 |\n| 555.5590 | 858.5385 | -70.69231 | 1414.063 |  64.82308 |  9.225641 | 61.16154 | 2156.288 | 0 | 205.6013 | 275.2654 | 2182.181 | 88.69487 | 606.0295 | 2822558 |  10 | 3.606220e-05 | 0.02572451 |\n| 555.5590 | 858.5385 | -70.69231 | 1414.063 |  64.82308 |  9.225641 | 61.16154 | 2156.288 | 0 | 205.6013 | 275.2654 | 2182.181 | 88.69487 | 606.0295 | 2825193 |  10 | 3.606220e-05 | 0.02572451 |\n| 555.5590 | 858.5385 | -70.69231 | 1414.063 |  64.82308 |  9.225641 | 61.16154 | 2156.288 | 0 | 205.6013 | 275.2654 | 2182.181 | 88.69487 | 606.0295 | 2825194 |  10 | 3.606220e-05 | 0.02572451 |\n| 555.5590 | 858.5385 | -70.69231 | 1414.063 |  64.82308 |  9.225641 | 61.16154 | 2156.288 | 0 | 205.6013 | 275.2654 | 2182.181 | 88.69487 | 606.0295 | 2825195 |  10 | 3.606220e-05 | 0.02572451 |\n| 555.5590 | 858.5385 | -70.69231 | 1414.063 |  64.82308 |  9.225641 | 61.16154 | 2156.288 | 0 | 205.6013 | 275.2654 | 2182.181 | 88.69487 | 606.0295 | 2825196 |  10 | 3.606220e-05 | 0.02572451 |\n| 555.5590 | 858.5385 | -70.69231 | 1414.063 |  64.82308 |  9.225641 | 61.16154 | 2156.288 | 0 | 205.6013 | 275.2654 | 2182.181 | 88.69487 | 606.0295 | 2827831 |  10 | 3.606220e-05 | 0.02572451 |\n| 555.5590 | 858.5385 | -70.69231 | 1414.063 |  64.82308 |  9.225641 | 61.16154 | 2156.288 | 0 | 205.6013 | 275.2654 | 2182.181 | 88.69487 | 606.0295 | 2827832 |  10 | 3.606220e-05 | 0.02572451 |\n| 555.5590 | 858.5385 | -70.69231 | 1414.063 |  64.82308 |  9.225641 | 61.16154 | 2156.288 | 0 | 205.6013 | 275.2654 | 2182.181 | 88.69487 | 606.0295 | 2827833 |  10 | 3.606220e-05 | 0.02572451 |\n| 555.5590 | 858.5385 | -70.69231 | 1414.063 |  64.82308 |  9.225641 | 61.16154 | 2156.288 | 0 | 205.6013 | 275.2654 | 2182.181 | 88.69487 | 606.0295 | 2827834 |  10 | 3.606220e-05 | 0.02572451 |\n| 555.5590 | 858.5385 | -70.69231 | 1414.063 |  64.82308 |  9.225641 | 61.16154 | 2156.288 | 0 | 205.6013 | 275.2654 | 2182.181 | 88.69487 | 606.0295 | 2830469 |  10 | 3.606220e-05 | 0.02572451 |\n| 555.5590 | 858.5385 | -70.69231 | 1414.063 |  64.82308 |  9.225641 | 61.16154 | 2156.288 | 0 | 205.6013 | 275.2654 | 2182.181 | 88.69487 | 606.0295 | 2830470 |  10 | 3.606220e-05 | 0.02572451 |\n| 555.5590 | 858.5385 | -70.69231 | 1414.063 |  64.82308 |  9.225641 | 61.16154 | 2156.288 | 0 | 205.6013 | 275.2654 | 2182.181 | 88.69487 | 606.0295 | 2830471 |  10 | 3.606220e-05 | 0.02572451 |\n| 555.5590 | 858.5385 | -70.69231 | 1414.063 |  64.82308 |  9.225641 | 61.16154 | 2156.288 | 0 | 205.6013 | 275.2654 | 2182.181 | 88.69487 | 606.0295 | 2830472 |  10 | 3.606220e-05 | 0.02572451 |\n| 555.5590 | 858.5385 | -70.69231 | 1414.063 |  64.82308 |  9.225641 | 61.16154 | 2156.288 | 0 | 205.6013 | 275.2654 | 2182.181 | 88.69487 | 606.0295 | 2833107 |  10 | 3.606220e-05 | 0.02572451 |\n| 555.5590 | 858.5385 | -70.69231 | 1414.063 |  64.82308 |  9.225641 | 61.16154 | 2156.288 | 0 | 205.6013 | 275.2654 | 2182.181 | 88.69487 | 606.0295 | 2833108 |  10 | 3.606220e-05 | 0.02572451 |\n| 555.5590 | 858.5385 | -70.69231 | 1414.063 |  64.82308 |  9.225641 | 61.16154 | 2156.288 | 0 | 205.6013 | 275.2654 | 2182.181 | 88.69487 | 606.0295 | 2833109 |  10 | 3.606220e-05 | 0.02572451 |\n| 555.5590 | 858.5385 | -70.69231 | 1414.063 |  64.82308 |  9.225641 | 61.16154 | 2156.288 | 0 | 205.6013 | 275.2654 | 2182.181 | 88.69487 | 606.0295 | 2833110 |  10 | 3.606220e-05 | 0.02572451 |\n\n",
            "text/latex": "A data.table: 21408 × 18\n\\begin{tabular}{llllllllllllllllll}\n aet & def & pdsi & pet & pr & ro & soil & srad & swe & tmmn & tmmx & vap & vpd & vs & val\\_id & id & min & mean\\\\\n <dbl> & <dbl> & <dbl> & <dbl> & <dbl> & <dbl> & <dbl> & <dbl> & <dbl> & <dbl> & <dbl> & <dbl> & <dbl> & <dbl> & <int> & <int> & <dbl> & <dbl>\\\\\n\\hline\n\t 783.2628 & 500.4167 &  -6.530769 & 1283.674 & 104.47051 & 26.14615 & 209.8026 & 1766.582 & 0 & 212.0397 & 261.3231 & 2051.056 & 94.10513 & 537.1244 & 715394 & 737 & 0.0001157019 & 0.01509898\\\\\n\t 783.2628 & 500.4167 &  -6.530769 & 1283.674 & 104.47051 & 26.14615 & 209.8026 & 1766.582 & 0 & 212.0397 & 261.3231 & 2051.056 & 94.10513 & 537.1244 & 715395 & 737 & 0.0001157019 & 0.01509898\\\\\n\t 783.2628 & 500.4167 &  -6.530769 & 1283.674 & 104.47051 & 26.14615 & 209.8026 & 1766.582 & 0 & 212.0397 & 261.3231 & 2051.056 & 94.10513 & 537.1244 & 715396 & 737 & 0.0001157019 & 0.01509898\\\\\n\t 783.2628 & 500.4167 &  -6.530769 & 1283.674 & 104.47051 & 26.14615 & 209.8026 & 1766.582 & 0 & 212.0397 & 261.3231 & 2051.056 & 94.10513 & 537.1244 & 715397 & 737 & 0.0001157019 & 0.01509898\\\\\n\t 783.2628 & 500.4167 &  -6.530769 & 1283.674 & 104.47051 & 26.14615 & 209.8026 & 1766.582 & 0 & 212.0397 & 261.3231 & 2051.056 & 94.10513 & 537.1244 & 715398 & 737 & 0.0001157019 & 0.01509898\\\\\n\t 783.2628 & 500.4167 &  -6.530769 & 1283.674 & 104.47051 & 26.14615 & 209.8026 & 1766.582 & 0 & 212.0397 & 261.3231 & 2051.056 & 94.10513 & 537.1244 & 718032 & 737 & 0.0001157019 & 0.01509898\\\\\n\t 783.2628 & 500.4167 &  -6.530769 & 1283.674 & 104.47051 & 26.14615 & 209.8026 & 1766.582 & 0 & 212.0397 & 261.3231 & 2051.056 & 94.10513 & 537.1244 & 718033 & 737 & 0.0001157019 & 0.01509898\\\\\n\t 783.2628 & 500.4167 &  -6.530769 & 1283.674 & 104.47051 & 26.14615 & 209.8026 & 1766.582 & 0 & 212.0397 & 261.3231 & 2051.056 & 94.10513 & 537.1244 & 718034 & 737 & 0.0001157019 & 0.01509898\\\\\n\t 783.2628 & 500.4167 &  -6.530769 & 1283.674 & 104.47051 & 26.14615 & 209.8026 & 1766.582 & 0 & 212.0397 & 261.3231 & 2051.056 & 94.10513 & 537.1244 & 718035 & 737 & 0.0001157019 & 0.01509898\\\\\n\t 783.2628 & 500.4167 &  -6.530769 & 1283.674 & 104.47051 & 26.14615 & 209.8026 & 1766.582 & 0 & 212.0397 & 261.3231 & 2051.056 & 94.10513 & 537.1244 & 718036 & 737 & 0.0001157019 & 0.01509898\\\\\n\t 783.2628 & 500.4167 &  -6.530769 & 1283.674 & 104.47051 & 26.14615 & 209.8026 & 1766.582 & 0 & 212.0397 & 261.3231 & 2051.056 & 94.10513 & 537.1244 & 720670 & 737 & 0.0001157019 & 0.01509898\\\\\n\t 783.2628 & 500.4167 &  -6.530769 & 1283.674 & 104.47051 & 26.14615 & 209.8026 & 1766.582 & 0 & 212.0397 & 261.3231 & 2051.056 & 94.10513 & 537.1244 & 720671 & 737 & 0.0001157019 & 0.01509898\\\\\n\t 783.2628 & 500.4167 &  -6.530769 & 1283.674 & 104.47051 & 26.14615 & 209.8026 & 1766.582 & 0 & 212.0397 & 261.3231 & 2051.056 & 94.10513 & 537.1244 & 720672 & 737 & 0.0001157019 & 0.01509898\\\\\n\t 783.2628 & 500.4167 &  -6.530769 & 1283.674 & 104.47051 & 26.14615 & 209.8026 & 1766.582 & 0 & 212.0397 & 261.3231 & 2051.056 & 94.10513 & 537.1244 & 720673 & 737 & 0.0001157019 & 0.01509898\\\\\n\t 783.2628 & 500.4167 &  -6.530769 & 1283.674 & 104.47051 & 26.14615 & 209.8026 & 1766.582 & 0 & 212.0397 & 261.3231 & 2051.056 & 94.10513 & 537.1244 & 720674 & 737 & 0.0001157019 & 0.01509898\\\\\n\t 783.2628 & 500.4167 &  -6.530769 & 1283.674 & 104.47051 & 26.14615 & 209.8026 & 1766.582 & 0 & 212.0397 & 261.3231 & 2051.056 & 94.10513 & 537.1244 & 723308 & 737 & 0.0001157019 & 0.01509898\\\\\n\t 783.2628 & 500.4167 &  -6.530769 & 1283.674 & 104.47051 & 26.14615 & 209.8026 & 1766.582 & 0 & 212.0397 & 261.3231 & 2051.056 & 94.10513 & 537.1244 & 723309 & 737 & 0.0001157019 & 0.01509898\\\\\n\t 783.2628 & 500.4167 &  -6.530769 & 1283.674 & 104.47051 & 26.14615 & 209.8026 & 1766.582 & 0 & 212.0397 & 261.3231 & 2051.056 & 94.10513 & 537.1244 & 723310 & 737 & 0.0001157019 & 0.01509898\\\\\n\t 783.2628 & 500.4167 &  -6.530769 & 1283.674 & 104.47051 & 26.14615 & 209.8026 & 1766.582 & 0 & 212.0397 & 261.3231 & 2051.056 & 94.10513 & 537.1244 & 723311 & 737 & 0.0001157019 & 0.01509898\\\\\n\t 783.2628 & 500.4167 &  -6.530769 & 1283.674 & 104.47051 & 26.14615 & 209.8026 & 1766.582 & 0 & 212.0397 & 261.3231 & 2051.056 & 94.10513 & 537.1244 & 723312 & 737 & 0.0001157019 & 0.01509898\\\\\n\t 783.2628 & 500.4167 &  -6.530769 & 1283.674 & 104.47051 & 26.14615 & 209.8026 & 1766.582 & 0 & 212.0397 & 261.3231 & 2051.056 & 94.10513 & 537.1244 & 725946 & 737 & 0.0001157019 & 0.01509898\\\\\n\t 783.2628 & 500.4167 &  -6.530769 & 1283.674 & 104.47051 & 26.14615 & 209.8026 & 1766.582 & 0 & 212.0397 & 261.3231 & 2051.056 & 94.10513 & 537.1244 & 725947 & 737 & 0.0001157019 & 0.01509898\\\\\n\t 783.2628 & 500.4167 &  -6.530769 & 1283.674 & 104.47051 & 26.14615 & 209.8026 & 1766.582 & 0 & 212.0397 & 261.3231 & 2051.056 & 94.10513 & 537.1244 & 725948 & 737 & 0.0001157019 & 0.01509898\\\\\n\t 783.2628 & 500.4167 &  -6.530769 & 1283.674 & 104.47051 & 26.14615 & 209.8026 & 1766.582 & 0 & 212.0397 & 261.3231 & 2051.056 & 94.10513 & 537.1244 & 725949 & 737 & 0.0001157019 & 0.01509898\\\\\n\t 783.2628 & 500.4167 &  -6.530769 & 1283.674 & 104.47051 & 26.14615 & 209.8026 & 1766.582 & 0 & 212.0397 & 261.3231 & 2051.056 & 94.10513 & 537.1244 & 725950 & 737 & 0.0001157019 & 0.01509898\\\\\n\t 684.0654 & 642.3513 & -13.867949 & 1326.445 &  84.74744 & 16.33462 & 172.4372 & 1817.286 & 0 & 212.4974 & 265.3615 & 2084.377 & 95.03205 & 566.6256 & 802699 &  65 & 0.0003786580 & 0.01810375\\\\\n\t 684.0654 & 642.3513 & -13.867949 & 1326.445 &  84.74744 & 16.33462 & 172.4372 & 1817.286 & 0 & 212.4974 & 265.3615 & 2084.377 & 95.03205 & 566.6256 & 802700 &  65 & 0.0003786580 & 0.01810375\\\\\n\t 684.0654 & 642.3513 & -13.867949 & 1326.445 &  84.74744 & 16.33462 & 172.4372 & 1817.286 & 0 & 212.4974 & 265.3615 & 2084.377 & 95.03205 & 566.6256 & 802701 &  65 & 0.0003786580 & 0.01810375\\\\\n\t 684.0654 & 642.3513 & -13.867949 & 1326.445 &  84.74744 & 16.33462 & 172.4372 & 1817.286 & 0 & 212.4974 & 265.3615 & 2084.377 & 95.03205 & 566.6256 & 802702 &  65 & 0.0003786580 & 0.01810375\\\\\n\t 684.0654 & 642.3513 & -13.867949 & 1326.445 &  84.74744 & 16.33462 & 172.4372 & 1817.286 & 0 & 212.4974 & 265.3615 & 2084.377 & 95.03205 & 566.6256 & 802703 &  65 & 0.0003786580 & 0.01810375\\\\\n\t ⋮ & ⋮ & ⋮ & ⋮ & ⋮ & ⋮ & ⋮ & ⋮ & ⋮ & ⋮ & ⋮ & ⋮ & ⋮ & ⋮ & ⋮ & ⋮ & ⋮ & ⋮\\\\\n\t 889.6269 & 504.6308 & -69.36795 & 1394.265 & 104.57692 & 15.605128 & 94.70641 & 2124.672 & 0 & 194.9295 & 278.2154 & 2149.924 & 87.46410 & 603.6974 & 2817287 & 146 & 3.101203e-04 & 0.01726511\\\\\n\t 807.4205 & 583.0782 & -74.58974 & 1390.471 &  93.93333 & 13.178205 & 77.12179 & 2132.419 & 0 & 193.8974 & 277.3167 & 2140.186 & 86.65513 & 605.1308 & 2819917 & 144 & 1.717112e-05 & 0.01825638\\\\\n\t 807.4205 & 583.0782 & -74.58974 & 1390.471 &  93.93333 & 13.178205 & 77.12179 & 2132.419 & 0 & 193.8974 & 277.3167 & 2140.186 & 86.65513 & 605.1308 & 2819918 & 144 & 1.717112e-05 & 0.01825638\\\\\n\t 807.4205 & 583.0782 & -74.58974 & 1390.471 &  93.93333 & 13.178205 & 77.12179 & 2132.419 & 0 & 193.8974 & 277.3167 & 2140.186 & 86.65513 & 605.1308 & 2819919 & 144 & 1.717112e-05 & 0.01825638\\\\\n\t 807.4205 & 583.0782 & -74.58974 & 1390.471 &  93.93333 & 13.178205 & 77.12179 & 2132.419 & 0 & 193.8974 & 277.3167 & 2140.186 & 86.65513 & 605.1308 & 2819920 & 144 & 1.717112e-05 & 0.01825638\\\\\n\t 889.6269 & 504.6308 & -69.36795 & 1394.265 & 104.57692 & 15.605128 & 94.70641 & 2124.672 & 0 & 194.9295 & 278.2154 & 2149.924 & 87.46410 & 603.6974 & 2819921 & 146 & 3.101203e-04 & 0.01726511\\\\\n\t 889.6269 & 504.6308 & -69.36795 & 1394.265 & 104.57692 & 15.605128 & 94.70641 & 2124.672 & 0 & 194.9295 & 278.2154 & 2149.924 & 87.46410 & 603.6974 & 2819922 & 146 & 3.101203e-04 & 0.01726511\\\\\n\t 889.6269 & 504.6308 & -69.36795 & 1394.265 & 104.57692 & 15.605128 & 94.70641 & 2124.672 & 0 & 194.9295 & 278.2154 & 2149.924 & 87.46410 & 603.6974 & 2819923 & 146 & 3.101203e-04 & 0.01726511\\\\\n\t 889.6269 & 504.6308 & -69.36795 & 1394.265 & 104.57692 & 15.605128 & 94.70641 & 2124.672 & 0 & 194.9295 & 278.2154 & 2149.924 & 87.46410 & 603.6974 & 2819924 & 146 & 3.101203e-04 & 0.01726511\\\\\n\t 889.6269 & 504.6308 & -69.36795 & 1394.265 & 104.57692 & 15.605128 & 94.70641 & 2124.672 & 0 & 194.9295 & 278.2154 & 2149.924 & 87.46410 & 603.6974 & 2819925 & 146 & 3.101203e-04 & 0.01726511\\\\\n\t 555.5590 & 858.5385 & -70.69231 & 1414.063 &  64.82308 &  9.225641 & 61.16154 & 2156.288 & 0 & 205.6013 & 275.2654 & 2182.181 & 88.69487 & 606.0295 & 2822555 &  10 & 3.606220e-05 & 0.02572451\\\\\n\t 555.5590 & 858.5385 & -70.69231 & 1414.063 &  64.82308 &  9.225641 & 61.16154 & 2156.288 & 0 & 205.6013 & 275.2654 & 2182.181 & 88.69487 & 606.0295 & 2822556 &  10 & 3.606220e-05 & 0.02572451\\\\\n\t 555.5590 & 858.5385 & -70.69231 & 1414.063 &  64.82308 &  9.225641 & 61.16154 & 2156.288 & 0 & 205.6013 & 275.2654 & 2182.181 & 88.69487 & 606.0295 & 2822557 &  10 & 3.606220e-05 & 0.02572451\\\\\n\t 555.5590 & 858.5385 & -70.69231 & 1414.063 &  64.82308 &  9.225641 & 61.16154 & 2156.288 & 0 & 205.6013 & 275.2654 & 2182.181 & 88.69487 & 606.0295 & 2822558 &  10 & 3.606220e-05 & 0.02572451\\\\\n\t 555.5590 & 858.5385 & -70.69231 & 1414.063 &  64.82308 &  9.225641 & 61.16154 & 2156.288 & 0 & 205.6013 & 275.2654 & 2182.181 & 88.69487 & 606.0295 & 2825193 &  10 & 3.606220e-05 & 0.02572451\\\\\n\t 555.5590 & 858.5385 & -70.69231 & 1414.063 &  64.82308 &  9.225641 & 61.16154 & 2156.288 & 0 & 205.6013 & 275.2654 & 2182.181 & 88.69487 & 606.0295 & 2825194 &  10 & 3.606220e-05 & 0.02572451\\\\\n\t 555.5590 & 858.5385 & -70.69231 & 1414.063 &  64.82308 &  9.225641 & 61.16154 & 2156.288 & 0 & 205.6013 & 275.2654 & 2182.181 & 88.69487 & 606.0295 & 2825195 &  10 & 3.606220e-05 & 0.02572451\\\\\n\t 555.5590 & 858.5385 & -70.69231 & 1414.063 &  64.82308 &  9.225641 & 61.16154 & 2156.288 & 0 & 205.6013 & 275.2654 & 2182.181 & 88.69487 & 606.0295 & 2825196 &  10 & 3.606220e-05 & 0.02572451\\\\\n\t 555.5590 & 858.5385 & -70.69231 & 1414.063 &  64.82308 &  9.225641 & 61.16154 & 2156.288 & 0 & 205.6013 & 275.2654 & 2182.181 & 88.69487 & 606.0295 & 2827831 &  10 & 3.606220e-05 & 0.02572451\\\\\n\t 555.5590 & 858.5385 & -70.69231 & 1414.063 &  64.82308 &  9.225641 & 61.16154 & 2156.288 & 0 & 205.6013 & 275.2654 & 2182.181 & 88.69487 & 606.0295 & 2827832 &  10 & 3.606220e-05 & 0.02572451\\\\\n\t 555.5590 & 858.5385 & -70.69231 & 1414.063 &  64.82308 &  9.225641 & 61.16154 & 2156.288 & 0 & 205.6013 & 275.2654 & 2182.181 & 88.69487 & 606.0295 & 2827833 &  10 & 3.606220e-05 & 0.02572451\\\\\n\t 555.5590 & 858.5385 & -70.69231 & 1414.063 &  64.82308 &  9.225641 & 61.16154 & 2156.288 & 0 & 205.6013 & 275.2654 & 2182.181 & 88.69487 & 606.0295 & 2827834 &  10 & 3.606220e-05 & 0.02572451\\\\\n\t 555.5590 & 858.5385 & -70.69231 & 1414.063 &  64.82308 &  9.225641 & 61.16154 & 2156.288 & 0 & 205.6013 & 275.2654 & 2182.181 & 88.69487 & 606.0295 & 2830469 &  10 & 3.606220e-05 & 0.02572451\\\\\n\t 555.5590 & 858.5385 & -70.69231 & 1414.063 &  64.82308 &  9.225641 & 61.16154 & 2156.288 & 0 & 205.6013 & 275.2654 & 2182.181 & 88.69487 & 606.0295 & 2830470 &  10 & 3.606220e-05 & 0.02572451\\\\\n\t 555.5590 & 858.5385 & -70.69231 & 1414.063 &  64.82308 &  9.225641 & 61.16154 & 2156.288 & 0 & 205.6013 & 275.2654 & 2182.181 & 88.69487 & 606.0295 & 2830471 &  10 & 3.606220e-05 & 0.02572451\\\\\n\t 555.5590 & 858.5385 & -70.69231 & 1414.063 &  64.82308 &  9.225641 & 61.16154 & 2156.288 & 0 & 205.6013 & 275.2654 & 2182.181 & 88.69487 & 606.0295 & 2830472 &  10 & 3.606220e-05 & 0.02572451\\\\\n\t 555.5590 & 858.5385 & -70.69231 & 1414.063 &  64.82308 &  9.225641 & 61.16154 & 2156.288 & 0 & 205.6013 & 275.2654 & 2182.181 & 88.69487 & 606.0295 & 2833107 &  10 & 3.606220e-05 & 0.02572451\\\\\n\t 555.5590 & 858.5385 & -70.69231 & 1414.063 &  64.82308 &  9.225641 & 61.16154 & 2156.288 & 0 & 205.6013 & 275.2654 & 2182.181 & 88.69487 & 606.0295 & 2833108 &  10 & 3.606220e-05 & 0.02572451\\\\\n\t 555.5590 & 858.5385 & -70.69231 & 1414.063 &  64.82308 &  9.225641 & 61.16154 & 2156.288 & 0 & 205.6013 & 275.2654 & 2182.181 & 88.69487 & 606.0295 & 2833109 &  10 & 3.606220e-05 & 0.02572451\\\\\n\t 555.5590 & 858.5385 & -70.69231 & 1414.063 &  64.82308 &  9.225641 & 61.16154 & 2156.288 & 0 & 205.6013 & 275.2654 & 2182.181 & 88.69487 & 606.0295 & 2833110 &  10 & 3.606220e-05 & 0.02572451\\\\\n\\end{tabular}\n",
            "text/plain": [
              "      aet      def      pdsi       pet      pr        ro        soil    \n",
              "1     783.2628 500.4167  -6.530769 1283.674 104.47051 26.14615  209.8026\n",
              "2     783.2628 500.4167  -6.530769 1283.674 104.47051 26.14615  209.8026\n",
              "3     783.2628 500.4167  -6.530769 1283.674 104.47051 26.14615  209.8026\n",
              "4     783.2628 500.4167  -6.530769 1283.674 104.47051 26.14615  209.8026\n",
              "5     783.2628 500.4167  -6.530769 1283.674 104.47051 26.14615  209.8026\n",
              "6     783.2628 500.4167  -6.530769 1283.674 104.47051 26.14615  209.8026\n",
              "7     783.2628 500.4167  -6.530769 1283.674 104.47051 26.14615  209.8026\n",
              "8     783.2628 500.4167  -6.530769 1283.674 104.47051 26.14615  209.8026\n",
              "9     783.2628 500.4167  -6.530769 1283.674 104.47051 26.14615  209.8026\n",
              "10    783.2628 500.4167  -6.530769 1283.674 104.47051 26.14615  209.8026\n",
              "11    783.2628 500.4167  -6.530769 1283.674 104.47051 26.14615  209.8026\n",
              "12    783.2628 500.4167  -6.530769 1283.674 104.47051 26.14615  209.8026\n",
              "13    783.2628 500.4167  -6.530769 1283.674 104.47051 26.14615  209.8026\n",
              "14    783.2628 500.4167  -6.530769 1283.674 104.47051 26.14615  209.8026\n",
              "15    783.2628 500.4167  -6.530769 1283.674 104.47051 26.14615  209.8026\n",
              "16    783.2628 500.4167  -6.530769 1283.674 104.47051 26.14615  209.8026\n",
              "17    783.2628 500.4167  -6.530769 1283.674 104.47051 26.14615  209.8026\n",
              "18    783.2628 500.4167  -6.530769 1283.674 104.47051 26.14615  209.8026\n",
              "19    783.2628 500.4167  -6.530769 1283.674 104.47051 26.14615  209.8026\n",
              "20    783.2628 500.4167  -6.530769 1283.674 104.47051 26.14615  209.8026\n",
              "21    783.2628 500.4167  -6.530769 1283.674 104.47051 26.14615  209.8026\n",
              "22    783.2628 500.4167  -6.530769 1283.674 104.47051 26.14615  209.8026\n",
              "23    783.2628 500.4167  -6.530769 1283.674 104.47051 26.14615  209.8026\n",
              "24    783.2628 500.4167  -6.530769 1283.674 104.47051 26.14615  209.8026\n",
              "25    783.2628 500.4167  -6.530769 1283.674 104.47051 26.14615  209.8026\n",
              "26    684.0654 642.3513 -13.867949 1326.445  84.74744 16.33462  172.4372\n",
              "27    684.0654 642.3513 -13.867949 1326.445  84.74744 16.33462  172.4372\n",
              "28    684.0654 642.3513 -13.867949 1326.445  84.74744 16.33462  172.4372\n",
              "29    684.0654 642.3513 -13.867949 1326.445  84.74744 16.33462  172.4372\n",
              "30    684.0654 642.3513 -13.867949 1326.445  84.74744 16.33462  172.4372\n",
              "⋮     ⋮        ⋮        ⋮          ⋮        ⋮         ⋮         ⋮       \n",
              "21379 889.6269 504.6308 -69.36795  1394.265 104.57692 15.605128 94.70641\n",
              "21380 807.4205 583.0782 -74.58974  1390.471  93.93333 13.178205 77.12179\n",
              "21381 807.4205 583.0782 -74.58974  1390.471  93.93333 13.178205 77.12179\n",
              "21382 807.4205 583.0782 -74.58974  1390.471  93.93333 13.178205 77.12179\n",
              "21383 807.4205 583.0782 -74.58974  1390.471  93.93333 13.178205 77.12179\n",
              "21384 889.6269 504.6308 -69.36795  1394.265 104.57692 15.605128 94.70641\n",
              "21385 889.6269 504.6308 -69.36795  1394.265 104.57692 15.605128 94.70641\n",
              "21386 889.6269 504.6308 -69.36795  1394.265 104.57692 15.605128 94.70641\n",
              "21387 889.6269 504.6308 -69.36795  1394.265 104.57692 15.605128 94.70641\n",
              "21388 889.6269 504.6308 -69.36795  1394.265 104.57692 15.605128 94.70641\n",
              "21389 555.5590 858.5385 -70.69231  1414.063  64.82308  9.225641 61.16154\n",
              "21390 555.5590 858.5385 -70.69231  1414.063  64.82308  9.225641 61.16154\n",
              "21391 555.5590 858.5385 -70.69231  1414.063  64.82308  9.225641 61.16154\n",
              "21392 555.5590 858.5385 -70.69231  1414.063  64.82308  9.225641 61.16154\n",
              "21393 555.5590 858.5385 -70.69231  1414.063  64.82308  9.225641 61.16154\n",
              "21394 555.5590 858.5385 -70.69231  1414.063  64.82308  9.225641 61.16154\n",
              "21395 555.5590 858.5385 -70.69231  1414.063  64.82308  9.225641 61.16154\n",
              "21396 555.5590 858.5385 -70.69231  1414.063  64.82308  9.225641 61.16154\n",
              "21397 555.5590 858.5385 -70.69231  1414.063  64.82308  9.225641 61.16154\n",
              "21398 555.5590 858.5385 -70.69231  1414.063  64.82308  9.225641 61.16154\n",
              "21399 555.5590 858.5385 -70.69231  1414.063  64.82308  9.225641 61.16154\n",
              "21400 555.5590 858.5385 -70.69231  1414.063  64.82308  9.225641 61.16154\n",
              "21401 555.5590 858.5385 -70.69231  1414.063  64.82308  9.225641 61.16154\n",
              "21402 555.5590 858.5385 -70.69231  1414.063  64.82308  9.225641 61.16154\n",
              "21403 555.5590 858.5385 -70.69231  1414.063  64.82308  9.225641 61.16154\n",
              "21404 555.5590 858.5385 -70.69231  1414.063  64.82308  9.225641 61.16154\n",
              "21405 555.5590 858.5385 -70.69231  1414.063  64.82308  9.225641 61.16154\n",
              "21406 555.5590 858.5385 -70.69231  1414.063  64.82308  9.225641 61.16154\n",
              "21407 555.5590 858.5385 -70.69231  1414.063  64.82308  9.225641 61.16154\n",
              "21408 555.5590 858.5385 -70.69231  1414.063  64.82308  9.225641 61.16154\n",
              "      srad     swe tmmn     tmmx     vap      vpd      vs       val_id  id \n",
              "1     1766.582 0   212.0397 261.3231 2051.056 94.10513 537.1244 715394  737\n",
              "2     1766.582 0   212.0397 261.3231 2051.056 94.10513 537.1244 715395  737\n",
              "3     1766.582 0   212.0397 261.3231 2051.056 94.10513 537.1244 715396  737\n",
              "4     1766.582 0   212.0397 261.3231 2051.056 94.10513 537.1244 715397  737\n",
              "5     1766.582 0   212.0397 261.3231 2051.056 94.10513 537.1244 715398  737\n",
              "6     1766.582 0   212.0397 261.3231 2051.056 94.10513 537.1244 718032  737\n",
              "7     1766.582 0   212.0397 261.3231 2051.056 94.10513 537.1244 718033  737\n",
              "8     1766.582 0   212.0397 261.3231 2051.056 94.10513 537.1244 718034  737\n",
              "9     1766.582 0   212.0397 261.3231 2051.056 94.10513 537.1244 718035  737\n",
              "10    1766.582 0   212.0397 261.3231 2051.056 94.10513 537.1244 718036  737\n",
              "11    1766.582 0   212.0397 261.3231 2051.056 94.10513 537.1244 720670  737\n",
              "12    1766.582 0   212.0397 261.3231 2051.056 94.10513 537.1244 720671  737\n",
              "13    1766.582 0   212.0397 261.3231 2051.056 94.10513 537.1244 720672  737\n",
              "14    1766.582 0   212.0397 261.3231 2051.056 94.10513 537.1244 720673  737\n",
              "15    1766.582 0   212.0397 261.3231 2051.056 94.10513 537.1244 720674  737\n",
              "16    1766.582 0   212.0397 261.3231 2051.056 94.10513 537.1244 723308  737\n",
              "17    1766.582 0   212.0397 261.3231 2051.056 94.10513 537.1244 723309  737\n",
              "18    1766.582 0   212.0397 261.3231 2051.056 94.10513 537.1244 723310  737\n",
              "19    1766.582 0   212.0397 261.3231 2051.056 94.10513 537.1244 723311  737\n",
              "20    1766.582 0   212.0397 261.3231 2051.056 94.10513 537.1244 723312  737\n",
              "21    1766.582 0   212.0397 261.3231 2051.056 94.10513 537.1244 725946  737\n",
              "22    1766.582 0   212.0397 261.3231 2051.056 94.10513 537.1244 725947  737\n",
              "23    1766.582 0   212.0397 261.3231 2051.056 94.10513 537.1244 725948  737\n",
              "24    1766.582 0   212.0397 261.3231 2051.056 94.10513 537.1244 725949  737\n",
              "25    1766.582 0   212.0397 261.3231 2051.056 94.10513 537.1244 725950  737\n",
              "26    1817.286 0   212.4974 265.3615 2084.377 95.03205 566.6256 802699   65\n",
              "27    1817.286 0   212.4974 265.3615 2084.377 95.03205 566.6256 802700   65\n",
              "28    1817.286 0   212.4974 265.3615 2084.377 95.03205 566.6256 802701   65\n",
              "29    1817.286 0   212.4974 265.3615 2084.377 95.03205 566.6256 802702   65\n",
              "30    1817.286 0   212.4974 265.3615 2084.377 95.03205 566.6256 802703   65\n",
              "⋮     ⋮        ⋮   ⋮        ⋮        ⋮        ⋮        ⋮        ⋮       ⋮  \n",
              "21379 2124.672 0   194.9295 278.2154 2149.924 87.46410 603.6974 2817287 146\n",
              "21380 2132.419 0   193.8974 277.3167 2140.186 86.65513 605.1308 2819917 144\n",
              "21381 2132.419 0   193.8974 277.3167 2140.186 86.65513 605.1308 2819918 144\n",
              "21382 2132.419 0   193.8974 277.3167 2140.186 86.65513 605.1308 2819919 144\n",
              "21383 2132.419 0   193.8974 277.3167 2140.186 86.65513 605.1308 2819920 144\n",
              "21384 2124.672 0   194.9295 278.2154 2149.924 87.46410 603.6974 2819921 146\n",
              "21385 2124.672 0   194.9295 278.2154 2149.924 87.46410 603.6974 2819922 146\n",
              "21386 2124.672 0   194.9295 278.2154 2149.924 87.46410 603.6974 2819923 146\n",
              "21387 2124.672 0   194.9295 278.2154 2149.924 87.46410 603.6974 2819924 146\n",
              "21388 2124.672 0   194.9295 278.2154 2149.924 87.46410 603.6974 2819925 146\n",
              "21389 2156.288 0   205.6013 275.2654 2182.181 88.69487 606.0295 2822555  10\n",
              "21390 2156.288 0   205.6013 275.2654 2182.181 88.69487 606.0295 2822556  10\n",
              "21391 2156.288 0   205.6013 275.2654 2182.181 88.69487 606.0295 2822557  10\n",
              "21392 2156.288 0   205.6013 275.2654 2182.181 88.69487 606.0295 2822558  10\n",
              "21393 2156.288 0   205.6013 275.2654 2182.181 88.69487 606.0295 2825193  10\n",
              "21394 2156.288 0   205.6013 275.2654 2182.181 88.69487 606.0295 2825194  10\n",
              "21395 2156.288 0   205.6013 275.2654 2182.181 88.69487 606.0295 2825195  10\n",
              "21396 2156.288 0   205.6013 275.2654 2182.181 88.69487 606.0295 2825196  10\n",
              "21397 2156.288 0   205.6013 275.2654 2182.181 88.69487 606.0295 2827831  10\n",
              "21398 2156.288 0   205.6013 275.2654 2182.181 88.69487 606.0295 2827832  10\n",
              "21399 2156.288 0   205.6013 275.2654 2182.181 88.69487 606.0295 2827833  10\n",
              "21400 2156.288 0   205.6013 275.2654 2182.181 88.69487 606.0295 2827834  10\n",
              "21401 2156.288 0   205.6013 275.2654 2182.181 88.69487 606.0295 2830469  10\n",
              "21402 2156.288 0   205.6013 275.2654 2182.181 88.69487 606.0295 2830470  10\n",
              "21403 2156.288 0   205.6013 275.2654 2182.181 88.69487 606.0295 2830471  10\n",
              "21404 2156.288 0   205.6013 275.2654 2182.181 88.69487 606.0295 2830472  10\n",
              "21405 2156.288 0   205.6013 275.2654 2182.181 88.69487 606.0295 2833107  10\n",
              "21406 2156.288 0   205.6013 275.2654 2182.181 88.69487 606.0295 2833108  10\n",
              "21407 2156.288 0   205.6013 275.2654 2182.181 88.69487 606.0295 2833109  10\n",
              "21408 2156.288 0   205.6013 275.2654 2182.181 88.69487 606.0295 2833110  10\n",
              "      min          mean      \n",
              "1     0.0001157019 0.01509898\n",
              "2     0.0001157019 0.01509898\n",
              "3     0.0001157019 0.01509898\n",
              "4     0.0001157019 0.01509898\n",
              "5     0.0001157019 0.01509898\n",
              "6     0.0001157019 0.01509898\n",
              "7     0.0001157019 0.01509898\n",
              "8     0.0001157019 0.01509898\n",
              "9     0.0001157019 0.01509898\n",
              "10    0.0001157019 0.01509898\n",
              "11    0.0001157019 0.01509898\n",
              "12    0.0001157019 0.01509898\n",
              "13    0.0001157019 0.01509898\n",
              "14    0.0001157019 0.01509898\n",
              "15    0.0001157019 0.01509898\n",
              "16    0.0001157019 0.01509898\n",
              "17    0.0001157019 0.01509898\n",
              "18    0.0001157019 0.01509898\n",
              "19    0.0001157019 0.01509898\n",
              "20    0.0001157019 0.01509898\n",
              "21    0.0001157019 0.01509898\n",
              "22    0.0001157019 0.01509898\n",
              "23    0.0001157019 0.01509898\n",
              "24    0.0001157019 0.01509898\n",
              "25    0.0001157019 0.01509898\n",
              "26    0.0003786580 0.01810375\n",
              "27    0.0003786580 0.01810375\n",
              "28    0.0003786580 0.01810375\n",
              "29    0.0003786580 0.01810375\n",
              "30    0.0003786580 0.01810375\n",
              "⋮     ⋮            ⋮         \n",
              "21379 3.101203e-04 0.01726511\n",
              "21380 1.717112e-05 0.01825638\n",
              "21381 1.717112e-05 0.01825638\n",
              "21382 1.717112e-05 0.01825638\n",
              "21383 1.717112e-05 0.01825638\n",
              "21384 3.101203e-04 0.01726511\n",
              "21385 3.101203e-04 0.01726511\n",
              "21386 3.101203e-04 0.01726511\n",
              "21387 3.101203e-04 0.01726511\n",
              "21388 3.101203e-04 0.01726511\n",
              "21389 3.606220e-05 0.02572451\n",
              "21390 3.606220e-05 0.02572451\n",
              "21391 3.606220e-05 0.02572451\n",
              "21392 3.606220e-05 0.02572451\n",
              "21393 3.606220e-05 0.02572451\n",
              "21394 3.606220e-05 0.02572451\n",
              "21395 3.606220e-05 0.02572451\n",
              "21396 3.606220e-05 0.02572451\n",
              "21397 3.606220e-05 0.02572451\n",
              "21398 3.606220e-05 0.02572451\n",
              "21399 3.606220e-05 0.02572451\n",
              "21400 3.606220e-05 0.02572451\n",
              "21401 3.606220e-05 0.02572451\n",
              "21402 3.606220e-05 0.02572451\n",
              "21403 3.606220e-05 0.02572451\n",
              "21404 3.606220e-05 0.02572451\n",
              "21405 3.606220e-05 0.02572451\n",
              "21406 3.606220e-05 0.02572451\n",
              "21407 3.606220e-05 0.02572451\n",
              "21408 3.606220e-05 0.02572451"
            ]
          },
          "metadata": {}
        }
      ]
    },
    {
      "cell_type": "code",
      "source": [
        "dist_rast <- stack(climate_stack[[1]],climate_stack[[1]],climate_stack[[1]])\n",
        "names(dist_rast) <- c('id','dist_min','dist_mean')\n",
        "values(dist_rast[[1]]) <- NA\n",
        "values(dist_rast[[1]])[summary_dt$val_id] <-summary_dt$id\n",
        "values(dist_rast[[2]]) <- NA\n",
        "values(dist_rast[[2]])[summary_dt$val_id] <-summary_dt$min\n",
        "values(dist_rast[[3]]) <- NA\n",
        "values(dist_rast[[3]])[summary_dt$val_id] <-summary_dt$mean"
      ],
      "metadata": {
        "id": "2t1H6IIPfXR-"
      },
      "execution_count": 47,
      "outputs": []
    },
    {
      "cell_type": "code",
      "source": [
        "dist_rast %>% writeRaster('/content/distance.tif', overwrite=TRUE)"
      ],
      "metadata": {
        "id": "vT37BfWKgPR8"
      },
      "execution_count": 48,
      "outputs": []
    },
    {
      "cell_type": "code",
      "source": [
        "# library(parallel)\n",
        "\n",
        "# cl <-makeCluster(8)\n",
        "\n",
        "# distance_dt <-\n",
        "# 1:nrow(norm_climate_dt) %>% parLapply(cl,.,function(x,norm_climate_dt,norm_soilHealth_dt){\n",
        "# # x <-1\n",
        "# library(magrittr)\n",
        "# library(data.table)\n",
        "# dist_vec <- 1:nrow(norm_soilHealth_dt) %>% lapply(function(y){ mean(sqrt((norm_climate_dt[x,]-norm_soilHealth_dt[y,])^2) %>% unlist)}) %>% unlist\n",
        "# data.table(id = which.min(dist_vec),min=min(dist_vec),mean=mean(dist_vec))\n",
        "# # print(x)\n",
        "# },norm_climate_dt,norm_soilHealth_dt) %>% rbindlist\n",
        "\n",
        "# stopCluster(cl)"
      ],
      "metadata": {
        "id": "rvz1aT42rE7l"
      },
      "execution_count": 21,
      "outputs": []
    },
    {
      "cell_type": "code",
      "source": [
        " seq(1, nrow(climate_dt), by = 1000)"
      ],
      "metadata": {
        "colab": {
          "base_uri": "https://localhost:8080/",
          "height": 34
        },
        "id": "8dCEqemw0_FB",
        "outputId": "fb28f6f1-6469-42cb-ac65-20cf1cea133a"
      },
      "execution_count": 22,
      "outputs": [
        {
          "output_type": "display_data",
          "data": {
            "text/html": [
              "<style>\n",
              ".list-inline {list-style: none; margin:0; padding: 0}\n",
              ".list-inline>li {display: inline-block}\n",
              ".list-inline>li:not(:last-child)::after {content: \"\\00b7\"; padding: 0 .5ex}\n",
              "</style>\n",
              "<ol class=list-inline><li>1</li><li>1001</li><li>2001</li><li>3001</li><li>4001</li><li>5001</li><li>6001</li><li>7001</li><li>8001</li><li>9001</li><li>10001</li><li>11001</li><li>12001</li><li>13001</li><li>14001</li><li>15001</li><li>16001</li><li>17001</li><li>18001</li><li>19001</li><li>20001</li><li>21001</li></ol>\n"
            ],
            "text/markdown": "1. 1\n2. 1001\n3. 2001\n4. 3001\n5. 4001\n6. 5001\n7. 6001\n8. 7001\n9. 8001\n10. 9001\n11. 10001\n12. 11001\n13. 12001\n14. 13001\n15. 14001\n16. 15001\n17. 16001\n18. 17001\n19. 18001\n20. 19001\n21. 20001\n22. 21001\n\n\n",
            "text/latex": "\\begin{enumerate*}\n\\item 1\n\\item 1001\n\\item 2001\n\\item 3001\n\\item 4001\n\\item 5001\n\\item 6001\n\\item 7001\n\\item 8001\n\\item 9001\n\\item 10001\n\\item 11001\n\\item 12001\n\\item 13001\n\\item 14001\n\\item 15001\n\\item 16001\n\\item 17001\n\\item 18001\n\\item 19001\n\\item 20001\n\\item 21001\n\\end{enumerate*}\n",
            "text/plain": [
              " [1]     1  1001  2001  3001  4001  5001  6001  7001  8001  9001 10001 11001\n",
              "[13] 12001 13001 14001 15001 16001 17001 18001 19001 20001 21001"
            ]
          },
          "metadata": {}
        }
      ]
    },
    {
      "cell_type": "code",
      "source": [
        "# matrix(norm_soilHealth_dt[1,])-matrix(norm_soilHealth_dt)"
      ],
      "metadata": {
        "id": "8EMzYldL1ktA"
      },
      "execution_count": 23,
      "outputs": []
    },
    {
      "cell_type": "code",
      "source": [
        "# # norm_climate_dt <- data.table(matrix(rnorm(10000), ncol = 10))\n",
        "# # norm_soilHealth_dt <- data.table(matrix(rnorm(10000), ncol = 10))\n",
        "\n",
        "# seq(1, nrow(climate_dt), by = 1000) %>% lapply(function(x){\n",
        "# # # Calculate the Euclidean distance matrix\n",
        "# dist_matrix <- as.matrix(dist(rbind(norm_climate_dt, norm_soilHealth_dt)))\n",
        "# dist_matrix <- dist_matrix[1:nrow(norm_climate_dt), (nrow(norm_climate_dt) + 1):nrow(dist_matrix)]\n",
        "# # Find the minimum, mean, and index of the minimum for each row\n",
        "# min_indices <- apply(dist_matrix, 1, which.min)\n",
        "# min_values <- apply(dist_matrix, 1, min)\n",
        "# mean_values <- apply(dist_matrix, 1, mean)\n",
        "\n",
        "# # # Create the resulting data.table\n",
        "# distance_dt <- data.table(id = min_indices, min = min_values, mean = mean_values)\n",
        "\n",
        "#   })\n",
        "\n",
        "# # Calculate distances using the batch processing function\n",
        "# distance_dt <- calc_distances(norm_climate_dt, norm_soilHealth_dt, batch_size = 100)\n"
      ],
      "metadata": {
        "id": "nJFSU5sox8Rw"
      },
      "execution_count": 24,
      "outputs": []
    },
    {
      "cell_type": "code",
      "source": [
        "# distance_dt$min %>% qplot"
      ],
      "metadata": {
        "id": "b2wPrv0EyGCa"
      },
      "execution_count": 25,
      "outputs": []
    },
    {
      "cell_type": "code",
      "source": [
        "names(norm_climate_dt)\n",
        "norm_climate_dt <- norm_climate_dt[,.(pr,tmmx)]\n",
        "norm_soilHealth_dt <- norm_soilHealth_dt[,.(pr,tmmx)]"
      ],
      "metadata": {
        "colab": {
          "base_uri": "https://localhost:8080/",
          "height": 34
        },
        "id": "9Voax_JpwydC",
        "outputId": "550faadb-3af8-4e53-8eef-c2f38275e741"
      },
      "execution_count": 26,
      "outputs": [
        {
          "output_type": "display_data",
          "data": {
            "text/html": [
              "<style>\n",
              ".list-inline {list-style: none; margin:0; padding: 0}\n",
              ".list-inline>li {display: inline-block}\n",
              ".list-inline>li:not(:last-child)::after {content: \"\\00b7\"; padding: 0 .5ex}\n",
              "</style>\n",
              "<ol class=list-inline><li>'aet'</li><li>'def'</li><li>'pdsi'</li><li>'pet'</li><li>'pr'</li><li>'ro'</li><li>'soil'</li><li>'srad'</li><li>'swe'</li><li>'tmmn'</li><li>'tmmx'</li><li>'vap'</li><li>'vpd'</li><li>'vs'</li></ol>\n"
            ],
            "text/markdown": "1. 'aet'\n2. 'def'\n3. 'pdsi'\n4. 'pet'\n5. 'pr'\n6. 'ro'\n7. 'soil'\n8. 'srad'\n9. 'swe'\n10. 'tmmn'\n11. 'tmmx'\n12. 'vap'\n13. 'vpd'\n14. 'vs'\n\n\n",
            "text/latex": "\\begin{enumerate*}\n\\item 'aet'\n\\item 'def'\n\\item 'pdsi'\n\\item 'pet'\n\\item 'pr'\n\\item 'ro'\n\\item 'soil'\n\\item 'srad'\n\\item 'swe'\n\\item 'tmmn'\n\\item 'tmmx'\n\\item 'vap'\n\\item 'vpd'\n\\item 'vs'\n\\end{enumerate*}\n",
            "text/plain": [
              " [1] \"aet\"  \"def\"  \"pdsi\" \"pet\"  \"pr\"   \"ro\"   \"soil\" \"srad\" \"swe\"  \"tmmn\"\n",
              "[11] \"tmmx\" \"vap\"  \"vpd\"  \"vs\"  "
            ]
          },
          "metadata": {}
        }
      ]
    },
    {
      "cell_type": "code",
      "source": [
        "# # Assuming norm_climate_dt and norm_soilHealth_dt are your data.tables\n",
        "# # with rows as observations and columns as dimensions\n",
        "\n",
        "# # Calculate the Euclidean distance matrix\n",
        "# dist_matrix <- as.matrix(dist(rbind(norm_climate_dt, norm_soilHealth_dt)))\n",
        "# dist_matrix <- dist_matrix[1:nrow(norm_climate_dt), (nrow(norm_climate_dt) + 1):nrow(dist_matrix)]\n",
        "\n",
        "# # Find the minimum, mean, and index of the minimum for each row\n",
        "# min_indices <- apply(dist_matrix, 1, which.min)\n",
        "# min_values <- apply(dist_matrix, 1, min)\n",
        "# mean_values <- apply(dist_matrix, 1, mean)\n",
        "\n",
        "# # Create the resulting data.table\n",
        "# distance_dt <- data.table(id = min_indices, min = min_values, mean = mean_values)"
      ],
      "metadata": {
        "id": "BTv8k_iIrhc-"
      },
      "execution_count": 27,
      "outputs": []
    },
    {
      "cell_type": "code",
      "source": [
        "#norm_soilHealth_dt"
      ],
      "metadata": {
        "id": "W2-l7nldkkFE"
      },
      "execution_count": 28,
      "outputs": []
    },
    {
      "cell_type": "code",
      "source": [
        "# climate_dt %>% names %>% lapply(\n",
        "\n",
        "\n",
        "# )"
      ],
      "metadata": {
        "id": "lS4fWBksnFSc"
      },
      "execution_count": 29,
      "outputs": []
    },
    {
      "cell_type": "code",
      "source": [
        "climate_dt %>%\n",
        "  ggplot(aes(x=tmmx*0.1,y=pr))+\n",
        "  geom_bin2d() +\n",
        "  # geom_point(data=soilHealth_dt,aes(x=tmmx*0.1,y=pr),color= pial_none)+\n",
        "  geom_point(data=soilHealth_dt,aes(x=tmmx*0.1,y=pr,color= pial_none))+\n",
        "  labs(x = \"Maximum monthly temperature (°C)\", y = \"Mean monthly precipitation accumulation (mm)\") +\n",
        "  theme_minimal()"
      ],
      "metadata": {
        "colab": {
          "base_uri": "https://localhost:8080/",
          "height": 437
        },
        "id": "S5lR_ed9jYlG",
        "outputId": "b6ca9369-718c-44f8-b248-105785135d8b"
      },
      "execution_count": 33,
      "outputs": [
        {
          "output_type": "display_data",
          "data": {
            "text/plain": [
              "plot without title"
            ],
            "image/png": "[encoded data removed]"
          },
          "metadata": {
            "image/png": {
              "width": 420,
              "height": 420
            }
          }
        }
      ]
    },
    {
      "cell_type": "markdown",
      "source": [
        "TB wants coordinates colored based on Land Use in one version and suborder in another"
      ],
      "metadata": {
        "id": "_BSPzbQpzNdl"
      }
    },
    {
      "cell_type": "code",
      "source": [
        "names(soilHealth_dt)"
      ],
      "metadata": {
        "colab": {
          "base_uri": "https://localhost:8080/",
          "height": 104
        },
        "id": "X7zRSsFdzDmS",
        "outputId": "11020724-a661-4228-a433-fa3c7d4dc1e3"
      },
      "execution_count": 31,
      "outputs": [
        {
          "output_type": "display_data",
          "data": {
            "text/html": [
              "<style>\n",
              ".list-inline {list-style: none; margin:0; padding: 0}\n",
              ".list-inline>li {display: inline-block}\n",
              ".list-inline>li:not(:last-child)::after {content: \"\\00b7\"; padding: 0 .5ex}\n",
              "</style>\n",
              "<ol class=list-inline><li>'number'</li><li>'depth_top'</li><li>'depth_bottom'</li><li>'island'</li><li>'site_name'</li><li>'site_number'</li><li>'current_land_use'</li><li>'years_under_current_land_use'</li><li>'most_previous_land_use'</li><li>'years_under_most_previous._land_use'</li><li>'plot_name'</li><li>'plot_area'</li><li>'current_plant_cover'</li><li>'previous_crop_cover'</li><li>'tillage'</li><li>'tillage_frequency'</li><li>'herbicide'</li><li>'pesticide'</li><li>'irrigation_type'</li><li>'additional_soil_cover'</li><li>'soil_series'</li><li>'management_category'</li><li>'pial_none'</li><li>'distlevel'</li><li>'order'</li><li>'minerals'</li><li>'swc_fm'</li><li>'swc_ad'</li><li>'toc'</li><li>'tn'</li><li>'co2_burst'</li><li>'beta_glucosidase'</li><li>'beta_glucosaminidase'</li><li>'pnm_init'</li><li>'pmn_fin'</li><li>'ph'</li><li>'doc'</li><li>'tdn'</li><li>'din'</li><li>'don'</li><li>'hwec'</li><li>'hwen'</li><li>'whc'</li><li>'wsa_mega'</li><li>'wsa_macro'</li><li>'bd'</li><li>'shs'</li><li>'assessment'</li><li>'c_n'</li><li>'doc_don'</li><li>'pmn'</li><li>'status'</li><li>'hyperlinks'</li><li>'last.updated'</li><li>'SOC_stock'</li><li>'SOC_stock_kg_m2'</li><li>'SOC_stock_Mg_ha'</li><li>'geom'</li><li>'aet'</li><li>'def'</li><li>'pdsi'</li><li>'pet'</li><li>'pr'</li><li>'ro'</li><li>'soil'</li><li>'srad'</li><li>'swe'</li><li>'tmmn'</li><li>'tmmx'</li><li>'vap'</li><li>'vpd'</li><li>'vs'</li></ol>\n"
            ],
            "text/markdown": "1. 'number'\n2. 'depth_top'\n3. 'depth_bottom'\n4. 'island'\n5. 'site_name'\n6. 'site_number'\n7. 'current_land_use'\n8. 'years_under_current_land_use'\n9. 'most_previous_land_use'\n10. 'years_under_most_previous._land_use'\n11. 'plot_name'\n12. 'plot_area'\n13. 'current_plant_cover'\n14. 'previous_crop_cover'\n15. 'tillage'\n16. 'tillage_frequency'\n17. 'herbicide'\n18. 'pesticide'\n19. 'irrigation_type'\n20. 'additional_soil_cover'\n21. 'soil_series'\n22. 'management_category'\n23. 'pial_none'\n24. 'distlevel'\n25. 'order'\n26. 'minerals'\n27. 'swc_fm'\n28. 'swc_ad'\n29. 'toc'\n30. 'tn'\n31. 'co2_burst'\n32. 'beta_glucosidase'\n33. 'beta_glucosaminidase'\n34. 'pnm_init'\n35. 'pmn_fin'\n36. 'ph'\n37. 'doc'\n38. 'tdn'\n39. 'din'\n40. 'don'\n41. 'hwec'\n42. 'hwen'\n43. 'whc'\n44. 'wsa_mega'\n45. 'wsa_macro'\n46. 'bd'\n47. 'shs'\n48. 'assessment'\n49. 'c_n'\n50. 'doc_don'\n51. 'pmn'\n52. 'status'\n53. 'hyperlinks'\n54. 'last.updated'\n55. 'SOC_stock'\n56. 'SOC_stock_kg_m2'\n57. 'SOC_stock_Mg_ha'\n58. 'geom'\n59. 'aet'\n60. 'def'\n61. 'pdsi'\n62. 'pet'\n63. 'pr'\n64. 'ro'\n65. 'soil'\n66. 'srad'\n67. 'swe'\n68. 'tmmn'\n69. 'tmmx'\n70. 'vap'\n71. 'vpd'\n72. 'vs'\n\n\n",
            "text/latex": "\\begin{enumerate*}\n\\item 'number'\n\\item 'depth\\_top'\n\\item 'depth\\_bottom'\n\\item 'island'\n\\item 'site\\_name'\n\\item 'site\\_number'\n\\item 'current\\_land\\_use'\n\\item 'years\\_under\\_current\\_land\\_use'\n\\item 'most\\_previous\\_land\\_use'\n\\item 'years\\_under\\_most\\_previous.\\_land\\_use'\n\\item 'plot\\_name'\n\\item 'plot\\_area'\n\\item 'current\\_plant\\_cover'\n\\item 'previous\\_crop\\_cover'\n\\item 'tillage'\n\\item 'tillage\\_frequency'\n\\item 'herbicide'\n\\item 'pesticide'\n\\item 'irrigation\\_type'\n\\item 'additional\\_soil\\_cover'\n\\item 'soil\\_series'\n\\item 'management\\_category'\n\\item 'pial\\_none'\n\\item 'distlevel'\n\\item 'order'\n\\item 'minerals'\n\\item 'swc\\_fm'\n\\item 'swc\\_ad'\n\\item 'toc'\n\\item 'tn'\n\\item 'co2\\_burst'\n\\item 'beta\\_glucosidase'\n\\item 'beta\\_glucosaminidase'\n\\item 'pnm\\_init'\n\\item 'pmn\\_fin'\n\\item 'ph'\n\\item 'doc'\n\\item 'tdn'\n\\item 'din'\n\\item 'don'\n\\item 'hwec'\n\\item 'hwen'\n\\item 'whc'\n\\item 'wsa\\_mega'\n\\item 'wsa\\_macro'\n\\item 'bd'\n\\item 'shs'\n\\item 'assessment'\n\\item 'c\\_n'\n\\item 'doc\\_don'\n\\item 'pmn'\n\\item 'status'\n\\item 'hyperlinks'\n\\item 'last.updated'\n\\item 'SOC\\_stock'\n\\item 'SOC\\_stock\\_kg\\_m2'\n\\item 'SOC\\_stock\\_Mg\\_ha'\n\\item 'geom'\n\\item 'aet'\n\\item 'def'\n\\item 'pdsi'\n\\item 'pet'\n\\item 'pr'\n\\item 'ro'\n\\item 'soil'\n\\item 'srad'\n\\item 'swe'\n\\item 'tmmn'\n\\item 'tmmx'\n\\item 'vap'\n\\item 'vpd'\n\\item 'vs'\n\\end{enumerate*}\n",
            "text/plain": [
              " [1] \"number\"                              \"depth_top\"                          \n",
              " [3] \"depth_bottom\"                        \"island\"                             \n",
              " [5] \"site_name\"                           \"site_number\"                        \n",
              " [7] \"current_land_use\"                    \"years_under_current_land_use\"       \n",
              " [9] \"most_previous_land_use\"              \"years_under_most_previous._land_use\"\n",
              "[11] \"plot_name\"                           \"plot_area\"                          \n",
              "[13] \"current_plant_cover\"                 \"previous_crop_cover\"                \n",
              "[15] \"tillage\"                             \"tillage_frequency\"                  \n",
              "[17] \"herbicide\"                           \"pesticide\"                          \n",
              "[19] \"irrigation_type\"                     \"additional_soil_cover\"              \n",
              "[21] \"soil_series\"                         \"management_category\"                \n",
              "[23] \"pial_none\"                           \"distlevel\"                          \n",
              "[25] \"order\"                               \"minerals\"                           \n",
              "[27] \"swc_fm\"                              \"swc_ad\"                             \n",
              "[29] \"toc\"                                 \"tn\"                                 \n",
              "[31] \"co2_burst\"                           \"beta_glucosidase\"                   \n",
              "[33] \"beta_glucosaminidase\"                \"pnm_init\"                           \n",
              "[35] \"pmn_fin\"                             \"ph\"                                 \n",
              "[37] \"doc\"                                 \"tdn\"                                \n",
              "[39] \"din\"                                 \"don\"                                \n",
              "[41] \"hwec\"                                \"hwen\"                               \n",
              "[43] \"whc\"                                 \"wsa_mega\"                           \n",
              "[45] \"wsa_macro\"                           \"bd\"                                 \n",
              "[47] \"shs\"                                 \"assessment\"                         \n",
              "[49] \"c_n\"                                 \"doc_don\"                            \n",
              "[51] \"pmn\"                                 \"status\"                             \n",
              "[53] \"hyperlinks\"                          \"last.updated\"                       \n",
              "[55] \"SOC_stock\"                           \"SOC_stock_kg_m2\"                    \n",
              "[57] \"SOC_stock_Mg_ha\"                     \"geom\"                               \n",
              "[59] \"aet\"                                 \"def\"                                \n",
              "[61] \"pdsi\"                                \"pet\"                                \n",
              "[63] \"pr\"                                  \"ro\"                                 \n",
              "[65] \"soil\"                                \"srad\"                               \n",
              "[67] \"swe\"                                 \"tmmn\"                               \n",
              "[69] \"tmmx\"                                \"vap\"                                \n",
              "[71] \"vpd\"                                 \"vs\"                                 "
            ]
          },
          "metadata": {}
        }
      ]
    }
  ]
}