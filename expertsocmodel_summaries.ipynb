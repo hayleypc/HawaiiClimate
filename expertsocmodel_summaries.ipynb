{
  "nbformat": 4,
  "nbformat_minor": 0,
  "metadata": {
    "colab": {
      "provenance": [],
      "authorship_tag": "ABX9TyOC4yXqed6QxG31USN6owz3",
      "include_colab_link": true
    },
    "kernelspec": {
      "name": "python3",
      "display_name": "Python 3"
    },
    "language_info": {
      "name": "python"
    }
  },
  "cells": [
    {
      "cell_type": "markdown",
      "metadata": {
        "id": "view-in-github",
        "colab_type": "text"
      },
      "source": [
        "<a href=\"https://colab.research.google.com/github/hayleypc/HawaiiClimate/blob/main/expertsocmodel_summaries.ipynb\" target=\"_parent\"><img src=\"https://colab.research.google.com/assets/colab-badge.svg\" alt=\"Open In Colab\"/></a>"
      ]
    },
    {
      "cell_type": "code",
      "execution_count": 1,
      "metadata": {
        "id": "CxZ-kt_unR6p"
      },
      "outputs": [],
      "source": [
        "import geopandas as gpd\n",
        "import matplotlib.pyplot as plt\n",
        "import pandas as pd\n",
        "import numpy as np\n",
        "\n",
        "from google.colab import drive"
      ]
    },
    {
      "cell_type": "code",
      "source": [
        "from shapely.geometry import Point"
      ],
      "metadata": {
        "id": "KfYJavMAq5Kt"
      },
      "execution_count": 6,
      "outputs": []
    },
    {
      "cell_type": "code",
      "source": [
        "drive.mount('/content/drive')"
      ],
      "metadata": {
        "colab": {
          "base_uri": "https://localhost:8080/"
        },
        "id": "t8sref8RncMz",
        "outputId": "9f814b26-a863-45f8-8f8b-0c0b9562ee81"
      },
      "execution_count": 2,
      "outputs": [
        {
          "output_type": "stream",
          "name": "stdout",
          "text": [
            "Mounted at /content/drive\n"
          ]
        }
      ]
    },
    {
      "cell_type": "markdown",
      "source": [
        "HPC to pull out more specific info for minerals and C, considering 75th quartile for mineral pools, etc. Create new table, w/ timestamp Have lots of NAs that she will be matching w/ the geospatial data All 0-20 cm, rest of data is 0-15 cm Need break down by land-use (code currently hinges on land-use having similar inputs across certain soil types). Land use & minerals always connected Which quartiles to use? Could bootstrap and figure out where it destabilizes - will run w/ 90th for now but put a pin in it for when we start putting together manuscript HPC to pull NPP from GEE, can also use lit values 2 data sources to look at for NPP and still needs to match w/ land-use (HiClimate data portal NDVI - going to look into that)"
      ],
      "metadata": {
        "id": "ikZtqbJInhCF"
      }
    },
    {
      "cell_type": "markdown",
      "source": [
        "pulled the following data preprocessing steps from HI_NN script: https://colab.research.google.com/drive/1Rzl-J5F2KIQqk-RWg-pBg2dP8B_M28H6?authuser=1#scrollTo=Quz3PwWnrs-o"
      ],
      "metadata": {
        "id": "r3_SXPmDq_l3"
      }
    },
    {
      "cell_type": "code",
      "source": [
        "gdf = gpd.read_file('/content/drive/MyDrive/hawaii_soils/HI soils data/2024_update/annotated_combo_imputed_SOC.gpkg')"
      ],
      "metadata": {
        "id": "aLR4oAszneKm"
      },
      "execution_count": 3,
      "outputs": []
    },
    {
      "cell_type": "code",
      "source": [
        "drivers_gpd = gpd.read_file('/content/drive/MyDrive/hawaii_soils/Analysis Data/250_summary_grid_dt.gpkg')\n",
        "soils_csv = pd.read_csv('/content/drive/MyDrive/hawaii_soils/HI soils data/combined_soc_2024_04_05.csv')"
      ],
      "metadata": {
        "id": "9TnL0T7VqjSU"
      },
      "execution_count": 4,
      "outputs": []
    },
    {
      "cell_type": "code",
      "source": [
        "# Preprocess soils data\n",
        "soils_csv = soils_csv.dropna(subset=['latitude', 'longitude'])\n",
        "soils_csv['geometry'] = soils_csv.apply(lambda row: Point(float(row['longitude']), float(row['latitude'])), axis=1)\n",
        "soils_gpd = gpd.GeoDataFrame(soils_csv, geometry='geometry', crs=\"EPSG:4326\")\n",
        "\n",
        "# Merge and transform GeoDataFrames\n",
        "soils_gpd = pd.merge(soils_gpd, gdf[['dist_id', 'unique_id']], on='unique_id', how='inner')\n",
        "soils_gpd = soils_gpd.to_crs(drivers_gpd.crs)\n",
        "\n",
        "# Perform spatial join\n",
        "matched_data = gpd.sjoin_nearest(soils_gpd, drivers_gpd, how='left', distance_col='distance')"
      ],
      "metadata": {
        "colab": {
          "base_uri": "https://localhost:8080/"
        },
        "id": "SRsQDzdQqmrU",
        "outputId": "9a5d583d-00a7-49c2-9604-a981c67ec404"
      },
      "execution_count": 7,
      "outputs": [
        {
          "output_type": "stream",
          "name": "stderr",
          "text": [
            "/usr/local/lib/python3.10/dist-packages/geopandas/array.py:403: UserWarning: Geometry is in a geographic CRS. Results from 'sjoin_nearest' are likely incorrect. Use 'GeoSeries.to_crs()' to re-project geometries to a projected CRS before this operation.\n",
            "\n",
            "  warnings.warn(\n"
          ]
        }
      ]
    },
    {
      "cell_type": "code",
      "source": [
        "# Additional preprocessing steps\n",
        "drivers_gpd['x_driver'] = drivers_gpd.geometry.x\n",
        "drivers_gpd['y_driver'] = drivers_gpd.geometry.y\n",
        "soils_gpd['x_sample'] = soils_gpd.geometry.x\n",
        "soils_gpd['y_sample'] = soils_gpd.geometry.y"
      ],
      "metadata": {
        "id": "FFtwisI6qsHY"
      },
      "execution_count": 8,
      "outputs": []
    },
    {
      "cell_type": "code",
      "source": [
        "# Reproject both GeoDataFrames to the same CRS\n",
        "soils_buffered = soils_gpd.to_crs(epsg=32604)\n",
        "drivers_gpd = drivers_gpd.to_crs(soils_buffered.crs)\n",
        "\n",
        "# Apply buffer in the same CRS\n",
        "soils_buffered['x_sample'] = soils_buffered.geometry.x\n",
        "soils_buffered['y_sample'] = soils_buffered.geometry.y\n",
        "soils_buffered.geometry = soils_buffered.geometry.buffer(1000)\n",
        "\n",
        "# Perform spatial join\n",
        "matches_within_distance = gpd.sjoin(soils_buffered, drivers_gpd, how='left', predicate='intersects')"
      ],
      "metadata": {
        "id": "kgaVWAqxq8jg"
      },
      "execution_count": 10,
      "outputs": []
    },
    {
      "cell_type": "code",
      "source": [
        "soils_gpd.columns"
      ],
      "metadata": {
        "colab": {
          "base_uri": "https://localhost:8080/"
        },
        "id": "B11DnZ9BroEo",
        "outputId": "0b92d05b-3ddb-46e1-a603-a3eee6331f10"
      },
      "execution_count": 11,
      "outputs": [
        {
          "output_type": "execute_result",
          "data": {
            "text/plain": [
              "Index(['source_dataset', 'island', 'soil_column_id', 'unique_id', 'depth_top',\n",
              "       'depth_bottom', 'depth_adj_bottom', 'latitude', 'longitude', 'c_perc',\n",
              "       'imp_c', 'bulk_density', 'imp_bd', 'hole_id', 'geometry', 'dist_id',\n",
              "       'x_sample', 'y_sample'],\n",
              "      dtype='object')"
            ]
          },
          "metadata": {},
          "execution_count": 11
        }
      ]
    }
  ]
}