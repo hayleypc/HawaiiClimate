{
  "nbformat": 4,
  "nbformat_minor": 0,
  "metadata": {
    "colab": {
      "provenance": [],
      "authorship_tag": "ABX9TyOX/mT+Rd3VryRWc7b6P+ll",
      "include_colab_link": true
    },
    "kernelspec": {
      "name": "python3",
      "display_name": "Python 3"
    },
    "language_info": {
      "name": "python"
    }
  },
  "cells": [
    {
      "cell_type": "markdown",
      "metadata": {
        "id": "view-in-github",
        "colab_type": "text"
      },
      "source": [
        "<a href=\"https://colab.research.google.com/github/hayleypc/HawaiiClimate/blob/main/HI_HCDP_monthly_means.ipynb\" target=\"_parent\"><img src=\"https://colab.research.google.com/assets/colab-badge.svg\" alt=\"Open In Colab\"/></a>"
      ]
    },
    {
      "cell_type": "code",
      "execution_count": 1,
      "metadata": {
        "colab": {
          "base_uri": "https://localhost:8080/"
        },
        "id": "0UPC388_9u-e",
        "outputId": "c613c6db-6d39-4e3d-f97b-d583de2f226d"
      },
      "outputs": [
        {
          "output_type": "stream",
          "name": "stdout",
          "text": [
            "Mounted at /content/drive\n"
          ]
        }
      ],
      "source": [
        "from google.colab import drive\n",
        "drive.mount('/content/drive')\n"
      ]
    },
    {
      "cell_type": "code",
      "source": [
        "!pip install rasterio"
      ],
      "metadata": {
        "colab": {
          "base_uri": "https://localhost:8080/"
        },
        "id": "HL4ZVEdpr7Hh",
        "outputId": "206f529e-3d95-4bb4-da55-d74a4ff04943"
      },
      "execution_count": 3,
      "outputs": [
        {
          "output_type": "stream",
          "name": "stdout",
          "text": [
            "Collecting rasterio\n",
            "  Downloading rasterio-1.4.3-cp311-cp311-manylinux_2_17_x86_64.manylinux2014_x86_64.whl.metadata (9.1 kB)\n",
            "Collecting affine (from rasterio)\n",
            "  Downloading affine-2.4.0-py3-none-any.whl.metadata (4.0 kB)\n",
            "Requirement already satisfied: attrs in /usr/local/lib/python3.11/dist-packages (from rasterio) (25.1.0)\n",
            "Requirement already satisfied: certifi in /usr/local/lib/python3.11/dist-packages (from rasterio) (2025.1.31)\n",
            "Requirement already satisfied: click>=4.0 in /usr/local/lib/python3.11/dist-packages (from rasterio) (8.1.8)\n",
            "Collecting cligj>=0.5 (from rasterio)\n",
            "  Downloading cligj-0.7.2-py3-none-any.whl.metadata (5.0 kB)\n",
            "Requirement already satisfied: numpy>=1.24 in /usr/local/lib/python3.11/dist-packages (from rasterio) (1.26.4)\n",
            "Collecting click-plugins (from rasterio)\n",
            "  Downloading click_plugins-1.1.1-py2.py3-none-any.whl.metadata (6.4 kB)\n",
            "Requirement already satisfied: pyparsing in /usr/local/lib/python3.11/dist-packages (from rasterio) (3.2.1)\n",
            "Downloading rasterio-1.4.3-cp311-cp311-manylinux_2_17_x86_64.manylinux2014_x86_64.whl (22.2 MB)\n",
            "\u001b[2K   \u001b[90m━━━━━━━━━━━━━━━━━━━━━━━━━━━━━━━━━━━━━━━━\u001b[0m \u001b[32m22.2/22.2 MB\u001b[0m \u001b[31m65.9 MB/s\u001b[0m eta \u001b[36m0:00:00\u001b[0m\n",
            "\u001b[?25hDownloading cligj-0.7.2-py3-none-any.whl (7.1 kB)\n",
            "Downloading affine-2.4.0-py3-none-any.whl (15 kB)\n",
            "Downloading click_plugins-1.1.1-py2.py3-none-any.whl (7.5 kB)\n",
            "Installing collected packages: cligj, click-plugins, affine, rasterio\n",
            "Successfully installed affine-2.4.0 click-plugins-1.1.1 cligj-0.7.2 rasterio-1.4.3\n"
          ]
        }
      ]
    },
    {
      "cell_type": "code",
      "source": [
        "import os\n",
        "import numpy as np\n",
        "import rasterio\n",
        "from rasterio.merge import merge\n",
        "from rasterio.plot import show\n",
        "import glob"
      ],
      "metadata": {
        "id": "z6TtCe0mBJni"
      },
      "execution_count": 4,
      "outputs": []
    },
    {
      "cell_type": "code",
      "source": [
        "# # Base folder for NDVI data\n",
        "# base_folder = '/content/drive/MyDrive/03_HI_soil_analysis/hawaii_soils/HCDP_Hawaii_Climate_Data_Portal/HCDP_NDVI_extracted/ndvi/16day/statewide/data_map'\n",
        "\n",
        "# monthly_means = {}\n",
        "\n",
        "# # Loop through each month\n",
        "# for month in range(1, 13):\n",
        "#     monthly_stack = []\n",
        "\n",
        "#     # Loop through each year (2000-2023)\n",
        "#     for year in range(2000, 2024):\n",
        "#         # Construct the path to the two TIFFs for the current month and year\n",
        "#         tiff_folder = os.path.join(base_folder, str(year), f'{month:02d}')\n",
        "#         tiff_files = glob.glob(os.path.join(tiff_folder, '*.tif'))\n",
        "\n",
        "#         # Make sure there are exactly two TIFFs per month\n",
        "#         if len(tiff_files) == 2:\n",
        "#             ndvi_stack = []\n",
        "#             for tiff_file in tiff_files:\n",
        "#                 with rasterio.open(tiff_file) as src:\n",
        "#                     ndvi_stack.append(src.read(1))  # Read the first band\n",
        "\n",
        "#             # Stack the two 16-day TIFFs and calculate the mean for the month\n",
        "#             ndvi_stack = np.array(ndvi_stack)\n",
        "#             monthly_average = np.nanmean(ndvi_stack, axis=0)\n",
        "#             monthly_stack.append(monthly_average)\n",
        "\n",
        "#     # Calculate the long-term mean for the current month across all years\n",
        "#     monthly_stack = np.array(monthly_stack)\n",
        "#     long_term_mean = np.nanmean(monthly_stack, axis=0)\n",
        "#     monthly_means[month] = long_term_mean"
      ],
      "metadata": {
        "colab": {
          "base_uri": "https://localhost:8080/"
        },
        "id": "GFqygrcaBLTE",
        "outputId": "bab428cf-489e-4b1f-f747-f83820e32c9f"
      },
      "execution_count": null,
      "outputs": [
        {
          "output_type": "stream",
          "name": "stderr",
          "text": [
            "<ipython-input-16-db71238c5509>:30: RuntimeWarning: Mean of empty slice\n",
            "  long_term_mean = np.nanmean(monthly_stack, axis=0)\n"
          ]
        }
      ]
    },
    {
      "cell_type": "code",
      "source": [
        "# output_folder = '/content/drive/MyDrive/03_HI_soil_analysis/hawaii_soils/HCDP_Hawaii_Climate_Data_Portal/HCDP_NDVI_extracted/ndvi/16day/statewide/data_map/output_ndvi_means/'\n",
        "\n",
        "# # Ensure output folder exists\n",
        "# os.makedirs(output_folder, exist_ok=True)\n",
        "\n",
        "# # Save the monthly mean NDVI as new TIFF files\n",
        "# for month, mean_ndvi in monthly_means.items():\n",
        "#     # Use one of the TIFF files as a reference for metadata (for example, 2023 February file)\n",
        "#     reference_file = '/content/drive/MyDrive/03_HI_soil_analysis/hawaii_soils/HCDP_Hawaii_Climate_Data_Portal/HCDP_NDVI_extracted/ndvi/16day/statewide/data_map/2023/02/ndvi_16day_statewide_data_map_2023_02_18.tif'\n",
        "\n",
        "#     with rasterio.open(reference_file) as src:\n",
        "#         meta = src.meta\n",
        "\n",
        "#     # Update metadata for the output file\n",
        "#     meta.update(dtype=rasterio.float32, count=1)\n",
        "\n",
        "#     # Save the mean NDVI for the month\n",
        "#     output_file = os.path.join(output_folder, f'mean_ndvi_{month:02d}.tif')\n",
        "#     with rasterio.open(output_file, 'w', **meta) as dst:\n",
        "#         dst.write(mean_ndvi.astype(rasterio.float32), 1)\n",
        "\n",
        "#     print(f\"Saved mean NDVI for month {month:02d} to {output_file}\")"
      ],
      "metadata": {
        "colab": {
          "base_uri": "https://localhost:8080/",
          "height": 412
        },
        "id": "4c-DnXk4KRvB",
        "outputId": "01221417-61c4-4537-93e1-f1087c2515c6"
      },
      "execution_count": null,
      "outputs": [
        {
          "output_type": "stream",
          "name": "stdout",
          "text": [
            "Saved mean NDVI for month 01 to /content/drive/MyDrive/03_HI_soil_analysis/hawaii_soils/HCDP_Hawaii_Climate_Data_Portal/HCDP_NDVI_extracted/ndvi/16day/statewide/data_map/output_ndvi_means/mean_ndvi_01.tif\n",
            "Saved mean NDVI for month 02 to /content/drive/MyDrive/03_HI_soil_analysis/hawaii_soils/HCDP_Hawaii_Climate_Data_Portal/HCDP_NDVI_extracted/ndvi/16day/statewide/data_map/output_ndvi_means/mean_ndvi_02.tif\n",
            "Saved mean NDVI for month 03 to /content/drive/MyDrive/03_HI_soil_analysis/hawaii_soils/HCDP_Hawaii_Climate_Data_Portal/HCDP_NDVI_extracted/ndvi/16day/statewide/data_map/output_ndvi_means/mean_ndvi_03.tif\n",
            "Saved mean NDVI for month 04 to /content/drive/MyDrive/03_HI_soil_analysis/hawaii_soils/HCDP_Hawaii_Climate_Data_Portal/HCDP_NDVI_extracted/ndvi/16day/statewide/data_map/output_ndvi_means/mean_ndvi_04.tif\n",
            "Saved mean NDVI for month 05 to /content/drive/MyDrive/03_HI_soil_analysis/hawaii_soils/HCDP_Hawaii_Climate_Data_Portal/HCDP_NDVI_extracted/ndvi/16day/statewide/data_map/output_ndvi_means/mean_ndvi_05.tif\n",
            "Saved mean NDVI for month 06 to /content/drive/MyDrive/03_HI_soil_analysis/hawaii_soils/HCDP_Hawaii_Climate_Data_Portal/HCDP_NDVI_extracted/ndvi/16day/statewide/data_map/output_ndvi_means/mean_ndvi_06.tif\n",
            "Saved mean NDVI for month 07 to /content/drive/MyDrive/03_HI_soil_analysis/hawaii_soils/HCDP_Hawaii_Climate_Data_Portal/HCDP_NDVI_extracted/ndvi/16day/statewide/data_map/output_ndvi_means/mean_ndvi_07.tif\n",
            "Saved mean NDVI for month 08 to /content/drive/MyDrive/03_HI_soil_analysis/hawaii_soils/HCDP_Hawaii_Climate_Data_Portal/HCDP_NDVI_extracted/ndvi/16day/statewide/data_map/output_ndvi_means/mean_ndvi_08.tif\n",
            "Saved mean NDVI for month 09 to /content/drive/MyDrive/03_HI_soil_analysis/hawaii_soils/HCDP_Hawaii_Climate_Data_Portal/HCDP_NDVI_extracted/ndvi/16day/statewide/data_map/output_ndvi_means/mean_ndvi_09.tif\n"
          ]
        },
        {
          "output_type": "error",
          "ename": "ValueError",
          "evalue": "Source shape (1,) is inconsistent with given indexes 1",
          "traceback": [
            "\u001b[0;31m---------------------------------------------------------------------------\u001b[0m",
            "\u001b[0;31mValueError\u001b[0m                                Traceback (most recent call last)",
            "\u001b[0;32m<ipython-input-17-c97839acebd7>\u001b[0m in \u001b[0;36m<cell line: 7>\u001b[0;34m()\u001b[0m\n\u001b[1;32m     18\u001b[0m     \u001b[0moutput_file\u001b[0m \u001b[0;34m=\u001b[0m \u001b[0mos\u001b[0m\u001b[0;34m.\u001b[0m\u001b[0mpath\u001b[0m\u001b[0;34m.\u001b[0m\u001b[0mjoin\u001b[0m\u001b[0;34m(\u001b[0m\u001b[0moutput_folder\u001b[0m\u001b[0;34m,\u001b[0m \u001b[0;34mf'mean_ndvi_{month:02d}.tif'\u001b[0m\u001b[0;34m)\u001b[0m\u001b[0;34m\u001b[0m\u001b[0;34m\u001b[0m\u001b[0m\n\u001b[1;32m     19\u001b[0m     \u001b[0;32mwith\u001b[0m \u001b[0mrasterio\u001b[0m\u001b[0;34m.\u001b[0m\u001b[0mopen\u001b[0m\u001b[0;34m(\u001b[0m\u001b[0moutput_file\u001b[0m\u001b[0;34m,\u001b[0m \u001b[0;34m'w'\u001b[0m\u001b[0;34m,\u001b[0m \u001b[0;34m**\u001b[0m\u001b[0mmeta\u001b[0m\u001b[0;34m)\u001b[0m \u001b[0;32mas\u001b[0m \u001b[0mdst\u001b[0m\u001b[0;34m:\u001b[0m\u001b[0;34m\u001b[0m\u001b[0;34m\u001b[0m\u001b[0m\n\u001b[0;32m---> 20\u001b[0;31m         \u001b[0mdst\u001b[0m\u001b[0;34m.\u001b[0m\u001b[0mwrite\u001b[0m\u001b[0;34m(\u001b[0m\u001b[0mmean_ndvi\u001b[0m\u001b[0;34m.\u001b[0m\u001b[0mastype\u001b[0m\u001b[0;34m(\u001b[0m\u001b[0mrasterio\u001b[0m\u001b[0;34m.\u001b[0m\u001b[0mfloat32\u001b[0m\u001b[0;34m)\u001b[0m\u001b[0;34m,\u001b[0m \u001b[0;36m1\u001b[0m\u001b[0;34m)\u001b[0m\u001b[0;34m\u001b[0m\u001b[0;34m\u001b[0m\u001b[0m\n\u001b[0m\u001b[1;32m     21\u001b[0m \u001b[0;34m\u001b[0m\u001b[0m\n\u001b[1;32m     22\u001b[0m     \u001b[0mprint\u001b[0m\u001b[0;34m(\u001b[0m\u001b[0;34mf\"Saved mean NDVI for month {month:02d} to {output_file}\"\u001b[0m\u001b[0;34m)\u001b[0m\u001b[0;34m\u001b[0m\u001b[0;34m\u001b[0m\u001b[0m\n",
            "\u001b[0;32mrasterio/_io.pyx\u001b[0m in \u001b[0;36mrasterio._io.DatasetWriterBase.write\u001b[0;34m()\u001b[0m\n",
            "\u001b[0;31mValueError\u001b[0m: Source shape (1,) is inconsistent with given indexes 1"
          ]
        }
      ]
    },
    {
      "cell_type": "code",
      "source": [
        "# # Base folder for rainfall data\n",
        "# base_folder = '/content/drive/MyDrive/03_HI_soil_analysis/hawaii_soils/HCDP_Hawaii_Climate_Data_Portal/unzipped_folder/rainfall/new/month/statewide/data_map/'\n",
        "\n",
        "# monthly_means = {}\n",
        "\n",
        "# # Loop through each month (1 to 12)\n",
        "# for month in range(1, 13):\n",
        "#     monthly_stack = []\n",
        "\n",
        "#     # Loop through each year (2000-2023)\n",
        "#     for year in range(2000, 2024):\n",
        "#         # Skip November & December for 2023 since data is missing\n",
        "#         if year == 2023 and month > 10:\n",
        "#             continue\n",
        "\n",
        "#         # Construct the expected TIFF file name\n",
        "#         tiff_file = os.path.join(base_folder, str(year), f\"rainfall_new_month_statewide_data_map_{year}_{month:02d}.tif\")\n",
        "\n",
        "#         # Process the file if it exists\n",
        "#         if os.path.exists(tiff_file):\n",
        "#             with rasterio.open(tiff_file) as src:\n",
        "#                 monthly_stack.append(src.read(1))  # Read the first band\n",
        "\n",
        "#     # Compute the long-term mean if data is available\n",
        "#     if len(monthly_stack) > 0:\n",
        "#         monthly_stack = np.array(monthly_stack)\n",
        "#         monthly_means[month] = np.nanmean(monthly_stack, axis=0)\n",
        "#     else:\n",
        "#         monthly_means[month] = None  # Handle missing months gracefully\n"
      ],
      "metadata": {
        "id": "vPos1snHspX7"
      },
      "execution_count": 8,
      "outputs": []
    },
    {
      "cell_type": "code",
      "source": [
        "# # Define the output folder for mean rainfall TIFFs\n",
        "# output_folder = '/content/drive/MyDrive/03_HI_soil_analysis/hawaii_soils/HCDP_Hawaii_Climate_Data_Portal/rainfall/output_rainfall_means/'\n",
        "\n",
        "# # Ensure output folder exists\n",
        "# os.makedirs(output_folder, exist_ok=True)\n",
        "\n",
        "# # Use a reference TIFF for metadata (e.g., February 2023 file)\n",
        "# reference_file = \"/content/drive/MyDrive/03_HI_soil_analysis/hawaii_soils/HCDP_Hawaii_Climate_Data_Portal/unzipped_folder/rainfall/new/month/statewide/data_map/2023/rainfall_new_month_statewide_data_map_2023_02.tif\"\n",
        "\n",
        "# # Read metadata from the reference file\n",
        "# with rasterio.open(reference_file) as src:\n",
        "#     meta = src.meta\n",
        "\n",
        "# # Update metadata for output files\n",
        "# meta.update(dtype=rasterio.float32, count=1)\n",
        "\n",
        "# # Save the monthly mean rainfall as new TIFF files\n",
        "# for month, mean_rainfall in monthly_means.items():\n",
        "#     if mean_rainfall is not None:  # Ensure data exists for the month\n",
        "#         output_file = os.path.join(output_folder, f'mean_rainfall_{month:02d}.tif')\n",
        "\n",
        "#         with rasterio.open(output_file, 'w', **meta) as dst:\n",
        "#             dst.write(mean_rainfall.astype(rasterio.float32), 1)\n",
        "\n"
      ],
      "metadata": {
        "id": "vSOs_j76soK6"
      },
      "execution_count": 9,
      "outputs": []
    },
    {
      "cell_type": "markdown",
      "source": [
        "monthly mean temperature data (also need to do max and min)\n"
      ],
      "metadata": {
        "id": "wG-K9Au03pvm"
      }
    },
    {
      "cell_type": "code",
      "source": [
        "# Base folder for mean temperature data\n",
        "base_folder = '/content/drive/MyDrive/03_HI_soil_analysis/hawaii_soils/HCDP_Hawaii_Climate_Data_Portal/unzipped_folder/temperature/mean/month/statewide/data_map/'\n",
        "\n",
        "monthly_means = {}\n",
        "\n",
        "# Loop through each month (1 to 12)\n",
        "for month in range(1, 13):\n",
        "    monthly_stack = []\n",
        "\n",
        "    # Loop through each year (2000-2023)\n",
        "    for year in range(2000, 2024):\n",
        "\n",
        "        # Construct the expected TIFF file name\n",
        "        tiff_file = os.path.join(base_folder, str(year), f\"temperature_mean_month_statewide_data_map_{year}_{month:02d}.tif\")\n",
        "\n",
        "        # Process the file if it exists\n",
        "        if os.path.exists(tiff_file):\n",
        "            with rasterio.open(tiff_file) as src:\n",
        "                monthly_stack.append(src.read(1))  # Read the first band\n",
        "\n",
        "    # Compute the long-term mean if data is available\n",
        "    if len(monthly_stack) > 0:\n",
        "        monthly_stack = np.array(monthly_stack)\n",
        "        monthly_means[month] = np.nanmean(monthly_stack, axis=0)\n",
        "    else:\n",
        "        monthly_means[month] = None  # Handle missing months gracefully"
      ],
      "metadata": {
        "id": "Kb3e9j0q2ePb"
      },
      "execution_count": null,
      "outputs": []
    },
    {
      "cell_type": "code",
      "source": [
        "# # Define the output folder for mean rainfall TIFFs\n",
        "# output_folder = '/content/drive/MyDrive/03_HI_soil_analysis/hawaii_soils/HCDP_Hawaii_Climate_Data_Portal/rainfall/output_rainfall_means/'\n",
        "\n",
        "# # Ensure output folder exists\n",
        "# os.makedirs(output_folder, exist_ok=True)\n",
        "\n",
        "# # Use a reference TIFF for metadata (e.g., February 2023 file)\n",
        "# reference_file = \"/content/drive/MyDrive/03_HI_soil_analysis/hawaii_soils/HCDP_Hawaii_Climate_Data_Portal/unzipped_folder/rainfall/new/month/statewide/data_map/2023/rainfall_new_month_statewide_data_map_2023_02.tif\"\n",
        "\n",
        "# # Read metadata from the reference file\n",
        "# with rasterio.open(reference_file) as src:\n",
        "#     meta = src.meta\n",
        "\n",
        "# # Update metadata for output files\n",
        "# meta.update(dtype=rasterio.float32, count=1)\n",
        "\n",
        "# # Save the monthly mean rainfall as new TIFF files\n",
        "# for month, mean_rainfall in monthly_means.items():\n",
        "#     if mean_rainfall is not None:  # Ensure data exists for the month\n",
        "#         output_file = os.path.join(output_folder, f'mean_rainfall_{month:02d}.tif')\n",
        "\n",
        "#         with rasterio.open(output_file, 'w', **meta) as dst:\n",
        "#             dst.write(mean_rainfall.astype(rasterio.float32), 1)\n"
      ],
      "metadata": {
        "id": "GxrdSmba2gZc"
      },
      "execution_count": null,
      "outputs": []
    }
  ]
}