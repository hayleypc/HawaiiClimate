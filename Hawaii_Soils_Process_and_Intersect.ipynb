{
  "nbformat": 4,
  "nbformat_minor": 0,
  "metadata": {
    "colab": {
      "provenance": [],
      "machine_shape": "hm",
      "include_colab_link": true
    },
    "kernelspec": {
      "name": "ir",
      "display_name": "R"
    },
    "language_info": {
      "name": "R"
    }
  },
  "cells": [
    {
      "cell_type": "markdown",
      "metadata": {
        "id": "view-in-github",
        "colab_type": "text"
      },
      "source": [
        "<a href=\"https://colab.research.google.com/github/hayleypc/HawaiiClimate/blob/main/Hawaii_Soils_Process_and_Intersect.ipynb\" target=\"_parent\"><img src=\"https://colab.research.google.com/assets/colab-badge.svg\" alt=\"Open In Colab\"/></a>"
      ]
    },
    {
      "cell_type": "code",
      "execution_count": 1,
      "metadata": {
        "colab": {
          "base_uri": "https://localhost:8080/"
        },
        "id": "w3b2Yt1zzBa4",
        "outputId": "39d58f1e-d6f0-452d-9f24-28760165a553"
      },
      "outputs": [
        {
          "output_type": "stream",
          "name": "stderr",
          "text": [
            "Installing package into ‘/usr/local/lib/R/site-library’\n",
            "(as ‘lib’ is unspecified)\n",
            "\n",
            "Warning message in install.packages(\"sf\"):\n",
            "“installation of package ‘sf’ had non-zero exit status”\n",
            "Installing package into ‘/usr/local/lib/R/site-library’\n",
            "(as ‘lib’ is unspecified)\n",
            "\n",
            "Warning message in install.packages(\"raster\"):\n",
            "“installation of package ‘raster’ had non-zero exit status”\n",
            "Installing package into ‘/usr/local/lib/R/site-library’\n",
            "(as ‘lib’ is unspecified)\n",
            "\n"
          ]
        }
      ],
      "source": [
        "# install.packages('sf')\n",
        "# install.packages('raster')\n",
        "# install.packages('exactextractr')\n",
        "# install.packages(\"googledrive\")\n",
        "# install.packages(\"googletoken\")\n",
        "# install.packages(\"DBI\")\n",
        "# install.packages(\"RSQLite\")\n",
        "# install.packages(\"RPostgreSQL\")\n",
        "# install.packages(\"terra\")\n",
        "# install.packages('randomForest')"
      ]
    },
    {
      "cell_type": "code",
      "source": [
        "library(ggplot2)\n",
        "library(sf)\n",
        "library(magrittr)\n",
        "library(data.table)\n",
        "library(raster)\n",
        "library(exactextractr)\n",
        "library(googledrive)\n",
        "library(DBI) # database\n",
        "library(terra)\n",
        "library(randomForest)\n",
        "library(parallel)"
      ],
      "metadata": {
        "id": "Jt8zFz1p0QRy",
        "outputId": "08fb0568-d7ca-4fcf-80ee-88ba6d39b5e6",
        "colab": {
          "base_uri": "https://localhost:8080/"
        }
      },
      "execution_count": 2,
      "outputs": [
        {
          "output_type": "stream",
          "name": "stderr",
          "text": [
            "Linking to GEOS 3.11.1, GDAL 3.6.4, PROJ 9.1.1; sf_use_s2() is TRUE\n",
            "\n",
            "Loading required package: sp\n",
            "\n",
            "terra 1.7.78\n",
            "\n",
            "\n",
            "Attaching package: ‘terra’\n",
            "\n",
            "\n",
            "The following object is masked from ‘package:data.table’:\n",
            "\n",
            "    shift\n",
            "\n",
            "\n",
            "The following objects are masked from ‘package:magrittr’:\n",
            "\n",
            "    extract, inset\n",
            "\n",
            "\n",
            "randomForest 4.7-1.1\n",
            "\n",
            "Type rfNews() to see new features/changes/bug fixes.\n",
            "\n",
            "\n",
            "Attaching package: ‘randomForest’\n",
            "\n",
            "\n",
            "The following object is masked from ‘package:ggplot2’:\n",
            "\n",
            "    margin\n",
            "\n",
            "\n"
          ]
        }
      ]
    },
    {
      "cell_type": "code",
      "source": [
        "drive_auth(use_oob = TRUE, cache = FALSE)"
      ],
      "metadata": {
        "colab": {
          "base_uri": "https://localhost:8080/"
        },
        "id": "TIp-5Lr90ULs",
        "outputId": "a5e8a725-81bf-42b6-cbc2-e55d3acad194"
      },
      "execution_count": 3,
      "outputs": [
        {
          "output_type": "stream",
          "name": "stderr",
          "text": [
            "Please point your browser to the following url: \n",
            "\n",
            "https://accounts.google.com/o/oauth2/v2/auth?client_id=603366585132-frjlouoa3s2ono25d2l9ukvhlsrlnr7k.apps.googleusercontent.com&scope=https%3A%2F%2Fwww.googleapis.com%2Fauth%2Fdrive%20https%3A%2F%2Fwww.googleapis.com%2Fauth%2Fuserinfo.email&redirect_uri=https%3A%2F%2Fwww.tidyverse.org%2Fgoogle-callback%2F&response_type=code&state=9129c80703b4899ebec9d157d0559b1c&access_type=offline&prompt=consent\n",
            "\n"
          ]
        },
        {
          "name": "stdout",
          "output_type": "stream",
          "text": [
            "Enter authorization code: eyJjb2RlIjoiNC8wQVFsRWQ4ekNlYmQySVgzcmRKUFdUX2FSMkxSeVR6WklyYzVVR0Y0U2ZGVWdnVnJJQ1FVb2ZDNmZiWXZhVnh2ZGdUbkNuQSIsInN0YXRlIjoiOTEyOWM4MDcwM2I0ODk5ZWJlYzlkMTU3ZDA1NTliMWMifQ==\n"
          ]
        }
      ]
    },
    {
      "cell_type": "code",
      "source": [
        "dir.create('/content/predictor_variables/')"
      ],
      "metadata": {
        "id": "MGIH_xWJF3ul",
        "colab": {
          "base_uri": "https://localhost:8080/"
        },
        "outputId": "c7c23509-dca3-464f-add5-78499e1e6f71"
      },
      "execution_count": 4,
      "outputs": [
        {
          "output_type": "stream",
          "name": "stderr",
          "text": [
            "Warning message in dir.create(\"/content/predictor_variables/\"):\n",
            "“'/content/predictor_variables' already exists”\n"
          ]
        }
      ]
    },
    {
      "cell_type": "code",
      "source": [
        "# Hawaii GEDI data\n",
        "# https://drive.google.com/file/d/1UY3lxML0Y7bat_9-xEZQQHDkYRcODDZy/view?usp=drive_link\n",
        "drive_download(file = as_id('1UY3lxML0Y7bat_9-xEZQQHDkYRcODDZy'), path =  '/content/predictor_variables/Hawaii_GEDI_4A.gpkg', overwrite = FALSE)\n",
        "gedi_sf <- st_read('/content/predictor_variables/Hawaii_GEDI_4A.gpkg')"
      ],
      "metadata": {
        "id": "G56ZDP1G7lqX",
        "colab": {
          "base_uri": "https://localhost:8080/",
          "height": 280
        },
        "outputId": "d08e240e-3848-43df-a818-c0ec44fb4f86"
      },
      "execution_count": 5,
      "outputs": [
        {
          "output_type": "error",
          "ename": "ERROR",
          "evalue": "\u001b[1m\u001b[33mError\u001b[39m in `drive_download()`:\u001b[22m\n\u001b[1m\u001b[22m\u001b[33m!\u001b[39m Local `path` already exists and overwrite is `FALSE`:\n\u001b[36m•\u001b[39m \u001b[34m/content/predictor_variables/Hawaii_GEDI_4A.gpkg\u001b[39m\n",
          "traceback": [
            "\u001b[1m\u001b[33mError\u001b[39m in `drive_download()`:\u001b[22m\n\u001b[1m\u001b[22m\u001b[33m!\u001b[39m Local `path` already exists and overwrite is `FALSE`:\n\u001b[36m•\u001b[39m \u001b[34m/content/predictor_variables/Hawaii_GEDI_4A.gpkg\u001b[39m\nTraceback:\n",
            "1. drive_download(file = as_id(\"1UY3lxML0Y7bat_9-xEZQQHDkYRcODDZy\"), \n .     path = \"/content/predictor_variables/Hawaii_GEDI_4A.gpkg\", \n .     overwrite = FALSE)",
            "2. drive_abort(c(\"Local {.arg path} already exists and overwrite is {.code FALSE}:\", \n .     bulletize(gargle_map_cli(path, \"{.path <<x>>}\"))))",
            "3. cli::cli_abort(message = message, ..., .envir = .envir)",
            "4. rlang::abort(message, ..., call = call, use_cli_format = TRUE, \n .     .frame = .frame)",
            "5. signal_abort(cnd, .file)"
          ]
        }
      ]
    },
    {
      "cell_type": "code",
      "source": [
        "# All islands 250m grid\n",
        "# https://drive.google.com/file/d/1DcBOzWHwqJovd9hhIqLUjRlc2kpqEGKz/view?usp=drive_link\n",
        "drive_download(file = as_id('1DcBOzWHwqJovd9hhIqLUjRlc2kpqEGKz'), path =  '/content/predictor_variables/HI_250_m_grid.gpkg', overwrite = FALSE)"
      ],
      "metadata": {
        "id": "mm-ZhHvx-2ql"
      },
      "execution_count": null,
      "outputs": []
    },
    {
      "cell_type": "code",
      "source": [
        "folder_loc <- '/content/predictor_variables/TerraClimate/'\n",
        "dir.create(folder_loc)\n",
        "\n",
        "# https://drive.google.com/drive/folders/1bIbwKYmzP2o6VEAWyLIRmeMQbGFDt-vX?usp=drive_link\n",
        "folder_id <- \"1bIbwKYmzP2o6VEAWyLIRmeMQbGFDt-vX\"\n",
        "folder_files <- drive_ls(as_id(folder_id))\n",
        "\n",
        "for (i in 1:nrow(folder_files)) {\n",
        "  file_id <- folder_files$id[i]\n",
        "  file_name <- folder_files$name[i]\n",
        "  drive_download(as_id(file_id), path = paste0(folder_loc,file_name), overwrite = TRUE)\n",
        "}\n"
      ],
      "metadata": {
        "id": "TTAYfyTUHwhy"
      },
      "execution_count": null,
      "outputs": []
    },
    {
      "cell_type": "markdown",
      "source": [
        "replace files in the Drive folder"
      ],
      "metadata": {
        "id": "P0A8zDVjTqa0"
      }
    },
    {
      "cell_type": "code",
      "source": [
        "folder_loc <- '/content/predictor_variables/SRTM_mTPI/'\n",
        "dir.create(folder_loc)\n",
        "\n",
        "# https://drive.google.com/drive/folders/1YKJrZXTo-L4UpvJ0iEGo8yIX6uhoQ9AW?usp=drive_link\n",
        "folder_id <- \"1YKJrZXTo-L4UpvJ0iEGo8yIX6uhoQ9AW\"\n",
        "folder_files <- drive_ls(as_id(folder_id))\n",
        "\n",
        "for (i in 1:nrow(folder_files)) {\n",
        "  file_id <- folder_files$id[i]\n",
        "  file_name <- folder_files$name[i]\n",
        "  drive_download(as_id(file_id), path = paste0(folder_loc,file_name), overwrite = TRUE)\n",
        "}"
      ],
      "metadata": {
        "id": "g_O0J9MjE5TC"
      },
      "execution_count": null,
      "outputs": []
    },
    {
      "cell_type": "code",
      "source": [
        "folder_loc <- '/content/predictor_variables/Elevation/'\n",
        "dir.create(folder_loc)\n",
        "\n",
        "# https://drive.google.com/drive/folders/1XmH9T9xVINZZfPFi39Wus1l7c0SKS4Am?usp=drive_link\n",
        "folder_id <- \"1XmH9T9xVINZZfPFi39Wus1l7c0SKS4Am\"\n",
        "folder_files <- drive_ls(as_id(folder_id))\n",
        "\n",
        "for (i in 1:nrow(folder_files)) {\n",
        "  file_id <- folder_files$id[i]\n",
        "  file_name <- folder_files$name[i]\n",
        "  drive_download(as_id(file_id), path = paste0(folder_loc,file_name), overwrite = TRUE)\n",
        "}"
      ],
      "metadata": {
        "id": "LY0aET4DI-_2"
      },
      "execution_count": null,
      "outputs": []
    },
    {
      "cell_type": "code",
      "source": [
        "folder_loc <- '/content/predictor_variables/LandForms/'\n",
        "dir.create(folder_loc)\n",
        "\n",
        "# https://drive.google.com/drive/folders/1PkUR4GK50wC6Kgrvyy-d6067ypdX1dkx?usp=drive_link\n",
        "folder_id <- \"1PkUR4GK50wC6Kgrvyy-d6067ypdX1dkx\"\n",
        "folder_files <- drive_ls(as_id(folder_id))\n",
        "\n",
        "for (i in 1:nrow(folder_files)) {\n",
        "  file_id <- folder_files$id[i]\n",
        "  file_name <- folder_files$name[i]\n",
        "  drive_download(as_id(file_id), path = paste0(folder_loc,file_name), overwrite = TRUE)\n",
        "}"
      ],
      "metadata": {
        "id": "0zC2Pv1JJLnH"
      },
      "execution_count": null,
      "outputs": []
    },
    {
      "cell_type": "code",
      "source": [
        "folder_loc <- '/content/predictor_variables/LandSat_composite/'\n",
        "dir.create(folder_loc)\n",
        "\n",
        "# https://drive.google.com/drive/folders/1NzvurSghdEJdX0UsfdyuOcOyh6n3jUDo?usp=drive_link\n",
        "folder_id <- \"1NzvurSghdEJdX0UsfdyuOcOyh6n3jUDo\"\n",
        "folder_files <- drive_ls(as_id(folder_id))\n",
        "\n",
        "for (i in 1:nrow(folder_files)) {\n",
        "  file_id <- folder_files$id[i]\n",
        "  file_name <- folder_files$name[i]\n",
        "  drive_download(as_id(file_id), path = paste0(folder_loc,file_name), overwrite = TRUE)\n",
        "}"
      ],
      "metadata": {
        "id": "dqW2ASxSJY3a"
      },
      "execution_count": null,
      "outputs": []
    },
    {
      "cell_type": "code",
      "source": [
        "folder_loc <- '/content/predictor_variables/DynamicWorld_landcover/'\n",
        "dir.create(folder_loc)\n",
        "\n",
        "# https://drive.google.com/drive/folders/152pjTArpwlDVGjXFoSU9bmo1BDSKdCqq?usp=drive_link\n",
        "folder_id <- \"152pjTArpwlDVGjXFoSU9bmo1BDSKdCqq\"\n",
        "folder_files <- drive_ls(as_id(folder_id))\n",
        "\n",
        "for (i in 1:nrow(folder_files)) {\n",
        "  file_id <- folder_files$id[i]\n",
        "  file_name <- folder_files$name[i]\n",
        "  drive_download(as_id(file_id), path = paste0(folder_loc,file_name), overwrite = TRUE)\n",
        "}"
      ],
      "metadata": {
        "id": "JEWwTbKvJonY"
      },
      "execution_count": null,
      "outputs": []
    },
    {
      "cell_type": "code",
      "source": [
        "  # https://drive.google.com/file/d/1ryTzWz0t9mgI5ynPvMzM21D135dLJvWv/view?usp=drive_link\n",
        "  # Updated: https://drive.google.com/file/d/17c3DJcujQ_0MHirG2z2lSU88A0lvjo1C/view?usp=sharing\n",
        "# drive_download(as_id('17c3DJcujQ_0MHirG2z2lSU88A0lvjo1C'), path = paste0('/content/fia.csv'), overwrite = TRUE)\n",
        "# fia_dt <-  st_read('/content/fia.csv') %>% st_as_sf(coords = c(\"LON\",\"LAT\"), crs = 4326) %>% data.table"
      ],
      "metadata": {
        "id": "pwfG7o91Q_Lc"
      },
      "execution_count": null,
      "outputs": []
    },
    {
      "cell_type": "code",
      "source": [
        "dir_list <- list.dirs('/content/predictor_variables')[-1]\n",
        "\n",
        "names(dir_list) <- list.dirs('/content/predictor_variables',full.names = FALSE)[-1]"
      ],
      "metadata": {
        "id": "YCW8yTCgak0f"
      },
      "execution_count": 6,
      "outputs": []
    },
    {
      "cell_type": "markdown",
      "source": [
        "vrt is making a virtual raster tile\n",
        "option to fix the issue: make a vrt individually for each island then stack them after\n",
        "see if terraclimate is the issue (for Kauai), getting hidden by Oahu data"
      ],
      "metadata": {
        "id": "Xz9Uw2lqU3UA"
      }
    },
    {
      "cell_type": "code",
      "source": [
        "# List of your TIFF files\n",
        "tif_files <- list.files(\"/content/predictor_variables/TerraClimate\", pattern = \"\\\\.tif$\", full.names = TRUE)\n",
        "\n",
        "# Read the TIFF files into a list of raster objects\n",
        "raster_list <- lapply(tif_files, rast)\n",
        "\n",
        "mosaic_raster <- do.call(mosaic, c(raster_list, fun = max))\n",
        "\n",
        "writeRaster(mosaic_raster, \"/content/predictor_variables/TerraClimate.tif\", overwrite = TRUE)"
      ],
      "metadata": {
        "id": "6sXIMIvLZsTt"
      },
      "execution_count": 7,
      "outputs": []
    },
    {
      "cell_type": "code",
      "source": [
        "names(dir_list) %>% lapply(function(x){\n",
        "# print(x)\n",
        " y <- dir_list[[x]]\n",
        " vrt(y %>% lapply(function(x){\n",
        "  file_list <- list.files(y, pattern='*.tif',full.names = T)\n",
        "  file_sizes <- lapply(file_list,file.size) %>% unlist %>% order\n",
        "  file_list[file_sizes] %>% return\n",
        "  }) %>% unlist,filename=paste0(y,'/',x,'.vrt'),overwrite=T)\n",
        "#  vrt_rast <- paste0(y,'/',x,'.vrt') %>% rast\n",
        "#  writeRaster(vrt_rast, paste0('/content/predictor_mosaic/',x,'.tif'),overwrite=T)\n",
        "#  print(paste('Done',x))\n",
        "})"
      ],
      "metadata": {
        "id": "sGil211aRI3v"
      },
      "execution_count": 8,
      "outputs": []
    },
    {
      "cell_type": "code",
      "source": [
        "list.files('/content/predictor_variables',pattern = '*.vrt',full.names = T,recursive = T)"
      ],
      "metadata": {
        "id": "QdBLhZgNq77j"
      },
      "execution_count": null,
      "outputs": []
    },
    {
      "cell_type": "code",
      "source": [
        "raster_list <- list.files('/content/predictor_variables',pattern = '*.vrt',full.names = T,recursive = T) %>% lapply(stack) %>% lapply(rast)\n",
        "\n",
        "raster_list"
      ],
      "metadata": {
        "id": "HMu5GpIwQpd4",
        "outputId": "0219ffc6-d64a-47eb-b281-270511322aa4",
        "colab": {
          "base_uri": "https://localhost:8080/",
          "height": 937
        }
      },
      "execution_count": 9,
      "outputs": [
        {
          "output_type": "display_data",
          "data": {
            "text/plain": [
              "[[1]]\n",
              "class       : SpatRaster \n",
              "dimensions  : 371833, 2204931, 10  (nrow, ncol, nlyr)\n",
              "resolution  : 9.031842e-05, 9.031842e-05  (x, y)\n",
              "extent      : -178.4436, 20.70229, 18.8654, 52.44877  (xmin, xmax, ymin, ymax)\n",
              "coord. ref. : +proj=longlat +datum=WGS84 +no_defs \n",
              "source      : DynamicWorld_landcover.vrt \n",
              "names       : Dynam~ver_1, Dynam~ver_2, Dynam~ver_3, Dynam~ver_4, Dynam~ver_5, Dynam~ver_6, ... \n",
              "\n",
              "[[2]]\n",
              "class       : SpatRaster \n",
              "dimensions  : 35816, 87898, 1  (nrow, ncol, nlyr)\n",
              "resolution  : 0.0002694946, 0.0002694946  (x, y)\n",
              "extent      : -178.4436, -154.7556, 18.8652, 28.51742  (xmin, xmax, ymin, ymax)\n",
              "coord. ref. : +proj=longlat +datum=WGS84 +no_defs \n",
              "source      : Elevation.vrt \n",
              "name        : Elevation \n",
              "\n",
              "[[3]]\n",
              "class       : SpatRaster \n",
              "dimensions  : 80530, 270460, 1  (nrow, ncol, nlyr)\n",
              "resolution  : 0.0002694946, 0.0002694946  (x, y)\n",
              "extent      : -178.4437, -105.5562, 18.86543, 40.56783  (xmin, xmax, ymin, ymax)\n",
              "coord. ref. : +proj=longlat +datum=WGS84 +no_defs \n",
              "source      : LandForms.vrt \n",
              "name        : LandForms \n",
              "\n",
              "[[4]]\n",
              "class       : SpatRaster \n",
              "dimensions  : 35815, 87898, 7  (nrow, ncol, nlyr)\n",
              "resolution  : 0.0002694946, 0.0002694946  (x, y)\n",
              "extent      : -178.4437, -154.7556, 18.86543, 28.51738  (xmin, xmax, ymin, ymax)\n",
              "coord. ref. : +proj=longlat +datum=WGS84 +no_defs \n",
              "source      : LandSat_composite.vrt \n",
              "names       : LandS~ite_1, LandS~ite_2, LandS~ite_3, LandS~ite_4, LandS~ite_5, LandS~ite_6, ... \n",
              "\n",
              "[[5]]\n",
              "class       : SpatRaster \n",
              "dimensions  : 11939, 29300, 1  (nrow, ncol, nlyr)\n",
              "resolution  : 0.0008084838, 0.0008084838  (x, y)\n",
              "extent      : -178.4437, -154.7551, 18.86516, 28.51765  (xmin, xmax, ymin, ymax)\n",
              "coord. ref. : +proj=longlat +datum=WGS84 +no_defs \n",
              "source      : SRTM_mTPI.vrt \n",
              "name        : SRTM_mTPI \n",
              "\n",
              "[[6]]\n",
              "class       : SpatRaster \n",
              "dimensions  : 1075, 2638, 14  (nrow, ncol, nlyr)\n",
              "resolution  : 0.008983153, 0.008983153  (x, y)\n",
              "extent      : -178.4503, -154.7528, 18.86462, 28.52151  (xmin, xmax, ymin, ymax)\n",
              "coord. ref. : +proj=longlat +datum=WGS84 +no_defs \n",
              "source      : TerraClimate.vrt \n",
              "names       : Terra~ate_1, Terra~ate_2, Terra~ate_3, Terra~ate_4, Terra~ate_5, Terra~ate_6, ... \n"
            ]
          },
          "metadata": {}
        }
      ]
    },
    {
      "cell_type": "code",
      "source": [
        "raster_list[[6]] <- rast('/content/predictor_variables/TerraClimate.tif')"
      ],
      "metadata": {
        "id": "hl0gZanPDYly"
      },
      "execution_count": 10,
      "outputs": []
    },
    {
      "cell_type": "code",
      "source": [
        "gedi_dt <- st_read('/content/predictor_variables/Hawaii_GEDI_4A.gpkg') %>% data.table()"
      ],
      "metadata": {
        "id": "Vjw92rp4dUX4",
        "outputId": "d6dc903d-fc68-4ebb-d299-b136a11bbda5",
        "colab": {
          "base_uri": "https://localhost:8080/"
        }
      },
      "execution_count": 11,
      "outputs": [
        {
          "output_type": "stream",
          "name": "stdout",
          "text": [
            "Reading layer `Hawaii_GEDI_2' from data source \n",
            "  `/content/predictor_variables/Hawaii_GEDI_4A.gpkg' using driver `GPKG'\n",
            "Integer64 values larger than 9.0072e+15 lost significance after conversion to double;\n",
            "use argument int64_as_string = TRUE to import them lossless, as character\n",
            "Simple feature collection with 4839466 features and 28 fields\n",
            "Geometry type: POINT\n",
            "Dimension:     XY\n",
            "Bounding box:  xmin: -160.6006 ymin: 18.86556 xmax: -154.7559 ymax: 22.28996\n",
            "Geodetic CRS:  WGS 84\n"
          ]
        }
      ]
    },
    {
      "cell_type": "code",
      "source": [
        "#https://drive.google.com/file/d/1DcBOzWHwqJovd9hhIqLUjRlc2kpqEGKz/view?usp=drive_link\n",
        "grid_dt <- st_read('/content/predictor_variables/HI_250_m_grid.gpkg') %>% data.table()"
      ],
      "metadata": {
        "id": "ZMoeZ7mCApLr",
        "outputId": "58fdcb89-45d5-40d6-ef73-a5b075397a29",
        "colab": {
          "base_uri": "https://localhost:8080/"
        }
      },
      "execution_count": 12,
      "outputs": [
        {
          "output_type": "stream",
          "name": "stdout",
          "text": [
            "Reading layer `250_summary_grid_dt' from data source \n",
            "  `/content/predictor_variables/HI_250_m_grid.gpkg' using driver `GPKG'\n",
            "Simple feature collection with 359163 features and 35 fields\n",
            "Geometry type: POINT\n",
            "Dimension:     XY\n",
            "Bounding box:  xmin: -159.7877 ymin: 18.91217 xmax: -154.807 ymax: 22.23237\n",
            "Geodetic CRS:  WGS 84\n"
          ]
        }
      ]
    },
    {
      "cell_type": "code",
      "source": [
        "example_poly <- grid_dt %>% st_as_sf %>% st_transform(4135) %>% st_buffer(250) %>% st_transform(4326)"
      ],
      "metadata": {
        "id": "0rqZtzoTdbw-"
      },
      "execution_count": 13,
      "outputs": []
    },
    {
      "cell_type": "code",
      "source": [
        "  cover_dt <- data.table(exact_extract(raster_list[[1]],example_poly %>% st_as_sf,'mean',progress = TRUE) %>% data.table)\n",
        "  names(cover_dt) <- c(\"water\", \"trees\", \"grass\", \"flooded_vegetation\", \"crops\", \"shrub_and_scrub\", \"built\", \"bare\", \"snow_and_ice\",'max')\n",
        "\n",
        "  elevation_dt <- data.table(exact_extract(raster_list[[2]],example_poly %>% st_as_sf,'mean',progress = TRUE) %>% data.table)\n",
        "  names(elevation_dt) <- c(\"elevation\")\n",
        "\n",
        "  landform_dt <- data.table(exact_extract(raster_list[[3]],example_poly %>% st_as_sf,'mode',progress = TRUE) %>% data.table)\n",
        "  names(landform_dt) <- c(\"landform\")\n",
        "\n",
        "  ls_dt <- data.table(exact_extract(raster_list[[4]],example_poly %>% st_as_sf,'mean',progress = TRUE) %>% data.table)\n",
        "  names(ls_dt) <- c(\"ultra_blue\", \"blue\", \"green\", \"red\", \"infrared\", \"sw1\", \"sw2\")\n",
        "\n",
        "  tpi_dt <- data.table(exact_extract(raster_list[[5]],example_poly %>% st_as_sf,'mean',progress = TRUE) %>% data.table)\n",
        "  names(tpi_dt) <- c(\"SRTM_mTPI\")\n",
        "\n",
        "  climate_dt <- data.table(exact_extract(raster_list[[6]],example_poly %>% st_as_sf,'mean',progress = TRUE) %>% data.table)\n",
        "  names(climate_dt) <- c(\"aet\", \"def\", \"pdsi\", \"pet\", \"pr\", \"ro\", \"soil\", \"srad\", \"swe\", \"tmmn\", \"tmmx\", \"vap\", \"vpd\", \"vs\")\n"
      ],
      "metadata": {
        "id": "VmD1ybB9dVmg",
        "colab": {
          "base_uri": "https://localhost:8080/"
        },
        "outputId": "c25ac861-b813-4d94-82df-93b169b51f19"
      },
      "execution_count": 14,
      "outputs": [
        {
          "metadata": {
            "tags": null
          },
          "name": "stderr",
          "output_type": "stream",
          "text": [
            "Cannot preload entire working area of 20320776000 cells with max_cells_in_memory = 3e+07. Raster values will be read for each feature individually.\n",
            "\n"
          ]
        },
        {
          "output_type": "stream",
          "name": "stdout",
          "text": [
            "  |======================================================================| 100%\n"
          ]
        },
        {
          "output_type": "stream",
          "name": "stderr",
          "text": [
            "Cannot preload entire working area of 228265338 cells with max_cells_in_memory = 3e+07. Raster values will be read for each feature individually.\n",
            "\n"
          ]
        },
        {
          "output_type": "stream",
          "name": "stdout",
          "text": [
            "  |======================================================================| 100%\n"
          ]
        },
        {
          "output_type": "stream",
          "name": "stderr",
          "text": [
            "Cannot preload entire working area of 228246837 cells with max_cells_in_memory = 3e+07. Raster values will be read for each feature individually.\n",
            "\n"
          ]
        },
        {
          "output_type": "stream",
          "name": "stdout",
          "text": [
            "  |======================================================================| 100%\n"
          ]
        },
        {
          "output_type": "stream",
          "name": "stderr",
          "text": [
            "Cannot preload entire working area of 1597727859 cells with max_cells_in_memory = 3e+07. Raster values will be read for each feature individually.\n",
            "\n"
          ]
        },
        {
          "output_type": "stream",
          "name": "stdout",
          "text": [
            "  |======================================================================| 100%\n",
            "  |======================================================================| 100%\n",
            "  |======================================================================| 100%\n"
          ]
        }
      ]
    },
    {
      "cell_type": "code",
      "source": [
        "gedi_sf %>% data.table %>% names"
      ],
      "metadata": {
        "id": "Z-e4faV1K35T",
        "colab": {
          "base_uri": "https://localhost:8080/",
          "height": 124
        },
        "outputId": "abcf89e3-69fb-42f8-ae6b-a956564c4374"
      },
      "execution_count": 15,
      "outputs": [
        {
          "output_type": "error",
          "ename": "ERROR",
          "evalue": "Error in eval(expr, envir, enclos): object 'gedi_sf' not found\n",
          "traceback": [
            "Error in eval(expr, envir, enclos): object 'gedi_sf' not found\nTraceback:\n",
            "1. gedi_sf %>% data.table %>% names",
            "2. data.table(.)"
          ]
        }
      ]
    },
    {
      "cell_type": "code",
      "source": [
        "# st_crs(gedi_sf)\n",
        "# grid_int_dt <- fia_dt[,c('PLOT','Stock_SOC_Mg_Ha','geometry')] %>% st_as_sf() %>% st_transform(4135) %>% st_buffer(10000) %>% st_transform(4326) %>% st_intersects(grid_dt %>% st_as_sf %>% st_transform(4326))"
      ],
      "metadata": {
        "id": "wYO-YzRVStbF"
      },
      "execution_count": null,
      "outputs": []
    },
    {
      "cell_type": "code",
      "source": [
        "# gedi_sf$l4_quality_flag %>% table\n",
        "# gedi_dt <-gedi_sf %>% data.table\n",
        "gedi_dt <- gedi_dt[l4_quality_flag == 1]"
      ],
      "metadata": {
        "id": "sC9H1gmzTUBo"
      },
      "execution_count": null,
      "outputs": []
    },
    {
      "cell_type": "code",
      "source": [
        "gedi_int_dt <- gedi_dt$geom %>% st_intersects(example_poly,.)"
      ],
      "metadata": {
        "id": "ooxhSkk7TgWX"
      },
      "execution_count": null,
      "outputs": []
    },
    {
      "cell_type": "code",
      "source": [
        "example_poly[1,] %>% st_intersects(gedi_sf)"
      ],
      "metadata": {
        "id": "YD-839oXO9vm"
      },
      "execution_count": null,
      "outputs": []
    },
    {
      "cell_type": "code",
      "source": [
        "gedi_summary_dt <- gedi_int_dt %>% lapply(function(x){\n",
        "  sub_gedi_dt <- gedi_dt[x,]\n",
        "  sub_gedi_dt[,list(agbd_m = mean(agbd,na.rm=T),agbd_sd = sd(agbd,na.rm=T),agbd_n = length(agbd))]\n",
        "}) %>% rbindlist()"
      ],
      "metadata": {
        "id": "MmEZIQcuVoM6"
      },
      "execution_count": null,
      "outputs": []
    },
    {
      "cell_type": "code",
      "source": [
        "# gedi_summary_dt %>% nrow"
      ],
      "metadata": {
        "id": "uvNqxLtjZb0P"
      },
      "execution_count": null,
      "outputs": []
    },
    {
      "cell_type": "code",
      "source": [
        "rf_dt <- data.table(example_poly,cover_dt,elevation_dt,landform_dt,tpi_dt,climate_dt,gedi_summary_dt)\n"
      ],
      "metadata": {
        "id": "MgC2Oc19MhrP"
      },
      "execution_count": null,
      "outputs": []
    },
    {
      "cell_type": "code",
      "source": [
        "# rf_dt$geom <- grid_dt[grid_int_unique]$geom\n"
      ],
      "metadata": {
        "id": "28qD0Uc2MkbO"
      },
      "execution_count": null,
      "outputs": []
    },
    {
      "cell_type": "code",
      "source": [
        "rf_dt %>% st_as_sf %>% st_write('250_summary_grid_dt.gpkg',delete_dsn = T)"
      ],
      "metadata": {
        "id": "t-X-i-czM3cj"
      },
      "execution_count": null,
      "outputs": []
    },
    {
      "cell_type": "code",
      "source": [
        "rf_dt %>% names"
      ],
      "metadata": {
        "id": "bpC_PzEKaOQG"
      },
      "execution_count": null,
      "outputs": []
    },
    {
      "cell_type": "code",
      "source": [
        "rf_dt %>%\n",
        "  ggplot(aes(x=srad,y=agbd_m)) +\n",
        "  # xlim(0,500)+\n",
        "\n",
        "  geom_bin2d() +\n",
        "    geom_smooth(method='lm')"
      ],
      "metadata": {
        "id": "tnC_SFBiaJOQ"
      },
      "execution_count": null,
      "outputs": []
    },
    {
      "cell_type": "code",
      "source": [
        "# https://drive.google.com/drive/folders/1uVZCzCb5gRE8wfZckspRuKz1TQd5LpeM?usp=drive_link\n",
        "drive_upload(\"/content/250_summary_grid_dt.gpkg\", path = as_id(\"1uVZCzCb5gRE8wfZckspRuKz1TQd5LpeM\"))"
      ],
      "metadata": {
        "id": "6i5eFIGc1vby"
      },
      "execution_count": null,
      "outputs": []
    }
  ]
}