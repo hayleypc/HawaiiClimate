{
  "nbformat": 4,
  "nbformat_minor": 0,
  "metadata": {
    "colab": {
      "provenance": [],
      "authorship_tag": "ABX9TyP0AhdBUtT6DMWfggRnmM/M",
      "include_colab_link": true
    },
    "kernelspec": {
      "name": "python3",
      "display_name": "Python 3"
    },
    "language_info": {
      "name": "python"
    }
  },
  "cells": [
    {
      "cell_type": "markdown",
      "metadata": {
        "id": "view-in-github",
        "colab_type": "text"
      },
      "source": [
        "<a href=\"https://colab.research.google.com/github/hayleypc/HawaiiClimate/blob/main/process_climate_mosaic.ipynb\" target=\"_parent\"><img src=\"https://colab.research.google.com/assets/colab-badge.svg\" alt=\"Open In Colab\"/></a>"
      ]
    },
    {
      "cell_type": "code",
      "source": [
        "from google.colab import drive\n",
        "drive.mount('/content/drive')"
      ],
      "metadata": {
        "colab": {
          "base_uri": "https://localhost:8080/"
        },
        "id": "alQAeKRaHTuB",
        "outputId": "a3f74950-4d20-4bc8-96b6-ba1e2772fa61"
      },
      "execution_count": 2,
      "outputs": [
        {
          "output_type": "stream",
          "name": "stdout",
          "text": [
            "Mounted at /content/drive\n"
          ]
        }
      ]
    },
    {
      "cell_type": "code",
      "execution_count": 4,
      "metadata": {
        "colab": {
          "base_uri": "https://localhost:8080/"
        },
        "id": "oolmD8MYFv3g",
        "outputId": "e79170a7-d4af-4a6c-8a4c-0943cb316872"
      },
      "outputs": [
        {
          "output_type": "stream",
          "name": "stdout",
          "text": [
            "Reading package lists... Done\n",
            "Building dependency tree... Done\n",
            "Reading state information... Done\n",
            "Package python-gdal is not available, but is referred to by another package.\n",
            "This may mean that the package is missing, has been obsoleted, or\n",
            "is only available from another source\n",
            "However the following packages replace it:\n",
            "  gdal-bin\n",
            "\n",
            "E: Package 'python-gdal' has no installation candidate\n"
          ]
        }
      ],
      "source": [
        "# !pip install osr\n",
        "# !pip install osgeo\n",
        "# !apt-get install python-gdal"
      ]
    },
    {
      "cell_type": "code",
      "source": [
        "from osgeo import gdal\n",
        "import os\n",
        "# Path to the folder containing TIFF files\n",
        "input_folder = '/content/drive/Shareddrives/Project_USFS FIA 2023/hawaii_soils/Island_Mean_Climate/'\n",
        "\n",
        "# Path and name for the output mosaic\n",
        "output_mosaic = '/content/drive/MyDrive/03_HI_archetypes_soilscapes/climate_data/TerraClimate_Island_Mean_Climate_mosaic.tif'\n",
        "\n",
        "# Get a list of all TIFF files in the input folder\n",
        "input_files = [f\"{input_folder}{f}\" for f in os.listdir(input_folder) if f.endswith('.tif')]"
      ],
      "metadata": {
        "id": "hhaqpyJBQE2O"
      },
      "execution_count": 49,
      "outputs": []
    },
    {
      "cell_type": "code",
      "source": [
        "input_files"
      ],
      "metadata": {
        "colab": {
          "base_uri": "https://localhost:8080/"
        },
        "id": "3_OzvNnLTtkX",
        "outputId": "1ba8edab-0497-4d86-961c-8035da603e54"
      },
      "execution_count": 50,
      "outputs": [
        {
          "output_type": "execute_result",
          "data": {
            "text/plain": [
              "['/content/drive/Shareddrives/Project_USFS FIA 2023/hawaii_soils/Island_Mean_Climate/Maui_Mean_Climate_1958_to_2023.tif',\n",
              " '/content/drive/Shareddrives/Project_USFS FIA 2023/hawaii_soils/Island_Mean_Climate/Molokai_Mean_Climate_1958_to_2023.tif',\n",
              " '/content/drive/Shareddrives/Project_USFS FIA 2023/hawaii_soils/Island_Mean_Climate/Lanai_Mean_Climate_1958_to_2023.tif',\n",
              " '/content/drive/Shareddrives/Project_USFS FIA 2023/hawaii_soils/Island_Mean_Climate/Hawaii_Mean_Climate_1958_to_2023.tif',\n",
              " '/content/drive/Shareddrives/Project_USFS FIA 2023/hawaii_soils/Island_Mean_Climate/Niihau_Mean_Climate_1958_to_2023.tif',\n",
              " '/content/drive/Shareddrives/Project_USFS FIA 2023/hawaii_soils/Island_Mean_Climate/Kauai_Mean_Climate_1958_to_2023.tif',\n",
              " '/content/drive/Shareddrives/Project_USFS FIA 2023/hawaii_soils/Island_Mean_Climate/Oahu_Mean_Climate_1958_to_2023.tif']"
            ]
          },
          "metadata": {},
          "execution_count": 50
        }
      ]
    },
    {
      "cell_type": "code",
      "source": [
        "[i for i in reversed(input_files)]"
      ],
      "metadata": {
        "colab": {
          "base_uri": "https://localhost:8080/"
        },
        "id": "oV69aMcIRwbi",
        "outputId": "a373073c-3461-4ce6-8583-923756e515b0"
      },
      "execution_count": 48,
      "outputs": [
        {
          "output_type": "execute_result",
          "data": {
            "text/plain": [
              "['/content/drive/Shareddrives/Project_USFS FIA 2023/hawaii_soils/Island_Mean_Climate/Oahu_Mean_Climate_1958_to_2023.tif',\n",
              " '/content/drive/Shareddrives/Project_USFS FIA 2023/hawaii_soils/Island_Mean_Climate/Niihau_Mean_Climate_1958_to_2023.tif',\n",
              " '/content/drive/Shareddrives/Project_USFS FIA 2023/hawaii_soils/Island_Mean_Climate/Molokai_Mean_Climate_1958_to_2023.tif',\n",
              " '/content/drive/Shareddrives/Project_USFS FIA 2023/hawaii_soils/Island_Mean_Climate/Maui_Mean_Climate_1958_to_2023.tif',\n",
              " '/content/drive/Shareddrives/Project_USFS FIA 2023/hawaii_soils/Island_Mean_Climate/Lanai_Mean_Climate_1958_to_2023.tif',\n",
              " '/content/drive/Shareddrives/Project_USFS FIA 2023/hawaii_soils/Island_Mean_Climate/Kauai_Mean_Climate_1958_to_2023.tif',\n",
              " '/content/drive/Shareddrives/Project_USFS FIA 2023/hawaii_soils/Island_Mean_Climate/Hawaii_Mean_Climate_1958_to_2023.tif']"
            ]
          },
          "metadata": {},
          "execution_count": 48
        }
      ]
    },
    {
      "cell_type": "code",
      "source": [
        "# warp_options = gdal.WarpOptions(options=['NUM_THREADS=ALL_CPUS', 'RESAMPLING=MAX'])\n",
        "warp_options = gdal.WarpOptions(options=['NUM_THREADS=ALL_CPUS', 'RESAMPLING=SUM'], creationOptions=['COMPRESS=LZW', 'TILED=YES', 'BIGTIFF=YES', 'PHOTOMETRIC=MINISBLACK', 'INTERLEAVE=BAND', 'NBITS=16'])\n",
        "\n",
        "# Create the mosaic\n",
        "mosaic_ds = gdal.Warp(output_mosaic, [i for i in reversed(input_files)], options=warp_options)\n",
        "\n",
        "# Close the mosaic dataset\n",
        "mosaic_ds = None\n"
      ],
      "metadata": {
        "id": "yitPVsPfLXnf"
      },
      "execution_count": 52,
      "outputs": []
    }
  ]
}