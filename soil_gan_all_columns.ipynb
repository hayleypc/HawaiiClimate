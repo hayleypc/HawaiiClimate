{
  "nbformat": 4,
  "nbformat_minor": 0,
  "metadata": {
    "colab": {
      "provenance": [],
      "authorship_tag": "ABX9TyPpwA0EsVyQkaonr7j4zzs3",
      "include_colab_link": true
    },
    "kernelspec": {
      "name": "python3",
      "display_name": "Python 3"
    },
    "language_info": {
      "name": "python"
    }
  },
  "cells": [
    {
      "cell_type": "markdown",
      "metadata": {
        "id": "view-in-github",
        "colab_type": "text"
      },
      "source": [
        "<a href=\"https://colab.research.google.com/github/hayleypc/HawaiiClimate/blob/main/soil_gan_all_columns.ipynb\" target=\"_parent\"><img src=\"https://colab.research.google.com/assets/colab-badge.svg\" alt=\"Open In Colab\"/></a>"
      ]
    },
    {
      "cell_type": "code",
      "execution_count": null,
      "metadata": {
        "id": "FJSR_lUJAuGW"
      },
      "outputs": [],
      "source": [
        "import tensorflow as tf\n",
        "from tensorflow.keras import layers, models"
      ]
    },
    {
      "cell_type": "code",
      "source": [],
      "metadata": {
        "id": "LbLvk1LYBfRP"
      },
      "execution_count": null,
      "outputs": []
    },
    {
      "cell_type": "code",
      "source": [
        "from google.colab import drive\n",
        "drive.mount('/content/drive')"
      ],
      "metadata": {
        "colab": {
          "base_uri": "https://localhost:8080/"
        },
        "id": "TfASAHA7B1a0",
        "outputId": "c82dbbcf-1337-4d68-b865-01bd1c5e8a27"
      },
      "execution_count": null,
      "outputs": [
        {
          "output_type": "stream",
          "name": "stdout",
          "text": [
            "Mounted at /content/drive\n"
          ]
        }
      ]
    },
    {
      "cell_type": "code",
      "source": [
        "import geopandas as gpd"
      ],
      "metadata": {
        "id": "FUiG_4XBCkTW"
      },
      "execution_count": null,
      "outputs": []
    },
    {
      "cell_type": "code",
      "source": [
        "# Define the generator model\n",
        "def build_generator(latent_dim, sequence_length):\n",
        "    model = models.Sequential([\n",
        "        layers.Dense(256, activation='relu', input_dim=latent_dim),\n",
        "        layers.BatchNormalization(),\n",
        "        layers.LeakyReLU(alpha=0.2),\n",
        "        layers.Dense(512, activation='relu'),\n",
        "        layers.BatchNormalization(),\n",
        "        layers.LeakyReLU(alpha=0.2),\n",
        "        layers.Dense(1024, activation='relu'),\n",
        "        layers.BatchNormalization(),\n",
        "        layers.LeakyReLU(alpha=0.2),\n",
        "        layers.Dense(sequence_length, activation='tanh')\n",
        "    ])\n",
        "    return model"
      ],
      "metadata": {
        "id": "uUacgusjBMnm"
      },
      "execution_count": null,
      "outputs": []
    },
    {
      "cell_type": "markdown",
      "source": [],
      "metadata": {
        "id": "OQCFUCGYZ9-Y"
      }
    },
    {
      "cell_type": "code",
      "source": [
        "# Define the discriminator model\n",
        "def build_discriminator(sequence_length):\n",
        "    model = models.Sequential([\n",
        "        layers.Dense(1024, activation='relu', input_dim=sequence_length),\n",
        "        layers.Dropout(0.3),\n",
        "        layers.Dense(512, activation='relu'),\n",
        "        layers.Dropout(0.3),\n",
        "        layers.Dense(256, activation='relu'),\n",
        "        layers.Dropout(0.3),\n",
        "        layers.Dense(128, activation='relu'),\n",
        "        layers.Dense(1, activation='sigmoid')\n",
        "    ])\n",
        "    return model"
      ],
      "metadata": {
        "id": "hywSkpYkBOk-"
      },
      "execution_count": null,
      "outputs": []
    },
    {
      "cell_type": "code",
      "source": [
        "\n",
        "# Define the GAN model\n",
        "def build_gan(generator, discriminator):\n",
        "    discriminator.trainable = False\n",
        "    model = models.Sequential([\n",
        "        generator,\n",
        "        discriminator\n",
        "    ])\n",
        "    return model\n"
      ],
      "metadata": {
        "id": "xuMwXpo5BRMu"
      },
      "execution_count": null,
      "outputs": []
    },
    {
      "cell_type": "code",
      "source": [
        "# Update the training function to include validation\n",
        "def train_gan(generator, discriminator, gan, epochs, batch_size, latent_dim, val_gen):\n",
        "    for epoch in range(epochs):\n",
        "        # Train on batches from the training generator\n",
        "        for _ in range(len(train_sequences) // batch_size):\n",
        "            # Generate fake sequences\n",
        "            noise = tf.random.normal(shape=(batch_size, latent_dim))\n",
        "            fake_sequences = generator.predict(noise)\n",
        "\n",
        "            # Get a batch of real sequences from the training generator\n",
        "            real_sequences = next(train_gen)\n",
        "\n",
        "            # Labels for real and fake data\n",
        "            real_labels = tf.ones((batch_size, 1))\n",
        "            fake_labels = tf.zeros((batch_size, 1))\n",
        "\n",
        "            # Train the discriminator\n",
        "            discriminator.trainable = True\n",
        "            d_loss_real = discriminator.train_on_batch(real_sequences, real_labels)\n",
        "            d_loss_fake = discriminator.train_on_batch(fake_sequences, fake_labels)\n",
        "            d_loss = 0.5 * tf.add(d_loss_real, d_loss_fake)\n",
        "\n",
        "            # Train the generator\n",
        "            discriminator.trainable = False\n",
        "            noise = tf.random.normal(shape=(batch_size, latent_dim))\n",
        "            g_loss = gan.train_on_batch(noise, real_labels)\n",
        "\n",
        "        # Validation\n",
        "        val_real_sequences = next(val_gen)\n",
        "        val_fake_sequences = generator.predict(tf.random.normal(shape=(batch_size, latent_dim)))\n",
        "        val_d_loss_real = discriminator.evaluate(val_real_sequences, tf.ones((batch_size, 1)), verbose=0)\n",
        "        val_d_loss_fake = discriminator.evaluate(val_fake_sequences, tf.zeros((batch_size, 1)), verbose=0)\n",
        "        val_d_loss = 0.5 * np.add(val_d_loss_real, val_d_loss_fake)\n",
        "\n",
        "        # Print the progress\n",
        "        print(f\"Epoch: {epoch+1}/{epochs}, D Loss: {d_loss}, G Loss: {g_loss}, Val D Loss: {val_d_loss}\")\n",
        "\n",
        "\n",
        "        if epoch % 100 == 0:\n",
        "          # data = validate_generator()\n",
        "          data = validate_generator()\n",
        "          x_values = [ datum[0] for datum in data]\n",
        "          y_values = [ datum[1] for datum in data]\n",
        "\n",
        "          # Create a scatter plot\n",
        "          plt.scatter(x_values, y_values, color='blue')\n",
        "\n",
        "          # Add labels and title\n",
        "          plt.xlabel('Sample Index')\n",
        "          plt.ylabel('Difference between Real and Generated')\n",
        "          plt.title('Scatter Plot of Validation Differences')\n",
        "\n",
        "          # Show the plot\n",
        "          plt.show()\n"
      ],
      "metadata": {
        "id": "b6hLGfIgBVGZ"
      },
      "execution_count": null,
      "outputs": []
    },
    {
      "cell_type": "code",
      "source": [],
      "metadata": {
        "id": "1jelXS0-_NGa"
      },
      "execution_count": null,
      "outputs": []
    },
    {
      "cell_type": "code",
      "source": [
        "def validate_generator(n_lowest = 10, n_samp = 256 ):\n",
        "  # n_lowest = 10\n",
        "  result_vec = []\n",
        "\n",
        "  batch_val = next(val_gen)\n",
        "  for batch_ in batch_val:\n",
        "    noise = tf.random.normal(shape=(n_samp, latent_dim))\n",
        "    synthetic_samples = generator.predict(noise)\n",
        "    # batch_ = batch_val[1]\n",
        "    match_indices = [0,1,2,3,5,6,7,8,9]\n",
        "\n",
        "    data = [np.mean(np.sqrt((batch_[match_indices] - samp[match_indices])**2)) for samp in synthetic_samples]\n",
        "\n",
        "    indices = sorted(range(len(data)), key=lambda i: data[i])[:n_lowest]\n",
        "\n",
        "    lowest_data = [data[i] for i in indices]\n",
        "\n",
        "    most_similar = [synthetic_samples[i] for i in indices]\n",
        "\n",
        "    most_similar_scaled_df = pd.DataFrame(scaler.inverse_transform(pd.DataFrame(most_similar, columns=numeric_cols.columns)), columns=numeric_cols.columns)\n",
        "\n",
        "    original_scaled_df = pd.DataFrame(scaler.inverse_transform(pd.DataFrame(batch_.reshape(1,-1), columns=numeric_cols.columns)), columns=numeric_cols.columns)\n",
        "\n",
        "    error_vec = [np.mean(original_scaled_df[\"imp_c_float\"]) ,np.mean(most_similar_scaled_df[\"imp_c_float\"]) ]\n",
        "\n",
        "    # # most_similar_scaled_df = scaler.inverse_transform( most_similar_df)\n",
        "\n",
        "    # original_scaled = [scaler.inverse_transform(sim.reshape(1,-1)) for sim in [batch_]]\n",
        "\n",
        "    # most_similar_scaled_2d = [np.squeeze(sim) for sim in most_similar_scaled]\n",
        "\n",
        "    # original_scaled_2d = [np.squeeze(sim) for sim in original_scaled]\n",
        "\n",
        "    # most_similar_scaled_df = pd.DataFrame(most_similar_scaled_2d, columns=numeric_cols.columns)\n",
        "\n",
        "    # original_scaled_df = pd.DataFrame(original_scaled_2d, columns=numeric_cols.columns)\n",
        "\n",
        "    # result = [np.mean(most_similar_scaled_df['imp_c_float']), np.mean(original_scaled_df['imp_c_float'])]\n",
        "    # print(np.mean(original_scaled_df['agbd_m']))\n",
        "    result_vec.append(error_vec)\n",
        "  return(result_vec)"
      ],
      "metadata": {
        "id": "P7L77v0fvrTh"
      },
      "execution_count": null,
      "outputs": []
    },
    {
      "cell_type": "code",
      "source": [
        "file_path = '/content/drive/My Drive/sequence_data.csv'"
      ],
      "metadata": {
        "id": "46NsUEt2B80A"
      },
      "execution_count": null,
      "outputs": []
    },
    {
      "cell_type": "code",
      "source": [
        "drivers_gpd = gpd.read_file('/content/drive/MyDrive/hawaii_soils/Analysis Data/250_summary_grid_dt.gpkg')"
      ],
      "metadata": {
        "id": "PcbyIy1MCszn"
      },
      "execution_count": null,
      "outputs": []
    },
    {
      "cell_type": "code",
      "source": [
        "soils_csv = gpd.read_file('/content/drive/MyDrive/hawaii_soils/HI soils data/combined_soc_2024_04_05.csv')"
      ],
      "metadata": {
        "id": "4T2wvedGC1aG"
      },
      "execution_count": null,
      "outputs": []
    },
    {
      "cell_type": "code",
      "source": [
        "from shapely.geometry import Point\n",
        "\n",
        "soils_csv = soils_csv[(soils_csv['latitude'] != '') & (soils_csv['longitude'] != '')]\n",
        "soils_csv['geometry'] = soils_csv.apply(lambda row: Point(float(row['longitude']), float(row['latitude'] )), axis=1)\n",
        "soils_gpd = gpd.GeoDataFrame(soils_csv, geometry='geometry', crs=\"EPSG:4326\")"
      ],
      "metadata": {
        "id": "VHIQgCCiD1le"
      },
      "execution_count": null,
      "outputs": []
    },
    {
      "cell_type": "code",
      "source": [
        "# Ensure both GeoDataFrames have the same CRS\n",
        "soils_gpd = soils_gpd.to_crs(drivers_gpd.crs)\n",
        "\n",
        "# Perform spatial join\n",
        "matched_data = gpd.sjoin_nearest(soils_gpd, drivers_gpd, how='left', distance_col='distance')"
      ],
      "metadata": {
        "id": "GUDqgLj2FDfT"
      },
      "execution_count": null,
      "outputs": []
    },
    {
      "cell_type": "code",
      "source": [
        "unique_rows = matched_data[matched_data[\"depth_adj_bottom\"] == '20']\n",
        "unique_rows = unique_rows.drop_duplicates(subset=['latitude', 'longitude'])\n",
        "unique_rows = unique_rows[unique_rows['distance'] < 251]\n",
        "matched_data = unique_rows"
      ],
      "metadata": {
        "id": "DKvp_WkRIRj_"
      },
      "execution_count": null,
      "outputs": []
    },
    {
      "cell_type": "code",
      "source": [
        "matched_data['imp_c_float'] = [float(datum) for datum in matched_data['imp_c']]"
      ],
      "metadata": {
        "id": "efng2Ra9Ho9l"
      },
      "execution_count": null,
      "outputs": []
    },
    {
      "cell_type": "code",
      "source": [
        "len(matched_data.select_dtypes(include=[np.number]).columns)"
      ],
      "metadata": {
        "colab": {
          "base_uri": "https://localhost:8080/"
        },
        "id": "-WsnTyBQKJ8r",
        "outputId": "75a98933-c020-4165-ba7c-a6891285076d"
      },
      "execution_count": null,
      "outputs": [
        {
          "output_type": "execute_result",
          "data": {
            "text/plain": [
              "39"
            ]
          },
          "metadata": {},
          "execution_count": 51
        }
      ]
    },
    {
      "cell_type": "code",
      "source": [
        "import pandas as pd\n",
        "from sklearn.preprocessing import MinMaxScaler\n",
        "import numpy as np\n",
        "id_fields = matched_data[['source_dataset', 'island', 'soil_column_id', 'unique_id', 'depth_top', 'depth_bottom', 'depth_adj_bottom', 'latitude', 'longitude']]\n",
        "\n",
        "# Select only numeric columns\n",
        "numeric_cols = matched_data.select_dtypes(include=[np.number]).iloc[:,[6,7,8,9,10,11,12,13,14,38]]\n",
        "\n",
        "# Initialize the scaler\n",
        "scaler = MinMaxScaler ()\n",
        "\n",
        "# Fit the scaler on the numeric columns\n",
        "scaler.fit(numeric_cols)\n",
        "\n",
        "# Transform the numeric columns\n",
        "scaled_numeric_cols = scaler.transform(numeric_cols)\n",
        "\n",
        "# Convert the scaled numeric columns back to a DataFrame\n",
        "scaled_numeric_df = pd.DataFrame(scaled_numeric_cols, columns=numeric_cols.columns, index=numeric_cols.index)\n",
        "\n",
        "# scaled_numeric_df = scaled_numeric_df\n",
        "# Concatenate the ID fields back with the numeric columns\n",
        "numeric_df = pd.concat([id_fields, scaled_numeric_df], axis=1)"
      ],
      "metadata": {
        "id": "Lzlo7QYVFXwo"
      },
      "execution_count": null,
      "outputs": []
    },
    {
      "cell_type": "code",
      "source": [
        "from tensorflow.keras.optimizers import Adam\n",
        "\n",
        "# Set the dimensions and compile the models\n",
        "latent_dim = 100\n",
        "sequence_length = 10  # Adjust based on your sequence length\n",
        "\n",
        "generator = build_generator(latent_dim, sequence_length)\n",
        "discriminator = build_discriminator(sequence_length)\n",
        "gan = build_gan(generator, discriminator)\n",
        "\n",
        "# Set the initial learning rate\n",
        "initial_learning_rate = 0.00001\n",
        "\n",
        "# Create optimizers for the generator and discriminator\n",
        "generator_optimizer = Adam(learning_rate=initial_learning_rate, beta_1=0.5)\n",
        "discriminator_optimizer = Adam(learning_rate=initial_learning_rate, beta_1=0.5)\n",
        "gan_optimizer = Adam(learning_rate=initial_learning_rate, beta_1=0.5)\n",
        "\n",
        "# Compile the discriminator\n",
        "generator.compile(optimizer=generator_optimizer, loss='mse', metrics=['accuracy'])\n",
        "\n",
        "# Compile the discriminator\n",
        "discriminator.compile(optimizer=discriminator_optimizer, loss='binary_crossentropy', metrics=['accuracy'])\n",
        "\n",
        "# Compile the GAN\n",
        "gan.compile(optimizer=gan_optimizer, loss='mse')\n",
        "\n",
        "# # Assuming 'final_df' is your scaled dataset with numeric columns and ID fields\n",
        "# # Extract only the numeric columns for the GAN\n",
        "# numeric_columns = [col for col in scaled_numeric_cols.columns if scaled_numeric_cols[col].dtype in [np.float32, np.float64]]\n",
        "# real_sequences_df = scaled_numeric_cols[numeric_columns]\n",
        "\n",
        "# Convert the DataFrame to a NumPy array\n",
        "real_sequences_array = scaled_numeric_cols\n",
        "\n",
        "def real_sequence_generator(data, batch_size):\n",
        "    while True:\n",
        "        # Shuffle the data at the beginning of each epoch\n",
        "        np.random.shuffle(data)\n",
        "        for i in range(0, len(data), batch_size):\n",
        "            batch = data[i:i + batch_size]\n",
        "            # If the batch is smaller than the batch size, pad it with samples from the beginning\n",
        "            if len(batch) < batch_size:\n",
        "                padding = data[:(batch_size - len(batch))]\n",
        "                batch = np.concatenate([batch, padding], axis=0)\n",
        "            yield batch\n",
        "\n",
        "\n",
        "# Create an instance of the generator\n",
        "# real_sequence_gen = real_sequence_generator(real_sequences_array, batch_size)\n"
      ],
      "metadata": {
        "id": "YONOBC-8BSw2"
      },
      "execution_count": null,
      "outputs": []
    },
    {
      "cell_type": "code",
      "source": [
        "# Split the data into training and validation sets\n",
        "from sklearn.model_selection import train_test_split\n",
        "\n",
        "train_sequences, val_sequences = train_test_split(real_sequences_array, test_size=0.2, random_state=42)\n",
        "\n",
        "test_sequences, val_sequences = train_test_split(val_sequences, test_size=0.5, random_state=42)\n",
        "\n",
        "batch_size = 128  # Set the batch size\n",
        "\n",
        "\n",
        "# Define the training and validation generators\n",
        "train_gen = real_sequence_generator(train_sequences, batch_size)\n",
        "test_gen = real_sequence_generator(test_sequences, batch_size)\n",
        "val_gen = real_sequence_generator(val_sequences, batch_size)\n"
      ],
      "metadata": {
        "id": "9BDQtO5LKaGk"
      },
      "execution_count": null,
      "outputs": []
    },
    {
      "cell_type": "code",
      "source": [
        "# Train the GAN with validation\n",
        "import matplotlib.pyplot as plt\n",
        "\n",
        "train_gan(generator, discriminator, gan, epochs=1, batch_size=128, latent_dim=latent_dim, val_gen=val_gen)"
      ],
      "metadata": {
        "colab": {
          "base_uri": "https://localhost:8080/",
          "height": 1000
        },
        "id": "tpwWxtrOBXT2",
        "outputId": "84534064-4afc-4862-bc3f-beda70d68ebc"
      },
      "execution_count": null,
      "outputs": [
        {
          "output_type": "stream",
          "name": "stdout",
          "text": [
            "4/4 [==============================] - 0s 10ms/step\n",
            "4/4 [==============================] - 0s 13ms/step\n",
            "4/4 [==============================] - 0s 10ms/step\n",
            "4/4 [==============================] - 0s 10ms/step\n",
            "4/4 [==============================] - 0s 10ms/step\n",
            "4/4 [==============================] - 0s 10ms/step\n",
            "Epoch: 1/1, D Loss: [0.72046125 0.44140625], G Loss: 0.2136320322751999, Val D Loss: [0.72685051 0.4921875 ]\n",
            "8/8 [==============================] - 0s 8ms/step\n",
            "8/8 [==============================] - 0s 7ms/step\n",
            "8/8 [==============================] - 0s 5ms/step\n",
            "8/8 [==============================] - 0s 4ms/step\n",
            "8/8 [==============================] - 0s 5ms/step\n",
            "8/8 [==============================] - 0s 5ms/step\n",
            "8/8 [==============================] - 0s 5ms/step\n",
            "8/8 [==============================] - 0s 5ms/step\n",
            "8/8 [==============================] - 0s 4ms/step\n",
            "8/8 [==============================] - 0s 5ms/step\n",
            "8/8 [==============================] - 0s 4ms/step\n",
            "8/8 [==============================] - 0s 5ms/step\n",
            "8/8 [==============================] - 0s 4ms/step\n",
            "8/8 [==============================] - 0s 5ms/step\n",
            "8/8 [==============================] - 0s 4ms/step\n",
            "8/8 [==============================] - 0s 5ms/step\n",
            "8/8 [==============================] - 0s 4ms/step\n",
            "8/8 [==============================] - 0s 4ms/step\n",
            "8/8 [==============================] - 0s 5ms/step\n",
            "8/8 [==============================] - 0s 5ms/step\n",
            "8/8 [==============================] - 0s 5ms/step\n",
            "8/8 [==============================] - 0s 5ms/step\n",
            "8/8 [==============================] - 0s 5ms/step\n",
            "8/8 [==============================] - 0s 5ms/step\n",
            "8/8 [==============================] - 0s 5ms/step\n",
            "8/8 [==============================] - 0s 6ms/step\n",
            "8/8 [==============================] - 0s 5ms/step\n",
            "8/8 [==============================] - 0s 5ms/step\n",
            "8/8 [==============================] - 0s 5ms/step\n",
            "8/8 [==============================] - 0s 5ms/step\n",
            "8/8 [==============================] - 0s 5ms/step\n",
            "8/8 [==============================] - 0s 4ms/step\n",
            "8/8 [==============================] - 0s 5ms/step\n",
            "8/8 [==============================] - 0s 5ms/step\n",
            "8/8 [==============================] - 0s 5ms/step\n",
            "8/8 [==============================] - 0s 5ms/step\n",
            "8/8 [==============================] - 0s 6ms/step\n",
            "8/8 [==============================] - 0s 5ms/step\n",
            "8/8 [==============================] - 0s 6ms/step\n",
            "8/8 [==============================] - 0s 5ms/step\n",
            "8/8 [==============================] - 0s 5ms/step\n",
            "8/8 [==============================] - 0s 5ms/step\n",
            "8/8 [==============================] - 0s 5ms/step\n",
            "8/8 [==============================] - 0s 5ms/step\n",
            "8/8 [==============================] - 0s 5ms/step\n",
            "8/8 [==============================] - 0s 5ms/step\n",
            "8/8 [==============================] - 0s 5ms/step\n",
            "8/8 [==============================] - 0s 7ms/step\n",
            "8/8 [==============================] - 0s 5ms/step\n",
            "8/8 [==============================] - 0s 4ms/step\n",
            "8/8 [==============================] - 0s 5ms/step\n",
            "8/8 [==============================] - 0s 5ms/step\n",
            "8/8 [==============================] - 0s 5ms/step\n",
            "8/8 [==============================] - 0s 4ms/step\n",
            "8/8 [==============================] - 0s 5ms/step\n",
            "8/8 [==============================] - 0s 7ms/step\n",
            "8/8 [==============================] - 0s 4ms/step\n",
            "8/8 [==============================] - 0s 5ms/step\n",
            "8/8 [==============================] - 0s 5ms/step\n",
            "8/8 [==============================] - 0s 5ms/step\n",
            "8/8 [==============================] - 0s 4ms/step\n",
            "8/8 [==============================] - 0s 4ms/step\n",
            "8/8 [==============================] - 0s 5ms/step\n",
            "8/8 [==============================] - 0s 5ms/step\n",
            "8/8 [==============================] - 0s 5ms/step\n",
            "8/8 [==============================] - 0s 5ms/step\n",
            "8/8 [==============================] - 0s 6ms/step\n",
            "8/8 [==============================] - 0s 5ms/step\n",
            "8/8 [==============================] - 0s 5ms/step\n",
            "8/8 [==============================] - 0s 4ms/step\n",
            "8/8 [==============================] - 0s 4ms/step\n",
            "8/8 [==============================] - 0s 5ms/step\n",
            "8/8 [==============================] - 0s 5ms/step\n",
            "8/8 [==============================] - 0s 5ms/step\n",
            "8/8 [==============================] - 0s 4ms/step\n",
            "8/8 [==============================] - 0s 7ms/step\n",
            "8/8 [==============================] - 0s 8ms/step\n",
            "8/8 [==============================] - 0s 7ms/step\n",
            "8/8 [==============================] - 0s 6ms/step\n",
            "8/8 [==============================] - 0s 6ms/step\n",
            "8/8 [==============================] - 0s 6ms/step\n",
            "8/8 [==============================] - 0s 7ms/step\n",
            "8/8 [==============================] - 0s 10ms/step\n",
            "8/8 [==============================] - 0s 7ms/step\n",
            "8/8 [==============================] - 0s 7ms/step\n",
            "8/8 [==============================] - 0s 6ms/step\n",
            "8/8 [==============================] - 0s 6ms/step\n",
            "8/8 [==============================] - 0s 7ms/step\n",
            "8/8 [==============================] - 0s 7ms/step\n",
            "8/8 [==============================] - 0s 8ms/step\n",
            "8/8 [==============================] - 0s 6ms/step\n",
            "8/8 [==============================] - 0s 5ms/step\n",
            "8/8 [==============================] - 0s 4ms/step\n",
            "8/8 [==============================] - 0s 5ms/step\n",
            "8/8 [==============================] - 0s 5ms/step\n",
            "8/8 [==============================] - 0s 4ms/step\n",
            "8/8 [==============================] - 0s 5ms/step\n",
            "8/8 [==============================] - 0s 4ms/step\n",
            "8/8 [==============================] - 0s 4ms/step\n",
            "8/8 [==============================] - 0s 4ms/step\n",
            "8/8 [==============================] - 0s 5ms/step\n",
            "8/8 [==============================] - 0s 5ms/step\n",
            "8/8 [==============================] - 0s 5ms/step\n",
            "8/8 [==============================] - 0s 4ms/step\n",
            "8/8 [==============================] - 0s 5ms/step\n",
            "8/8 [==============================] - 0s 5ms/step\n",
            "8/8 [==============================] - 0s 5ms/step\n",
            "8/8 [==============================] - 0s 5ms/step\n",
            "8/8 [==============================] - 0s 6ms/step\n",
            "8/8 [==============================] - 0s 5ms/step\n",
            "8/8 [==============================] - 0s 4ms/step\n",
            "8/8 [==============================] - 0s 5ms/step\n",
            "8/8 [==============================] - 0s 5ms/step\n",
            "8/8 [==============================] - 0s 5ms/step\n",
            "8/8 [==============================] - 0s 5ms/step\n",
            "8/8 [==============================] - 0s 4ms/step\n",
            "8/8 [==============================] - 0s 5ms/step\n",
            "8/8 [==============================] - 0s 5ms/step\n",
            "8/8 [==============================] - 0s 4ms/step\n",
            "8/8 [==============================] - 0s 5ms/step\n",
            "8/8 [==============================] - 0s 5ms/step\n",
            "8/8 [==============================] - 0s 5ms/step\n",
            "8/8 [==============================] - 0s 5ms/step\n",
            "8/8 [==============================] - 0s 5ms/step\n",
            "8/8 [==============================] - 0s 4ms/step\n",
            "8/8 [==============================] - 0s 5ms/step\n",
            "8/8 [==============================] - 0s 5ms/step\n",
            "8/8 [==============================] - 0s 5ms/step\n"
          ]
        },
        {
          "output_type": "display_data",
          "data": {
            "text/plain": [
              "<Figure size 640x480 with 1 Axes>"
            ],
            "image/png": "[encoded data removed]"
          },
          "metadata": {}
        }
      ]
    },
    {
      "cell_type": "code",
      "source": [
        "# data = validate_generator()\n",
        "data = validate_generator(n_samp=1024*32)\n",
        "x_values = [ datum[0] for datum in data]\n",
        "y_values = [ datum[1] for datum in data]\n",
        "\n",
        "# Create a scatter plot\n",
        "plt.scatter(x_values, y_values, color='blue')\n",
        "\n",
        "# Add labels and title\n",
        "plt.xlabel('Sample Index')\n",
        "plt.ylabel('Difference between Real and Generated')\n",
        "plt.title('Scatter Plot of Validation Differences')\n",
        "\n",
        "# Show the plot\n",
        "plt.show()"
      ],
      "metadata": {
        "colab": {
          "base_uri": "https://localhost:8080/",
          "height": 1000
        },
        "id": "f-m4YknSb_ng",
        "outputId": "bc4fc3c8-7493-4be7-a7db-684ef523deea"
      },
      "execution_count": null,
      "outputs": [
        {
          "output_type": "stream",
          "name": "stdout",
          "text": [
            "1024/1024 [==============================] - 5s 5ms/step\n",
            "1024/1024 [==============================] - 5s 5ms/step\n",
            "1024/1024 [==============================] - 6s 6ms/step\n",
            "1024/1024 [==============================] - 5s 5ms/step\n",
            "1024/1024 [==============================] - 6s 6ms/step\n",
            "1024/1024 [==============================] - 5s 5ms/step\n",
            "1024/1024 [==============================] - 5s 5ms/step\n",
            "1024/1024 [==============================] - 6s 6ms/step\n",
            "1024/1024 [==============================] - 5s 5ms/step\n",
            "1024/1024 [==============================] - 6s 6ms/step\n",
            "1024/1024 [==============================] - 5s 4ms/step\n",
            "1024/1024 [==============================] - 6s 5ms/step\n",
            "1024/1024 [==============================] - 5s 5ms/step\n",
            "1024/1024 [==============================] - 5s 5ms/step\n",
            "1024/1024 [==============================] - 5s 5ms/step\n",
            "1024/1024 [==============================] - 6s 6ms/step\n",
            "1024/1024 [==============================] - 5s 5ms/step\n",
            "1024/1024 [==============================] - 6s 6ms/step\n",
            "1024/1024 [==============================] - 5s 5ms/step\n",
            "1024/1024 [==============================] - 5s 5ms/step\n",
            "1024/1024 [==============================] - 5s 5ms/step\n",
            "1024/1024 [==============================] - 5s 5ms/step\n",
            "1024/1024 [==============================] - 6s 6ms/step\n",
            "1024/1024 [==============================] - 6s 6ms/step\n",
            "1024/1024 [==============================] - 5s 5ms/step\n",
            "1024/1024 [==============================] - 5s 5ms/step\n",
            "1024/1024 [==============================] - 5s 5ms/step\n",
            "1024/1024 [==============================] - 6s 6ms/step\n",
            "1024/1024 [==============================] - 6s 6ms/step\n",
            "1024/1024 [==============================] - 5s 5ms/step\n",
            "1024/1024 [==============================] - 6s 6ms/step\n",
            "1024/1024 [==============================] - 5s 5ms/step\n",
            "1024/1024 [==============================] - 5s 5ms/step\n",
            "1024/1024 [==============================] - 6s 5ms/step\n",
            "1024/1024 [==============================] - 5s 5ms/step\n",
            "1024/1024 [==============================] - 6s 6ms/step\n",
            "1024/1024 [==============================] - 6s 6ms/step\n",
            "1024/1024 [==============================] - 5s 5ms/step\n",
            "1024/1024 [==============================] - 6s 6ms/step\n",
            "1024/1024 [==============================] - 5s 5ms/step\n",
            "1024/1024 [==============================] - 6s 6ms/step\n",
            "1024/1024 [==============================] - 5s 5ms/step\n",
            "1024/1024 [==============================] - 5s 5ms/step\n",
            "1024/1024 [==============================] - 6s 6ms/step\n",
            "1024/1024 [==============================] - 5s 5ms/step\n",
            "1024/1024 [==============================] - 6s 5ms/step\n",
            "1024/1024 [==============================] - 5s 5ms/step\n",
            "1024/1024 [==============================] - 6s 6ms/step\n",
            "1024/1024 [==============================] - 6s 6ms/step\n",
            "1024/1024 [==============================] - 5s 5ms/step\n",
            "1024/1024 [==============================] - 5s 5ms/step\n",
            "1024/1024 [==============================] - 5s 5ms/step\n",
            "1024/1024 [==============================] - 5s 5ms/step\n",
            "1024/1024 [==============================] - 5s 5ms/step\n",
            "1024/1024 [==============================] - 5s 5ms/step\n",
            "1024/1024 [==============================] - 6s 6ms/step\n",
            "1024/1024 [==============================] - 5s 5ms/step\n",
            "1024/1024 [==============================] - 5s 5ms/step\n",
            "1024/1024 [==============================] - 5s 5ms/step\n",
            "1024/1024 [==============================] - 5s 5ms/step\n",
            "1024/1024 [==============================] - 5s 5ms/step\n",
            "1024/1024 [==============================] - 6s 6ms/step\n",
            "1024/1024 [==============================] - 5s 5ms/step\n",
            "1024/1024 [==============================] - 5s 5ms/step\n",
            "1024/1024 [==============================] - 5s 5ms/step\n",
            "1024/1024 [==============================] - 5s 5ms/step\n",
            "1024/1024 [==============================] - 5s 5ms/step\n",
            "1024/1024 [==============================] - 5s 5ms/step\n",
            "1024/1024 [==============================] - 5s 5ms/step\n",
            "1024/1024 [==============================] - 5s 5ms/step\n",
            "1024/1024 [==============================] - 6s 6ms/step\n",
            "1024/1024 [==============================] - 6s 6ms/step\n",
            "1024/1024 [==============================] - 5s 5ms/step\n",
            "1024/1024 [==============================] - 6s 6ms/step\n",
            "1024/1024 [==============================] - 6s 6ms/step\n",
            "1024/1024 [==============================] - 5s 5ms/step\n",
            "1024/1024 [==============================] - 6s 6ms/step\n",
            "1024/1024 [==============================] - 6s 6ms/step\n",
            "1024/1024 [==============================] - 5s 5ms/step\n",
            "1024/1024 [==============================] - 6s 5ms/step\n",
            "1024/1024 [==============================] - 5s 5ms/step\n",
            "1024/1024 [==============================] - 6s 6ms/step\n",
            "1024/1024 [==============================] - 6s 5ms/step\n",
            "1024/1024 [==============================] - 5s 5ms/step\n",
            "1024/1024 [==============================] - 6s 6ms/step\n",
            "1024/1024 [==============================] - 5s 5ms/step\n",
            "1024/1024 [==============================] - 5s 5ms/step\n",
            "1024/1024 [==============================] - 5s 5ms/step\n",
            "1024/1024 [==============================] - 6s 6ms/step\n",
            "1024/1024 [==============================] - 5s 5ms/step\n",
            "1024/1024 [==============================] - 5s 5ms/step\n",
            "1024/1024 [==============================] - 5s 5ms/step\n",
            "1024/1024 [==============================] - 5s 5ms/step\n",
            "1024/1024 [==============================] - 6s 6ms/step\n",
            "1024/1024 [==============================] - 5s 5ms/step\n",
            "1024/1024 [==============================] - 6s 6ms/step\n",
            "1024/1024 [==============================] - 5s 4ms/step\n",
            "1024/1024 [==============================] - 5s 5ms/step\n",
            "1024/1024 [==============================] - 5s 5ms/step\n",
            "1024/1024 [==============================] - 6s 6ms/step\n",
            "1024/1024 [==============================] - 6s 6ms/step\n",
            "1024/1024 [==============================] - 5s 5ms/step\n",
            "1024/1024 [==============================] - 5s 5ms/step\n",
            "1024/1024 [==============================] - 5s 5ms/step\n",
            "1024/1024 [==============================] - 5s 5ms/step\n",
            "1024/1024 [==============================] - 5s 5ms/step\n",
            "1024/1024 [==============================] - 5s 5ms/step\n",
            "1024/1024 [==============================] - 5s 5ms/step\n",
            "1024/1024 [==============================] - 5s 5ms/step\n",
            "1024/1024 [==============================] - 6s 6ms/step\n",
            "1024/1024 [==============================] - 5s 5ms/step\n",
            "1024/1024 [==============================] - 5s 5ms/step\n",
            "1024/1024 [==============================] - 6s 6ms/step\n",
            "1024/1024 [==============================] - 5s 5ms/step\n",
            "1024/1024 [==============================] - 6s 6ms/step\n",
            "1024/1024 [==============================] - 5s 5ms/step\n",
            "1024/1024 [==============================] - 5s 5ms/step\n",
            "1024/1024 [==============================] - 6s 6ms/step\n",
            "1024/1024 [==============================] - 5s 5ms/step\n",
            "1024/1024 [==============================] - 6s 6ms/step\n",
            "1024/1024 [==============================] - 5s 5ms/step\n",
            "1024/1024 [==============================] - 6s 6ms/step\n",
            "1024/1024 [==============================] - 6s 6ms/step\n",
            "1024/1024 [==============================] - 5s 5ms/step\n",
            "1024/1024 [==============================] - 5s 5ms/step\n",
            "1024/1024 [==============================] - 7s 7ms/step\n",
            "1024/1024 [==============================] - 5s 5ms/step\n",
            "1024/1024 [==============================] - 5s 5ms/step\n"
          ]
        },
        {
          "output_type": "display_data",
          "data": {
            "text/plain": [
              "<Figure size 640x480 with 1 Axes>"
            ],
            "image/png": "[encoded data removed]"
          },
          "metadata": {}
        }
      ]
    },
    {
      "cell_type": "code",
      "source": [
        "most_similar"
      ],
      "metadata": {
        "colab": {
          "base_uri": "https://localhost:8080/"
        },
        "id": "Oc8rt5XeQkXF",
        "outputId": "d79f975f-2e07-4bab-83f3-569c5d82b62b"
      },
      "execution_count": null,
      "outputs": [
        {
          "output_type": "execute_result",
          "data": {
            "text/plain": [
              "[array([ 28.531334 , -11.202219 , -40.439777 , -10.090137 ,   8.2734   ,\n",
              "         -9.428419 ,  11.930028 ,   1.0942104, -22.76571  ,   8.018955 ],\n",
              "       dtype=float32),\n",
              " array([ 26.278467 , -13.948817 , -43.122784 , -13.704297 ,  -0.3593356,\n",
              "         -0.880978 ,  17.13365  ,  -4.0011663, -16.45799  ,   8.377134 ],\n",
              "       dtype=float32),\n",
              " array([ 27.357634 , -13.8198805, -42.084545 , -13.7134905,   2.781976 ,\n",
              "         -1.5432317,  15.445559 ,  -6.4791827, -18.052958 ,   7.3337617],\n",
              "       dtype=float32),\n",
              " array([ 30.264784 , -11.677847 , -41.794704 , -11.004966 ,   6.7667494,\n",
              "         -6.901617 ,  12.113672 ,  -2.4122186, -23.751757 ,   7.4664197],\n",
              "       dtype=float32),\n",
              " array([ 2.7120161e+01, -1.5374141e+01, -4.3389359e+01, -1.3616334e+01,\n",
              "         4.1027898e-01,  2.4836615e-02,  1.7055265e+01, -6.4799428e+00,\n",
              "        -1.6840025e+01,  8.7692604e+00], dtype=float32),\n",
              " array([ 26.57422  , -14.09194  , -42.864433 , -14.682696 ,  -1.7990932,\n",
              "          2.1483393,  17.79635  ,  -7.8763576, -15.176037 ,   7.6323295],\n",
              "       dtype=float32),\n",
              " array([ 30.885653 , -12.297737 , -40.972473 , -11.344613 ,  10.935388 ,\n",
              "         -8.878796 ,  11.438049 ,   1.1128407, -24.370947 ,   8.392095 ],\n",
              "       dtype=float32),\n",
              " array([ 27.227896  , -14.235371  , -43.73579   , -14.326497  ,\n",
              "         -1.1940247 ,   0.55526173,  18.126545  ,  -6.5483193 ,\n",
              "        -16.99877   ,   8.360414  ], dtype=float32),\n",
              " array([ 26.707157 , -15.58845  , -42.970753 , -14.253486 ,  -0.6094159,\n",
              "          0.8304539,  16.143381 ,  -8.519323 , -16.747728 ,   8.931544 ],\n",
              "       dtype=float32),\n",
              " array([ 25.58497  , -15.169441 , -42.876514 , -14.88791  ,  -3.3159783,\n",
              "          3.2187798,  18.351938 ,  -8.434898 , -14.640684 ,   7.891635 ],\n",
              "       dtype=float32)]"
            ]
          },
          "metadata": {},
          "execution_count": 75
        }
      ]
    }
  ]
}