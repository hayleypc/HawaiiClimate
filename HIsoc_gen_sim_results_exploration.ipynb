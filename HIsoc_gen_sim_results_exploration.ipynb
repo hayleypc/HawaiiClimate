{
  "nbformat": 4,
  "nbformat_minor": 0,
  "metadata": {
    "colab": {
      "provenance": [],
      "authorship_tag": "ABX9TyOSnq3UMacv084HQ5o8ph2C",
      "include_colab_link": true
    },
    "kernelspec": {
      "name": "ir",
      "display_name": "R"
    },
    "language_info": {
      "name": "R"
    }
  },
  "cells": [
    {
      "cell_type": "markdown",
      "metadata": {
        "id": "view-in-github",
        "colab_type": "text"
      },
      "source": [
        "<a href=\"https://colab.research.google.com/github/hayleypc/HawaiiClimate/blob/main/HIsoc_gen_sim_results_exploration.ipynb\" target=\"_parent\"><img src=\"https://colab.research.google.com/assets/colab-badge.svg\" alt=\"Open In Colab\"/></a>"
      ]
    },
    {
      "cell_type": "code",
      "execution_count": 1,
      "metadata": {
        "colab": {
          "base_uri": "https://localhost:8080/"
        },
        "id": "Cy3xNNTlPh4D",
        "outputId": "9fff0c07-07e3-45b7-a777-7de07aff0b16"
      },
      "outputs": [
        {
          "metadata": {
            "tags": null
          },
          "name": "stderr",
          "output_type": "stream",
          "text": [
            "Installing package into ‘/usr/local/lib/R/site-library’\n",
            "(as ‘lib’ is unspecified)\n",
            "\n",
            "Installing package into ‘/usr/local/lib/R/site-library’\n",
            "(as ‘lib’ is unspecified)\n",
            "\n",
            "also installing the dependencies ‘proxy’, ‘e1071’, ‘wk’, ‘classInt’, ‘Rcpp’, ‘s2’, ‘units’\n",
            "\n",
            "\n",
            "Installing package into ‘/usr/local/lib/R/site-library’\n",
            "(as ‘lib’ is unspecified)\n",
            "\n",
            "also installing the dependencies ‘sp’, ‘terra’\n",
            "\n",
            "\n",
            "Installing package into ‘/usr/local/lib/R/site-library’\n",
            "(as ‘lib’ is unspecified)\n",
            "\n",
            "Installing package into ‘/usr/local/lib/R/site-library’\n",
            "(as ‘lib’ is unspecified)\n",
            "\n"
          ]
        }
      ],
      "source": [
        "install.packages('ggplot2')\n",
        "install.packages('sf')\n",
        "install.packages('raster')\n",
        "install.packages('googledrive')\n",
        "install.packages('data.table')"
      ]
    },
    {
      "cell_type": "code",
      "source": [
        "install.packages('nngeo')"
      ],
      "metadata": {
        "colab": {
          "base_uri": "https://localhost:8080/"
        },
        "id": "D-fPHa5JTvPg",
        "outputId": "47ba3bcc-da9c-465b-ea21-847f967b91d0"
      },
      "execution_count": 5,
      "outputs": [
        {
          "output_type": "stream",
          "name": "stderr",
          "text": [
            "Installing package into ‘/usr/local/lib/R/site-library’\n",
            "(as ‘lib’ is unspecified)\n",
            "\n",
            "also installing the dependencies ‘RcppEigen’, ‘BH’, ‘nabor’\n",
            "\n",
            "\n"
          ]
        }
      ]
    },
    {
      "cell_type": "code",
      "source": [
        "library(ggplot2)\n",
        "library(sf)\n",
        "library(raster)\n",
        "library(googledrive)\n",
        "library(data.table)\n",
        "library(nngeo)"
      ],
      "metadata": {
        "id": "OA5puGpXRy_a"
      },
      "execution_count": 6,
      "outputs": []
    },
    {
      "cell_type": "code",
      "source": [
        "drive_auth(use_oob = TRUE, cache = FALSE)"
      ],
      "metadata": {
        "colab": {
          "base_uri": "https://localhost:8080/"
        },
        "id": "AoKq-o64SvME",
        "outputId": "95ed48d3-a919-4c96-eeb0-2360888f2507"
      },
      "execution_count": 2,
      "outputs": [
        {
          "output_type": "stream",
          "name": "stderr",
          "text": [
            "Please point your browser to the following url: \n",
            "\n",
            "https://accounts.google.com/o/oauth2/v2/auth?client_id=603366585132-frjlouoa3s2ono25d2l9ukvhlsrlnr7k.apps.googleusercontent.com&scope=https%3A%2F%2Fwww.googleapis.com%2Fauth%2Fdrive%20https%3A%2F%2Fwww.googleapis.com%2Fauth%2Fuserinfo.email&redirect_uri=https%3A%2F%2Fwww.tidyverse.org%2Fgoogle-callback%2F&response_type=code&state=d3bab0da6db65387d716a2bc0cd3911b&access_type=offline&prompt=consent\n",
            "\n"
          ]
        },
        {
          "name": "stdout",
          "output_type": "stream",
          "text": [
            "Enter authorization code: eyJjb2RlIjoiNC8wQWVhWVNIQlRYZ1Vrc1plb0RjYUt1a0hiSjBkN2ZJTEp0ZzVWQnVyRDhWUVpEOFhLX2tTZkZtMkFXZU56QmZDaW90aFg3QSIsInN0YXRlIjoiZDNiYWIwZGE2ZGI2NTM4N2Q3MTZhMmJjMGNkMzkxMWIifQ==\n"
          ]
        }
      ]
    },
    {
      "cell_type": "markdown",
      "source": [
        "Generative Simulation Results from 4/14/2024"
      ],
      "metadata": {
        "id": "_2tYxGVMTm9s"
      }
    },
    {
      "cell_type": "code",
      "source": [
        "# https://drive.google.com/file/d/18bH1Eat6ZgS30sAv3mkhwKh2ueu9CF7H/view?usp=drive_link\n",
        "# drive_download(file = as_id('18bH1Eat6ZgS30sAv3mkhwKh2ueu9CF7H'), path =  '/content/gensim.gpkg', overwrite = TRUE)\n",
        "gensim_sf <- st_read('/content/gensim.gpkg')"
      ],
      "metadata": {
        "colab": {
          "base_uri": "https://localhost:8080/"
        },
        "id": "ZC8JB93pSyBp",
        "outputId": "8a56c9ba-0372-4e3d-a1f1-5326978b5742"
      },
      "execution_count": 3,
      "outputs": [
        {
          "output_type": "stream",
          "name": "stdout",
          "text": [
            "Reading layer `generative_simulation_results' from data source \n",
            "  `/content/gensim.gpkg' using driver `GPKG'\n",
            "Simple feature collection with 359163 features and 53 fields\n",
            "Geometry type: POINT\n",
            "Dimension:     XY\n",
            "Bounding box:  xmin: -159.7877 ymin: 18.91217 xmax: -154.807 ymax: 22.23237\n",
            "Geodetic CRS:  WGS 84\n"
          ]
        }
      ]
    },
    {
      "cell_type": "markdown",
      "source": [
        "Annotated C data for Maui"
      ],
      "metadata": {
        "id": "7WFgFMJdywTz"
      }
    },
    {
      "cell_type": "code",
      "source": [
        "# https://drive.google.com/file/d/1yEnEZ3HhmsbIMFPMjh5NUm7Dpa_b35bO/view?usp=drive_link\n",
        "\n",
        "drive_download(file = as_id('1yEnEZ3HhmsbIMFPMjh5NUm7Dpa_b35bO'), path =  '/content/annotated.gpkg', overwrite = TRUE)\n",
        "annotated_sf <- st_read('/content/annotated.gpkg')"
      ],
      "metadata": {
        "colab": {
          "base_uri": "https://localhost:8080/"
        },
        "id": "FuZY_sQSVN7M",
        "outputId": "13dbe565-c452-472c-d2cb-db6f6cc888a4"
      },
      "execution_count": 64,
      "outputs": [
        {
          "output_type": "stream",
          "name": "stderr",
          "text": [
            "Auto-refreshing stale OAuth token.\n",
            "\n",
            "File downloaded:\n",
            "\n",
            "• \u001b[36mannotated_combo_imputed_SOC.gpkg\u001b[39m \u001b[90m<id: 1yEnEZ3HhmsbIMFPMjh5NUm7Dpa_b35bO>\u001b[39m\n",
            "\n",
            "Saved locally as:\n",
            "\n",
            "• \u001b[34m/content/annotated.gpkg\u001b[39m\n",
            "\n"
          ]
        },
        {
          "output_type": "stream",
          "name": "stdout",
          "text": [
            "Reading layer `distribution_labeled' from data source `/content/annotated.gpkg' using driver `GPKG'\n",
            "Simple feature collection with 6852 features and 15 fields (with 10 geometries empty)\n",
            "Geometry type: POINT\n",
            "Dimension:     XY\n",
            "Bounding box:  xmin: -159.7518 ymin: 19.16063 xmax: 159.434 ymax: 22.22142\n",
            "Geodetic CRS:  WGS 84\n"
          ]
        }
      ]
    },
    {
      "cell_type": "markdown",
      "source": [
        "Combined HI SOC, HI Soil Health, FIA measured and interpolated soil carbon data"
      ],
      "metadata": {
        "id": "mtpWjeHD-DHT"
      }
    },
    {
      "cell_type": "code",
      "source": [
        "# https://drive.google.com/file/d/1Ot_UZjxDlsYXKDoL3TSz_nOJnY8IT9JV/view?usp=drive_link\n",
        "\n",
        "# drive_download(file = as_id('1Ot_UZjxDlsYXKDoL3TSz_nOJnY8IT9JV'), path =  '/content/combo_soil.csv', overwrite = TRUE)\n",
        "\n",
        "combo_soil_dt <- read.csv('/content/combo_soil.csv') %>% as.data.table()"
      ],
      "metadata": {
        "id": "VOtG6RYnyvGN"
      },
      "execution_count": 4,
      "outputs": []
    },
    {
      "cell_type": "code",
      "source": [
        "gensim_dt <- gensim_sf %>% data.table"
      ],
      "metadata": {
        "id": "T0qsdDEoVnA2"
      },
      "execution_count": 62,
      "outputs": []
    },
    {
      "cell_type": "code",
      "source": [
        "gensim_dt %>% names"
      ],
      "metadata": {
        "colab": {
          "base_uri": "https://localhost:8080/",
          "height": 69
        },
        "id": "3xJsKNN_bHLp",
        "outputId": "f912bf36-0b8c-493e-f61a-0bb147f35839"
      },
      "execution_count": 37,
      "outputs": [
        {
          "output_type": "display_data",
          "data": {
            "text/html": [
              "<style>\n",
              ".list-inline {list-style: none; margin:0; padding: 0}\n",
              ".list-inline>li {display: inline-block}\n",
              ".list-inline>li:not(:last-child)::after {content: \"\\00b7\"; padding: 0 .5ex}\n",
              "</style>\n",
              "<ol class=list-inline><li>'id'</li><li>'left'</li><li>'top'</li><li>'right'</li><li>'bottom'</li><li>'water'</li><li>'trees'</li><li>'grass'</li><li>'flooded_vegetation'</li><li>'crops'</li><li>'shrub_and_scrub'</li><li>'built'</li><li>'bare'</li><li>'snow_and_ice'</li><li>'max'</li><li>'elevation'</li><li>'landform'</li><li>'SRTM_mTPI'</li><li>'aet'</li><li>'def'</li><li>'pdsi'</li><li>'pet'</li><li>'pr'</li><li>'ro'</li><li>'soil'</li><li>'srad'</li><li>'swe'</li><li>'tmmn'</li><li>'tmmx'</li><li>'vap'</li><li>'vpd'</li><li>'vs'</li><li>'agbd_m'</li><li>'agbd_sd'</li><li>'agbd_n'</li><li>'p10'</li><li>'p20'</li><li>'p30'</li><li>'p40'</li><li>'p50'</li><li>'p60'</li><li>'p70'</li><li>'p80'</li><li>'p90'</li><li>'p100'</li><li>'p1_p1_5'</li><li>'p1_5_p_3'</li><li>'p3_p5'</li><li>'p5_p10'</li><li>'p10_p15'</li><li>'p15_p20'</li><li>'p20_p30'</li><li>'p30_'</li><li>'geom'</li></ol>\n"
            ],
            "text/markdown": "1. 'id'\n2. 'left'\n3. 'top'\n4. 'right'\n5. 'bottom'\n6. 'water'\n7. 'trees'\n8. 'grass'\n9. 'flooded_vegetation'\n10. 'crops'\n11. 'shrub_and_scrub'\n12. 'built'\n13. 'bare'\n14. 'snow_and_ice'\n15. 'max'\n16. 'elevation'\n17. 'landform'\n18. 'SRTM_mTPI'\n19. 'aet'\n20. 'def'\n21. 'pdsi'\n22. 'pet'\n23. 'pr'\n24. 'ro'\n25. 'soil'\n26. 'srad'\n27. 'swe'\n28. 'tmmn'\n29. 'tmmx'\n30. 'vap'\n31. 'vpd'\n32. 'vs'\n33. 'agbd_m'\n34. 'agbd_sd'\n35. 'agbd_n'\n36. 'p10'\n37. 'p20'\n38. 'p30'\n39. 'p40'\n40. 'p50'\n41. 'p60'\n42. 'p70'\n43. 'p80'\n44. 'p90'\n45. 'p100'\n46. 'p1_p1_5'\n47. 'p1_5_p_3'\n48. 'p3_p5'\n49. 'p5_p10'\n50. 'p10_p15'\n51. 'p15_p20'\n52. 'p20_p30'\n53. 'p30_'\n54. 'geom'\n\n\n",
            "text/latex": "\\begin{enumerate*}\n\\item 'id'\n\\item 'left'\n\\item 'top'\n\\item 'right'\n\\item 'bottom'\n\\item 'water'\n\\item 'trees'\n\\item 'grass'\n\\item 'flooded\\_vegetation'\n\\item 'crops'\n\\item 'shrub\\_and\\_scrub'\n\\item 'built'\n\\item 'bare'\n\\item 'snow\\_and\\_ice'\n\\item 'max'\n\\item 'elevation'\n\\item 'landform'\n\\item 'SRTM\\_mTPI'\n\\item 'aet'\n\\item 'def'\n\\item 'pdsi'\n\\item 'pet'\n\\item 'pr'\n\\item 'ro'\n\\item 'soil'\n\\item 'srad'\n\\item 'swe'\n\\item 'tmmn'\n\\item 'tmmx'\n\\item 'vap'\n\\item 'vpd'\n\\item 'vs'\n\\item 'agbd\\_m'\n\\item 'agbd\\_sd'\n\\item 'agbd\\_n'\n\\item 'p10'\n\\item 'p20'\n\\item 'p30'\n\\item 'p40'\n\\item 'p50'\n\\item 'p60'\n\\item 'p70'\n\\item 'p80'\n\\item 'p90'\n\\item 'p100'\n\\item 'p1\\_p1\\_5'\n\\item 'p1\\_5\\_p\\_3'\n\\item 'p3\\_p5'\n\\item 'p5\\_p10'\n\\item 'p10\\_p15'\n\\item 'p15\\_p20'\n\\item 'p20\\_p30'\n\\item 'p30\\_'\n\\item 'geom'\n\\end{enumerate*}\n",
            "text/plain": [
              " [1] \"id\"                 \"left\"               \"top\"               \n",
              " [4] \"right\"              \"bottom\"             \"water\"             \n",
              " [7] \"trees\"              \"grass\"              \"flooded_vegetation\"\n",
              "[10] \"crops\"              \"shrub_and_scrub\"    \"built\"             \n",
              "[13] \"bare\"               \"snow_and_ice\"       \"max\"               \n",
              "[16] \"elevation\"          \"landform\"           \"SRTM_mTPI\"         \n",
              "[19] \"aet\"                \"def\"                \"pdsi\"              \n",
              "[22] \"pet\"                \"pr\"                 \"ro\"                \n",
              "[25] \"soil\"               \"srad\"               \"swe\"               \n",
              "[28] \"tmmn\"               \"tmmx\"               \"vap\"               \n",
              "[31] \"vpd\"                \"vs\"                 \"agbd_m\"            \n",
              "[34] \"agbd_sd\"            \"agbd_n\"             \"p10\"               \n",
              "[37] \"p20\"                \"p30\"                \"p40\"               \n",
              "[40] \"p50\"                \"p60\"                \"p70\"               \n",
              "[43] \"p80\"                \"p90\"                \"p100\"              \n",
              "[46] \"p1_p1_5\"            \"p1_5_p_3\"           \"p3_p5\"             \n",
              "[49] \"p5_p10\"             \"p10_p15\"            \"p15_p20\"           \n",
              "[52] \"p20_p30\"            \"p30_\"               \"geom\"              "
            ]
          },
          "metadata": {}
        }
      ]
    },
    {
      "cell_type": "code",
      "source": [
        "test_sc_sf <- gensim_dt[p15_p20>0] %>% st_as_sf %>% st_transform(26904)"
      ],
      "metadata": {
        "id": "5rYPn46yVrJ6"
      },
      "execution_count": 59,
      "outputs": []
    },
    {
      "cell_type": "code",
      "source": [
        "union_test <- test_sc_sf %>% st_buffer(251) %>% st_union  %>% st_cast('POLYGON') %>% st_concave_hull(ratio=.1) %>% st_sf %>% st_as_sf %>% data.table"
      ],
      "metadata": {
        "id": "2RpYVr5UWG7U"
      },
      "execution_count": 60,
      "outputs": []
    },
    {
      "cell_type": "code",
      "source": [
        "union_test %>% st_write('p15_p20_soilscape.gpkg',delete_dsn = TRUE)"
      ],
      "metadata": {
        "colab": {
          "base_uri": "https://localhost:8080/"
        },
        "id": "_N8PZRPzXFxL",
        "outputId": "80ee5d8c-35ed-42df-ec6d-d2b368e373e4"
      },
      "execution_count": 61,
      "outputs": [
        {
          "output_type": "stream",
          "name": "stdout",
          "text": [
            "Deleting source `p15_p20_soilscape.gpkg' failed\n",
            "Writing layer `p15_p20_soilscape' to data source \n",
            "  `p15_p20_soilscape.gpkg' using driver `GPKG'\n",
            "Writing 635 features with 0 fields and geometry type Polygon.\n"
          ]
        }
      ]
    },
    {
      "cell_type": "code",
      "source": [
        "combo_soil_dt %>% names"
      ],
      "metadata": {
        "colab": {
          "base_uri": "https://localhost:8080/",
          "height": 34
        },
        "id": "tTcGgo78y_kI",
        "outputId": "3652ce8c-4f32-48d4-9834-f69ea1b10f5f"
      },
      "execution_count": 63,
      "outputs": [
        {
          "output_type": "display_data",
          "data": {
            "text/html": [
              "<style>\n",
              ".list-inline {list-style: none; margin:0; padding: 0}\n",
              ".list-inline>li {display: inline-block}\n",
              ".list-inline>li:not(:last-child)::after {content: \"\\00b7\"; padding: 0 .5ex}\n",
              "</style>\n",
              "<ol class=list-inline><li>'source_dataset'</li><li>'island'</li><li>'soil_column_id'</li><li>'unique_id'</li><li>'depth_top'</li><li>'depth_bottom'</li><li>'depth_adj_bottom'</li><li>'latitude'</li><li>'longitude'</li><li>'c_perc'</li><li>'imp_c'</li><li>'bulk_density'</li><li>'imp_bd'</li><li>'hole_id'</li></ol>\n"
            ],
            "text/markdown": "1. 'source_dataset'\n2. 'island'\n3. 'soil_column_id'\n4. 'unique_id'\n5. 'depth_top'\n6. 'depth_bottom'\n7. 'depth_adj_bottom'\n8. 'latitude'\n9. 'longitude'\n10. 'c_perc'\n11. 'imp_c'\n12. 'bulk_density'\n13. 'imp_bd'\n14. 'hole_id'\n\n\n",
            "text/latex": "\\begin{enumerate*}\n\\item 'source\\_dataset'\n\\item 'island'\n\\item 'soil\\_column\\_id'\n\\item 'unique\\_id'\n\\item 'depth\\_top'\n\\item 'depth\\_bottom'\n\\item 'depth\\_adj\\_bottom'\n\\item 'latitude'\n\\item 'longitude'\n\\item 'c\\_perc'\n\\item 'imp\\_c'\n\\item 'bulk\\_density'\n\\item 'imp\\_bd'\n\\item 'hole\\_id'\n\\end{enumerate*}\n",
            "text/plain": [
              " [1] \"source_dataset\"   \"island\"           \"soil_column_id\"   \"unique_id\"       \n",
              " [5] \"depth_top\"        \"depth_bottom\"     \"depth_adj_bottom\" \"latitude\"        \n",
              " [9] \"longitude\"        \"c_perc\"           \"imp_c\"            \"bulk_density\"    \n",
              "[13] \"imp_bd\"           \"hole_id\"         "
            ]
          },
          "metadata": {}
        }
      ]
    },
    {
      "cell_type": "code",
      "source": [
        "annotated_dt <- as.data.table(annotated_sf)\n",
        "#gensim_d"
      ],
      "metadata": {
        "id": "As74gUloF1Sm"
      },
      "execution_count": 79,
      "outputs": []
    },
    {
      "cell_type": "code",
      "source": [
        "nrow(annotated_dt[annotated_dt$dist_id == 1, ])"
      ],
      "metadata": {
        "colab": {
          "base_uri": "https://localhost:8080/",
          "height": 34
        },
        "id": "Cqy5P0qxDBxb",
        "outputId": "84934720-d0da-43e0-f6f2-91a76e2cf4ff"
      },
      "execution_count": 174,
      "outputs": [
        {
          "output_type": "display_data",
          "data": {
            "text/html": [
              "16"
            ],
            "text/markdown": "16",
            "text/latex": "16",
            "text/plain": [
              "[1] 16"
            ]
          },
          "metadata": {}
        }
      ]
    },
    {
      "cell_type": "code",
      "source": [],
      "metadata": {
        "colab": {
          "base_uri": "https://localhost:8080/"
        },
        "id": "PmM_gb2lJ3RR",
        "outputId": "eb9f6190-2707-46e3-e424-35203999a9bc"
      },
      "execution_count": 101,
      "outputs": [
        {
          "output_type": "stream",
          "name": "stderr",
          "text": [
            "lines or polygons\n",
            "\n"
          ]
        },
        {
          "output_type": "stream",
          "name": "stdout",
          "text": [
            "  |======================================================================| 100%\n"
          ]
        }
      ]
    },
    {
      "cell_type": "code",
      "source": [
        "gensim_dt %>% nrow"
      ],
      "metadata": {
        "colab": {
          "base_uri": "https://localhost:8080/",
          "height": 34
        },
        "id": "3PssP1wWLeAw",
        "outputId": "9136e127-f8b1-410e-852c-0fc48cc13139"
      },
      "execution_count": 109,
      "outputs": [
        {
          "output_type": "display_data",
          "data": {
            "text/html": [
              "359163"
            ],
            "text/markdown": "359163",
            "text/latex": "359163",
            "text/plain": [
              "[1] 359163"
            ]
          },
          "metadata": {}
        }
      ]
    },
    {
      "cell_type": "code",
      "source": [
        "distance_vec$nn[[1]][[1]]"
      ],
      "metadata": {
        "colab": {
          "base_uri": "https://localhost:8080/",
          "height": 34
        },
        "id": "XL5MTUePLjzb",
        "outputId": "afa2af47-7a31-4283-ed15-a8267cda7f62"
      },
      "execution_count": 120,
      "outputs": [
        {
          "output_type": "display_data",
          "data": {
            "text/html": [
              "10178"
            ],
            "text/markdown": "10178",
            "text/latex": "10178",
            "text/plain": [
              "[1] 10178"
            ]
          },
          "metadata": {}
        }
      ]
    },
    {
      "cell_type": "code",
      "source": [],
      "metadata": {
        "id": "ui7j90IKQUJg"
      },
      "execution_count": null,
      "outputs": []
    },
    {
      "cell_type": "code",
      "source": [
        "test_dt <- annotated_dt[!is.na(dist_id) &depth_adj_bottom ==20, ]\n",
        "# test_dt[,N:=length(depth_adj_bottom), by = dist_id]\n",
        "\n",
        "# test_dt <- test_dt[N>1 &N <30]"
      ],
      "metadata": {
        "id": "E2vjEe5fNL6Q"
      },
      "execution_count": 264,
      "outputs": []
    },
    {
      "cell_type": "code",
      "source": [
        "\n",
        "result_dt <-\n",
        "test_dt %>% split(.$dist_id) %>% lapply(function(check_dt){\n",
        "  # print(dist_id)\n",
        "  # c(1:5) %>% lapply(function(dist_id){\n",
        "  # dist_id <- 24\n",
        "  # print(annotated_dt$geom[annotated_dt$dist_id %in% dist_id ])\n",
        "distance_vec <- check_dt$geom  %>% st_union %>% st_nn(.,gensim_dt$geom,k=4,maxdist = 500,returnDist  = T)\n",
        "\n",
        "out_dt <-\n",
        "# dist_id <-24\n",
        "# print(distance_vec$nn)\n",
        "distance_vec$nn[[1]]  %>% lapply(function(nn){\n",
        "pred_dist <- gensim_dt[nn %>% unlist][, paste('p',c(1,2,3,4,5,6,7,8,9,10)*10, sep='')] %>% unlist\n",
        "true_dist <- check_dt$imp_c\n",
        "\n",
        "# Mean and standard deviation of the samples\n",
        "mean_val <- mean(pred_dist)\n",
        "sd_val <- sd(pred_dist)\n",
        "\n",
        "# Z-score calculation\n",
        "z_score <- (true_dist - mean_val) / sd_val\n",
        "\n",
        "# Probability density for the Z-score under the normal distribution\n",
        "probability_density <- dnorm(z_score)\n",
        "\n",
        "check_dt$z_score <- z_score\n",
        "check_dt$probability_density <- probability_density\n",
        "# if(!(is.na(pred_dist) %>% any)){\n",
        "# t_result <- t.test(true_dist,pred_dist)\n",
        "# out_dt <- gensim_dt[nn %>% unlist]\n",
        "\n",
        "# out_dt$dist_id <- dist_id\n",
        "# out_dt$p_value <- t_result$p.value\n",
        "return(check_dt)\n",
        "# }else(return(NULL))\n",
        "}) %>% rbindlist\n",
        "\n",
        "return(out_dt)}) %>% rbindlist"
      ],
      "metadata": {
        "colab": {
          "base_uri": "https://localhost:8080/"
        },
        "id": "dN1J_eH6LIaU",
        "outputId": "4fd7a402-7ac5-4974-d4ec-09e1e64c2055"
      },
      "execution_count": 266,
      "outputs": [
        {
          "output_type": "stream",
          "name": "stderr",
          "text": [
            "lon-lat points\n",
            "\n"
          ]
        },
        {
          "output_type": "stream",
          "name": "stdout",
          "text": [
            "  |======================================================================| 100%\n"
          ]
        },
        {
          "output_type": "stream",
          "name": "stderr",
          "text": [
            "lon-lat points\n",
            "\n"
          ]
        },
        {
          "output_type": "stream",
          "name": "stdout",
          "text": [
            "  |======================================================================| 100%\n"
          ]
        },
        {
          "output_type": "stream",
          "name": "stderr",
          "text": [
            "lon-lat points\n",
            "\n"
          ]
        },
        {
          "output_type": "stream",
          "name": "stdout",
          "text": [
            "  |======================================================================| 100%\n"
          ]
        },
        {
          "output_type": "stream",
          "name": "stderr",
          "text": [
            "lon-lat points\n",
            "\n"
          ]
        },
        {
          "output_type": "stream",
          "name": "stdout",
          "text": [
            "  |======================================================================| 100%\n"
          ]
        },
        {
          "output_type": "stream",
          "name": "stderr",
          "text": [
            "lon-lat points\n",
            "\n"
          ]
        },
        {
          "output_type": "stream",
          "name": "stdout",
          "text": [
            "  |======================================================================| 100%\n"
          ]
        },
        {
          "output_type": "stream",
          "name": "stderr",
          "text": [
            "lon-lat points\n",
            "\n"
          ]
        },
        {
          "output_type": "stream",
          "name": "stdout",
          "text": [
            "  |======================================================================| 100%\n"
          ]
        },
        {
          "output_type": "stream",
          "name": "stderr",
          "text": [
            "lon-lat points\n",
            "\n"
          ]
        },
        {
          "output_type": "stream",
          "name": "stdout",
          "text": [
            "  |======================================================================| 100%\n"
          ]
        },
        {
          "output_type": "stream",
          "name": "stderr",
          "text": [
            "lon-lat points\n",
            "\n"
          ]
        },
        {
          "output_type": "stream",
          "name": "stdout",
          "text": [
            "  |======================================================================| 100%\n"
          ]
        },
        {
          "output_type": "stream",
          "name": "stderr",
          "text": [
            "lon-lat points\n",
            "\n"
          ]
        },
        {
          "output_type": "stream",
          "name": "stdout",
          "text": [
            "  |======================================================================| 100%\n"
          ]
        },
        {
          "output_type": "stream",
          "name": "stderr",
          "text": [
            "lon-lat points\n",
            "\n"
          ]
        },
        {
          "output_type": "stream",
          "name": "stdout",
          "text": [
            "  |======================================================================| 100%\n"
          ]
        },
        {
          "output_type": "stream",
          "name": "stderr",
          "text": [
            "lon-lat points\n",
            "\n"
          ]
        },
        {
          "output_type": "stream",
          "name": "stdout",
          "text": [
            "  |======================================================================| 100%\n"
          ]
        },
        {
          "output_type": "stream",
          "name": "stderr",
          "text": [
            "lon-lat points\n",
            "\n"
          ]
        },
        {
          "output_type": "stream",
          "name": "stdout",
          "text": [
            "  |======================================================================| 100%\n"
          ]
        },
        {
          "output_type": "stream",
          "name": "stderr",
          "text": [
            "lines or polygons\n",
            "\n"
          ]
        },
        {
          "output_type": "stream",
          "name": "stdout",
          "text": [
            "  |======================================================================| 100%\n"
          ]
        },
        {
          "output_type": "stream",
          "name": "stderr",
          "text": [
            "lines or polygons\n",
            "\n"
          ]
        },
        {
          "output_type": "stream",
          "name": "stdout",
          "text": [
            "  |======================================================================| 100%\n"
          ]
        },
        {
          "output_type": "stream",
          "name": "stderr",
          "text": [
            "lines or polygons\n",
            "\n"
          ]
        },
        {
          "output_type": "stream",
          "name": "stdout",
          "text": [
            "  |======================================================================| 100%\n"
          ]
        },
        {
          "output_type": "stream",
          "name": "stderr",
          "text": [
            "lines or polygons\n",
            "\n"
          ]
        },
        {
          "output_type": "stream",
          "name": "stdout",
          "text": [
            "  |======================================================================| 100%\n"
          ]
        },
        {
          "output_type": "stream",
          "name": "stderr",
          "text": [
            "lines or polygons\n",
            "\n"
          ]
        },
        {
          "output_type": "stream",
          "name": "stdout",
          "text": [
            "  |======================================================================| 100%\n"
          ]
        },
        {
          "output_type": "stream",
          "name": "stderr",
          "text": [
            "lon-lat points\n",
            "\n"
          ]
        },
        {
          "output_type": "stream",
          "name": "stdout",
          "text": [
            "  |======================================================================| 100%\n"
          ]
        },
        {
          "output_type": "stream",
          "name": "stderr",
          "text": [
            "lon-lat points\n",
            "\n"
          ]
        },
        {
          "output_type": "stream",
          "name": "stdout",
          "text": [
            "  |======================================================================| 100%\n"
          ]
        },
        {
          "output_type": "stream",
          "name": "stderr",
          "text": [
            "lines or polygons\n",
            "\n"
          ]
        },
        {
          "output_type": "stream",
          "name": "stdout",
          "text": [
            "  |======================================================================| 100%\n"
          ]
        },
        {
          "output_type": "stream",
          "name": "stderr",
          "text": [
            "lon-lat points\n",
            "\n"
          ]
        },
        {
          "output_type": "stream",
          "name": "stdout",
          "text": [
            "  |======================================================================| 100%\n"
          ]
        },
        {
          "output_type": "stream",
          "name": "stderr",
          "text": [
            "lon-lat points\n",
            "\n"
          ]
        },
        {
          "output_type": "stream",
          "name": "stdout",
          "text": [
            "  |======================================================================| 100%\n"
          ]
        },
        {
          "output_type": "stream",
          "name": "stderr",
          "text": [
            "lines or polygons\n",
            "\n"
          ]
        },
        {
          "output_type": "stream",
          "name": "stdout",
          "text": [
            "  |======================================================================| 100%\n"
          ]
        },
        {
          "output_type": "stream",
          "name": "stderr",
          "text": [
            "lines or polygons\n",
            "\n"
          ]
        },
        {
          "output_type": "stream",
          "name": "stdout",
          "text": [
            "  |======================================================================| 100%\n"
          ]
        },
        {
          "output_type": "stream",
          "name": "stderr",
          "text": [
            "lines or polygons\n",
            "\n"
          ]
        },
        {
          "output_type": "stream",
          "name": "stdout",
          "text": [
            "  |======================================================================| 100%\n"
          ]
        },
        {
          "output_type": "stream",
          "name": "stderr",
          "text": [
            "lines or polygons\n",
            "\n"
          ]
        },
        {
          "output_type": "stream",
          "name": "stdout",
          "text": [
            "  |======================================================================| 100%\n"
          ]
        },
        {
          "output_type": "stream",
          "name": "stderr",
          "text": [
            "lines or polygons\n",
            "\n"
          ]
        },
        {
          "output_type": "stream",
          "name": "stdout",
          "text": [
            "  |======================================================================| 100%\n"
          ]
        },
        {
          "output_type": "stream",
          "name": "stderr",
          "text": [
            "lines or polygons\n",
            "\n"
          ]
        },
        {
          "output_type": "stream",
          "name": "stdout",
          "text": [
            "  |======================================================================| 100%\n"
          ]
        },
        {
          "output_type": "stream",
          "name": "stderr",
          "text": [
            "lines or polygons\n",
            "\n"
          ]
        },
        {
          "output_type": "stream",
          "name": "stdout",
          "text": [
            "  |======================================================================| 100%\n"
          ]
        },
        {
          "output_type": "stream",
          "name": "stderr",
          "text": [
            "lines or polygons\n",
            "\n"
          ]
        },
        {
          "output_type": "stream",
          "name": "stdout",
          "text": [
            "  |======================================================================| 100%\n"
          ]
        },
        {
          "output_type": "stream",
          "name": "stderr",
          "text": [
            "lines or polygons\n",
            "\n"
          ]
        },
        {
          "output_type": "stream",
          "name": "stdout",
          "text": [
            "  |======================================================================| 100%\n"
          ]
        },
        {
          "output_type": "stream",
          "name": "stderr",
          "text": [
            "lon-lat points\n",
            "\n"
          ]
        },
        {
          "output_type": "stream",
          "name": "stdout",
          "text": [
            "  |======================================================================| 100%\n"
          ]
        },
        {
          "output_type": "stream",
          "name": "stderr",
          "text": [
            "lon-lat points\n",
            "\n"
          ]
        },
        {
          "output_type": "stream",
          "name": "stdout",
          "text": [
            "  |======================================================================| 100%\n"
          ]
        },
        {
          "output_type": "stream",
          "name": "stderr",
          "text": [
            "lon-lat points\n",
            "\n"
          ]
        },
        {
          "output_type": "stream",
          "name": "stdout",
          "text": [
            "  |======================================================================| 100%\n"
          ]
        },
        {
          "output_type": "stream",
          "name": "stderr",
          "text": [
            "lon-lat points\n",
            "\n"
          ]
        },
        {
          "output_type": "stream",
          "name": "stdout",
          "text": [
            "  |======================================================================| 100%\n"
          ]
        }
      ]
    },
    {
      "cell_type": "code",
      "source": [
        "# Vector of Z-scores\n",
        "z_scores <- result_dt$z_score[!is.na(result_dt$z_score)]\n",
        "\n",
        "# Combine Z-scores using Stouffer's method\n",
        "combined_z <- sum(z_scores) / sqrt(length(z_scores))\n",
        "\n",
        "# Calculate the p-value from the combined Z-score\n",
        "combined_p_value <- 2 * (1 - pnorm(abs(combined_z)))\n",
        "\n",
        "# Print the combined Z-score and p-value\n",
        "print(paste(\"Combined Z-score:\", combined_z))\n",
        "print(paste(\"Combined p-value:\", combined_p_value))\n"
      ],
      "metadata": {
        "colab": {
          "base_uri": "https://localhost:8080/"
        },
        "id": "k-GJJNQugYrI",
        "outputId": "63600c5c-553f-4b08-dae8-6ead50385265"
      },
      "execution_count": 277,
      "outputs": [
        {
          "output_type": "stream",
          "name": "stdout",
          "text": [
            "[1] \"Combined Z-score: 17.6635822492396\"\n",
            "[1] \"Combined p-value: 0\"\n"
          ]
        }
      ]
    },
    {
      "cell_type": "code",
      "source": [
        "library(scales)\n",
        "\n",
        "# Custom symmetric log transformation\n",
        "symlog_trans <- function(base = exp(1)) {\n",
        "  trans_new(name = 'symlog',\n",
        "            transform = function(x) sign(x) * log1p(abs(x)),\n",
        "            inverse = function(x) sign(x) * (exp(abs(x)) - 1))\n",
        "}\n",
        "\n",
        "result_dt %>%\n",
        "  ggplot(aes(x=z_score))+\n",
        "  geom_histogram() +\n",
        "  geom_vline(color='red',linetype = 'dashed',xintercept= -2) +\n",
        "  geom_vline(color='red',linetype = 'dashed',xintercept= 2) +\n",
        "  xlim(-100,100)+\n",
        "  scale_x_continuous(trans = symlog_trans())\n"
      ],
      "metadata": {
        "colab": {
          "base_uri": "https://localhost:8080/",
          "height": 528
        },
        "id": "iBqvSZ9bOrT9",
        "outputId": "b6bd7020-679a-49af-a551-70d19ab7bfc9"
      },
      "execution_count": 282,
      "outputs": [
        {
          "output_type": "stream",
          "name": "stderr",
          "text": [
            "\u001b[1m\u001b[22mScale for \u001b[32mx\u001b[39m is already present.\n",
            "Adding another scale for \u001b[32mx\u001b[39m, which will replace the existing scale.\n",
            "\u001b[1m\u001b[22m`stat_bin()` using `bins = 30`. Pick better value with `binwidth`.\n",
            "Warning message:\n",
            "“\u001b[1m\u001b[22mRemoved 230 rows containing non-finite outside the scale range (`stat_bin()`).”\n"
          ]
        },
        {
          "output_type": "display_data",
          "data": {
            "text/plain": [
              "plot without title"
            ],
            "image/png": "[encoded data removed]"
          },
          "metadata": {
            "image/png": {
              "width": 420,
              "height": 420
            }
          }
        }
      ]
    },
    {
      "cell_type": "code",
      "source": [
        "unified_geoms <- annotated_dt[, .(geom = list(st_union(geom))), by = dist_id]\n",
        "\n",
        "# Apply the nearest neighbors function\n",
        "unified_geoms[, nn_result := lapply(geom, function(g) {\n",
        "  nn <- st_nn(g, gensim_dt$geom, k = 4, returnDist = TRUE)\n",
        "  # Optional: format the result to be more readable or useful\n",
        "  list(index = nn$which, distance = nn$dist)\n",
        "}), by = dist_id]\n",
        "\n",
        "# View results\n",
        "print(unified_geoms)"
      ],
      "metadata": {
        "colab": {
          "base_uri": "https://localhost:8080/"
        },
        "id": "BTy_eDSPHhp0",
        "outputId": "fdc08a5d-53d3-4c5d-f8bd-5e52c9229b9c"
      },
      "execution_count": 258,
      "outputs": [
        {
          "output_type": "stream",
          "name": "stderr",
          "text": [
            "lines or polygons\n",
            "\n"
          ]
        },
        {
          "output_type": "stream",
          "name": "stdout",
          "text": [
            "\r  |                                                                            \r  |                                                                      |   0%"
          ]
        }
      ]
    },
    {
      "cell_type": "code",
      "source": [
        "\n"
      ],
      "metadata": {
        "id": "_8006RpT-OOr"
      },
      "execution_count": null,
      "outputs": []
    }
  ]
}