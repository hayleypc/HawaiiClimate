{
  "nbformat": 4,
  "nbformat_minor": 0,
  "metadata": {
    "colab": {
      "provenance": [],
      "authorship_tag": "ABX9TyMN3Knyyq6zsW4lKG0/lVrG",
      "include_colab_link": true
    },
    "kernelspec": {
      "name": "ir",
      "display_name": "R"
    },
    "language_info": {
      "name": "R"
    }
  },
  "cells": [
    {
      "cell_type": "markdown",
      "metadata": {
        "id": "view-in-github",
        "colab_type": "text"
      },
      "source": [
        "<a href=\"https://colab.research.google.com/github/hayleypc/HawaiiClimate/blob/main/HIsoc_gen_sim_results_exploration.ipynb\" target=\"_parent\"><img src=\"https://colab.research.google.com/assets/colab-badge.svg\" alt=\"Open In Colab\"/></a>"
      ]
    },
    {
      "cell_type": "code",
      "execution_count": 1,
      "metadata": {
        "colab": {
          "base_uri": "https://localhost:8080/"
        },
        "id": "Cy3xNNTlPh4D",
        "outputId": "a16f7d1e-9baa-4d7e-88d9-5b295c16fc5a"
      },
      "outputs": [
        {
          "output_type": "stream",
          "name": "stderr",
          "text": [
            "Installing package into ‘/usr/local/lib/R/site-library’\n",
            "(as ‘lib’ is unspecified)\n",
            "\n",
            "Installing package into ‘/usr/local/lib/R/site-library’\n",
            "(as ‘lib’ is unspecified)\n",
            "\n",
            "also installing the dependencies ‘proxy’, ‘e1071’, ‘wk’, ‘classInt’, ‘Rcpp’, ‘s2’, ‘units’\n",
            "\n",
            "\n",
            "Installing package into ‘/usr/local/lib/R/site-library’\n",
            "(as ‘lib’ is unspecified)\n",
            "\n",
            "also installing the dependencies ‘sp’, ‘terra’\n",
            "\n",
            "\n",
            "Installing package into ‘/usr/local/lib/R/site-library’\n",
            "(as ‘lib’ is unspecified)\n",
            "\n",
            "Installing package into ‘/usr/local/lib/R/site-library’\n",
            "(as ‘lib’ is unspecified)\n",
            "\n",
            "Warning message:\n",
            "“package ‘googletoken’ is not available for this version of R\n",
            "\n",
            "A version of this package for your version of R might be available elsewhere,\n",
            "see the ideas at\n",
            "https://cran.r-project.org/doc/manuals/r-patched/R-admin.html#Installing-packages”\n",
            "Installing package into ‘/usr/local/lib/R/site-library’\n",
            "(as ‘lib’ is unspecified)\n",
            "\n"
          ]
        }
      ],
      "source": [
        "install.packages('ggplot2')\n",
        "install.packages('sf')\n",
        "install.packages('raster')\n",
        "install.packages('googledrive')\n",
        "install.packages('data.table')"
      ]
    },
    {
      "cell_type": "code",
      "source": [
        "library(ggplot2)\n",
        "library(sf)\n",
        "library(raster)\n",
        "library(googledrive)\n",
        "library(data.table)"
      ],
      "metadata": {
        "colab": {
          "base_uri": "https://localhost:8080/"
        },
        "id": "OA5puGpXRy_a",
        "outputId": "9b86942e-82e5-441d-e4f8-1493cbecc953"
      },
      "execution_count": 3,
      "outputs": [
        {
          "output_type": "stream",
          "name": "stderr",
          "text": [
            "\n",
            "Attaching package: ‘data.table’\n",
            "\n",
            "\n",
            "The following object is masked from ‘package:raster’:\n",
            "\n",
            "    shift\n",
            "\n",
            "\n"
          ]
        }
      ]
    },
    {
      "cell_type": "code",
      "source": [
        "drive_auth(use_oob = TRUE, cache = FALSE)"
      ],
      "metadata": {
        "colab": {
          "base_uri": "https://localhost:8080/"
        },
        "id": "AoKq-o64SvME",
        "outputId": "147e3ad2-f447-4920-d61d-a8affe04f95e"
      },
      "execution_count": 4,
      "outputs": [
        {
          "output_type": "stream",
          "name": "stderr",
          "text": [
            "Please point your browser to the following url: \n",
            "\n",
            "https://accounts.google.com/o/oauth2/v2/auth?client_id=603366585132-frjlouoa3s2ono25d2l9ukvhlsrlnr7k.apps.googleusercontent.com&scope=https%3A%2F%2Fwww.googleapis.com%2Fauth%2Fdrive%20https%3A%2F%2Fwww.googleapis.com%2Fauth%2Fuserinfo.email&redirect_uri=https%3A%2F%2Fwww.tidyverse.org%2Fgoogle-callback%2F&response_type=code&state=6272ee846618f0bbaa135a8f309f6097&access_type=offline&prompt=consent\n",
            "\n"
          ]
        },
        {
          "name": "stdout",
          "output_type": "stream",
          "text": [
            "Enter authorization code: eyJjb2RlIjoiNC8wQWVhWVNIRG8tN2xDWktkRWFoN2RYdHJ0SUhGQy1uUkhKTFpCME9ZSktnd3hOX1Rka01USnd0d1JiZUZPLUtRdG9PME5hdyIsInN0YXRlIjoiNjI3MmVlODQ2NjE4ZjBiYmFhMTM1YThmMzA5ZjYwOTcifQ==\n"
          ]
        }
      ]
    },
    {
      "cell_type": "markdown",
      "source": [
        "Generative Simulation Results from 4/14/2024"
      ],
      "metadata": {
        "id": "_2tYxGVMTm9s"
      }
    },
    {
      "cell_type": "code",
      "source": [
        "# https://drive.google.com/file/d/18bH1Eat6ZgS30sAv3mkhwKh2ueu9CF7H/view?usp=drive_link\n",
        "drive_download(file = as_id('18bH1Eat6ZgS30sAv3mkhwKh2ueu9CF7H'), path =  '/content/gensim.gpkg', overwrite = FALSE)\n",
        "gensim_sf <- st_read('/content/gensim.gpkg')"
      ],
      "metadata": {
        "colab": {
          "base_uri": "https://localhost:8080/"
        },
        "id": "ZC8JB93pSyBp",
        "outputId": "d0ba93ee-ea05-4af6-8093-2863aeb1b6bc"
      },
      "execution_count": 5,
      "outputs": [
        {
          "output_type": "stream",
          "name": "stderr",
          "text": [
            "File downloaded:\n",
            "\n",
            "• \u001b[36mgenerative_simulation_results.gpkg\u001b[39m \u001b[90m<id: 18bH1Eat6ZgS30sAv3mkhwKh2ueu9CF7H>\u001b[39m\n",
            "\n",
            "Saved locally as:\n",
            "\n",
            "• \u001b[34m/content/gensim.gpkg\u001b[39m\n",
            "\n"
          ]
        },
        {
          "output_type": "stream",
          "name": "stdout",
          "text": [
            "Reading layer `generative_simulation_results' from data source \n",
            "  `/content/gensim.gpkg' using driver `GPKG'\n",
            "Simple feature collection with 359163 features and 53 fields\n",
            "Geometry type: POINT\n",
            "Dimension:     XY\n",
            "Bounding box:  xmin: -159.7877 ymin: 18.91217 xmax: -154.807 ymax: 22.23237\n",
            "Geodetic CRS:  WGS 84\n"
          ]
        }
      ]
    },
    {
      "cell_type": "code",
      "source": [
        "names(gensim_sf)"
      ],
      "metadata": {
        "colab": {
          "base_uri": "https://localhost:8080/",
          "height": 52
        },
        "id": "XjoE5yv4U5yP",
        "outputId": "fb52e7e0-0a6b-4cf9-bdfe-b22a249685c5"
      },
      "execution_count": 6,
      "outputs": [
        {
          "output_type": "display_data",
          "data": {
            "text/html": [
              "<style>\n",
              ".list-inline {list-style: none; margin:0; padding: 0}\n",
              ".list-inline>li {display: inline-block}\n",
              ".list-inline>li:not(:last-child)::after {content: \"\\00b7\"; padding: 0 .5ex}\n",
              "</style>\n",
              "<ol class=list-inline><li>'id'</li><li>'left'</li><li>'top'</li><li>'right'</li><li>'bottom'</li><li>'water'</li><li>'trees'</li><li>'grass'</li><li>'flooded_vegetation'</li><li>'crops'</li><li>'shrub_and_scrub'</li><li>'built'</li><li>'bare'</li><li>'snow_and_ice'</li><li>'max'</li><li>'elevation'</li><li>'landform'</li><li>'SRTM_mTPI'</li><li>'aet'</li><li>'def'</li><li>'pdsi'</li><li>'pet'</li><li>'pr'</li><li>'ro'</li><li>'soil'</li><li>'srad'</li><li>'swe'</li><li>'tmmn'</li><li>'tmmx'</li><li>'vap'</li><li>'vpd'</li><li>'vs'</li><li>'agbd_m'</li><li>'agbd_sd'</li><li>'agbd_n'</li><li>'p10'</li><li>'p20'</li><li>'p30'</li><li>'p40'</li><li>'p50'</li><li>'p60'</li><li>'p70'</li><li>'p80'</li><li>'p90'</li><li>'p100'</li><li>'p1_p1_5'</li><li>'p1_5_p_3'</li><li>'p3_p5'</li><li>'p5_p10'</li><li>'p10_p15'</li><li>'p15_p20'</li><li>'p20_p30'</li><li>'p30_'</li><li>'geom'</li></ol>\n"
            ],
            "text/markdown": "1. 'id'\n2. 'left'\n3. 'top'\n4. 'right'\n5. 'bottom'\n6. 'water'\n7. 'trees'\n8. 'grass'\n9. 'flooded_vegetation'\n10. 'crops'\n11. 'shrub_and_scrub'\n12. 'built'\n13. 'bare'\n14. 'snow_and_ice'\n15. 'max'\n16. 'elevation'\n17. 'landform'\n18. 'SRTM_mTPI'\n19. 'aet'\n20. 'def'\n21. 'pdsi'\n22. 'pet'\n23. 'pr'\n24. 'ro'\n25. 'soil'\n26. 'srad'\n27. 'swe'\n28. 'tmmn'\n29. 'tmmx'\n30. 'vap'\n31. 'vpd'\n32. 'vs'\n33. 'agbd_m'\n34. 'agbd_sd'\n35. 'agbd_n'\n36. 'p10'\n37. 'p20'\n38. 'p30'\n39. 'p40'\n40. 'p50'\n41. 'p60'\n42. 'p70'\n43. 'p80'\n44. 'p90'\n45. 'p100'\n46. 'p1_p1_5'\n47. 'p1_5_p_3'\n48. 'p3_p5'\n49. 'p5_p10'\n50. 'p10_p15'\n51. 'p15_p20'\n52. 'p20_p30'\n53. 'p30_'\n54. 'geom'\n\n\n",
            "text/latex": "\\begin{enumerate*}\n\\item 'id'\n\\item 'left'\n\\item 'top'\n\\item 'right'\n\\item 'bottom'\n\\item 'water'\n\\item 'trees'\n\\item 'grass'\n\\item 'flooded\\_vegetation'\n\\item 'crops'\n\\item 'shrub\\_and\\_scrub'\n\\item 'built'\n\\item 'bare'\n\\item 'snow\\_and\\_ice'\n\\item 'max'\n\\item 'elevation'\n\\item 'landform'\n\\item 'SRTM\\_mTPI'\n\\item 'aet'\n\\item 'def'\n\\item 'pdsi'\n\\item 'pet'\n\\item 'pr'\n\\item 'ro'\n\\item 'soil'\n\\item 'srad'\n\\item 'swe'\n\\item 'tmmn'\n\\item 'tmmx'\n\\item 'vap'\n\\item 'vpd'\n\\item 'vs'\n\\item 'agbd\\_m'\n\\item 'agbd\\_sd'\n\\item 'agbd\\_n'\n\\item 'p10'\n\\item 'p20'\n\\item 'p30'\n\\item 'p40'\n\\item 'p50'\n\\item 'p60'\n\\item 'p70'\n\\item 'p80'\n\\item 'p90'\n\\item 'p100'\n\\item 'p1\\_p1\\_5'\n\\item 'p1\\_5\\_p\\_3'\n\\item 'p3\\_p5'\n\\item 'p5\\_p10'\n\\item 'p10\\_p15'\n\\item 'p15\\_p20'\n\\item 'p20\\_p30'\n\\item 'p30\\_'\n\\item 'geom'\n\\end{enumerate*}\n",
            "text/plain": [
              " [1] \"id\"                 \"left\"               \"top\"               \n",
              " [4] \"right\"              \"bottom\"             \"water\"             \n",
              " [7] \"trees\"              \"grass\"              \"flooded_vegetation\"\n",
              "[10] \"crops\"              \"shrub_and_scrub\"    \"built\"             \n",
              "[13] \"bare\"               \"snow_and_ice\"       \"max\"               \n",
              "[16] \"elevation\"          \"landform\"           \"SRTM_mTPI\"         \n",
              "[19] \"aet\"                \"def\"                \"pdsi\"              \n",
              "[22] \"pet\"                \"pr\"                 \"ro\"                \n",
              "[25] \"soil\"               \"srad\"               \"swe\"               \n",
              "[28] \"tmmn\"               \"tmmx\"               \"vap\"               \n",
              "[31] \"vpd\"                \"vs\"                 \"agbd_m\"            \n",
              "[34] \"agbd_sd\"            \"agbd_n\"             \"p10\"               \n",
              "[37] \"p20\"                \"p30\"                \"p40\"               \n",
              "[40] \"p50\"                \"p60\"                \"p70\"               \n",
              "[43] \"p80\"                \"p90\"                \"p100\"              \n",
              "[46] \"p1_p1_5\"            \"p1_5_p_3\"           \"p3_p5\"             \n",
              "[49] \"p5_p10\"             \"p10_p15\"            \"p15_p20\"           \n",
              "[52] \"p20_p30\"            \"p30_\"               \"geom\"              "
            ]
          },
          "metadata": {}
        }
      ]
    },
    {
      "cell_type": "code",
      "source": [
        "gensim_dt <- as.data.table(gensim_sf)\n",
        "# str(gensim_dt)"
      ],
      "metadata": {
        "colab": {
          "base_uri": "https://localhost:8080/"
        },
        "id": "wbr3dpdHb8f3",
        "outputId": "672f8514-5720-4dca-8f95-8a5a6d9efa61"
      },
      "execution_count": 9,
      "outputs": [
        {
          "output_type": "stream",
          "name": "stdout",
          "text": [
            "Classes ‘data.table’ and 'data.frame':\t359163 obs. of  54 variables:\n",
            " $ id                : num  4187832 4187833 4187834 4187835 4187828 ...\n",
            " $ left              : num  -3114335 -3114335 -3114335 -3114335 -3114335 ...\n",
            " $ top               : num  2703957 2703707 2703457 2703207 2704957 ...\n",
            " $ right             : num  -3114085 -3114085 -3114085 -3114085 -3114085 ...\n",
            " $ bottom            : num  2704207 2703957 2703707 2703457 2705207 ...\n",
            " $ water             : num  0.0352 0.0361 0.0358 0.0342 0.0352 ...\n",
            " $ trees             : num  0.104 0.249 0.289 0.188 0.334 ...\n",
            " $ grass             : num  0.467 0.346 0.284 0.332 0.276 ...\n",
            " $ flooded_vegetation: num  0.0434 0.0378 0.0348 0.0355 0.0368 ...\n",
            " $ crops             : num  0.0617 0.0642 0.0664 0.0691 0.0546 ...\n",
            " $ shrub_and_scrub   : num  0.174 0.153 0.171 0.196 0.159 ...\n",
            " $ built             : num  0.0398 0.0415 0.041 0.0408 0.0359 ...\n",
            " $ bare              : num  0.0406 0.04 0.0432 0.0528 0.0387 ...\n",
            " $ snow_and_ice      : num  0.0343 0.0329 0.0351 0.0508 0.0295 ...\n",
            " $ max               : num  2.13 1.9 2.05 2.55 1.69 ...\n",
            " $ elevation         : num  1456 1484 1512 1539 1354 ...\n",
            " $ landform          : num  31 31 31 31 21 21 21 31 31 31 ...\n",
            " $ SRTM_mTPI         : num  1.66 1.618 1.416 -0.844 11.144 ...\n",
            " $ aet               : num  815 815 815 815 823 ...\n",
            " $ def               : num  129 129 129 129 215 ...\n",
            " $ pdsi              : num  -75.2 -75.2 -75.2 -75.2 -79.8 ...\n",
            " $ pet               : num  944 944 944 944 1038 ...\n",
            " $ pr                : num  140 140 140 140 138 ...\n",
            " $ ro                : num  58.2 58.2 58.2 58.2 55.7 ...\n",
            " $ soil              : num  357 357 357 357 321 ...\n",
            " $ srad              : num  2081 2081 2081 2081 2106 ...\n",
            " $ swe               : num  0 0 0 0 0 0 0 0 0 0 ...\n",
            " $ tmmn              : num  104 104 104 104 133 ...\n",
            " $ tmmx              : num  191 191 191 191 214 ...\n",
            " $ vap               : num  1340 1340 1340 1340 1553 ...\n",
            " $ vpd               : num  40.9 40.9 40.9 40.9 50.4 ...\n",
            " $ vs                : num  516 516 516 516 501 ...\n",
            " $ agbd_m            : num  8.19 33.53 18.36 9.06 352.74 ...\n",
            " $ agbd_sd           : num  12.36 73.65 32.69 9.13 298.25 ...\n",
            " $ agbd_n            : num  16 14 17 17 8 2 5 14 10 4 ...\n",
            " $ p10               : num  7.79 6.24 5.91 7.57 4.42 ...\n",
            " $ p20               : num  8.13 6.49 6.17 7.91 4.74 ...\n",
            " $ p30               : num  8.25 6.64 6.31 8.05 4.98 ...\n",
            " $ p40               : num  8.38 6.89 6.59 8.22 5.13 ...\n",
            " $ p50               : num  8.59 7.11 6.81 8.47 5.3 ...\n",
            " $ p60               : num  8.68 7.22 6.92 8.54 5.49 ...\n",
            " $ p70               : num  8.75 7.29 6.99 8.62 5.63 ...\n",
            " $ p80               : num  8.83 7.38 7.17 8.79 5.89 ...\n",
            " $ p90               : num  8.85 7.5 7.39 9 6.21 ...\n",
            " $ p100              : num  9.26 7.89 7.92 9.59 6.75 ...\n",
            " $ p1_p1_5           : num  0 0 0 0 0 0 0 0 0 0 ...\n",
            " $ p1_5_p_3          : num  0 0 0 0 0 0 0 0 0 0 ...\n",
            " $ p3_p5             : num  0 0 0 0 30 0 0 0 0 0 ...\n",
            " $ p5_p10            : num  100 100 100 100 70 100 100 100 100 90 ...\n",
            " $ p10_p15           : num  0 0 0 0 0 0 0 0 0 10 ...\n",
            " $ p15_p20           : num  0 0 0 0 0 0 0 0 0 0 ...\n",
            " $ p20_p30           : num  0 0 0 0 0 0 0 0 0 0 ...\n",
            " $ p30_              : num  0 0 0 0 0 0 0 0 0 0 ...\n",
            " $ geom              :sfc_POINT of length 359163; first list element:  'XY' num  -156.3 20.8\n",
            " - attr(*, \"sf_column\")= chr \"geom\"\n",
            " - attr(*, \"agr\")= Factor w/ 3 levels \"constant\",\"aggregate\",..: NA NA NA NA NA NA NA NA NA NA ...\n",
            "  ..- attr(*, \"names\")= chr [1:53] \"id\" \"left\" \"top\" \"right\" ...\n",
            " - attr(*, \".internal.selfref\")=<externalptr> \n"
          ]
        }
      ]
    },
    {
      "cell_type": "code",
      "source": [
        "#gensim_sf[,'Stock_SOC_Mg_Ha' ] %>% plot"
      ],
      "metadata": {
        "id": "Ezu8yjGXUuY1"
      },
      "execution_count": null,
      "outputs": []
    }
  ]
}