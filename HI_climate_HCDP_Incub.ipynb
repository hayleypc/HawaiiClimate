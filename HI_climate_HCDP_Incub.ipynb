{
  "nbformat": 4,
  "nbformat_minor": 0,
  "metadata": {
    "colab": {
      "provenance": [],
      "authorship_tag": "ABX9TyOaF9AO6P/Br05P4TaCPl56",
      "include_colab_link": true
    },
    "kernelspec": {
      "name": "ir",
      "display_name": "R"
    },
    "language_info": {
      "name": "R"
    }
  },
  "cells": [
    {
      "cell_type": "markdown",
      "metadata": {
        "id": "view-in-github",
        "colab_type": "text"
      },
      "source": [
        "<a href=\"https://colab.research.google.com/github/hayleypc/HawaiiClimate/blob/main/HI_climate_HCDP_Incub.ipynb\" target=\"_parent\"><img src=\"https://colab.research.google.com/assets/colab-badge.svg\" alt=\"Open In Colab\"/></a>"
      ]
    },
    {
      "cell_type": "code",
      "execution_count": 1,
      "metadata": {
        "colab": {
          "base_uri": "https://localhost:8080/"
        },
        "id": "knMDiTbWswxF",
        "outputId": "7008a41e-b02d-439d-c194-5369731b9e9e"
      },
      "outputs": [
        {
          "output_type": "stream",
          "name": "stderr",
          "text": [
            "Installing packages into ‘/usr/local/lib/R/site-library’\n",
            "(as ‘lib’ is unspecified)\n",
            "\n",
            "also installing the dependencies ‘proxy’, ‘e1071’, ‘wk’, ‘sp’, ‘Rcpp’, ‘terra’, ‘classInt’, ‘s2’, ‘units’\n",
            "\n",
            "\n"
          ]
        }
      ],
      "source": [
        "install.packages(c('raster','sf','data.table','magrittr','ggplot2','googledrive','exactextractr'))"
      ]
    },
    {
      "cell_type": "code",
      "source": [
        "library(data.table)\n",
        "library(ggplot2)\n",
        "library(magrittr)\n",
        "library(googledrive)\n",
        "library(sf)\n",
        "library(raster)\n",
        "library(exactextractr)"
      ],
      "metadata": {
        "colab": {
          "base_uri": "https://localhost:8080/"
        },
        "id": "HpqxLRcMtGPa",
        "outputId": "c5f43028-e931-49af-c443-0ffe27fa7de7"
      },
      "execution_count": 2,
      "outputs": [
        {
          "output_type": "stream",
          "name": "stderr",
          "text": [
            "Linking to GEOS 3.11.1, GDAL 3.6.4, PROJ 9.1.1; sf_use_s2() is TRUE\n",
            "\n",
            "Loading required package: sp\n",
            "\n"
          ]
        }
      ]
    },
    {
      "cell_type": "code",
      "source": [
        "drive_auth(use_oob = TRUE, cache = FALSE)"
      ],
      "metadata": {
        "colab": {
          "base_uri": "https://localhost:8080/"
        },
        "id": "W_n8E5DttHBd",
        "outputId": "0aa8348e-bf02-4aca-afd6-01a3f23b990b"
      },
      "execution_count": 3,
      "outputs": [
        {
          "output_type": "stream",
          "name": "stderr",
          "text": [
            "Please point your browser to the following url: \n",
            "\n",
            "https://accounts.google.com/o/oauth2/v2/auth?client_id=603366585132-frjlouoa3s2ono25d2l9ukvhlsrlnr7k.apps.googleusercontent.com&scope=https%3A%2F%2Fwww.googleapis.com%2Fauth%2Fdrive%20https%3A%2F%2Fwww.googleapis.com%2Fauth%2Fuserinfo.email&redirect_uri=https%3A%2F%2Fwww.tidyverse.org%2Fgoogle-callback%2F&response_type=code&state=506f209e82c210f7da5bb2d712a02681&access_type=offline&prompt=consent\n",
            "\n"
          ]
        },
        {
          "name": "stdout",
          "output_type": "stream",
          "text": [
            "Enter authorization code: eyJjb2RlIjoiNC8wQWVhWVNIRHdXX3QtLUNZTkJSbUptM2MtMVFVRHpWbkEzUzU5RHZPTDN1MS1hTDdkcEhCSEZ2RllwM1d0YWRERzFWRnNXZyIsInN0YXRlIjoiNTA2ZjIwOWU4MmMyMTBmN2RhNWJiMmQ3MTJhMDI2ODEifQ==\n"
          ]
        }
      ]
    },
    {
      "cell_type": "code",
      "source": [
        "# https://drive.google.com/file/d/1w3i4LRmeBEjbBIB_yaRc9m814XpXbh3g/view?usp=drive_link"
      ],
      "metadata": {
        "id": "yFM8kkwptJ11"
      },
      "execution_count": 4,
      "outputs": []
    },
    {
      "cell_type": "code",
      "source": [
        "# https://drive.google.com/file/d/14nLSgCrvmEPVr3efoYHkQR4onBRNN7Ma/view?usp=drive_link\n",
        "drive_download(file = as_id('1w3i4LRmeBEjbBIB_yaRc9m814XpXbh3g'), path = '/content/HCDP_data.zip', overwrite = TRUE)"
      ],
      "metadata": {
        "colab": {
          "base_uri": "https://localhost:8080/"
        },
        "id": "TT3i5L3I8v_j",
        "outputId": "51f89723-a83a-4231-b830-53be896dea5f"
      },
      "execution_count": 5,
      "outputs": [
        {
          "output_type": "stream",
          "name": "stderr",
          "text": [
            "File downloaded:\n",
            "\n",
            "• \u001b[36mHCDP_data.zip\u001b[39m \u001b[90m<id: 1w3i4LRmeBEjbBIB_yaRc9m814XpXbh3g>\u001b[39m\n",
            "\n",
            "Saved locally as:\n",
            "\n",
            "• \u001b[34m/content/HCDP_data.zip\u001b[39m\n",
            "\n"
          ]
        }
      ]
    },
    {
      "cell_type": "code",
      "source": [
        "zipF<- \"/content/HCDP_data.zip\"\n",
        "outDir<-\"/content/HCDP_data/\"\n",
        "unzip(zipF,exdir=outDir)"
      ],
      "metadata": {
        "id": "3f3Bg1RB83sp"
      },
      "execution_count": 6,
      "outputs": []
    }
  ]
}